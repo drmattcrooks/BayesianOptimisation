{
 "cells": [
  {
   "cell_type": "markdown",
   "metadata": {
    "toc": true
   },
   "source": [
    "<h1>Table of Contents<span class=\"tocSkip\"></span></h1>\n",
    "<div class=\"toc\"><ul class=\"toc-item\"><li><span><a href=\"#Import-the-Bayesian-Hyperparameter-Optimisation-Algorithm\" data-toc-modified-id=\"Import-the-Bayesian-Hyperparameter-Optimisation-Algorithm-1\"><span class=\"toc-item-num\">1&nbsp;&nbsp;</span>Import the Bayesian Hyperparameter Optimisation Algorithm</a></span></li><li><span><a href=\"#Example-Use-Case\" data-toc-modified-id=\"Example-Use-Case-2\"><span class=\"toc-item-num\">2&nbsp;&nbsp;</span>Example Use Case</a></span><ul class=\"toc-item\"><li><span><a href=\"#Generate-some-tarining-data\" data-toc-modified-id=\"Generate-some-tarining-data-2.1\"><span class=\"toc-item-num\">2.1&nbsp;&nbsp;</span>Generate some tarining data</a></span></li><li><span><a href=\"#Run-the-Optimisation\" data-toc-modified-id=\"Run-the-Optimisation-2.2\"><span class=\"toc-item-num\">2.2&nbsp;&nbsp;</span>Run the Optimisation</a></span></li><li><span><a href=\"#Plot-the-Samples\" data-toc-modified-id=\"Plot-the-Samples-2.3\"><span class=\"toc-item-num\">2.3&nbsp;&nbsp;</span>Plot the Samples</a></span></li></ul></li><li><span><a href=\"#Advanced-User-defined-Inputs\" data-toc-modified-id=\"Advanced-User-defined-Inputs-3\"><span class=\"toc-item-num\">3&nbsp;&nbsp;</span>Advanced User-defined Inputs</a></span><ul class=\"toc-item\"><li><span><a href=\"#Providing-your-own-scoring-function\" data-toc-modified-id=\"Providing-your-own-scoring-function-3.1\"><span class=\"toc-item-num\">3.1&nbsp;&nbsp;</span>Providing your own scoring function</a></span><ul class=\"toc-item\"><li><span><a href=\"#Example-1\" data-toc-modified-id=\"Example-1-3.1.1\"><span class=\"toc-item-num\">3.1.1&nbsp;&nbsp;</span>Example 1</a></span></li><li><span><a href=\"#Example-2\" data-toc-modified-id=\"Example-2-3.1.2\"><span class=\"toc-item-num\">3.1.2&nbsp;&nbsp;</span>Example 2</a></span></li></ul></li><li><span><a href=\"#Convergence-Diagnostics\" data-toc-modified-id=\"Convergence-Diagnostics-3.2\"><span class=\"toc-item-num\">3.2&nbsp;&nbsp;</span>Convergence Diagnostics</a></span></li></ul></li><li><span><a href=\"#Using-random_search-solver-for-discrete-valued-hyperparameters\" data-toc-modified-id=\"Using-random_search-solver-for-discrete-valued-hyperparameters-4\"><span class=\"toc-item-num\">4&nbsp;&nbsp;</span>Using random_search solver for discrete valued hyperparameters</a></span></li><li><span><a href=\"#Ignore-this-for-now...\" data-toc-modified-id=\"Ignore-this-for-now...-5\"><span class=\"toc-item-num\">5&nbsp;&nbsp;</span>Ignore this for now...</a></span></li></ul></div>"
   ]
  },
  {
   "cell_type": "code",
   "execution_count": 1,
   "metadata": {},
   "outputs": [],
   "source": [
    "# That is setting up the autoreload mode to automatically \n",
    "# reload your imports when you edit a file\n",
    "%load_ext autoreload\n",
    "%autoreload 2"
   ]
  },
  {
   "cell_type": "markdown",
   "metadata": {},
   "source": [
    "# Import the Bayesian Hyperparameter Optimisation Algorithm"
   ]
  },
  {
   "cell_type": "code",
   "execution_count": 2,
   "metadata": {},
   "outputs": [],
   "source": [
    "from sklearn.ensemble import RandomForestRegressor\n",
    "from sklearn.model_selection import cross_val_score\n",
    "import numpy as np\n",
    "from bayesian_hyperparameter_optimisation_3 import BayesianOptimisation\n",
    "from sklearn.gaussian_process import GaussianProcessRegressor\n",
    "from sklearn.gaussian_process.kernels import ConstantKernel, Matern, RBF\n",
    "import matplotlib.pyplot as plt"
   ]
  },
  {
   "cell_type": "markdown",
   "metadata": {},
   "source": [
    "# Example Use Case\n",
    "## Generate some tarining data"
   ]
  },
  {
   "cell_type": "code",
   "execution_count": 280,
   "metadata": {},
   "outputs": [],
   "source": [
    "def generate_noisy_data_from_bivariate_gaussian(z):\n",
    "    \n",
    "    \"Define a simple 2-D gaussian to generate noisy data\"\n",
    "    \n",
    "    x = z[:,0].reshape(-1,1)\n",
    "    y = z[:,1].reshape(-1,1)\n",
    "    return 1-np.exp(-((x-5)/10)**2)*np.exp(-((y-10)/10)**2)+0.1*np.random.uniform(size=(1000,1))#,loc=0,scale=1)\n",
    "\n",
    "def generate_noisy_data_from_bivariate_gaussian_nd(z, mu, sig):\n",
    "    \n",
    "    \"Define a simple 3-D gaussian to generate noisy data\"\n",
    "    \n",
    "    G = np.ones((z.shape[0],1))\n",
    "    for i in range(len(mu)):\n",
    "        G = G*np.exp(-((z[:,i]-mu[i])/sig[i])**2).reshape(-1,1)\n",
    "    \n",
    "    return 1-G+0.1*np.random.uniform(size=(1000,1))\n",
    "\n",
    "\n",
    "# --- Generate our training data\n",
    "\n",
    "# Generate random x data from 0 to 15\n",
    "X_train = 15*np.random.uniform(size=(1000,2))\n",
    "# Generate noisy data from a 2D gaussian defined above\n",
    "y_train = generate_noisy_data_from_bivariate_gaussian(X_train)\n",
    "y_train = y_train.ravel()\n",
    "\n",
    "\n"
   ]
  },
  {
   "cell_type": "markdown",
   "metadata": {},
   "source": [
    "## Run the Optimisation"
   ]
  },
  {
   "cell_type": "code",
   "execution_count": 102,
   "metadata": {},
   "outputs": [
    {
     "name": "stdout",
     "output_type": "stream",
     "text": [
      "ndim: 0\n",
      "{'max_depth': 6, 'n_estimators': 6} score: 0.9593846302314712\n",
      "{'max_depth': 1, 'n_estimators': 10} score: 0.554417949890885\n",
      "{'max_depth': 3, 'n_estimators': 2} score: 0.8821281604580913\n",
      "{'max_depth': 8, 'n_estimators': 13} score: 0.9723970158795666\n"
     ]
    },
    {
     "name": "stderr",
     "output_type": "stream",
     "text": [
      "INFO:root:Will perform 95 iterations\n",
      "INFO:root:Iteration 0\n"
     ]
    },
    {
     "name": "stdout",
     "output_type": "stream",
     "text": [
      "{'max_depth': 5, 'n_estimators': 17} score: 0.9478169130823251\n"
     ]
    },
    {
     "ename": "ValueError",
     "evalue": "cannot reshape array of size 2 into shape (0)",
     "output_type": "error",
     "traceback": [
      "\u001b[0;31m---------------------------------------------------------------------------\u001b[0m",
      "\u001b[0;31mValueError\u001b[0m                                Traceback (most recent call last)",
      "\u001b[0;32m<ipython-input-102-3363b1a40448>\u001b[0m in \u001b[0;36m<module>\u001b[0;34m\u001b[0m\n\u001b[1;32m     20\u001b[0m     \u001b[0mn_restarts\u001b[0m \u001b[0;34m=\u001b[0m \u001b[0;36m10\u001b[0m\u001b[0;34m,\u001b[0m\u001b[0;34m\u001b[0m\u001b[0;34m\u001b[0m\u001b[0m\n\u001b[1;32m     21\u001b[0m )\n\u001b[0;32m---> 22\u001b[0;31m \u001b[0mBOout\u001b[0m\u001b[0;34m.\u001b[0m\u001b[0moptimise\u001b[0m\u001b[0;34m(\u001b[0m\u001b[0;34m)\u001b[0m\u001b[0;34m\u001b[0m\u001b[0;34m\u001b[0m\u001b[0m\n\u001b[0m",
      "\u001b[0;32m~/Documents/GitHub/BayesianOptimisation/bayesian_hyperparameter_optimisation_3.py\u001b[0m in \u001b[0;36moptimise\u001b[0;34m(self)\u001b[0m\n\u001b[1;32m    617\u001b[0m         \u001b[0;32mfor\u001b[0m \u001b[0mi\u001b[0m \u001b[0;32min\u001b[0m \u001b[0mrange\u001b[0m\u001b[0;34m(\u001b[0m\u001b[0mself\u001b[0m\u001b[0;34m.\u001b[0m\u001b[0mNiter\u001b[0m\u001b[0;34m)\u001b[0m\u001b[0;34m:\u001b[0m\u001b[0;34m\u001b[0m\u001b[0;34m\u001b[0m\u001b[0m\n\u001b[1;32m    618\u001b[0m             \u001b[0mlogging\u001b[0m\u001b[0;34m.\u001b[0m\u001b[0minfo\u001b[0m\u001b[0;34m(\u001b[0m\u001b[0;34m'Iteration {}'\u001b[0m\u001b[0;34m.\u001b[0m\u001b[0mformat\u001b[0m\u001b[0;34m(\u001b[0m\u001b[0mi\u001b[0m\u001b[0;34m)\u001b[0m\u001b[0;34m)\u001b[0m\u001b[0;34m\u001b[0m\u001b[0;34m\u001b[0m\u001b[0m\n\u001b[0;32m--> 619\u001b[0;31m             \u001b[0mit1\u001b[0m \u001b[0;34m=\u001b[0m \u001b[0miteration\u001b[0m\u001b[0;34m(\u001b[0m\u001b[0mself\u001b[0m\u001b[0;34m)\u001b[0m\u001b[0;34m\u001b[0m\u001b[0;34m\u001b[0m\u001b[0m\n\u001b[0m\u001b[1;32m    620\u001b[0m             \u001b[0mself\u001b[0m\u001b[0;34m.\u001b[0m\u001b[0mXt\u001b[0m \u001b[0;34m=\u001b[0m \u001b[0mit1\u001b[0m\u001b[0;34m.\u001b[0m\u001b[0mXt\u001b[0m\u001b[0;34m\u001b[0m\u001b[0;34m\u001b[0m\u001b[0m\n\u001b[1;32m    621\u001b[0m             \u001b[0mself\u001b[0m\u001b[0;34m.\u001b[0m\u001b[0mYt\u001b[0m \u001b[0;34m=\u001b[0m \u001b[0mit1\u001b[0m\u001b[0;34m.\u001b[0m\u001b[0mYt\u001b[0m\u001b[0;34m\u001b[0m\u001b[0;34m\u001b[0m\u001b[0m\n",
      "\u001b[0;32m~/Documents/GitHub/BayesianOptimisation/bayesian_hyperparameter_optimisation_3.py\u001b[0m in \u001b[0;36m__init__\u001b[0;34m(self, pars)\u001b[0m\n\u001b[1;32m     97\u001b[0m \u001b[0;34m\u001b[0m\u001b[0m\n\u001b[1;32m     98\u001b[0m         \u001b[0;31m# Obtain next sampling point from the acquisition function (expected_improvement)\u001b[0m\u001b[0;34m\u001b[0m\u001b[0;34m\u001b[0m\u001b[0;34m\u001b[0m\u001b[0m\n\u001b[0;32m---> 99\u001b[0;31m         \u001b[0mX_next\u001b[0m \u001b[0;34m=\u001b[0m \u001b[0mself\u001b[0m\u001b[0;34m.\u001b[0m\u001b[0mpropose_location\u001b[0m\u001b[0;34m(\u001b[0m\u001b[0mpars\u001b[0m\u001b[0;34m)\u001b[0m\u001b[0;34m\u001b[0m\u001b[0;34m\u001b[0m\u001b[0m\n\u001b[0m\u001b[1;32m    100\u001b[0m         \u001b[0;31m# Convert to int where necessary\u001b[0m\u001b[0;34m\u001b[0m\u001b[0;34m\u001b[0m\u001b[0;34m\u001b[0m\u001b[0m\n\u001b[1;32m    101\u001b[0m \u001b[0;34m\u001b[0m\u001b[0m\n",
      "\u001b[0;32m~/Documents/GitHub/BayesianOptimisation/bayesian_hyperparameter_optimisation_3.py\u001b[0m in \u001b[0;36mpropose_location\u001b[0;34m(self, pars)\u001b[0m\n\u001b[1;32m    167\u001b[0m         \u001b[0;32mif\u001b[0m \u001b[0mpars\u001b[0m\u001b[0;34m.\u001b[0m\u001b[0moptim_rout\u001b[0m \u001b[0;34m==\u001b[0m \u001b[0;34m'minimize'\u001b[0m\u001b[0;34m:\u001b[0m\u001b[0;34m\u001b[0m\u001b[0;34m\u001b[0m\u001b[0m\n\u001b[1;32m    168\u001b[0m             \u001b[0;32mfor\u001b[0m \u001b[0mx0\u001b[0m \u001b[0;32min\u001b[0m \u001b[0mXs\u001b[0m\u001b[0;34m:\u001b[0m\u001b[0;34m\u001b[0m\u001b[0;34m\u001b[0m\u001b[0m\n\u001b[0;32m--> 169\u001b[0;31m                 \u001b[0mres\u001b[0m \u001b[0;34m=\u001b[0m \u001b[0mminimize\u001b[0m\u001b[0;34m(\u001b[0m\u001b[0mself\u001b[0m\u001b[0;34m.\u001b[0m\u001b[0mmin_obj\u001b[0m\u001b[0;34m,\u001b[0m \u001b[0mx0\u001b[0m\u001b[0;34m=\u001b[0m\u001b[0mx0\u001b[0m\u001b[0;34m,\u001b[0m \u001b[0mbounds\u001b[0m\u001b[0;34m=\u001b[0m\u001b[0mpars\u001b[0m\u001b[0;34m.\u001b[0m\u001b[0mbounds\u001b[0m\u001b[0;34m,\u001b[0m \u001b[0mmethod\u001b[0m\u001b[0;34m=\u001b[0m\u001b[0mpars\u001b[0m\u001b[0;34m.\u001b[0m\u001b[0mmethod\u001b[0m\u001b[0;34m)\u001b[0m\u001b[0;34m\u001b[0m\u001b[0;34m\u001b[0m\u001b[0m\n\u001b[0m\u001b[1;32m    170\u001b[0m                 \u001b[0;31m# Find the best optimum across all initiations\u001b[0m\u001b[0;34m\u001b[0m\u001b[0;34m\u001b[0m\u001b[0;34m\u001b[0m\u001b[0m\n\u001b[1;32m    171\u001b[0m                 \u001b[0;32mif\u001b[0m \u001b[0mres\u001b[0m\u001b[0;34m.\u001b[0m\u001b[0mfun\u001b[0m \u001b[0;34m<\u001b[0m \u001b[0mmin_val\u001b[0m\u001b[0;34m:\u001b[0m\u001b[0;34m\u001b[0m\u001b[0;34m\u001b[0m\u001b[0m\n",
      "\u001b[0;32m/anaconda3/lib/python3.6/site-packages/scipy/optimize/_minimize.py\u001b[0m in \u001b[0;36mminimize\u001b[0;34m(fun, x0, args, method, jac, hess, hessp, bounds, constraints, tol, callback, options)\u001b[0m\n\u001b[1;32m    599\u001b[0m     \u001b[0;32melif\u001b[0m \u001b[0mmeth\u001b[0m \u001b[0;34m==\u001b[0m \u001b[0;34m'l-bfgs-b'\u001b[0m\u001b[0;34m:\u001b[0m\u001b[0;34m\u001b[0m\u001b[0;34m\u001b[0m\u001b[0m\n\u001b[1;32m    600\u001b[0m         return _minimize_lbfgsb(fun, x0, args, jac, bounds,\n\u001b[0;32m--> 601\u001b[0;31m                                 callback=callback, **options)\n\u001b[0m\u001b[1;32m    602\u001b[0m     \u001b[0;32melif\u001b[0m \u001b[0mmeth\u001b[0m \u001b[0;34m==\u001b[0m \u001b[0;34m'tnc'\u001b[0m\u001b[0;34m:\u001b[0m\u001b[0;34m\u001b[0m\u001b[0;34m\u001b[0m\u001b[0m\n\u001b[1;32m    603\u001b[0m         return _minimize_tnc(fun, x0, args, jac, bounds, callback=callback,\n",
      "\u001b[0;32m/anaconda3/lib/python3.6/site-packages/scipy/optimize/lbfgsb.py\u001b[0m in \u001b[0;36m_minimize_lbfgsb\u001b[0;34m(fun, x0, args, jac, bounds, disp, maxcor, ftol, gtol, eps, maxfun, maxiter, iprint, callback, maxls, **unknown_options)\u001b[0m\n\u001b[1;32m    333\u001b[0m             \u001b[0;31m# until the completion of the current minimization iteration.\u001b[0m\u001b[0;34m\u001b[0m\u001b[0;34m\u001b[0m\u001b[0;34m\u001b[0m\u001b[0m\n\u001b[1;32m    334\u001b[0m             \u001b[0;31m# Overwrite f and g:\u001b[0m\u001b[0;34m\u001b[0m\u001b[0;34m\u001b[0m\u001b[0;34m\u001b[0m\u001b[0m\n\u001b[0;32m--> 335\u001b[0;31m             \u001b[0mf\u001b[0m\u001b[0;34m,\u001b[0m \u001b[0mg\u001b[0m \u001b[0;34m=\u001b[0m \u001b[0mfunc_and_grad\u001b[0m\u001b[0;34m(\u001b[0m\u001b[0mx\u001b[0m\u001b[0;34m)\u001b[0m\u001b[0;34m\u001b[0m\u001b[0;34m\u001b[0m\u001b[0m\n\u001b[0m\u001b[1;32m    336\u001b[0m         \u001b[0;32melif\u001b[0m \u001b[0mtask_str\u001b[0m\u001b[0;34m.\u001b[0m\u001b[0mstartswith\u001b[0m\u001b[0;34m(\u001b[0m\u001b[0;34mb'NEW_X'\u001b[0m\u001b[0;34m)\u001b[0m\u001b[0;34m:\u001b[0m\u001b[0;34m\u001b[0m\u001b[0;34m\u001b[0m\u001b[0m\n\u001b[1;32m    337\u001b[0m             \u001b[0;31m# new iteration\u001b[0m\u001b[0;34m\u001b[0m\u001b[0;34m\u001b[0m\u001b[0;34m\u001b[0m\u001b[0m\n",
      "\u001b[0;32m/anaconda3/lib/python3.6/site-packages/scipy/optimize/lbfgsb.py\u001b[0m in \u001b[0;36mfunc_and_grad\u001b[0;34m(x)\u001b[0m\n\u001b[1;32m    278\u001b[0m     \u001b[0;32mif\u001b[0m \u001b[0mjac\u001b[0m \u001b[0;32mis\u001b[0m \u001b[0;32mNone\u001b[0m\u001b[0;34m:\u001b[0m\u001b[0;34m\u001b[0m\u001b[0;34m\u001b[0m\u001b[0m\n\u001b[1;32m    279\u001b[0m         \u001b[0;32mdef\u001b[0m \u001b[0mfunc_and_grad\u001b[0m\u001b[0;34m(\u001b[0m\u001b[0mx\u001b[0m\u001b[0;34m)\u001b[0m\u001b[0;34m:\u001b[0m\u001b[0;34m\u001b[0m\u001b[0;34m\u001b[0m\u001b[0m\n\u001b[0;32m--> 280\u001b[0;31m             \u001b[0mf\u001b[0m \u001b[0;34m=\u001b[0m \u001b[0mfun\u001b[0m\u001b[0;34m(\u001b[0m\u001b[0mx\u001b[0m\u001b[0;34m,\u001b[0m \u001b[0;34m*\u001b[0m\u001b[0margs\u001b[0m\u001b[0;34m)\u001b[0m\u001b[0;34m\u001b[0m\u001b[0;34m\u001b[0m\u001b[0m\n\u001b[0m\u001b[1;32m    281\u001b[0m             \u001b[0mg\u001b[0m \u001b[0;34m=\u001b[0m \u001b[0m_approx_fprime_helper\u001b[0m\u001b[0;34m(\u001b[0m\u001b[0mx\u001b[0m\u001b[0;34m,\u001b[0m \u001b[0mfun\u001b[0m\u001b[0;34m,\u001b[0m \u001b[0mepsilon\u001b[0m\u001b[0;34m,\u001b[0m \u001b[0margs\u001b[0m\u001b[0;34m=\u001b[0m\u001b[0margs\u001b[0m\u001b[0;34m,\u001b[0m \u001b[0mf0\u001b[0m\u001b[0;34m=\u001b[0m\u001b[0mf\u001b[0m\u001b[0;34m)\u001b[0m\u001b[0;34m\u001b[0m\u001b[0;34m\u001b[0m\u001b[0m\n\u001b[1;32m    282\u001b[0m             \u001b[0;32mreturn\u001b[0m \u001b[0mf\u001b[0m\u001b[0;34m,\u001b[0m \u001b[0mg\u001b[0m\u001b[0;34m\u001b[0m\u001b[0;34m\u001b[0m\u001b[0m\n",
      "\u001b[0;32m/anaconda3/lib/python3.6/site-packages/scipy/optimize/optimize.py\u001b[0m in \u001b[0;36mfunction_wrapper\u001b[0;34m(*wrapper_args)\u001b[0m\n\u001b[1;32m    298\u001b[0m     \u001b[0;32mdef\u001b[0m \u001b[0mfunction_wrapper\u001b[0m\u001b[0;34m(\u001b[0m\u001b[0;34m*\u001b[0m\u001b[0mwrapper_args\u001b[0m\u001b[0;34m)\u001b[0m\u001b[0;34m:\u001b[0m\u001b[0;34m\u001b[0m\u001b[0;34m\u001b[0m\u001b[0m\n\u001b[1;32m    299\u001b[0m         \u001b[0mncalls\u001b[0m\u001b[0;34m[\u001b[0m\u001b[0;36m0\u001b[0m\u001b[0;34m]\u001b[0m \u001b[0;34m+=\u001b[0m \u001b[0;36m1\u001b[0m\u001b[0;34m\u001b[0m\u001b[0;34m\u001b[0m\u001b[0m\n\u001b[0;32m--> 300\u001b[0;31m         \u001b[0;32mreturn\u001b[0m \u001b[0mfunction\u001b[0m\u001b[0;34m(\u001b[0m\u001b[0;34m*\u001b[0m\u001b[0;34m(\u001b[0m\u001b[0mwrapper_args\u001b[0m \u001b[0;34m+\u001b[0m \u001b[0margs\u001b[0m\u001b[0;34m)\u001b[0m\u001b[0;34m)\u001b[0m\u001b[0;34m\u001b[0m\u001b[0;34m\u001b[0m\u001b[0m\n\u001b[0m\u001b[1;32m    301\u001b[0m \u001b[0;34m\u001b[0m\u001b[0m\n\u001b[1;32m    302\u001b[0m     \u001b[0;32mreturn\u001b[0m \u001b[0mncalls\u001b[0m\u001b[0;34m,\u001b[0m \u001b[0mfunction_wrapper\u001b[0m\u001b[0;34m\u001b[0m\u001b[0;34m\u001b[0m\u001b[0m\n",
      "\u001b[0;32m~/Documents/GitHub/BayesianOptimisation/bayesian_hyperparameter_optimisation_3.py\u001b[0m in \u001b[0;36mmin_obj\u001b[0;34m(self, X)\u001b[0m\n\u001b[1;32m    233\u001b[0m             \u001b[0;32mreturn\u001b[0m \u001b[0;34m-\u001b[0m\u001b[0mself\u001b[0m\u001b[0;34m.\u001b[0m\u001b[0mexpected_improvement\u001b[0m\u001b[0;34m(\u001b[0m\u001b[0;34m)\u001b[0m\u001b[0;34m\u001b[0m\u001b[0;34m\u001b[0m\u001b[0m\n\u001b[1;32m    234\u001b[0m         \u001b[0;32melse\u001b[0m\u001b[0;34m:\u001b[0m\u001b[0;34m\u001b[0m\u001b[0;34m\u001b[0m\u001b[0m\n\u001b[0;32m--> 235\u001b[0;31m             \u001b[0;32mreturn\u001b[0m \u001b[0;34m-\u001b[0m\u001b[0mself\u001b[0m\u001b[0;34m.\u001b[0m\u001b[0mexpected_improvement\u001b[0m\u001b[0;34m(\u001b[0m\u001b[0mX\u001b[0m\u001b[0;34m.\u001b[0m\u001b[0mreshape\u001b[0m\u001b[0;34m(\u001b[0m\u001b[0;34m-\u001b[0m\u001b[0;36m1\u001b[0m\u001b[0;34m,\u001b[0m \u001b[0mself\u001b[0m\u001b[0;34m.\u001b[0m\u001b[0mpars\u001b[0m\u001b[0;34m.\u001b[0m\u001b[0mNdim_optim\u001b[0m\u001b[0;34m)\u001b[0m\u001b[0;34m)\u001b[0m\u001b[0;34m\u001b[0m\u001b[0;34m\u001b[0m\u001b[0m\n\u001b[0m\u001b[1;32m    236\u001b[0m \u001b[0;34m\u001b[0m\u001b[0m\n\u001b[1;32m    237\u001b[0m     \u001b[0;32mdef\u001b[0m \u001b[0mmax_obj\u001b[0m\u001b[0;34m(\u001b[0m\u001b[0mself\u001b[0m\u001b[0;34m,\u001b[0m \u001b[0mX\u001b[0m \u001b[0;34m=\u001b[0m \u001b[0;32mNone\u001b[0m\u001b[0;34m)\u001b[0m\u001b[0;34m:\u001b[0m\u001b[0;34m\u001b[0m\u001b[0;34m\u001b[0m\u001b[0m\n",
      "\u001b[0;31mValueError\u001b[0m: cannot reshape array of size 2 into shape (0)"
     ]
    }
   ],
   "source": [
    "# --- Define our hyper parameter space as a dictionary. \n",
    "\n",
    "# Use the names of the hyper parameters as the keys\n",
    "# Values should be a list for discrete values and [lower_bound,upper_bound] for continuous\n",
    "hps = {\n",
    "    'n_estimators':range(1,20),\n",
    "    'max_depth':range(1,10),\n",
    "#     'min_samples_leaf': [0.1,0.5]\n",
    "}\n",
    "\n",
    "# --- Run the Bayesian Optimisation Code\n",
    "\n",
    "BOout = BayesianOptimisation(\n",
    "    hps=hps,\n",
    "    MLmodel = RandomForestRegressor(random_state=42),\n",
    "    NpI = 5,\n",
    "    Niter = 95,\n",
    "    y_train = y_train,\n",
    "    X_train = X_train,\n",
    "    n_restarts = 10\n",
    ")\n",
    "BOout.optimise()"
   ]
  },
  {
   "cell_type": "markdown",
   "metadata": {},
   "source": [
    "## Plot the Samples"
   ]
  },
  {
   "cell_type": "code",
   "execution_count": 36,
   "metadata": {},
   "outputs": [
    {
     "data": {
      "image/png": "[encoded data removed]",
      "text/plain": [
       "<Figure size 864x360 with 2 Axes>"
      ]
     },
     "metadata": {
      "needs_background": "dark"
     },
     "output_type": "display_data"
    }
   ],
   "source": [
    "# --- Track the results with each iteration\n",
    "\n",
    "import matplotlib.pyplot as plt\n",
    "\n",
    "plt.figure(figsize=(12,5))\n",
    "plt.subplot(121)\n",
    "plt.plot(BOout.Xt,'.')\n",
    "plt.subplot(122)\n",
    "plt.plot(BOout.Yt,'.')\n",
    "\n",
    "plt.show()"
   ]
  },
  {
   "cell_type": "code",
   "execution_count": 9,
   "metadata": {},
   "outputs": [
    {
     "name": "stderr",
     "output_type": "stream",
     "text": [
      "/anaconda3/lib/python3.6/site-packages/sklearn/ensemble/forest.py:245: FutureWarning: The default value of n_estimators will change from 10 in version 0.20 to 100 in 0.22.\n",
      "  \"10 in version 0.20 to 100 in 0.22.\", FutureWarning)\n"
     ]
    },
    {
     "data": {
      "text/plain": [
       "0.7700969003203069"
      ]
     },
     "execution_count": 9,
     "metadata": {},
     "output_type": "execute_result"
    }
   ],
   "source": [
    "best_params = BOout.Xt[np.argmax(BOout.Yt)]\n",
    "RFr = RandomForestRegressor(\n",
    "    min_samples_leaf=best_params[0],\n",
    "    random_state=42\n",
    ").fit(X_train,y_train)\n",
    "np.mean(cross_val_score(RFr, X_train,y_train, cv=5))"
   ]
  },
  {
   "cell_type": "markdown",
   "metadata": {},
   "source": [
    "# Advanced User-defined Inputs\n",
    "## Providing your own scoring function"
   ]
  },
  {
   "cell_type": "markdown",
   "metadata": {},
   "source": [
    "### Example 1"
   ]
  },
  {
   "cell_type": "code",
   "execution_count": 34,
   "metadata": {},
   "outputs": [
    {
     "name": "stderr",
     "output_type": "stream",
     "text": [
      "INFO:root:Will perform 95 iterations\n",
      "INFO:root:Iteration 0\n",
      "INFO:root:Iteration 1\n"
     ]
    },
    {
     "name": "stdout",
     "output_type": "stream",
     "text": [
      "{'max_depth': 1, 'min_samples_leaf': 0.30000000000000004, 'n_estimators': 13} score: 0.44528430312364015\n",
      "{'max_depth': 3, 'min_samples_leaf': 0.4600000000000001, 'n_estimators': 17} score: -0.008378617416458178\n",
      "{'max_depth': 6, 'min_samples_leaf': 0.38, 'n_estimators': 2} score: -0.012146062392077406\n",
      "{'max_depth': 8, 'min_samples_leaf': 0.22000000000000003, 'n_estimators': 10} score: 0.5426162011160974\n",
      "{'max_depth': 5, 'min_samples_leaf': 0.14, 'n_estimators': 6} score: 0.7782525552890325\n",
      "next iteration\n",
      "{'max_depth': 3, 'min_samples_leaf': 0.32000000000000006, 'n_estimators': 9} score: 0.12398975013204641\n",
      "current accuracy: 0.12398975013204641\n",
      "best accuracy: 0.7782525552890325\n",
      "next iteration\n"
     ]
    },
    {
     "name": "stderr",
     "output_type": "stream",
     "text": [
      "INFO:root:Iteration 2\n",
      "INFO:root:Iteration 3\n",
      "INFO:root:Iteration 4\n"
     ]
    },
    {
     "name": "stdout",
     "output_type": "stream",
     "text": [
      "{'max_depth': 6, 'min_samples_leaf': 0.48, 'n_estimators': 10} score: -0.009335740534074289\n",
      "current accuracy: -0.009335740534074289\n",
      "best accuracy: 0.7782525552890325\n",
      "next iteration\n",
      "{'max_depth': 4, 'min_samples_leaf': 0.48, 'n_estimators': 10} score: -0.009335740534074289\n",
      "current accuracy: -0.009335740534074289\n",
      "best accuracy: 0.7782525552890325\n",
      "next iteration\n",
      "{'max_depth': 4, 'min_samples_leaf': 0.16000000000000003, 'n_estimators': 10} score: 0.7779499751645844\n",
      "current accuracy: 0.7779499751645844\n",
      "best accuracy: 0.7782525552890325\n",
      "next iteration\n"
     ]
    },
    {
     "name": "stderr",
     "output_type": "stream",
     "text": [
      "INFO:root:Iteration 5\n",
      "INFO:root:Iteration 6\n",
      "INFO:root:Iteration 7\n",
      "INFO:root:Iteration 8\n"
     ]
    },
    {
     "name": "stdout",
     "output_type": "stream",
     "text": [
      "{'max_depth': 3, 'min_samples_leaf': 0.24000000000000002, 'n_estimators': 10} score: 0.5148707931739177\n",
      "current accuracy: 0.5148707931739177\n",
      "best accuracy: 0.7782525552890325\n",
      "next iteration\n",
      "{'max_depth': 3, 'min_samples_leaf': 0.44000000000000006, 'n_estimators': 9} score: -0.00957459560700884\n",
      "current accuracy: -0.00957459560700884\n",
      "best accuracy: 0.7782525552890325\n",
      "next iteration\n",
      "{'max_depth': 5, 'min_samples_leaf': 0.44000000000000006, 'n_estimators': 10} score: -0.009335740534074289\n",
      "current accuracy: -0.009335740534074289\n",
      "best accuracy: 0.7782525552890325\n",
      "next iteration\n",
      "{'max_depth': 6, 'min_samples_leaf': 0.2, 'n_estimators': 7} score: 0.6744583836414535\n",
      "current accuracy: 0.6744583836414535\n",
      "best accuracy: 0.7782525552890325\n"
     ]
    },
    {
     "name": "stderr",
     "output_type": "stream",
     "text": [
      "INFO:root:Iteration 9\n",
      "INFO:root:Iteration 10\n"
     ]
    },
    {
     "name": "stdout",
     "output_type": "stream",
     "text": [
      "next iteration\n",
      "{'max_depth': 4, 'min_samples_leaf': 0.3600000000000001, 'n_estimators': 9} score: -0.00957459560700884\n",
      "current accuracy: -0.00957459560700884\n",
      "best accuracy: 0.7782525552890325\n",
      "next iteration\n",
      "{'max_depth': 3, 'min_samples_leaf': 0.28, 'n_estimators': 10} score: 0.46852619298481\n",
      "current accuracy: 0.46852619298481\n",
      "best accuracy: 0.7782525552890325\n",
      "next iteration\n"
     ]
    },
    {
     "name": "stderr",
     "output_type": "stream",
     "text": [
      "INFO:root:Iteration 11\n",
      "INFO:root:Iteration 12\n",
      "INFO:root:Iteration 13\n"
     ]
    },
    {
     "name": "stdout",
     "output_type": "stream",
     "text": [
      "{'max_depth': 4, 'min_samples_leaf': 0.32000000000000006, 'n_estimators': 10} score: 0.11200043782181188\n",
      "current accuracy: 0.11200043782181188\n",
      "best accuracy: 0.7782525552890325\n",
      "next iteration\n",
      "{'max_depth': 4, 'min_samples_leaf': 0.4, 'n_estimators': 9} score: -0.00957459560700884\n",
      "current accuracy: -0.00957459560700884\n",
      "best accuracy: 0.7782525552890325\n",
      "next iteration\n",
      "{'max_depth': 5, 'min_samples_leaf': 0.48, 'n_estimators': 10} score: -0.009335740534074289\n",
      "current accuracy: -0.009335740534074289\n",
      "best accuracy: 0.7782525552890325\n",
      "next iteration\n"
     ]
    },
    {
     "name": "stderr",
     "output_type": "stream",
     "text": [
      "INFO:root:Iteration 14\n",
      "INFO:root:Iteration 15\n",
      "INFO:root:Iteration 16\n"
     ]
    },
    {
     "name": "stdout",
     "output_type": "stream",
     "text": [
      "{'max_depth': 6, 'min_samples_leaf': 0.4, 'n_estimators': 10} score: -0.009335740534074289\n",
      "current accuracy: -0.009335740534074289\n",
      "best accuracy: 0.7782525552890325\n",
      "next iteration\n",
      "{'max_depth': 5, 'min_samples_leaf': 0.12000000000000001, 'n_estimators': 10} score: 0.7966941788055276\n",
      "current accuracy: 0.7966941788055276\n",
      "best accuracy: 0.7966941788055276\n",
      "next iteration\n",
      "{'max_depth': 4, 'min_samples_leaf': 0.28001474376176705, 'n_estimators': 12} score: 0.47885622560997254\n",
      "current accuracy: 0.47885622560997254\n",
      "best accuracy: 0.7966941788055276\n",
      "next iteration\n"
     ]
    },
    {
     "name": "stderr",
     "output_type": "stream",
     "text": [
      "INFO:root:Iteration 17\n",
      "INFO:root:Iteration 18\n",
      "INFO:root:Iteration 19\n"
     ]
    },
    {
     "name": "stdout",
     "output_type": "stream",
     "text": [
      "{'max_depth': 4, 'min_samples_leaf': 0.16000000000000003, 'n_estimators': 10} score: 0.7779499751645844\n",
      "current accuracy: 0.7779499751645844\n",
      "best accuracy: 0.7966941788055276\n",
      "next iteration\n",
      "{'max_depth': 3, 'min_samples_leaf': 0.4, 'n_estimators': 10} score: -0.009335740534074289\n",
      "current accuracy: -0.009335740534074289\n",
      "best accuracy: 0.7966941788055276\n",
      "next iteration\n",
      "{'max_depth': 3, 'min_samples_leaf': 0.32000000000000006, 'n_estimators': 9} score: 0.12398975013204641\n",
      "current accuracy: 0.12398975013204641\n",
      "best accuracy: 0.7966941788055276\n",
      "next iteration\n"
     ]
    },
    {
     "name": "stderr",
     "output_type": "stream",
     "text": [
      "INFO:root:Iteration 20\n",
      "INFO:root:Iteration 21\n",
      "INFO:root:Iteration 22\n"
     ]
    },
    {
     "name": "stdout",
     "output_type": "stream",
     "text": [
      "{'max_depth': 3, 'min_samples_leaf': 0.44000000000000006, 'n_estimators': 10} score: -0.009335740534074289\n",
      "current accuracy: -0.009335740534074289\n",
      "best accuracy: 0.7966941788055276\n",
      "next iteration\n",
      "{'max_depth': 2, 'min_samples_leaf': 0.3600000000000001, 'n_estimators': 10} score: -0.009335740534074289\n",
      "current accuracy: -0.009335740534074289\n",
      "best accuracy: 0.7966941788055276\n",
      "next iteration\n",
      "{'max_depth': 5, 'min_samples_leaf': 0.4800000972976031, 'n_estimators': 9} score: -0.00957459560700884\n",
      "current accuracy: -0.00957459560700884\n",
      "best accuracy: 0.7966941788055276\n",
      "next iteration\n"
     ]
    },
    {
     "name": "stderr",
     "output_type": "stream",
     "text": [
      "INFO:root:Iteration 23\n",
      "INFO:root:Iteration 24\n",
      "INFO:root:Iteration 25\n"
     ]
    },
    {
     "name": "stdout",
     "output_type": "stream",
     "text": [
      "{'max_depth': 5, 'min_samples_leaf': 0.12000000000000001, 'n_estimators': 10} score: 0.7966941788055276\n",
      "current accuracy: 0.7966941788055276\n",
      "best accuracy: 0.7966941788055276\n",
      "next iteration\n",
      "{'max_depth': 5, 'min_samples_leaf': 0.4, 'n_estimators': 9} score: -0.00957459560700884\n",
      "current accuracy: -0.00957459560700884\n",
      "best accuracy: 0.7966941788055276\n",
      "next iteration\n",
      "{'max_depth': 6, 'min_samples_leaf': 0.44000000000000006, 'n_estimators': 9} score: -0.00957459560700884\n",
      "current accuracy: -0.00957459560700884\n",
      "best accuracy: 0.7966941788055276\n",
      "next iteration\n"
     ]
    },
    {
     "name": "stderr",
     "output_type": "stream",
     "text": [
      "INFO:root:Iteration 26\n",
      "INFO:root:Iteration 27\n"
     ]
    },
    {
     "name": "stdout",
     "output_type": "stream",
     "text": [
      "{'max_depth': 3, 'min_samples_leaf': 0.4, 'n_estimators': 10} score: -0.009335740534074289\n",
      "current accuracy: -0.009335740534074289\n",
      "best accuracy: 0.7966941788055276\n",
      "next iteration\n",
      "{'max_depth': 3, 'min_samples_leaf': 0.11999999872730176, 'n_estimators': 9} score: 0.7981373572444003\n",
      "current accuracy: 0.7981373572444003\n",
      "best accuracy: 0.7981373572444003\n",
      "next iteration\n"
     ]
    },
    {
     "name": "stderr",
     "output_type": "stream",
     "text": [
      "INFO:root:Iteration 28\n",
      "INFO:root:Iteration 29\n",
      "INFO:root:Iteration 30\n"
     ]
    },
    {
     "name": "stdout",
     "output_type": "stream",
     "text": [
      "{'max_depth': 6, 'min_samples_leaf': 0.4, 'n_estimators': 10} score: -0.009335740534074289\n",
      "current accuracy: -0.009335740534074289\n",
      "best accuracy: 0.7981373572444003\n",
      "next iteration\n",
      "{'max_depth': 2, 'min_samples_leaf': 0.4, 'n_estimators': 9} score: -0.00957459560700884\n",
      "current accuracy: -0.00957459560700884\n",
      "best accuracy: 0.7981373572444003\n",
      "next iteration\n",
      "{'max_depth': 4, 'min_samples_leaf': 0.2000115685239166, 'n_estimators': 10} score: 0.7043018952806764\n",
      "current accuracy: 0.7043018952806764\n",
      "best accuracy: 0.7981373572444003\n",
      "next iteration\n"
     ]
    },
    {
     "name": "stderr",
     "output_type": "stream",
     "text": [
      "INFO:root:Iteration 31\n",
      "INFO:root:Iteration 32\n",
      "INFO:root:Iteration 33\n"
     ]
    },
    {
     "name": "stdout",
     "output_type": "stream",
     "text": [
      "{'max_depth': 5, 'min_samples_leaf': 0.12000000000000001, 'n_estimators': 12} score: 0.8002983920390958\n",
      "current accuracy: 0.8002983920390958\n",
      "best accuracy: 0.8002983920390958\n",
      "next iteration\n",
      "{'max_depth': 6, 'min_samples_leaf': 0.43999545962083364, 'n_estimators': 9} score: -0.00957459560700884\n",
      "current accuracy: -0.00957459560700884\n",
      "best accuracy: 0.8002983920390958\n",
      "next iteration\n",
      "{'max_depth': 3, 'min_samples_leaf': 0.44000000000000006, 'n_estimators': 10} score: -0.009335740534074289\n",
      "current accuracy: -0.009335740534074289\n",
      "best accuracy: 0.8002983920390958\n",
      "next iteration\n"
     ]
    },
    {
     "name": "stderr",
     "output_type": "stream",
     "text": [
      "INFO:root:Iteration 34\n",
      "INFO:root:Iteration 35\n",
      "INFO:root:Iteration 36\n"
     ]
    },
    {
     "name": "stdout",
     "output_type": "stream",
     "text": [
      "{'max_depth': 3, 'min_samples_leaf': 0.32000000000000006, 'n_estimators': 10} score: 0.11200043782181188\n",
      "current accuracy: 0.11200043782181188\n",
      "best accuracy: 0.8002983920390958\n",
      "next iteration\n",
      "{'max_depth': 4, 'min_samples_leaf': 0.2, 'n_estimators': 9} score: 0.6948271931798515\n",
      "current accuracy: 0.6948271931798515\n",
      "best accuracy: 0.8002983920390958\n",
      "next iteration\n",
      "{'max_depth': 4, 'min_samples_leaf': 0.4, 'n_estimators': 10} score: -0.009335740534074289\n",
      "current accuracy: -0.009335740534074289\n",
      "best accuracy: 0.8002983920390958\n"
     ]
    },
    {
     "name": "stderr",
     "output_type": "stream",
     "text": [
      "INFO:root:Iteration 37\n",
      "INFO:root:Iteration 38\n",
      "INFO:root:Iteration 39\n"
     ]
    },
    {
     "name": "stdout",
     "output_type": "stream",
     "text": [
      "next iteration\n",
      "{'max_depth': 2, 'min_samples_leaf': 0.44000000000000006, 'n_estimators': 9} score: -0.00957459560700884\n",
      "current accuracy: -0.00957459560700884\n",
      "best accuracy: 0.8002983920390958\n",
      "next iteration\n",
      "{'max_depth': 6, 'min_samples_leaf': 0.44000000000000006, 'n_estimators': 10} score: -0.009335740534074289\n",
      "current accuracy: -0.009335740534074289\n",
      "best accuracy: 0.8002983920390958\n",
      "next iteration\n",
      "{'max_depth': 4, 'min_samples_leaf': 0.44000000000000006, 'n_estimators': 10} score: -0.009335740534074289\n",
      "current accuracy: -0.009335740534074289\n",
      "best accuracy: 0.8002983920390958\n",
      "next iteration\n"
     ]
    },
    {
     "name": "stderr",
     "output_type": "stream",
     "text": [
      "INFO:root:Iteration 40\n",
      "INFO:root:Iteration 41\n"
     ]
    },
    {
     "name": "stdout",
     "output_type": "stream",
     "text": [
      "{'max_depth': 5, 'min_samples_leaf': 0.2, 'n_estimators': 9} score: 0.6948271931798515\n",
      "current accuracy: 0.6948271931798515\n",
      "best accuracy: 0.8002983920390958\n",
      "next iteration\n",
      "{'max_depth': 3, 'min_samples_leaf': 0.3600001036287043, 'n_estimators': 10} score: -0.009335740534074289\n",
      "current accuracy: -0.009335740534074289\n",
      "best accuracy: 0.8002983920390958\n",
      "next iteration\n"
     ]
    },
    {
     "name": "stderr",
     "output_type": "stream",
     "text": [
      "INFO:root:Iteration 42\n",
      "INFO:root:Iteration 43\n"
     ]
    },
    {
     "name": "stdout",
     "output_type": "stream",
     "text": [
      "{'max_depth': 3, 'min_samples_leaf': 0.32000000000000006, 'n_estimators': 10} score: 0.11200043782181188\n",
      "current accuracy: 0.11200043782181188\n",
      "best accuracy: 0.8002983920390958\n",
      "next iteration\n",
      "{'max_depth': 5, 'min_samples_leaf': 0.31999992754119416, 'n_estimators': 10} score: 0.16196401665439014\n",
      "current accuracy: 0.16196401665439014\n",
      "best accuracy: 0.8002983920390958\n",
      "next iteration\n"
     ]
    },
    {
     "name": "stderr",
     "output_type": "stream",
     "text": [
      "INFO:root:Iteration 44\n",
      "INFO:root:Iteration 45\n"
     ]
    },
    {
     "name": "stdout",
     "output_type": "stream",
     "text": [
      "{'max_depth': 3, 'min_samples_leaf': 0.48, 'n_estimators': 9} score: -0.00957459560700884\n",
      "current accuracy: -0.00957459560700884\n",
      "best accuracy: 0.8002983920390958\n",
      "next iteration\n",
      "{'max_depth': 4, 'min_samples_leaf': 0.1200370370401015, 'n_estimators': 10} score: 0.7966941788055276\n",
      "current accuracy: 0.7966941788055276\n",
      "best accuracy: 0.8002983920390958\n",
      "next iteration\n"
     ]
    },
    {
     "name": "stderr",
     "output_type": "stream",
     "text": [
      "INFO:root:Iteration 46\n",
      "INFO:root:Iteration 47\n"
     ]
    },
    {
     "name": "stdout",
     "output_type": "stream",
     "text": [
      "{'max_depth': 3, 'min_samples_leaf': 0.39996616040220945, 'n_estimators': 9} score: -0.00957459560700884\n",
      "current accuracy: -0.00957459560700884\n",
      "best accuracy: 0.8002983920390958\n",
      "next iteration\n",
      "{'max_depth': 3, 'min_samples_leaf': 0.12002557953848737, 'n_estimators': 10} score: 0.7966941788055276\n",
      "current accuracy: 0.7966941788055276\n",
      "best accuracy: 0.8002983920390958\n",
      "next iteration\n"
     ]
    },
    {
     "name": "stderr",
     "output_type": "stream",
     "text": [
      "INFO:root:Iteration 48\n",
      "INFO:root:Iteration 49\n"
     ]
    },
    {
     "name": "stdout",
     "output_type": "stream",
     "text": [
      "{'max_depth': 5, 'min_samples_leaf': 0.4, 'n_estimators': 10} score: -0.009335740534074289\n",
      "current accuracy: -0.009335740534074289\n",
      "best accuracy: 0.8002983920390958\n",
      "next iteration\n",
      "{'max_depth': 3, 'min_samples_leaf': 0.11999905591870905, 'n_estimators': 10} score: 0.7964020277097115\n",
      "current accuracy: 0.7964020277097115\n",
      "best accuracy: 0.8002983920390958\n",
      "next iteration\n"
     ]
    },
    {
     "name": "stderr",
     "output_type": "stream",
     "text": [
      "INFO:root:Iteration 50\n",
      "INFO:root:Iteration 51\n"
     ]
    },
    {
     "name": "stdout",
     "output_type": "stream",
     "text": [
      "{'max_depth': 3, 'min_samples_leaf': 0.44000000000000006, 'n_estimators': 10} score: -0.009335740534074289\n",
      "current accuracy: -0.009335740534074289\n",
      "best accuracy: 0.8002983920390958\n",
      "next iteration\n",
      "{'max_depth': 4, 'min_samples_leaf': 0.27998250288513193, 'n_estimators': 9} score: 0.45290613797064994\n",
      "current accuracy: 0.45290613797064994\n",
      "best accuracy: 0.8002983920390958\n",
      "next iteration\n"
     ]
    },
    {
     "name": "stderr",
     "output_type": "stream",
     "text": [
      "INFO:root:Iteration 52\n",
      "INFO:root:Iteration 53\n"
     ]
    },
    {
     "name": "stdout",
     "output_type": "stream",
     "text": [
      "{'max_depth': 4, 'min_samples_leaf': 0.48, 'n_estimators': 10} score: -0.009335740534074289\n",
      "current accuracy: -0.009335740534074289\n",
      "best accuracy: 0.8002983920390958\n",
      "next iteration\n",
      "{'max_depth': 5, 'min_samples_leaf': 0.44000003160733664, 'n_estimators': 7} score: -0.010515454502098143\n",
      "current accuracy: -0.010515454502098143\n",
      "best accuracy: 0.8002983920390958\n",
      "next iteration\n"
     ]
    },
    {
     "name": "stderr",
     "output_type": "stream",
     "text": [
      "INFO:root:Iteration 54\n",
      "INFO:root:Iteration 55\n"
     ]
    },
    {
     "name": "stdout",
     "output_type": "stream",
     "text": [
      "{'max_depth': 2, 'min_samples_leaf': 0.31998306180655145, 'n_estimators': 10} score: 0.16196401665439014\n",
      "current accuracy: 0.16196401665439014\n",
      "best accuracy: 0.8002983920390958\n",
      "next iteration\n",
      "{'max_depth': 3, 'min_samples_leaf': 0.4399842839172108, 'n_estimators': 9} score: -0.00957459560700884\n",
      "current accuracy: -0.00957459560700884\n",
      "best accuracy: 0.8002983920390958\n",
      "next iteration\n"
     ]
    },
    {
     "name": "stderr",
     "output_type": "stream",
     "text": [
      "INFO:root:Iteration 56\n",
      "INFO:root:Iteration 57\n"
     ]
    },
    {
     "name": "stdout",
     "output_type": "stream",
     "text": [
      "{'max_depth': 6, 'min_samples_leaf': 0.1999983346845634, 'n_estimators': 9} score: 0.6948271931798515\n",
      "current accuracy: 0.6948271931798515\n",
      "best accuracy: 0.8002983920390958\n",
      "next iteration\n",
      "{'max_depth': 2, 'min_samples_leaf': 0.24003166356066233, 'n_estimators': 9} score: 0.5022439460506452\n",
      "current accuracy: 0.5022439460506452\n",
      "best accuracy: 0.8002983920390958\n",
      "next iteration\n"
     ]
    },
    {
     "name": "stderr",
     "output_type": "stream",
     "text": [
      "INFO:root:Iteration 58\n",
      "INFO:root:Iteration 59\n"
     ]
    },
    {
     "name": "stdout",
     "output_type": "stream",
     "text": [
      "{'max_depth': 6, 'min_samples_leaf': 0.4, 'n_estimators': 10} score: -0.009335740534074289\n",
      "current accuracy: -0.009335740534074289\n",
      "best accuracy: 0.8002983920390958\n",
      "next iteration\n",
      "{'max_depth': 2, 'min_samples_leaf': 0.31999820241602606, 'n_estimators': 10} score: 0.16196401665439014\n",
      "current accuracy: 0.16196401665439014\n",
      "best accuracy: 0.8002983920390958\n",
      "next iteration\n"
     ]
    },
    {
     "name": "stderr",
     "output_type": "stream",
     "text": [
      "INFO:root:Iteration 60\n",
      "INFO:root:Iteration 61\n"
     ]
    },
    {
     "name": "stdout",
     "output_type": "stream",
     "text": [
      "{'max_depth': 3, 'min_samples_leaf': 0.4, 'n_estimators': 9} score: -0.00957459560700884\n",
      "current accuracy: -0.00957459560700884\n",
      "best accuracy: 0.8002983920390958\n",
      "next iteration\n",
      "{'max_depth': 2, 'min_samples_leaf': 0.48, 'n_estimators': 9} score: -0.00957459560700884\n",
      "current accuracy: -0.00957459560700884\n",
      "best accuracy: 0.8002983920390958\n",
      "next iteration\n"
     ]
    },
    {
     "name": "stderr",
     "output_type": "stream",
     "text": [
      "INFO:root:Iteration 62\n",
      "INFO:root:Iteration 63\n"
     ]
    },
    {
     "name": "stdout",
     "output_type": "stream",
     "text": [
      "{'max_depth': 5, 'min_samples_leaf': 0.36000018577592724, 'n_estimators': 9} score: -0.00957459560700884\n",
      "current accuracy: -0.00957459560700884\n",
      "best accuracy: 0.8002983920390958\n",
      "next iteration\n",
      "{'max_depth': 6, 'min_samples_leaf': 0.31999681829377796, 'n_estimators': 10} score: 0.16196401665439014\n",
      "current accuracy: 0.16196401665439014\n",
      "best accuracy: 0.8002983920390958\n",
      "next iteration\n"
     ]
    },
    {
     "name": "stderr",
     "output_type": "stream",
     "text": [
      "INFO:root:Iteration 64\n",
      "INFO:root:Iteration 65\n"
     ]
    },
    {
     "name": "stdout",
     "output_type": "stream",
     "text": [
      "{'max_depth': 4, 'min_samples_leaf': 0.12001909583602356, 'n_estimators': 10} score: 0.7966941788055276\n",
      "current accuracy: 0.7966941788055276\n",
      "best accuracy: 0.8002983920390958\n",
      "next iteration\n",
      "{'max_depth': 3, 'min_samples_leaf': 0.3999864330746391, 'n_estimators': 10} score: -0.009335740534074289\n",
      "current accuracy: -0.009335740534074289\n",
      "best accuracy: 0.8002983920390958\n",
      "next iteration\n"
     ]
    },
    {
     "name": "stderr",
     "output_type": "stream",
     "text": [
      "INFO:root:Iteration 66\n",
      "INFO:root:Iteration 67\n"
     ]
    },
    {
     "name": "stdout",
     "output_type": "stream",
     "text": [
      "{'max_depth': 5, 'min_samples_leaf': 0.43998636646125766, 'n_estimators': 10} score: -0.009335740534074289\n",
      "current accuracy: -0.009335740534074289\n",
      "best accuracy: 0.8002983920390958\n",
      "next iteration\n",
      "{'max_depth': 3, 'min_samples_leaf': 0.23999122820306898, 'n_estimators': 9} score: 0.5030954049197514\n",
      "current accuracy: 0.5030954049197514\n",
      "best accuracy: 0.8002983920390958\n",
      "next iteration\n"
     ]
    },
    {
     "name": "stderr",
     "output_type": "stream",
     "text": [
      "INFO:root:Iteration 68\n",
      "INFO:root:Iteration 69\n"
     ]
    },
    {
     "name": "stdout",
     "output_type": "stream",
     "text": [
      "{'max_depth': 5, 'min_samples_leaf': 0.4399857225319034, 'n_estimators': 10} score: -0.009335740534074289\n",
      "current accuracy: -0.009335740534074289\n",
      "best accuracy: 0.8002983920390958\n",
      "next iteration\n",
      "{'max_depth': 3, 'min_samples_leaf': 0.47992457144770695, 'n_estimators': 10} score: -0.009335740534074289\n",
      "current accuracy: -0.009335740534074289\n",
      "best accuracy: 0.8002983920390958\n",
      "next iteration\n"
     ]
    },
    {
     "name": "stderr",
     "output_type": "stream",
     "text": [
      "INFO:root:Iteration 70\n",
      "INFO:root:Iteration 71\n"
     ]
    },
    {
     "name": "stdout",
     "output_type": "stream",
     "text": [
      "{'max_depth': 3, 'min_samples_leaf': 0.11999624486391751, 'n_estimators': 9} score: 0.7981373572444003\n",
      "current accuracy: 0.7981373572444003\n",
      "best accuracy: 0.8002983920390958\n",
      "next iteration\n",
      "{'max_depth': 4, 'min_samples_leaf': 0.39996194155471587, 'n_estimators': 9} score: -0.00957459560700884\n",
      "current accuracy: -0.00957459560700884\n",
      "best accuracy: 0.8002983920390958\n",
      "next iteration\n"
     ]
    },
    {
     "name": "stderr",
     "output_type": "stream",
     "text": [
      "INFO:root:Iteration 72\n",
      "INFO:root:Iteration 73\n"
     ]
    },
    {
     "name": "stdout",
     "output_type": "stream",
     "text": [
      "{'max_depth': 6, 'min_samples_leaf': 0.24002371081611523, 'n_estimators': 10} score: 0.5148707931739177\n",
      "current accuracy: 0.5148707931739177\n",
      "best accuracy: 0.8002983920390958\n",
      "next iteration\n",
      "{'max_depth': 3, 'min_samples_leaf': 0.23999989870287225, 'n_estimators': 10} score: 0.5156684657279785\n",
      "current accuracy: 0.5156684657279785\n",
      "best accuracy: 0.8002983920390958\n",
      "next iteration\n"
     ]
    },
    {
     "name": "stderr",
     "output_type": "stream",
     "text": [
      "INFO:root:Iteration 74\n",
      "INFO:root:Iteration 75\n"
     ]
    },
    {
     "name": "stdout",
     "output_type": "stream",
     "text": [
      "{'max_depth': 3, 'min_samples_leaf': 0.16003943457918282, 'n_estimators': 9} score: 0.7758889566588596\n",
      "current accuracy: 0.7758889566588596\n",
      "best accuracy: 0.8002983920390958\n",
      "next iteration\n",
      "{'max_depth': 7, 'min_samples_leaf': 0.11999852177807155, 'n_estimators': 10} score: 0.7964020277097115\n",
      "current accuracy: 0.7964020277097115\n",
      "best accuracy: 0.8002983920390958\n",
      "next iteration\n"
     ]
    },
    {
     "name": "stderr",
     "output_type": "stream",
     "text": [
      "INFO:root:Iteration 76\n",
      "INFO:root:Iteration 77\n"
     ]
    },
    {
     "name": "stdout",
     "output_type": "stream",
     "text": [
      "{'max_depth': 4, 'min_samples_leaf': 0.3199459543431613, 'n_estimators': 10} score: 0.16196401665439014\n",
      "current accuracy: 0.16196401665439014\n",
      "best accuracy: 0.8002983920390958\n",
      "next iteration\n",
      "{'max_depth': 6, 'min_samples_leaf': 0.28, 'n_estimators': 9} score: 0.45724519226796384\n",
      "current accuracy: 0.45724519226796384\n",
      "best accuracy: 0.8002983920390958\n",
      "next iteration\n"
     ]
    },
    {
     "name": "stderr",
     "output_type": "stream",
     "text": [
      "INFO:root:Iteration 78\n",
      "INFO:root:Iteration 79\n"
     ]
    },
    {
     "name": "stdout",
     "output_type": "stream",
     "text": [
      "{'max_depth': 3, 'min_samples_leaf': 0.31999305092893116, 'n_estimators': 10} score: 0.16196401665439014\n",
      "current accuracy: 0.16196401665439014\n",
      "best accuracy: 0.8002983920390958\n",
      "next iteration\n",
      "{'max_depth': 4, 'min_samples_leaf': 0.35999837553072195, 'n_estimators': 9} score: -0.00957459560700884\n",
      "current accuracy: -0.00957459560700884\n",
      "best accuracy: 0.8002983920390958\n",
      "next iteration\n"
     ]
    },
    {
     "name": "stderr",
     "output_type": "stream",
     "text": [
      "INFO:root:Iteration 80\n",
      "INFO:root:Iteration 81\n"
     ]
    },
    {
     "name": "stdout",
     "output_type": "stream",
     "text": [
      "{'max_depth': 3, 'min_samples_leaf': 0.32000000000000006, 'n_estimators': 10} score: 0.11200043782181188\n",
      "current accuracy: 0.11200043782181188\n",
      "best accuracy: 0.8002983920390958\n",
      "next iteration\n",
      "{'max_depth': 3, 'min_samples_leaf': 0.4, 'n_estimators': 12} score: -0.008587570224572082\n",
      "current accuracy: -0.008587570224572082\n",
      "best accuracy: 0.8002983920390958\n",
      "next iteration\n"
     ]
    },
    {
     "name": "stderr",
     "output_type": "stream",
     "text": [
      "INFO:root:Iteration 82\n",
      "INFO:root:Iteration 83\n"
     ]
    },
    {
     "name": "stdout",
     "output_type": "stream",
     "text": [
      "{'max_depth': 2, 'min_samples_leaf': 0.2, 'n_estimators': 10} score: 0.7057872101137947\n",
      "current accuracy: 0.7057872101137947\n",
      "best accuracy: 0.8002983920390958\n",
      "next iteration\n",
      "{'max_depth': 4, 'min_samples_leaf': 0.15999878735054424, 'n_estimators': 9} score: 0.7772455185040268\n",
      "current accuracy: 0.7772455185040268\n",
      "best accuracy: 0.8002983920390958\n",
      "next iteration\n"
     ]
    },
    {
     "name": "stderr",
     "output_type": "stream",
     "text": [
      "INFO:root:Iteration 84\n",
      "INFO:root:Iteration 85\n"
     ]
    },
    {
     "name": "stdout",
     "output_type": "stream",
     "text": [
      "{'max_depth': 3, 'min_samples_leaf': 0.28, 'n_estimators': 10} score: 0.46852619298481\n",
      "current accuracy: 0.46852619298481\n",
      "best accuracy: 0.8002983920390958\n",
      "next iteration\n",
      "{'max_depth': 4, 'min_samples_leaf': 0.32000000000000006, 'n_estimators': 10} score: 0.11200043782181188\n",
      "current accuracy: 0.11200043782181188\n",
      "best accuracy: 0.8002983920390958\n",
      "next iteration\n"
     ]
    },
    {
     "name": "stderr",
     "output_type": "stream",
     "text": [
      "INFO:root:Iteration 86\n",
      "INFO:root:Iteration 87\n"
     ]
    },
    {
     "name": "stdout",
     "output_type": "stream",
     "text": [
      "{'max_depth': 4, 'min_samples_leaf': 0.11999085721966167, 'n_estimators': 7} score: 0.7962059664031744\n",
      "current accuracy: 0.7962059664031744\n",
      "best accuracy: 0.8002983920390958\n",
      "next iteration\n",
      "{'max_depth': 3, 'min_samples_leaf': 0.3600000000000001, 'n_estimators': 9} score: -0.00957459560700884\n",
      "current accuracy: -0.00957459560700884\n",
      "best accuracy: 0.8002983920390958\n",
      "next iteration\n"
     ]
    },
    {
     "name": "stderr",
     "output_type": "stream",
     "text": [
      "INFO:root:Iteration 88\n",
      "INFO:root:Iteration 89\n"
     ]
    },
    {
     "name": "stdout",
     "output_type": "stream",
     "text": [
      "{'max_depth': 3, 'min_samples_leaf': 0.12000000000000001, 'n_estimators': 9} score: 0.7990162760853565\n",
      "current accuracy: 0.7990162760853565\n",
      "best accuracy: 0.8002983920390958\n",
      "next iteration\n",
      "{'max_depth': 2, 'min_samples_leaf': 0.39995252686346705, 'n_estimators': 9} score: -0.00957459560700884\n",
      "current accuracy: -0.00957459560700884\n",
      "best accuracy: 0.8002983920390958\n",
      "next iteration\n"
     ]
    },
    {
     "name": "stderr",
     "output_type": "stream",
     "text": [
      "INFO:root:Iteration 90\n",
      "INFO:root:Iteration 91\n"
     ]
    },
    {
     "name": "stdout",
     "output_type": "stream",
     "text": [
      "{'max_depth': 3, 'min_samples_leaf': 0.4799982599970509, 'n_estimators': 10} score: -0.009335740534074289\n",
      "current accuracy: -0.009335740534074289\n",
      "best accuracy: 0.8002983920390958\n",
      "next iteration\n",
      "{'max_depth': 3, 'min_samples_leaf': 0.4399880095913341, 'n_estimators': 9} score: -0.00957459560700884\n",
      "current accuracy: -0.00957459560700884\n",
      "best accuracy: 0.8002983920390958\n",
      "next iteration\n"
     ]
    },
    {
     "name": "stderr",
     "output_type": "stream",
     "text": [
      "INFO:root:Iteration 92\n",
      "INFO:root:Iteration 93\n",
      "INFO:root:Iteration 94\n"
     ]
    },
    {
     "name": "stdout",
     "output_type": "stream",
     "text": [
      "{'max_depth': 4, 'min_samples_leaf': 0.12000000000000001, 'n_estimators': 9} score: 0.7990162760853565\n",
      "current accuracy: 0.7990162760853565\n",
      "best accuracy: 0.8002983920390958\n",
      "next iteration\n",
      "{'max_depth': 5, 'min_samples_leaf': 0.28, 'n_estimators': 10} score: 0.46852619298481\n",
      "current accuracy: 0.46852619298481\n",
      "best accuracy: 0.8002983920390958\n",
      "next iteration\n",
      "{'max_depth': 2, 'min_samples_leaf': 0.44000000000000006, 'n_estimators': 9} score: -0.00957459560700884\n",
      "current accuracy: -0.00957459560700884\n",
      "best accuracy: 0.8002983920390958\n",
      "next iteration\n"
     ]
    },
    {
     "name": "stderr",
     "output_type": "stream",
     "text": [
      "INFO:root:Best result 0.8002983920390958: Params: [ 5.    0.12 12.  ]\n",
      "INFO:root:Best result 0.8002983920390958: Params: {'bootstrap': 5.0, 'criterion': 0.12000000000000001, 'max_depth': 12.0}\n"
     ]
    },
    {
     "name": "stdout",
     "output_type": "stream",
     "text": [
      "{'max_depth': 5, 'min_samples_leaf': 0.32000000000000006, 'n_estimators': 9} score: 0.12398975013204641\n",
      "current accuracy: 0.12398975013204641\n",
      "best accuracy: 0.8002983920390958\n"
     ]
    }
   ],
   "source": [
    "# --- Define our hyper parameter space as a dictionary. \n",
    "\n",
    "# Use the names of the hyper parameters as the keys\n",
    "# Values should be a list for discrete values and [lower_bound,upper_bound] for continuous\n",
    "hps = {\n",
    "    'n_estimators':range(1,20),\n",
    "    'max_depth':range(1,10),\n",
    "    'min_samples_leaf': [0.1,0.5]\n",
    "}\n",
    "\n",
    "# --- Run the Bayesian Optimisation Code\n",
    "MLmodel = RandomForestRegressor(random_state=42)\n",
    "\n",
    "def my_scoring_function(X_train, y_train):\n",
    "    return MLmodel.score(X_train, y_train)\n",
    "\n",
    "BOout = BayesianOptimisation(\n",
    "    hps=hps,\n",
    "    MLmodel = MLmodel,\n",
    "    scoring_function = my_scoring_function,\n",
    "    NpI = 5,\n",
    "    Niter = 95,\n",
    "    y_train = y_train,\n",
    "    X_train = X_train,\n",
    "    n_restarts = 10,\n",
    ").optimise()"
   ]
  },
  {
   "cell_type": "markdown",
   "metadata": {},
   "source": [
    "### Example 2"
   ]
  },
  {
   "cell_type": "code",
   "execution_count": null,
   "metadata": {},
   "outputs": [
    {
     "name": "stderr",
     "output_type": "stream",
     "text": [
      "/anaconda3/lib/python3.6/site-packages/sklearn/ensemble/forest.py:245: FutureWarning: The default value of n_estimators will change from 10 in version 0.20 to 100 in 0.22.\n",
      "  \"10 in version 0.20 to 100 in 0.22.\", FutureWarning)\n",
      "INFO:root:Will perform 95 iterations\n",
      "INFO:root:Iteration 0\n",
      "INFO:root:Iteration 1\n",
      "INFO:root:Iteration 2\n"
     ]
    },
    {
     "name": "stdout",
     "output_type": "stream",
     "text": [
      "{'min_samples_leaf': 0.22000000000000003} 0.4813176890428952\n",
      "{'min_samples_leaf': 0.14} 0.7611842226514938\n",
      "{'min_samples_leaf': 0.4600000000000001} -8.105585937734361e-05\n",
      "{'min_samples_leaf': 0.30000000000000004} 0.4181731386486091\n",
      "{'min_samples_leaf': 0.38} -8.105585937734361e-05\n",
      "{'min_samples_leaf': 0.16000000000000003} 0.7506234076621161\n",
      "current accuracy: 0.7506234076621161\n",
      "best accuracy: 0.7611842226514938\n",
      "{'min_samples_leaf': 0.14500071901704767} 0.758548068733668\n",
      "current accuracy: 0.758548068733668\n",
      "best accuracy: 0.7611842226514938\n"
     ]
    },
    {
     "name": "stderr",
     "output_type": "stream",
     "text": [
      "INFO:root:Iteration 3\n",
      "INFO:root:Iteration 4\n",
      "INFO:root:Iteration 5\n"
     ]
    },
    {
     "name": "stdout",
     "output_type": "stream",
     "text": [
      "{'min_samples_leaf': 0.14359800654588614} 0.7597490697232373\n",
      "current accuracy: 0.7597490697232373\n",
      "best accuracy: 0.7611842226514938\n",
      "{'min_samples_leaf': 0.14281551301451326} 0.7604543509917512\n",
      "current accuracy: 0.7604543509917512\n",
      "best accuracy: 0.7611842226514938\n",
      "{'min_samples_leaf': 0.1423166685308091} 0.7604543509917512\n",
      "current accuracy: 0.7604543509917512\n",
      "best accuracy: 0.7611842226514938\n",
      "{'min_samples_leaf': 0.14197114286162132} 0.7607869359838187\n",
      "current accuracy: 0.7607869359838187\n",
      "best accuracy: 0.7611842226514938\n"
     ]
    },
    {
     "name": "stderr",
     "output_type": "stream",
     "text": [
      "INFO:root:Iteration 6\n",
      "INFO:root:Iteration 7\n",
      "INFO:root:Iteration 8\n",
      "INFO:root:Iteration 9\n"
     ]
    },
    {
     "name": "stdout",
     "output_type": "stream",
     "text": [
      "{'min_samples_leaf': 0.141717220259729} 0.7607869359838187\n",
      "current accuracy: 0.7607869359838187\n",
      "best accuracy: 0.7611842226514938\n",
      "{'min_samples_leaf': 0.1415226278231482} 0.7607869359838187\n",
      "current accuracy: 0.7607869359838187\n",
      "best accuracy: 0.7611842226514938\n",
      "{'min_samples_leaf': 0.1413687435551261} 0.7607869359838187\n",
      "current accuracy: 0.7607869359838187\n",
      "best accuracy: 0.7611842226514938\n"
     ]
    },
    {
     "name": "stderr",
     "output_type": "stream",
     "text": [
      "INFO:root:Iteration 10\n",
      "INFO:root:Iteration 11\n",
      "INFO:root:Iteration 12\n"
     ]
    },
    {
     "name": "stdout",
     "output_type": "stream",
     "text": [
      "{'min_samples_leaf': 0.14124389354935635} 0.7607869359838187\n",
      "current accuracy: 0.7607869359838187\n",
      "best accuracy: 0.7611842226514938\n",
      "{'min_samples_leaf': 0.14114050141384749} 0.7607869359838187\n",
      "current accuracy: 0.7607869359838187\n",
      "best accuracy: 0.7611842226514938\n",
      "{'min_samples_leaf': 0.14105347788853914} 0.7607869359838187\n",
      "current accuracy: 0.7607869359838187\n",
      "best accuracy: 0.7611842226514938\n"
     ]
    },
    {
     "name": "stderr",
     "output_type": "stream",
     "text": [
      "INFO:root:Iteration 13\n",
      "INFO:root:Iteration 14\n"
     ]
    },
    {
     "name": "stdout",
     "output_type": "stream",
     "text": [
      "{'min_samples_leaf': 0.14097910774705696} 0.7611835084856301\n",
      "current accuracy: 0.7611835084856301\n",
      "best accuracy: 0.7611842226514938\n",
      "{'min_samples_leaf': 0.14091472897980928} 0.7611835084856301\n",
      "current accuracy: 0.7611835084856301\n",
      "best accuracy: 0.7611842226514938\n",
      "{'min_samples_leaf': 0.1408586094476931} 0.7611835084856301\n",
      "current accuracy: 0.7611835084856301\n",
      "best accuracy: 0.7611842226514938\n"
     ]
    },
    {
     "name": "stderr",
     "output_type": "stream",
     "text": [
      "INFO:root:Iteration 15\n",
      "INFO:root:Iteration 16\n",
      "INFO:root:Iteration 17\n",
      "INFO:root:Iteration 18\n"
     ]
    },
    {
     "name": "stdout",
     "output_type": "stream",
     "text": [
      "{'min_samples_leaf': 0.14080913192964453} 0.7611835084856301\n",
      "current accuracy: 0.7611835084856301\n",
      "best accuracy: 0.7611842226514938\n",
      "{'min_samples_leaf': 0.1407652305916371} 0.7611835084856301\n",
      "current accuracy: 0.7611835084856301\n",
      "best accuracy: 0.7611842226514938\n",
      "{'min_samples_leaf': 0.14072592861226316} 0.7611835084856301\n",
      "current accuracy: 0.7611835084856301\n",
      "best accuracy: 0.7611842226514938\n"
     ]
    },
    {
     "name": "stderr",
     "output_type": "stream",
     "text": [
      "INFO:root:Iteration 19\n",
      "INFO:root:Iteration 20\n",
      "INFO:root:Iteration 21\n"
     ]
    },
    {
     "name": "stdout",
     "output_type": "stream",
     "text": [
      "{'min_samples_leaf': 0.1406906148518981} 0.7611835084856301\n",
      "current accuracy: 0.7611835084856301\n",
      "best accuracy: 0.7611842226514938\n",
      "{'min_samples_leaf': 0.1406587097872982} 0.7611835084856301\n",
      "current accuracy: 0.7611835084856301\n",
      "best accuracy: 0.7611842226514938\n",
      "{'min_samples_leaf': 0.1406297208136269} 0.7611835084856301\n",
      "current accuracy: 0.7611835084856301\n",
      "best accuracy: 0.7611842226514938\n"
     ]
    },
    {
     "name": "stderr",
     "output_type": "stream",
     "text": [
      "INFO:root:Iteration 22\n",
      "INFO:root:Iteration 23\n",
      "INFO:root:Iteration 24\n"
     ]
    },
    {
     "name": "stdout",
     "output_type": "stream",
     "text": [
      "{'min_samples_leaf': 0.1406032882885509} 0.7611835084856301\n",
      "current accuracy: 0.7611835084856301\n",
      "best accuracy: 0.7611842226514938\n",
      "{'min_samples_leaf': 0.14057893927770826} 0.7611835084856301\n",
      "current accuracy: 0.7611835084856301\n",
      "best accuracy: 0.7611842226514938\n",
      "{'min_samples_leaf': 0.14055663146242953} 0.7611835084856301\n",
      "current accuracy: 0.7611835084856301\n",
      "best accuracy: 0.7611842226514938\n"
     ]
    },
    {
     "name": "stderr",
     "output_type": "stream",
     "text": [
      "INFO:root:Iteration 25\n",
      "INFO:root:Iteration 26\n",
      "INFO:root:Iteration 27\n"
     ]
    },
    {
     "name": "stdout",
     "output_type": "stream",
     "text": [
      "{'min_samples_leaf': 0.14053592379649466} 0.7611835084856301\n",
      "current accuracy: 0.7611835084856301\n",
      "best accuracy: 0.7611842226514938\n",
      "{'min_samples_leaf': 0.1405169350284069} 0.7611835084856301\n",
      "current accuracy: 0.7611835084856301\n",
      "best accuracy: 0.7611842226514938\n",
      "{'min_samples_leaf': 0.14049921494078055} 0.7611835084856301\n",
      "current accuracy: 0.7611835084856301\n",
      "best accuracy: 0.7611842226514938\n"
     ]
    },
    {
     "name": "stderr",
     "output_type": "stream",
     "text": [
      "INFO:root:Iteration 28\n",
      "INFO:root:Iteration 29\n",
      "INFO:root:Iteration 30\n"
     ]
    },
    {
     "name": "stdout",
     "output_type": "stream",
     "text": [
      "{'min_samples_leaf': 0.14048271698603643} 0.7611835084856301\n",
      "current accuracy: 0.7611835084856301\n",
      "best accuracy: 0.7611842226514938\n",
      "{'min_samples_leaf': 0.140467070884656} 0.7611835084856301\n",
      "current accuracy: 0.7611835084856301\n",
      "best accuracy: 0.7611842226514938\n",
      "{'min_samples_leaf': 0.14045270548183333} 0.7611835084856301\n",
      "current accuracy: 0.7611835084856301\n",
      "best accuracy: 0.7611842226514938\n"
     ]
    },
    {
     "name": "stderr",
     "output_type": "stream",
     "text": [
      "INFO:root:Iteration 31\n",
      "INFO:root:Iteration 32\n",
      "INFO:root:Iteration 33\n"
     ]
    },
    {
     "name": "stdout",
     "output_type": "stream",
     "text": [
      "{'min_samples_leaf': 0.14043920429979037} 0.7611835084856301\n",
      "current accuracy: 0.7611835084856301\n",
      "best accuracy: 0.7611842226514938\n",
      "{'min_samples_leaf': 0.14042662126576239} 0.7611835084856301\n",
      "current accuracy: 0.7611835084856301\n",
      "best accuracy: 0.7611842226514938\n",
      "{'min_samples_leaf': 0.1404145191303343} 0.7611835084856301\n",
      "current accuracy: 0.7611835084856301\n",
      "best accuracy: 0.7611842226514938\n"
     ]
    },
    {
     "name": "stderr",
     "output_type": "stream",
     "text": [
      "INFO:root:Iteration 34\n",
      "INFO:root:Iteration 35\n"
     ]
    },
    {
     "name": "stdout",
     "output_type": "stream",
     "text": [
      "{'min_samples_leaf': 0.14040306855642762} 0.7611835084856301\n",
      "current accuracy: 0.7611835084856301\n",
      "best accuracy: 0.7611842226514938\n",
      "{'min_samples_leaf': 0.1403924885252998} 0.7611835084856301\n",
      "current accuracy: 0.7611835084856301\n",
      "best accuracy: 0.7611842226514938\n"
     ]
    },
    {
     "name": "stderr",
     "output_type": "stream",
     "text": [
      "INFO:root:Iteration 36\n",
      "INFO:root:Iteration 37\n"
     ]
    },
    {
     "name": "stdout",
     "output_type": "stream",
     "text": [
      "{'min_samples_leaf': 0.14038238251857807} 0.7611835084856301\n",
      "current accuracy: 0.7611835084856301\n",
      "best accuracy: 0.7611842226514938\n",
      "{'min_samples_leaf': 0.1403726310805419} 0.7611835084856301\n",
      "current accuracy: 0.7611835084856301\n",
      "best accuracy: 0.7611842226514938\n"
     ]
    },
    {
     "name": "stderr",
     "output_type": "stream",
     "text": [
      "INFO:root:Iteration 38\n",
      "INFO:root:Iteration 39\n",
      "INFO:root:Iteration 40\n"
     ]
    },
    {
     "name": "stdout",
     "output_type": "stream",
     "text": [
      "{'min_samples_leaf': 0.14036362454534673} 0.7611835084856301\n",
      "current accuracy: 0.7611835084856301\n",
      "best accuracy: 0.7611842226514938\n",
      "{'min_samples_leaf': 0.14035470709928402} 0.7611835084856301\n",
      "current accuracy: 0.7611835084856301\n",
      "best accuracy: 0.7611842226514938\n",
      "{'min_samples_leaf': 0.14034680809441266} 0.7611835084856301\n",
      "current accuracy: 0.7611835084856301\n",
      "best accuracy: 0.7611842226514938\n"
     ]
    },
    {
     "name": "stderr",
     "output_type": "stream",
     "text": [
      "INFO:root:Iteration 41\n",
      "INFO:root:Iteration 42\n"
     ]
    },
    {
     "name": "stdout",
     "output_type": "stream",
     "text": [
      "{'min_samples_leaf': 0.14033900927495396} 0.7611835084856301\n",
      "current accuracy: 0.7611835084856301\n",
      "best accuracy: 0.7611842226514938\n",
      "{'min_samples_leaf': 0.14033150207357958} 0.7611835084856301\n",
      "current accuracy: 0.7611835084856301\n",
      "best accuracy: 0.7611842226514938\n"
     ]
    },
    {
     "name": "stderr",
     "output_type": "stream",
     "text": [
      "INFO:root:Iteration 43\n",
      "INFO:root:Iteration 44\n"
     ]
    },
    {
     "name": "stdout",
     "output_type": "stream",
     "text": [
      "{'min_samples_leaf': 0.1403241481248132} 0.7611835084856301\n",
      "current accuracy: 0.7611835084856301\n",
      "best accuracy: 0.7611842226514938\n",
      "{'min_samples_leaf': 0.14031738468992408} 0.7611835084856301\n",
      "current accuracy: 0.7611835084856301\n",
      "best accuracy: 0.7611842226514938\n"
     ]
    },
    {
     "name": "stderr",
     "output_type": "stream",
     "text": [
      "INFO:root:Iteration 45\n",
      "INFO:root:Iteration 46\n"
     ]
    },
    {
     "name": "stdout",
     "output_type": "stream",
     "text": [
      "{'min_samples_leaf': 0.14031080911750027} 0.7611835084856301\n",
      "current accuracy: 0.7611835084856301\n",
      "best accuracy: 0.7611842226514938\n",
      "{'min_samples_leaf': 0.14030458378668806} 0.7611835084856301\n",
      "current accuracy: 0.7611835084856301\n",
      "best accuracy: 0.7611842226514938\n"
     ]
    },
    {
     "name": "stderr",
     "output_type": "stream",
     "text": [
      "INFO:root:Iteration 47\n",
      "INFO:root:Iteration 48\n"
     ]
    },
    {
     "name": "stdout",
     "output_type": "stream",
     "text": [
      "{'min_samples_leaf': 0.14029853497401615} 0.7611835084856301\n",
      "current accuracy: 0.7611835084856301\n",
      "best accuracy: 0.7611842226514938\n",
      "{'min_samples_leaf': 0.14029275754677403} 0.7611835084856301\n",
      "current accuracy: 0.7611835084856301\n",
      "best accuracy: 0.7611842226514938\n"
     ]
    },
    {
     "name": "stderr",
     "output_type": "stream",
     "text": [
      "INFO:root:Iteration 49\n",
      "INFO:root:Iteration 50\n"
     ]
    },
    {
     "name": "stdout",
     "output_type": "stream",
     "text": [
      "{'min_samples_leaf': 0.1402871904764465} 0.7611835084856301\n",
      "current accuracy: 0.7611835084856301\n",
      "best accuracy: 0.7611842226514938\n",
      "{'min_samples_leaf': 0.14028195937492788} 0.7611835084856301\n",
      "current accuracy: 0.7611835084856301\n",
      "best accuracy: 0.7611842226514938\n"
     ]
    }
   ],
   "source": [
    "# --- Define our hyper parameter space as a dictionary. \n",
    "\n",
    "# Use the names of the hyper parameters as the keys\n",
    "# Values should be a list for discrete values and [lower_bound,upper_bound] for continuous\n",
    "hps = {\n",
    "    'n_estimators':range(1,20),\n",
    "    'max_depth':range(1,10),\n",
    "    'min_samples_leaf': [0.1,0.5]\n",
    "}\n",
    "\n",
    "# --- Run the Bayesian Optimisation Code\n",
    "MLmodel = RandomForestRegressor(random_state=42)\n",
    "\n",
    "BOout = BayesianOptimisation(\n",
    "    hps=hps,\n",
    "    MLmodel = MLmodel,\n",
    "    scoring_function = MLmodel.score,\n",
    "    NpI = 5,\n",
    "    Niter = 95,\n",
    "    y_train = y_train,\n",
    "    X_train = X_train,\n",
    "    n_restarts = 10,\n",
    ").optimise()"
   ]
  },
  {
   "cell_type": "code",
   "execution_count": 40,
   "metadata": {},
   "outputs": [
    {
     "data": {
      "image/png": "[encoded data removed]",
      "text/plain": [
       "<Figure size 864x360 with 2 Axes>"
      ]
     },
     "metadata": {
      "needs_background": "dark"
     },
     "output_type": "display_data"
    }
   ],
   "source": [
    "# --- Track the results with each iteration\n",
    "\n",
    "import matplotlib.pyplot as plt\n",
    "\n",
    "plt.figure(figsize=(12,5))\n",
    "plt.subplot(121)\n",
    "plt.plot(BOout.Xt,'.')\n",
    "plt.subplot(122)\n",
    "plt.plot(BOout.Yt,'.')\n",
    "\n",
    "plt.show()"
   ]
  },
  {
   "cell_type": "markdown",
   "metadata": {},
   "source": [
    "## Convergence Diagnostics\n",
    "Plot the convergence of the hyper parameters with each iteration"
   ]
  },
  {
   "cell_type": "code",
   "execution_count": 8,
   "metadata": {},
   "outputs": [
    {
     "name": "stderr",
     "output_type": "stream",
     "text": [
      "[autoreload of bayesian_hyperparameter_optimisation_3 failed: Traceback (most recent call last):\n",
      "  File \"/anaconda3/lib/python3.6/site-packages/IPython/extensions/autoreload.py\", line 244, in check\n",
      "    superreload(m, reload, self.old_objects)\n",
      "  File \"/anaconda3/lib/python3.6/site-packages/IPython/extensions/autoreload.py\", line 378, in superreload\n",
      "    module = reload(module)\n",
      "  File \"/anaconda3/lib/python3.6/imp.py\", line 315, in reload\n",
      "    return importlib.reload(module)\n",
      "  File \"/anaconda3/lib/python3.6/importlib/__init__.py\", line 166, in reload\n",
      "    _bootstrap._exec(spec, module)\n",
      "  File \"<frozen importlib._bootstrap>\", line 618, in _exec\n",
      "  File \"<frozen importlib._bootstrap_external>\", line 674, in exec_module\n",
      "  File \"<frozen importlib._bootstrap_external>\", line 781, in get_code\n",
      "  File \"<frozen importlib._bootstrap_external>\", line 741, in source_to_code\n",
      "  File \"<frozen importlib._bootstrap>\", line 219, in _call_with_frames_removed\n",
      "  File \"/Users/crookm12/Documents/GitHub/BayesianOptimisation/bayesian_hyperparameter_optimisation_3.py\", line 206\n",
      "    self:\n",
      "        ^\n",
      "SyntaxError: invalid syntax\n",
      "]\n"
     ]
    },
    {
     "name": "stdout",
     "output_type": "stream",
     "text": [
      "ndim: 1\n",
      "{'max_depth': 3, 'min_samples_leaf': 0.30000000000000004, 'n_estimators': 13} score: 0.3336931732685191\n",
      "{'max_depth': 1, 'min_samples_leaf': 0.38, 'n_estimators': 2} score: -0.004065434124759504\n",
      "{'max_depth': 8, 'min_samples_leaf': 0.22000000000000003, 'n_estimators': 17} score: 0.46907179009709593\n",
      "{'max_depth': 6, 'min_samples_leaf': 0.4600000000000001, 'n_estimators': 6} score: -0.003851707134288196\n"
     ]
    },
    {
     "name": "stderr",
     "output_type": "stream",
     "text": [
      "INFO:root:Will perform 25 iterations\n",
      "INFO:root:Iteration 0\n"
     ]
    },
    {
     "name": "stdout",
     "output_type": "stream",
     "text": [
      "{'max_depth': 5, 'min_samples_leaf': 0.14, 'n_estimators': 10} score: 0.7835089048503446\n",
      "optim rout: minimize\n",
      "Ncontinous_hps: 1\n"
     ]
    },
    {
     "ename": "AttributeError",
     "evalue": "'iteration' object has no attribute 'discrete_values'",
     "output_type": "error",
     "traceback": [
      "\u001b[0;31m---------------------------------------------------------------------------\u001b[0m",
      "\u001b[0;31mAttributeError\u001b[0m                            Traceback (most recent call last)",
      "\u001b[0;32m<ipython-input-8-da560d660c83>\u001b[0m in \u001b[0;36m<module>\u001b[0;34m\u001b[0m\n\u001b[1;32m     16\u001b[0m     \u001b[0my_train\u001b[0m \u001b[0;34m=\u001b[0m \u001b[0my_train\u001b[0m\u001b[0;34m,\u001b[0m\u001b[0;34m\u001b[0m\u001b[0;34m\u001b[0m\u001b[0m\n\u001b[1;32m     17\u001b[0m     \u001b[0mX_train\u001b[0m \u001b[0;34m=\u001b[0m \u001b[0mX_train\u001b[0m\u001b[0;34m,\u001b[0m\u001b[0;34m\u001b[0m\u001b[0;34m\u001b[0m\u001b[0m\n\u001b[0;32m---> 18\u001b[0;31m     \u001b[0mn_restarts\u001b[0m \u001b[0;34m=\u001b[0m \u001b[0;36m10\u001b[0m\u001b[0;34m\u001b[0m\u001b[0;34m\u001b[0m\u001b[0m\n\u001b[0m\u001b[1;32m     19\u001b[0m ).optimise()\n",
      "\u001b[0;32m~/Documents/GitHub/BayesianOptimisation/bayesian_hyperparameter_optimisation_3.py\u001b[0m in \u001b[0;36moptimise\u001b[0;34m(self)\u001b[0m\n\u001b[1;32m    606\u001b[0m \u001b[0;34m\u001b[0m\u001b[0m\n\u001b[1;32m    607\u001b[0m \u001b[0;34m\u001b[0m\u001b[0m\n\u001b[0;32m--> 608\u001b[0;31m     \u001b[0;32mdef\u001b[0m \u001b[0moptimise\u001b[0m\u001b[0;34m(\u001b[0m\u001b[0mself\u001b[0m\u001b[0;34m)\u001b[0m\u001b[0;34m:\u001b[0m\u001b[0;34m\u001b[0m\u001b[0;34m\u001b[0m\u001b[0m\n\u001b[0m\u001b[1;32m    609\u001b[0m         \u001b[0;32mfor\u001b[0m \u001b[0mi\u001b[0m \u001b[0;32min\u001b[0m \u001b[0mrange\u001b[0m\u001b[0;34m(\u001b[0m\u001b[0mself\u001b[0m\u001b[0;34m.\u001b[0m\u001b[0mNiter\u001b[0m\u001b[0;34m)\u001b[0m\u001b[0;34m:\u001b[0m\u001b[0;34m\u001b[0m\u001b[0;34m\u001b[0m\u001b[0m\n\u001b[1;32m    610\u001b[0m             \u001b[0mlogging\u001b[0m\u001b[0;34m.\u001b[0m\u001b[0minfo\u001b[0m\u001b[0;34m(\u001b[0m\u001b[0;34m'Iteration {}'\u001b[0m\u001b[0;34m.\u001b[0m\u001b[0mformat\u001b[0m\u001b[0;34m(\u001b[0m\u001b[0mi\u001b[0m\u001b[0;34m)\u001b[0m\u001b[0;34m)\u001b[0m\u001b[0;34m\u001b[0m\u001b[0;34m\u001b[0m\u001b[0m\n",
      "\u001b[0;32m~/Documents/GitHub/BayesianOptimisation/bayesian_hyperparameter_optimisation_3.py\u001b[0m in \u001b[0;36m__init__\u001b[0;34m(self, pars)\u001b[0m\n\u001b[1;32m     97\u001b[0m \u001b[0;34m\u001b[0m\u001b[0m\n\u001b[1;32m     98\u001b[0m         \u001b[0;31m# Obtain next sampling point from the acquisition function (expected_improvement)\u001b[0m\u001b[0;34m\u001b[0m\u001b[0;34m\u001b[0m\u001b[0;34m\u001b[0m\u001b[0m\n\u001b[0;32m---> 99\u001b[0;31m         \u001b[0mX_next\u001b[0m \u001b[0;34m=\u001b[0m \u001b[0mself\u001b[0m\u001b[0;34m.\u001b[0m\u001b[0mpropose_location\u001b[0m\u001b[0;34m(\u001b[0m\u001b[0mpars\u001b[0m\u001b[0;34m)\u001b[0m\u001b[0;34m\u001b[0m\u001b[0;34m\u001b[0m\u001b[0m\n\u001b[0m\u001b[1;32m    100\u001b[0m         \u001b[0;31m# Convert to int where necessary\u001b[0m\u001b[0;34m\u001b[0m\u001b[0;34m\u001b[0m\u001b[0;34m\u001b[0m\u001b[0m\n\u001b[1;32m    101\u001b[0m \u001b[0;34m\u001b[0m\u001b[0m\n",
      "\u001b[0;32m~/Documents/GitHub/BayesianOptimisation/bayesian_hyperparameter_optimisation_3.py\u001b[0m in \u001b[0;36mpropose_location\u001b[0;34m(self, pars)\u001b[0m\n\u001b[1;32m    171\u001b[0m         \u001b[0;32mif\u001b[0m \u001b[0mpars\u001b[0m\u001b[0;34m.\u001b[0m\u001b[0moptim_rout\u001b[0m \u001b[0;34m==\u001b[0m \u001b[0;34m'minimize'\u001b[0m\u001b[0;34m:\u001b[0m\u001b[0;34m\u001b[0m\u001b[0;34m\u001b[0m\u001b[0m\n\u001b[1;32m    172\u001b[0m             \u001b[0;32mfor\u001b[0m \u001b[0mx0\u001b[0m \u001b[0;32min\u001b[0m \u001b[0mXs\u001b[0m\u001b[0;34m:\u001b[0m\u001b[0;34m\u001b[0m\u001b[0;34m\u001b[0m\u001b[0m\n\u001b[0;32m--> 173\u001b[0;31m                 \u001b[0mres\u001b[0m \u001b[0;34m=\u001b[0m \u001b[0mminimize\u001b[0m\u001b[0;34m(\u001b[0m\u001b[0mself\u001b[0m\u001b[0;34m.\u001b[0m\u001b[0mmin_obj\u001b[0m\u001b[0;34m,\u001b[0m \u001b[0mx0\u001b[0m\u001b[0;34m=\u001b[0m\u001b[0mx0\u001b[0m\u001b[0;34m,\u001b[0m \u001b[0mbounds\u001b[0m\u001b[0;34m=\u001b[0m\u001b[0mpars\u001b[0m\u001b[0;34m.\u001b[0m\u001b[0mbounds\u001b[0m\u001b[0;34m,\u001b[0m \u001b[0mmethod\u001b[0m\u001b[0;34m=\u001b[0m\u001b[0mpars\u001b[0m\u001b[0;34m.\u001b[0m\u001b[0mmethod\u001b[0m\u001b[0;34m)\u001b[0m\u001b[0;34m\u001b[0m\u001b[0;34m\u001b[0m\u001b[0m\n\u001b[0m\u001b[1;32m    174\u001b[0m                 \u001b[0;31m# Find the best optimum across all initiations\u001b[0m\u001b[0;34m\u001b[0m\u001b[0;34m\u001b[0m\u001b[0;34m\u001b[0m\u001b[0m\n\u001b[1;32m    175\u001b[0m                 \u001b[0;32mif\u001b[0m \u001b[0mres\u001b[0m\u001b[0;34m.\u001b[0m\u001b[0mfun\u001b[0m \u001b[0;34m<\u001b[0m \u001b[0mmin_val\u001b[0m\u001b[0;34m:\u001b[0m\u001b[0;34m\u001b[0m\u001b[0;34m\u001b[0m\u001b[0m\n",
      "\u001b[0;32m/anaconda3/lib/python3.6/site-packages/scipy/optimize/_minimize.py\u001b[0m in \u001b[0;36mminimize\u001b[0;34m(fun, x0, args, method, jac, hess, hessp, bounds, constraints, tol, callback, options)\u001b[0m\n\u001b[1;32m    599\u001b[0m     \u001b[0;32melif\u001b[0m \u001b[0mmeth\u001b[0m \u001b[0;34m==\u001b[0m \u001b[0;34m'l-bfgs-b'\u001b[0m\u001b[0;34m:\u001b[0m\u001b[0;34m\u001b[0m\u001b[0;34m\u001b[0m\u001b[0m\n\u001b[1;32m    600\u001b[0m         return _minimize_lbfgsb(fun, x0, args, jac, bounds,\n\u001b[0;32m--> 601\u001b[0;31m                                 callback=callback, **options)\n\u001b[0m\u001b[1;32m    602\u001b[0m     \u001b[0;32melif\u001b[0m \u001b[0mmeth\u001b[0m \u001b[0;34m==\u001b[0m \u001b[0;34m'tnc'\u001b[0m\u001b[0;34m:\u001b[0m\u001b[0;34m\u001b[0m\u001b[0;34m\u001b[0m\u001b[0m\n\u001b[1;32m    603\u001b[0m         return _minimize_tnc(fun, x0, args, jac, bounds, callback=callback,\n",
      "\u001b[0;32m/anaconda3/lib/python3.6/site-packages/scipy/optimize/lbfgsb.py\u001b[0m in \u001b[0;36m_minimize_lbfgsb\u001b[0;34m(fun, x0, args, jac, bounds, disp, maxcor, ftol, gtol, eps, maxfun, maxiter, iprint, callback, maxls, **unknown_options)\u001b[0m\n\u001b[1;32m    333\u001b[0m             \u001b[0;31m# until the completion of the current minimization iteration.\u001b[0m\u001b[0;34m\u001b[0m\u001b[0;34m\u001b[0m\u001b[0;34m\u001b[0m\u001b[0m\n\u001b[1;32m    334\u001b[0m             \u001b[0;31m# Overwrite f and g:\u001b[0m\u001b[0;34m\u001b[0m\u001b[0;34m\u001b[0m\u001b[0;34m\u001b[0m\u001b[0m\n\u001b[0;32m--> 335\u001b[0;31m             \u001b[0mf\u001b[0m\u001b[0;34m,\u001b[0m \u001b[0mg\u001b[0m \u001b[0;34m=\u001b[0m \u001b[0mfunc_and_grad\u001b[0m\u001b[0;34m(\u001b[0m\u001b[0mx\u001b[0m\u001b[0;34m)\u001b[0m\u001b[0;34m\u001b[0m\u001b[0;34m\u001b[0m\u001b[0m\n\u001b[0m\u001b[1;32m    336\u001b[0m         \u001b[0;32melif\u001b[0m \u001b[0mtask_str\u001b[0m\u001b[0;34m.\u001b[0m\u001b[0mstartswith\u001b[0m\u001b[0;34m(\u001b[0m\u001b[0;34mb'NEW_X'\u001b[0m\u001b[0;34m)\u001b[0m\u001b[0;34m:\u001b[0m\u001b[0;34m\u001b[0m\u001b[0;34m\u001b[0m\u001b[0m\n\u001b[1;32m    337\u001b[0m             \u001b[0;31m# new iteration\u001b[0m\u001b[0;34m\u001b[0m\u001b[0;34m\u001b[0m\u001b[0;34m\u001b[0m\u001b[0m\n",
      "\u001b[0;32m/anaconda3/lib/python3.6/site-packages/scipy/optimize/lbfgsb.py\u001b[0m in \u001b[0;36mfunc_and_grad\u001b[0;34m(x)\u001b[0m\n\u001b[1;32m    278\u001b[0m     \u001b[0;32mif\u001b[0m \u001b[0mjac\u001b[0m \u001b[0;32mis\u001b[0m \u001b[0;32mNone\u001b[0m\u001b[0;34m:\u001b[0m\u001b[0;34m\u001b[0m\u001b[0;34m\u001b[0m\u001b[0m\n\u001b[1;32m    279\u001b[0m         \u001b[0;32mdef\u001b[0m \u001b[0mfunc_and_grad\u001b[0m\u001b[0;34m(\u001b[0m\u001b[0mx\u001b[0m\u001b[0;34m)\u001b[0m\u001b[0;34m:\u001b[0m\u001b[0;34m\u001b[0m\u001b[0;34m\u001b[0m\u001b[0m\n\u001b[0;32m--> 280\u001b[0;31m             \u001b[0mf\u001b[0m \u001b[0;34m=\u001b[0m \u001b[0mfun\u001b[0m\u001b[0;34m(\u001b[0m\u001b[0mx\u001b[0m\u001b[0;34m,\u001b[0m \u001b[0;34m*\u001b[0m\u001b[0margs\u001b[0m\u001b[0;34m)\u001b[0m\u001b[0;34m\u001b[0m\u001b[0;34m\u001b[0m\u001b[0m\n\u001b[0m\u001b[1;32m    281\u001b[0m             \u001b[0mg\u001b[0m \u001b[0;34m=\u001b[0m \u001b[0m_approx_fprime_helper\u001b[0m\u001b[0;34m(\u001b[0m\u001b[0mx\u001b[0m\u001b[0;34m,\u001b[0m \u001b[0mfun\u001b[0m\u001b[0;34m,\u001b[0m \u001b[0mepsilon\u001b[0m\u001b[0;34m,\u001b[0m \u001b[0margs\u001b[0m\u001b[0;34m=\u001b[0m\u001b[0margs\u001b[0m\u001b[0;34m,\u001b[0m \u001b[0mf0\u001b[0m\u001b[0;34m=\u001b[0m\u001b[0mf\u001b[0m\u001b[0;34m)\u001b[0m\u001b[0;34m\u001b[0m\u001b[0;34m\u001b[0m\u001b[0m\n\u001b[1;32m    282\u001b[0m             \u001b[0;32mreturn\u001b[0m \u001b[0mf\u001b[0m\u001b[0;34m,\u001b[0m \u001b[0mg\u001b[0m\u001b[0;34m\u001b[0m\u001b[0;34m\u001b[0m\u001b[0m\n",
      "\u001b[0;32m/anaconda3/lib/python3.6/site-packages/scipy/optimize/optimize.py\u001b[0m in \u001b[0;36mfunction_wrapper\u001b[0;34m(*wrapper_args)\u001b[0m\n\u001b[1;32m    298\u001b[0m     \u001b[0;32mdef\u001b[0m \u001b[0mfunction_wrapper\u001b[0m\u001b[0;34m(\u001b[0m\u001b[0;34m*\u001b[0m\u001b[0mwrapper_args\u001b[0m\u001b[0;34m)\u001b[0m\u001b[0;34m:\u001b[0m\u001b[0;34m\u001b[0m\u001b[0;34m\u001b[0m\u001b[0m\n\u001b[1;32m    299\u001b[0m         \u001b[0mncalls\u001b[0m\u001b[0;34m[\u001b[0m\u001b[0;36m0\u001b[0m\u001b[0;34m]\u001b[0m \u001b[0;34m+=\u001b[0m \u001b[0;36m1\u001b[0m\u001b[0;34m\u001b[0m\u001b[0;34m\u001b[0m\u001b[0m\n\u001b[0;32m--> 300\u001b[0;31m         \u001b[0;32mreturn\u001b[0m \u001b[0mfunction\u001b[0m\u001b[0;34m(\u001b[0m\u001b[0;34m*\u001b[0m\u001b[0;34m(\u001b[0m\u001b[0mwrapper_args\u001b[0m \u001b[0;34m+\u001b[0m \u001b[0margs\u001b[0m\u001b[0;34m)\u001b[0m\u001b[0;34m)\u001b[0m\u001b[0;34m\u001b[0m\u001b[0;34m\u001b[0m\u001b[0m\n\u001b[0m\u001b[1;32m    301\u001b[0m \u001b[0;34m\u001b[0m\u001b[0m\n\u001b[1;32m    302\u001b[0m     \u001b[0;32mreturn\u001b[0m \u001b[0mncalls\u001b[0m\u001b[0;34m,\u001b[0m \u001b[0mfunction_wrapper\u001b[0m\u001b[0;34m\u001b[0m\u001b[0;34m\u001b[0m\u001b[0m\n",
      "\u001b[0;32m~/Documents/GitHub/BayesianOptimisation/bayesian_hyperparameter_optimisation_3.py\u001b[0m in \u001b[0;36mmin_obj\u001b[0;34m(self, X)\u001b[0m\n\u001b[1;32m    222\u001b[0m     \u001b[0;32mdef\u001b[0m \u001b[0mmin_obj\u001b[0m\u001b[0;34m(\u001b[0m\u001b[0mself\u001b[0m\u001b[0;34m,\u001b[0m \u001b[0mX\u001b[0m \u001b[0;34m=\u001b[0m \u001b[0;32mNone\u001b[0m\u001b[0;34m)\u001b[0m\u001b[0;34m:\u001b[0m\u001b[0;34m\u001b[0m\u001b[0;34m\u001b[0m\u001b[0m\n\u001b[1;32m    223\u001b[0m         \u001b[0;31m# Minimization objective is the negative acquisition function\u001b[0m\u001b[0;34m\u001b[0m\u001b[0;34m\u001b[0m\u001b[0;34m\u001b[0m\u001b[0m\n\u001b[0;32m--> 224\u001b[0;31m         \u001b[0;32mif\u001b[0m \u001b[0mX\u001b[0m \u001b[0;32mis\u001b[0m \u001b[0;32mNone\u001b[0m\u001b[0;34m:\u001b[0m\u001b[0;34m\u001b[0m\u001b[0;34m\u001b[0m\u001b[0m\n\u001b[0m\u001b[1;32m    225\u001b[0m             \u001b[0;32mreturn\u001b[0m \u001b[0;34m-\u001b[0m\u001b[0mself\u001b[0m\u001b[0;34m.\u001b[0m\u001b[0mexpected_improvement\u001b[0m\u001b[0;34m(\u001b[0m\u001b[0;34m)\u001b[0m\u001b[0;34m\u001b[0m\u001b[0;34m\u001b[0m\u001b[0m\n\u001b[1;32m    226\u001b[0m         \u001b[0;32melse\u001b[0m\u001b[0;34m:\u001b[0m\u001b[0;34m\u001b[0m\u001b[0;34m\u001b[0m\u001b[0m\n",
      "\u001b[0;32m~/Documents/GitHub/BayesianOptimisation/bayesian_hyperparameter_optimisation_3.py\u001b[0m in \u001b[0;36mexpected_improvement\u001b[0;34m(self, X)\u001b[0m\n\u001b[1;32m    245\u001b[0m         \u001b[0;31m# gpr: A GaussianProcessRegressor fitted to samples.\u001b[0m\u001b[0;34m\u001b[0m\u001b[0;34m\u001b[0m\u001b[0;34m\u001b[0m\u001b[0m\n\u001b[1;32m    246\u001b[0m         \u001b[0;31m# xi: Exploitation-exploration trade-off parameter.\u001b[0m\u001b[0;34m\u001b[0m\u001b[0;34m\u001b[0m\u001b[0;34m\u001b[0m\u001b[0m\n\u001b[0;32m--> 247\u001b[0;31m         \u001b[0;31m# .   - xi ~ O(0) => exploitation\u001b[0m\u001b[0;34m\u001b[0m\u001b[0;34m\u001b[0m\u001b[0;34m\u001b[0m\u001b[0m\n\u001b[0m\u001b[1;32m    248\u001b[0m         \u001b[0;31m# .   - xi ~ O(1) => exploration\u001b[0m\u001b[0;34m\u001b[0m\u001b[0;34m\u001b[0m\u001b[0;34m\u001b[0m\u001b[0m\n\u001b[1;32m    249\u001b[0m         \u001b[0;31m# Returns: Expected improvements at points X.\u001b[0m\u001b[0;34m\u001b[0m\u001b[0;34m\u001b[0m\u001b[0;34m\u001b[0m\u001b[0m\n",
      "\u001b[0;32m~/Documents/GitHub/BayesianOptimisation/bayesian_hyperparameter_optimisation_3.py\u001b[0m in \u001b[0;36mparse_obj_inputs\u001b[0;34m(self, continuous_values)\u001b[0m\n\u001b[1;32m    209\u001b[0m             \u001b[0mself\u001b[0m\u001b[0;34m.\u001b[0m\u001b[0mvalues\u001b[0m \u001b[0;34m=\u001b[0m \u001b[0;34m[\u001b[0m\u001b[0;34m]\u001b[0m\u001b[0;34m\u001b[0m\u001b[0;34m\u001b[0m\u001b[0m\n\u001b[1;32m    210\u001b[0m             \u001b[0mdisc_counter\u001b[0m \u001b[0;34m=\u001b[0m \u001b[0;36m0\u001b[0m\u001b[0;34m\u001b[0m\u001b[0;34m\u001b[0m\u001b[0m\n\u001b[0;32m--> 211\u001b[0;31m             \u001b[0mconts_counter\u001b[0m \u001b[0;34m=\u001b[0m \u001b[0;36m0\u001b[0m\u001b[0;34m\u001b[0m\u001b[0;34m\u001b[0m\u001b[0m\n\u001b[0m\u001b[1;32m    212\u001b[0m             \u001b[0;32mfor\u001b[0m \u001b[0mi\u001b[0m\u001b[0;34m,\u001b[0m \u001b[0mhp\u001b[0m \u001b[0;32min\u001b[0m \u001b[0menumerate\u001b[0m\u001b[0;34m(\u001b[0m\u001b[0msorted\u001b[0m\u001b[0;34m(\u001b[0m\u001b[0mself\u001b[0m\u001b[0;34m.\u001b[0m\u001b[0mpars\u001b[0m\u001b[0;34m.\u001b[0m\u001b[0mhps\u001b[0m\u001b[0;34m)\u001b[0m\u001b[0;34m)\u001b[0m\u001b[0;34m:\u001b[0m\u001b[0;34m\u001b[0m\u001b[0;34m\u001b[0m\u001b[0m\n\u001b[1;32m    213\u001b[0m                 \u001b[0;32mif\u001b[0m \u001b[0mself\u001b[0m\u001b[0;34m.\u001b[0m\u001b[0mpars\u001b[0m\u001b[0;34m.\u001b[0m\u001b[0mhps\u001b[0m\u001b[0;34m[\u001b[0m\u001b[0mhp\u001b[0m\u001b[0;34m]\u001b[0m\u001b[0;34m.\u001b[0m\u001b[0mkind\u001b[0m \u001b[0;34m==\u001b[0m \u001b[0;34m'discrete'\u001b[0m\u001b[0;34m:\u001b[0m\u001b[0;34m\u001b[0m\u001b[0;34m\u001b[0m\u001b[0m\n",
      "\u001b[0;31mAttributeError\u001b[0m: 'iteration' object has no attribute 'discrete_values'"
     ]
    }
   ],
   "source": [
    "hps = {\n",
    "    'n_estimators':range(1,20),\n",
    "    'max_depth':range(1,10),\n",
    "    'min_samples_leaf': [0.1,0.5]\n",
    "}\n",
    "\n",
    "# --- Run the Bayesian Optimisation Code\n",
    "MLmodel = RandomForestRegressor(random_state=42)\n",
    "\n",
    "noise = 0.05\n",
    "BOout = BayesianOptimisation(\n",
    "    hps=hps,\n",
    "    MLmodel = MLmodel,\n",
    "    NpI = 5,\n",
    "    Niter = 25,\n",
    "    y_train = y_train,\n",
    "    X_train = X_train,\n",
    "    n_restarts = 10\n",
    ").optimise()"
   ]
  },
  {
   "cell_type": "code",
   "execution_count": 39,
   "metadata": {},
   "outputs": [
    {
     "data": {
      "image/png": "[encoded data removed]",
      "text/plain": [
       "<Figure size 1152x720 with 3 Axes>"
      ]
     },
     "metadata": {
      "needs_background": "dark"
     },
     "output_type": "display_data"
    }
   ],
   "source": [
    "BOout.hyperparameter_convergence_plots()"
   ]
  },
  {
   "cell_type": "markdown",
   "metadata": {},
   "source": [
    "# Using random_search solver for discrete valued hyperparameters"
   ]
  },
  {
   "cell_type": "code",
   "execution_count": 330,
   "metadata": {},
   "outputs": [
    {
     "name": "stderr",
     "output_type": "stream",
     "text": [
      "INFO:root:Will perform 300 iterations\n",
      "INFO:root:Iteration 0\n",
      "INFO:root:Iteration 1\n"
     ]
    },
    {
     "name": "stdout",
     "output_type": "stream",
     "text": [
      "{'max_depth': 8, 'min_samples_leaf': 0.27440565927807453, 'n_estimators': 6} score: 0.09594164228226185\n",
      "{'max_depth': 9, 'min_samples_leaf': 0.15985135233395603, 'n_estimators': 9} score: 0.10075727457284285\n",
      "{'max_depth': 9, 'min_samples_leaf': 0.08695274320038186, 'n_estimators': 2} score: 0.43599580899777035\n",
      "{'max_depth': 7, 'min_samples_leaf': 0.10271071071832248, 'n_estimators': 5} score: 0.40323359539904435\n",
      "{'max_depth': 3, 'min_samples_leaf': 0.4016141661994959, 'n_estimators': 5} score: -0.01172851820884908\n",
      "final res: t[[7.         0.28500027 4.        ]], [-0.39396223]\n",
      "{'max_depth': 7, 'min_samples_leaf': 0.28500026550705804, 'n_estimators': 4} score: 0.08862960576645651\n",
      "current accuracy: 0.08862960576645651\n",
      "best accuracy: 0.43599580899777035\n"
     ]
    },
    {
     "name": "stderr",
     "output_type": "stream",
     "text": [
      "INFO:root:Iteration 2\n",
      "INFO:root:Iteration 3\n"
     ]
    },
    {
     "name": "stdout",
     "output_type": "stream",
     "text": [
      "final res: t[[8.e+00 1.e-03 1.e+00]], [-0.02970913]\n",
      "{'max_depth': 8, 'min_samples_leaf': 0.0010000000000000009, 'n_estimators': 1} score: 0.8134544573126092\n",
      "current accuracy: 0.8134544573126092\n",
      "best accuracy: 0.8134544573126092\n",
      "final res: t[[4.e+00 1.e-03 1.e+00]], [-0.03708396]\n",
      "{'max_depth': 4, 'min_samples_leaf': 0.0010000000000000009, 'n_estimators': 1} score: 0.7375377772617231\n",
      "current accuracy: 0.7375377772617231\n",
      "best accuracy: 0.8134544573126092\n"
     ]
    },
    {
     "name": "stderr",
     "output_type": "stream",
     "text": [
      "INFO:root:Iteration 4\n",
      "INFO:root:Iteration 5\n"
     ]
    },
    {
     "name": "stdout",
     "output_type": "stream",
     "text": [
      "final res: t[[4.e+00 1.e-03 1.e+00]], [-0.03193504]\n",
      "{'max_depth': 4, 'min_samples_leaf': 0.0010000000000000009, 'n_estimators': 1} score: 0.7375377772617231\n",
      "current accuracy: 0.7375377772617231\n",
      "best accuracy: 0.8134544573126092\n",
      "final res: t[[1.    0.001 1.   ]], [-0.02028473]\n",
      "{'max_depth': 1, 'min_samples_leaf': 0.0010000000000000009, 'n_estimators': 1} score: 0.08272679269595332\n",
      "current accuracy: 0.08272679269595332\n",
      "best accuracy: 0.8134544573126092\n",
      "final res: t[[6.e+00 1.e-03 1.e+00]], [-0.08543186]\n"
     ]
    },
    {
     "name": "stderr",
     "output_type": "stream",
     "text": [
      "INFO:root:Iteration 6\n",
      "INFO:root:Iteration 7\n"
     ]
    },
    {
     "name": "stdout",
     "output_type": "stream",
     "text": [
      "{'max_depth': 6, 'min_samples_leaf': 0.001, 'n_estimators': 1} score: 0.826639251994225\n",
      "current accuracy: 0.826639251994225\n",
      "best accuracy: 0.826639251994225\n",
      "final res: t[[6.e+00 1.e-03 1.e+00]], [-0.01913202]\n",
      "{'max_depth': 6, 'min_samples_leaf': 0.0010000000000000009, 'n_estimators': 1} score: 0.826639251994225\n",
      "current accuracy: 0.826639251994225\n",
      "best accuracy: 0.826639251994225\n",
      "final res: t[[5.e+00 1.e-03 9.e+00]], [-0.00130669]\n"
     ]
    },
    {
     "name": "stderr",
     "output_type": "stream",
     "text": [
      "INFO:root:Iteration 8\n",
      "INFO:root:Iteration 9\n"
     ]
    },
    {
     "name": "stdout",
     "output_type": "stream",
     "text": [
      "{'max_depth': 5, 'min_samples_leaf': 0.0009999999999999454, 'n_estimators': 9} score: 0.8364963901229556\n",
      "current accuracy: 0.8364963901229556\n",
      "best accuracy: 0.8364963901229556\n",
      "final res: t[[2.e+00 1.e-03 9.e+00]], [-0.03843516]\n",
      "{'max_depth': 2, 'min_samples_leaf': 0.0010000000000000009, 'n_estimators': 9} score: 0.43882353915942546\n",
      "current accuracy: 0.43882353915942546\n",
      "best accuracy: 0.8364963901229556\n",
      "final res: t[[5.e+00 1.e-03 9.e+00]], [-0.01288374]\n"
     ]
    },
    {
     "name": "stderr",
     "output_type": "stream",
     "text": [
      "INFO:root:Iteration 10\n",
      "INFO:root:Iteration 11\n"
     ]
    },
    {
     "name": "stdout",
     "output_type": "stream",
     "text": [
      "{'max_depth': 5, 'min_samples_leaf': 0.0010000000000000009, 'n_estimators': 9} score: 0.8364963901229556\n",
      "current accuracy: 0.8364963901229556\n",
      "best accuracy: 0.8364963901229556\n",
      "final res: t[[5.  0.5 9. ]], [-0.01056652]\n",
      "{'max_depth': 5, 'min_samples_leaf': 0.5, 'n_estimators': 9} score: -0.010569605254464287\n",
      "current accuracy: -0.010569605254464287\n",
      "best accuracy: 0.8364963901229556\n"
     ]
    },
    {
     "name": "stderr",
     "output_type": "stream",
     "text": [
      "INFO:root:Iteration 12\n"
     ]
    },
    {
     "name": "stdout",
     "output_type": "stream",
     "text": [
      "final res: t[[4.e+00 1.e-03 8.e+00]], [-0.18133954]\n",
      "{'max_depth': 4, 'min_samples_leaf': 0.0010000000000000009, 'n_estimators': 8} score: 0.7817383923885345\n",
      "current accuracy: 0.7817383923885345\n",
      "best accuracy: 0.8364963901229556\n"
     ]
    },
    {
     "name": "stderr",
     "output_type": "stream",
     "text": [
      "INFO:root:Iteration 13\n"
     ]
    },
    {
     "name": "stdout",
     "output_type": "stream",
     "text": [
      "final res: t[[6.e+00 1.e-03 7.e+00]], [-0.19724986]\n",
      "{'max_depth': 6, 'min_samples_leaf': 0.001, 'n_estimators': 7} score: 0.8534690540930964\n",
      "current accuracy: 0.8534690540930964\n",
      "best accuracy: 0.8534690540930964\n",
      "final res: t[[6.e+00 1.e-03 7.e+00]], [-0.03153228]\n"
     ]
    },
    {
     "name": "stderr",
     "output_type": "stream",
     "text": [
      "INFO:root:Iteration 14\n",
      "INFO:root:Iteration 15\n"
     ]
    },
    {
     "name": "stdout",
     "output_type": "stream",
     "text": [
      "{'max_depth': 6, 'min_samples_leaf': 0.0010000000000000009, 'n_estimators': 7} score: 0.8534690540930964\n",
      "current accuracy: 0.8534690540930964\n",
      "best accuracy: 0.8534690540930964\n",
      "final res: t[[6.  0.5 1. ]], [-0.02615563]\n",
      "{'max_depth': 6, 'min_samples_leaf': 0.5, 'n_estimators': 1} score: -0.01911756274176941\n",
      "current accuracy: -0.01911756274176941\n",
      "best accuracy: 0.8534690540930964\n"
     ]
    },
    {
     "name": "stderr",
     "output_type": "stream",
     "text": [
      "INFO:root:Iteration 16\n"
     ]
    },
    {
     "name": "stdout",
     "output_type": "stream",
     "text": [
      "final res: t[[5.e+00 1.e-03 1.e+00]], [-0.22199759]\n",
      "{'max_depth': 5, 'min_samples_leaf': 0.0010000000000000009, 'n_estimators': 1} score: 0.7654392260036406\n",
      "current accuracy: 0.7654392260036406\n",
      "best accuracy: 0.8534690540930964\n",
      "final res: t[[5.e+00 1.e-03 7.e+00]], [-0.16958187]\n"
     ]
    },
    {
     "name": "stderr",
     "output_type": "stream",
     "text": [
      "INFO:root:Iteration 17\n",
      "INFO:root:Iteration 18\n"
     ]
    },
    {
     "name": "stdout",
     "output_type": "stream",
     "text": [
      "{'max_depth': 5, 'min_samples_leaf': 0.001, 'n_estimators': 7} score: 0.837046719025978\n",
      "current accuracy: 0.837046719025978\n",
      "best accuracy: 0.8534690540930964\n",
      "final res: t[[1.e+00 1.e-03 7.e+00]], [-0.08396725]\n",
      "{'max_depth': 1, 'min_samples_leaf': 0.0010000000000000009, 'n_estimators': 7} score: 0.09915909564612083\n",
      "current accuracy: 0.09915909564612083\n",
      "best accuracy: 0.8534690540930964\n"
     ]
    },
    {
     "name": "stderr",
     "output_type": "stream",
     "text": [
      "INFO:root:Iteration 19\n"
     ]
    },
    {
     "name": "stdout",
     "output_type": "stream",
     "text": [
      "final res: t[[4.e+00 1.e-03 3.e+00]], [-0.05938276]\n",
      "{'max_depth': 4, 'min_samples_leaf': 0.001, 'n_estimators': 3} score: 0.7602082601806365\n",
      "current accuracy: 0.7602082601806365\n",
      "best accuracy: 0.8534690540930964\n"
     ]
    },
    {
     "name": "stderr",
     "output_type": "stream",
     "text": [
      "INFO:root:Iteration 20\n"
     ]
    },
    {
     "name": "stdout",
     "output_type": "stream",
     "text": [
      "final res: t[[6.e+00 1.e-03 8.e+00]], [-0.04502167]\n",
      "{'max_depth': 6, 'min_samples_leaf': 0.001, 'n_estimators': 8} score: 0.8585267678580328\n",
      "current accuracy: 0.8585267678580328\n",
      "best accuracy: 0.8585267678580328\n"
     ]
    },
    {
     "name": "stderr",
     "output_type": "stream",
     "text": [
      "INFO:root:Iteration 21\n",
      "INFO:root:Iteration 22\n"
     ]
    },
    {
     "name": "stdout",
     "output_type": "stream",
     "text": [
      "final res: t[[9.e+00 1.e-03 1.e+00]], [-0.04010137]\n",
      "{'max_depth': 9, 'min_samples_leaf': 0.001, 'n_estimators': 1} score: 0.8061935672204796\n",
      "current accuracy: 0.8061935672204796\n",
      "best accuracy: 0.8585267678580328\n",
      "final res: t[[5.e+00 1.e-03 2.e+00]], [-0.02514207]\n",
      "{'max_depth': 5, 'min_samples_leaf': 0.001, 'n_estimators': 2} score: 0.7973119207470744\n",
      "current accuracy: 0.7973119207470744\n",
      "best accuracy: 0.8585267678580328\n"
     ]
    },
    {
     "name": "stderr",
     "output_type": "stream",
     "text": [
      "INFO:root:Iteration 23\n"
     ]
    },
    {
     "name": "stdout",
     "output_type": "stream",
     "text": [
      "final res: t[[6.e+00 1.e-03 8.e+00]], [-0.02354341]\n",
      "{'max_depth': 6, 'min_samples_leaf': 0.0010000000000000009, 'n_estimators': 8} score: 0.8585267678580328\n",
      "current accuracy: 0.8585267678580328\n",
      "best accuracy: 0.8585267678580328\n",
      "final res: t[[5.e+00 1.e-03 6.e+00]], [-0.01297737]\n"
     ]
    },
    {
     "name": "stderr",
     "output_type": "stream",
     "text": [
      "INFO:root:Iteration 24\n",
      "INFO:root:Iteration 25\n"
     ]
    },
    {
     "name": "stdout",
     "output_type": "stream",
     "text": [
      "{'max_depth': 5, 'min_samples_leaf': 0.0010000000000000009, 'n_estimators': 6} score: 0.8400175270016476\n",
      "current accuracy: 0.8400175270016476\n",
      "best accuracy: 0.8585267678580328\n",
      "final res: t[[5.e+00 1.e-03 4.e+00]], [-0.00385817]\n",
      "{'max_depth': 5, 'min_samples_leaf': 0.0010000000000000009, 'n_estimators': 4} score: 0.8265450198910773\n",
      "current accuracy: 0.8265450198910773\n",
      "best accuracy: 0.8585267678580328\n"
     ]
    },
    {
     "name": "stderr",
     "output_type": "stream",
     "text": [
      "INFO:root:Iteration 26\n",
      "INFO:root:Iteration 27\n"
     ]
    },
    {
     "name": "stdout",
     "output_type": "stream",
     "text": [
      "final res: t[[5.e+00 1.e-03 7.e+00]], [-0.01794513]\n",
      "{'max_depth': 5, 'min_samples_leaf': 0.0010000000000000009, 'n_estimators': 7} score: 0.837046719025978\n",
      "current accuracy: 0.837046719025978\n",
      "best accuracy: 0.8585267678580328\n",
      "final res: t[[9.e+00 1.e-03 1.e+00]], [-0.00970986]\n",
      "{'max_depth': 9, 'min_samples_leaf': 0.0010000000000000009, 'n_estimators': 1} score: 0.8061935672204796\n",
      "current accuracy: 0.8061935672204796\n",
      "best accuracy: 0.8585267678580328\n"
     ]
    },
    {
     "name": "stderr",
     "output_type": "stream",
     "text": [
      "INFO:root:Iteration 28\n",
      "INFO:root:Iteration 29\n"
     ]
    },
    {
     "name": "stdout",
     "output_type": "stream",
     "text": [
      "final res: t[[5.e+00 1.e-03 3.e+00]], [-0.00572797]\n",
      "{'max_depth': 5, 'min_samples_leaf': 0.001, 'n_estimators': 3} score: 0.8132778992257981\n",
      "current accuracy: 0.8132778992257981\n",
      "best accuracy: 0.8585267678580328\n",
      "final res: t[[6.e+00 1.e-03 7.e+00]], [-0.01095823]\n",
      "{'max_depth': 6, 'min_samples_leaf': 0.0010000000000000078, 'n_estimators': 7} score: 0.8534690540930964\n",
      "current accuracy: 0.8534690540930964\n",
      "best accuracy: 0.8585267678580328\n"
     ]
    },
    {
     "name": "stderr",
     "output_type": "stream",
     "text": [
      "INFO:root:Iteration 30\n"
     ]
    },
    {
     "name": "stdout",
     "output_type": "stream",
     "text": [
      "final res: t[[6.e+00 1.e-03 8.e+00]], [-0.00975597]\n",
      "{'max_depth': 6, 'min_samples_leaf': 0.001, 'n_estimators': 8} score: 0.8585267678580328\n",
      "current accuracy: 0.8585267678580328\n",
      "best accuracy: 0.8585267678580328\n",
      "final res: t[[5.e+00 1.e-03 7.e+00]], [-0.01460305]\n",
      "{'max_depth': 5, 'min_samples_leaf': 0.0010000000000000009, 'n_estimators': 7} score: 0.837046719025978\n",
      "current accuracy: 0.837046719025978\n",
      "best accuracy: 0.8585267678580328\n"
     ]
    },
    {
     "name": "stderr",
     "output_type": "stream",
     "text": [
      "INFO:root:Iteration 31\n",
      "INFO:root:Iteration 32\n",
      "INFO:root:Iteration 33\n"
     ]
    },
    {
     "name": "stdout",
     "output_type": "stream",
     "text": [
      "final res: t[[5.e+00 1.e-03 8.e+00]], [-0.01196245]\n",
      "{'max_depth': 5, 'min_samples_leaf': 0.0010000000000000009, 'n_estimators': 8} score: 0.8377208745081685\n",
      "current accuracy: 0.8377208745081685\n",
      "best accuracy: 0.8585267678580328\n",
      "final res: t[[5.e+00 1.e-03 2.e+00]], [-0.00495978]\n",
      "{'max_depth': 5, 'min_samples_leaf': 0.0010000000000000009, 'n_estimators': 2} score: 0.7973119207470744\n",
      "current accuracy: 0.7973119207470744\n",
      "best accuracy: 0.8585267678580328\n"
     ]
    },
    {
     "name": "stderr",
     "output_type": "stream",
     "text": [
      "INFO:root:Iteration 34\n"
     ]
    },
    {
     "name": "stdout",
     "output_type": "stream",
     "text": [
      "final res: t[[5.e+00 1.e-03 8.e+00]], [-0.00944318]\n",
      "{'max_depth': 5, 'min_samples_leaf': 0.001, 'n_estimators': 8} score: 0.8377208745081685\n",
      "current accuracy: 0.8377208745081685\n",
      "best accuracy: 0.8585267678580328\n",
      "final res: t[[6.e+00 1.e-03 7.e+00]], [-0.01015956]\n"
     ]
    },
    {
     "name": "stderr",
     "output_type": "stream",
     "text": [
      "INFO:root:Iteration 35\n",
      "INFO:root:Iteration 36\n"
     ]
    },
    {
     "name": "stdout",
     "output_type": "stream",
     "text": [
      "{'max_depth': 6, 'min_samples_leaf': 0.0010000000000000009, 'n_estimators': 7} score: 0.8534690540930964\n",
      "current accuracy: 0.8534690540930964\n",
      "best accuracy: 0.8585267678580328\n",
      "final res: t[[6.e+00 1.e-03 7.e+00]], [-0.00898269]\n",
      "{'max_depth': 6, 'min_samples_leaf': 0.0010000000000000148, 'n_estimators': 7} score: 0.8534690540930964\n",
      "current accuracy: 0.8534690540930964\n",
      "best accuracy: 0.8585267678580328\n"
     ]
    },
    {
     "name": "stderr",
     "output_type": "stream",
     "text": [
      "INFO:root:Iteration 37\n",
      "INFO:root:Iteration 38\n"
     ]
    },
    {
     "name": "stdout",
     "output_type": "stream",
     "text": [
      "final res: t[[5.e+00 1.e-03 3.e+00]], [-0.00265862]\n",
      "{'max_depth': 5, 'min_samples_leaf': 0.0010000000000000009, 'n_estimators': 3} score: 0.8132778992257981\n",
      "current accuracy: 0.8132778992257981\n",
      "best accuracy: 0.8585267678580328\n",
      "final res: t[[4.e+00 1.e-03 2.e+00]], [-0.00252877]\n",
      "{'max_depth': 4, 'min_samples_leaf': 0.001, 'n_estimators': 2} score: 0.73787110369906\n",
      "current accuracy: 0.73787110369906\n",
      "best accuracy: 0.8585267678580328\n",
      "final res: t[[6.e+00 1.e-03 9.e+00]], [-0.0035907]\n"
     ]
    },
    {
     "name": "stderr",
     "output_type": "stream",
     "text": [
      "INFO:root:Iteration 39\n",
      "INFO:root:Iteration 40\n"
     ]
    },
    {
     "name": "stdout",
     "output_type": "stream",
     "text": [
      "{'max_depth': 6, 'min_samples_leaf': 0.001, 'n_estimators': 9} score: 0.856184164055861\n",
      "current accuracy: 0.856184164055861\n",
      "best accuracy: 0.8585267678580328\n",
      "final res: t[[6.e+00 1.e-03 7.e+00]], [-0.00612339]\n",
      "{'max_depth': 6, 'min_samples_leaf': 0.001, 'n_estimators': 7} score: 0.8534690540930964\n",
      "current accuracy: 0.8534690540930964\n",
      "best accuracy: 0.8585267678580328\n"
     ]
    },
    {
     "name": "stderr",
     "output_type": "stream",
     "text": [
      "INFO:root:Iteration 41\n",
      "INFO:root:Iteration 42\n"
     ]
    },
    {
     "name": "stdout",
     "output_type": "stream",
     "text": [
      "final res: t[[6.e+00 1.e-03 8.e+00]], [-0.01133842]\n",
      "{'max_depth': 6, 'min_samples_leaf': 0.0010000000000000009, 'n_estimators': 8} score: 0.8585267678580328\n",
      "current accuracy: 0.8585267678580328\n",
      "best accuracy: 0.8585267678580328\n",
      "final res: t[[5.e+00 1.e-03 4.e+00]], [-0.00202199]\n",
      "{'max_depth': 5, 'min_samples_leaf': 0.0010000000000000009, 'n_estimators': 4} score: 0.8265450198910773\n",
      "current accuracy: 0.8265450198910773\n",
      "best accuracy: 0.8585267678580328\n"
     ]
    },
    {
     "name": "stderr",
     "output_type": "stream",
     "text": [
      "INFO:root:Iteration 43\n",
      "INFO:root:Iteration 44\n"
     ]
    },
    {
     "name": "stdout",
     "output_type": "stream",
     "text": [
      "final res: t[[9.e+00 1.e-03 1.e+00]], [-0.00503169]\n",
      "{'max_depth': 9, 'min_samples_leaf': 0.0010000000000000009, 'n_estimators': 1} score: 0.8061935672204796\n",
      "current accuracy: 0.8061935672204796\n",
      "best accuracy: 0.8585267678580328\n",
      "final res: t[[5.e+00 1.e-03 7.e+00]], [-0.00845466]\n",
      "{'max_depth': 5, 'min_samples_leaf': 0.0010000000000000009, 'n_estimators': 7} score: 0.837046719025978\n",
      "current accuracy: 0.837046719025978\n",
      "best accuracy: 0.8585267678580328\n"
     ]
    },
    {
     "name": "stderr",
     "output_type": "stream",
     "text": [
      "INFO:root:Iteration 45\n"
     ]
    },
    {
     "name": "stdout",
     "output_type": "stream",
     "text": [
      "final res: t[[6.e+00 1.e-03 8.e+00]], [-0.01021143]\n",
      "{'max_depth': 6, 'min_samples_leaf': 0.0010000000000000009, 'n_estimators': 8} score: 0.8585267678580328\n",
      "current accuracy: 0.8585267678580328\n",
      "best accuracy: 0.8585267678580328\n",
      "final res: t[[5.e+00 1.e-03 5.e+00]], [-0.00357011]\n",
      "{'max_depth': 5, 'min_samples_leaf': 0.0010000000000000009, 'n_estimators': 5} score: 0.8367610139524462\n",
      "current accuracy: 0.8367610139524462\n",
      "best accuracy: 0.8585267678580328\n"
     ]
    },
    {
     "name": "stderr",
     "output_type": "stream",
     "text": [
      "INFO:root:Iteration 46\n",
      "INFO:root:Iteration 47\n",
      "INFO:root:Iteration 48\n"
     ]
    },
    {
     "name": "stdout",
     "output_type": "stream",
     "text": [
      "final res: t[[1.e+00 1.e-03 3.e+00]], [-5.12967452e-05]\n",
      "{'max_depth': 1, 'min_samples_leaf': 0.0010000000000000009, 'n_estimators': 3} score: 0.09903638230737537\n",
      "current accuracy: 0.09903638230737537\n",
      "best accuracy: 0.8585267678580328\n",
      "final res: t[[5.e+00 1.e-03 8.e+00]], [-0.00509562]\n",
      "{'max_depth': 5, 'min_samples_leaf': 0.0010000000000000009, 'n_estimators': 8} score: 0.8377208745081685\n",
      "current accuracy: 0.8377208745081685\n",
      "best accuracy: 0.8585267678580328\n",
      "final res: t[[4.e+00 1.e-03 3.e+00]], [-0.00066178]\n"
     ]
    },
    {
     "name": "stderr",
     "output_type": "stream",
     "text": [
      "INFO:root:Iteration 49\n",
      "INFO:root:Iteration 50\n",
      "INFO:root:Iteration 51\n"
     ]
    },
    {
     "name": "stdout",
     "output_type": "stream",
     "text": [
      "{'max_depth': 4, 'min_samples_leaf': 0.000999999999999987, 'n_estimators': 3} score: 0.7602082601806365\n",
      "current accuracy: 0.7602082601806365\n",
      "best accuracy: 0.8585267678580328\n",
      "final res: t[[9.e+00 1.e-03 1.e+00]], [-0.00303216]\n",
      "{'max_depth': 9, 'min_samples_leaf': 0.0010000000000000009, 'n_estimators': 1} score: 0.8061935672204796\n",
      "current accuracy: 0.8061935672204796\n",
      "best accuracy: 0.8585267678580328\n",
      "final res: t[[5.e+00 1.e-03 7.e+00]], [-0.00693809]\n",
      "{'max_depth': 5, 'min_samples_leaf': 0.001, 'n_estimators': 7} score: 0.837046719025978\n",
      "current accuracy: 0.837046719025978\n",
      "best accuracy: 0.8585267678580328\n"
     ]
    },
    {
     "name": "stderr",
     "output_type": "stream",
     "text": [
      "INFO:root:Iteration 52\n",
      "INFO:root:Iteration 53\n"
     ]
    },
    {
     "name": "stdout",
     "output_type": "stream",
     "text": [
      "final res: t[[6.e+00 1.e-03 8.e+00]], [-0.00887033]\n",
      "{'max_depth': 6, 'min_samples_leaf': 0.0010000000000000009, 'n_estimators': 8} score: 0.8585267678580328\n",
      "current accuracy: 0.8585267678580328\n",
      "best accuracy: 0.8585267678580328\n",
      "final res: t[[6.e+00 1.e-03 7.e+00]], [-0.00593126]\n",
      "{'max_depth': 6, 'min_samples_leaf': 0.001, 'n_estimators': 7} score: 0.8534690540930964\n",
      "current accuracy: 0.8534690540930964\n",
      "best accuracy: 0.8585267678580328\n"
     ]
    },
    {
     "name": "stderr",
     "output_type": "stream",
     "text": [
      "INFO:root:Iteration 54\n",
      "INFO:root:Iteration 55\n"
     ]
    },
    {
     "name": "stdout",
     "output_type": "stream",
     "text": [
      "final res: t[[6.e+00 1.e-03 8.e+00]], [-0.00809152]\n",
      "{'max_depth': 6, 'min_samples_leaf': 0.001, 'n_estimators': 8} score: 0.8585267678580328\n",
      "current accuracy: 0.8585267678580328\n",
      "best accuracy: 0.8585267678580328\n",
      "final res: t[[5.e+00 1.e-03 7.e+00]], [-0.00575795]\n",
      "{'max_depth': 5, 'min_samples_leaf': 0.001, 'n_estimators': 7} score: 0.837046719025978\n",
      "current accuracy: 0.837046719025978\n",
      "best accuracy: 0.8585267678580328\n"
     ]
    },
    {
     "name": "stderr",
     "output_type": "stream",
     "text": [
      "INFO:root:Iteration 56\n",
      "INFO:root:Iteration 57\n"
     ]
    },
    {
     "name": "stdout",
     "output_type": "stream",
     "text": [
      "final res: t[[9.        0.4722513 1.       ]], [-1.93308348e-05]\n",
      "{'max_depth': 9, 'min_samples_leaf': 0.47225129595591997, 'n_estimators': 1} score: -0.01911756274176941\n",
      "current accuracy: -0.01911756274176941\n",
      "best accuracy: 0.8585267678580328\n",
      "final res: t[[6.e+00 1.e-03 4.e+00]], [-7.74630524e-05]\n",
      "{'max_depth': 6, 'min_samples_leaf': 0.0010000000000000026, 'n_estimators': 4} score: 0.8504203292130808\n",
      "current accuracy: 0.8504203292130808\n",
      "best accuracy: 0.8585267678580328\n",
      "final res: t[[7.e+00 1.e-03 9.e+00]], [-0.00131748]\n"
     ]
    },
    {
     "name": "stderr",
     "output_type": "stream",
     "text": [
      "INFO:root:Iteration 58\n",
      "INFO:root:Iteration 59\n"
     ]
    },
    {
     "name": "stdout",
     "output_type": "stream",
     "text": [
      "{'max_depth': 7, 'min_samples_leaf': 0.001, 'n_estimators': 9} score: 0.8702316101168723\n",
      "current accuracy: 0.8702316101168723\n",
      "best accuracy: 0.8702316101168723\n",
      "final res: t[[5.e+00 1.e-03 1.e+00]], [-0.00031744]\n",
      "{'max_depth': 5, 'min_samples_leaf': 0.0010000000000000009, 'n_estimators': 1} score: 0.7654392260036406\n",
      "current accuracy: 0.7654392260036406\n",
      "best accuracy: 0.8702316101168723\n",
      "final res: t[[7.e+00 1.e-03 9.e+00]], [-0.00257667]\n",
      "{'max_depth': 7, 'min_samples_leaf': 0.0010000000000000009, 'n_estimators': 9} score: 0.8702316101168723\n",
      "current accuracy: 0.8702316101168723\n",
      "best accuracy: 0.8702316101168723\n"
     ]
    },
    {
     "name": "stderr",
     "output_type": "stream",
     "text": [
      "INFO:root:Iteration 60\n",
      "INFO:root:Iteration 61\n",
      "INFO:root:Iteration 62\n"
     ]
    },
    {
     "name": "stdout",
     "output_type": "stream",
     "text": [
      "final res: t[[6.e+00 1.e-03 9.e+00]], [-0.00852949]\n",
      "{'max_depth': 6, 'min_samples_leaf': 0.001, 'n_estimators': 9} score: 0.856184164055861\n",
      "current accuracy: 0.856184164055861\n",
      "best accuracy: 0.8702316101168723\n",
      "final res: t[[7.e+00 1.e-03 9.e+00]], [-0.00282188]\n",
      "{'max_depth': 7, 'min_samples_leaf': 0.001, 'n_estimators': 9} score: 0.8702316101168723\n",
      "current accuracy: 0.8702316101168723\n",
      "best accuracy: 0.8702316101168723\n"
     ]
    },
    {
     "name": "stderr",
     "output_type": "stream",
     "text": [
      "INFO:root:Iteration 63\n",
      "INFO:root:Iteration 64\n"
     ]
    },
    {
     "name": "stdout",
     "output_type": "stream",
     "text": [
      "final res: t[[4.e+00 1.e-03 5.e+00]], [-7.48642744e-05]\n",
      "{'max_depth': 4, 'min_samples_leaf': 0.000999999999999994, 'n_estimators': 5} score: 0.7821243171646726\n",
      "current accuracy: 0.7821243171646726\n",
      "best accuracy: 0.8702316101168723\n",
      "final res: t[[6.e+00 1.e-03 8.e+00]], [-0.00674597]\n",
      "{'max_depth': 6, 'min_samples_leaf': 0.001, 'n_estimators': 8} score: 0.8585267678580328\n",
      "current accuracy: 0.8585267678580328\n",
      "best accuracy: 0.8702316101168723\n",
      "final res: t[[5.e+00 1.e-03 7.e+00]], [-0.00138577]\n"
     ]
    },
    {
     "name": "stderr",
     "output_type": "stream",
     "text": [
      "INFO:root:Iteration 65\n",
      "INFO:root:Iteration 66\n"
     ]
    },
    {
     "name": "stdout",
     "output_type": "stream",
     "text": [
      "{'max_depth': 5, 'min_samples_leaf': 0.001, 'n_estimators': 7} score: 0.837046719025978\n",
      "current accuracy: 0.837046719025978\n",
      "best accuracy: 0.8702316101168723\n",
      "final res: t[[6.e+00 1.e-03 8.e+00]], [-0.00636188]\n",
      "{'max_depth': 6, 'min_samples_leaf': 0.0010000000000000009, 'n_estimators': 8} score: 0.8585267678580328\n",
      "current accuracy: 0.8585267678580328\n",
      "best accuracy: 0.8702316101168723\n",
      "final res: t[[5.e+00 1.e-03 4.e+00]], [-0.00164507]\n"
     ]
    },
    {
     "name": "stderr",
     "output_type": "stream",
     "text": [
      "INFO:root:Iteration 67\n",
      "INFO:root:Iteration 68\n"
     ]
    },
    {
     "name": "stdout",
     "output_type": "stream",
     "text": [
      "{'max_depth': 5, 'min_samples_leaf': 0.001, 'n_estimators': 4} score: 0.8265450198910773\n",
      "current accuracy: 0.8265450198910773\n",
      "best accuracy: 0.8702316101168723\n",
      "final res: t[[5.e+00 1.e-03 6.e+00]], [-0.00274822]\n",
      "{'max_depth': 5, 'min_samples_leaf': 0.001, 'n_estimators': 6} score: 0.8400175270016476\n",
      "current accuracy: 0.8400175270016476\n",
      "best accuracy: 0.8702316101168723\n",
      "final res: t[[6.e+00 1.e-03 4.e+00]], [-5.04024234e-05]\n",
      "{'max_depth': 6, 'min_samples_leaf': 0.0010000000000000009, 'n_estimators': 4} score: 0.8504203292130808\n",
      "current accuracy: 0.8504203292130808\n",
      "best accuracy: 0.8702316101168723\n"
     ]
    },
    {
     "name": "stderr",
     "output_type": "stream",
     "text": [
      "INFO:root:Iteration 69\n",
      "INFO:root:Iteration 70\n",
      "INFO:root:Iteration 71\n"
     ]
    },
    {
     "name": "stdout",
     "output_type": "stream",
     "text": [
      "final res: t[[6.         0.14781277 9.        ]], [-2.09576401e-07]\n",
      "{'max_depth': 6, 'min_samples_leaf': 0.14781276722443198, 'n_estimators': 9} score: 0.1006921364849297\n",
      "current accuracy: 0.1006921364849297\n",
      "best accuracy: 0.8702316101168723\n",
      "final res: t[[7.e+00 1.e-03 8.e+00]], [-0.00633557]\n",
      "{'max_depth': 7, 'min_samples_leaf': 0.0010000000000000009, 'n_estimators': 8} score: 0.8722919557728218\n",
      "current accuracy: 0.8722919557728218\n",
      "best accuracy: 0.8722919557728218\n"
     ]
    },
    {
     "name": "stderr",
     "output_type": "stream",
     "text": [
      "INFO:root:Iteration 72\n",
      "INFO:root:Iteration 73\n"
     ]
    },
    {
     "name": "stdout",
     "output_type": "stream",
     "text": [
      "final res: t[[5.e+00 1.e-03 7.e+00]], [-0.00270908]\n",
      "{'max_depth': 5, 'min_samples_leaf': 0.0010000000000000009, 'n_estimators': 7} score: 0.837046719025978\n",
      "current accuracy: 0.837046719025978\n",
      "best accuracy: 0.8722919557728218\n",
      "final res: t[[5.e+00 1.e-03 6.e+00]], [-0.00404508]\n",
      "{'max_depth': 5, 'min_samples_leaf': 0.0010000000000000009, 'n_estimators': 6} score: 0.8400175270016476\n",
      "current accuracy: 0.8400175270016476\n",
      "best accuracy: 0.8722919557728218\n"
     ]
    },
    {
     "name": "stderr",
     "output_type": "stream",
     "text": [
      "INFO:root:Iteration 74\n",
      "INFO:root:Iteration 75\n"
     ]
    },
    {
     "name": "stdout",
     "output_type": "stream",
     "text": [
      "final res: t[[6.e+00 1.e-03 8.e+00]], [-0.0060822]\n",
      "{'max_depth': 6, 'min_samples_leaf': 0.001, 'n_estimators': 8} score: 0.8585267678580328\n",
      "current accuracy: 0.8585267678580328\n",
      "best accuracy: 0.8722919557728218\n",
      "final res: t[[6.e+00 1.e-03 8.e+00]], [-0.00577484]\n",
      "{'max_depth': 6, 'min_samples_leaf': 0.0010000000000000009, 'n_estimators': 8} score: 0.8585267678580328\n",
      "current accuracy: 0.8585267678580328\n",
      "best accuracy: 0.8722919557728218\n"
     ]
    },
    {
     "name": "stderr",
     "output_type": "stream",
     "text": [
      "INFO:root:Iteration 76\n",
      "INFO:root:Iteration 77\n"
     ]
    },
    {
     "name": "stdout",
     "output_type": "stream",
     "text": [
      "final res: t[[6.e+00 1.e-03 6.e+00]], [-0.00291247]\n",
      "{'max_depth': 6, 'min_samples_leaf': 0.0010000000000000009, 'n_estimators': 6} score: 0.8542301603354392\n",
      "current accuracy: 0.8542301603354392\n",
      "best accuracy: 0.8722919557728218\n",
      "final res: t[[1.e+00 1.e-03 9.e+00]], [-6.78669272e-05]\n",
      "{'max_depth': 1, 'min_samples_leaf': 0.0010000000000000009, 'n_estimators': 9} score: 0.10079714362756483\n",
      "current accuracy: 0.10079714362756483\n",
      "best accuracy: 0.8722919557728218\n"
     ]
    },
    {
     "name": "stderr",
     "output_type": "stream",
     "text": [
      "INFO:root:Iteration 78\n",
      "INFO:root:Iteration 79\n"
     ]
    },
    {
     "name": "stdout",
     "output_type": "stream",
     "text": [
      "final res: t[[6.e+00 1.e-03 8.e+00]], [-0.00528674]\n",
      "{'max_depth': 6, 'min_samples_leaf': 0.001, 'n_estimators': 8} score: 0.8585267678580328\n",
      "current accuracy: 0.8585267678580328\n",
      "best accuracy: 0.8722919557728218\n",
      "final res: t[[7.e+00 1.e-03 8.e+00]], [-0.00820102]\n",
      "{'max_depth': 7, 'min_samples_leaf': 0.0010000000000000009, 'n_estimators': 8} score: 0.8722919557728218\n",
      "current accuracy: 0.8722919557728218\n",
      "best accuracy: 0.8722919557728218\n"
     ]
    },
    {
     "name": "stderr",
     "output_type": "stream",
     "text": [
      "INFO:root:Iteration 80\n"
     ]
    },
    {
     "name": "stdout",
     "output_type": "stream",
     "text": [
      "final res: t[[7.e+00 1.e-03 9.e+00]], [-0.00136602]\n",
      "{'max_depth': 7, 'min_samples_leaf': 0.0010000000000000148, 'n_estimators': 9} score: 0.8702316101168723\n",
      "current accuracy: 0.8702316101168723\n",
      "best accuracy: 0.8722919557728218\n",
      "final res: t[[7.e+00 1.e-03 9.e+00]], [-0.00185861]\n"
     ]
    },
    {
     "name": "stderr",
     "output_type": "stream",
     "text": [
      "INFO:root:Iteration 81\n",
      "INFO:root:Iteration 82\n",
      "INFO:root:Iteration 83\n"
     ]
    },
    {
     "name": "stdout",
     "output_type": "stream",
     "text": [
      "{'max_depth': 7, 'min_samples_leaf': 0.0010000000000000009, 'n_estimators': 9} score: 0.8702316101168723\n",
      "current accuracy: 0.8702316101168723\n",
      "best accuracy: 0.8722919557728218\n",
      "final res: t[[6.e+00 1.e-03 3.e+00]], [-0.00204768]\n",
      "{'max_depth': 6, 'min_samples_leaf': 0.001, 'n_estimators': 3} score: 0.84208615845852\n",
      "current accuracy: 0.84208615845852\n",
      "best accuracy: 0.8722919557728218\n",
      "final res: t[[3.         0.28530274 2.        ]], [-1.29409516e-06]\n",
      "{'max_depth': 3, 'min_samples_leaf': 0.28530274443386006, 'n_estimators': 2} score: 0.08748894017490812\n",
      "current accuracy: 0.08748894017490812\n",
      "best accuracy: 0.8722919557728218\n"
     ]
    },
    {
     "name": "stderr",
     "output_type": "stream",
     "text": [
      "INFO:root:Iteration 84\n",
      "INFO:root:Iteration 85\n"
     ]
    },
    {
     "name": "stdout",
     "output_type": "stream",
     "text": [
      "final res: t[[6.e+00 1.e-03 8.e+00]], [-0.00502729]\n",
      "{'max_depth': 6, 'min_samples_leaf': 0.001, 'n_estimators': 8} score: 0.8585267678580328\n",
      "current accuracy: 0.8585267678580328\n",
      "best accuracy: 0.8722919557728218\n",
      "final res: t[[3.e+00 1.e-03 9.e+00]], [-0.00032894]\n",
      "{'max_depth': 3, 'min_samples_leaf': 0.0010000000000000009, 'n_estimators': 9} score: 0.6423234629428666\n",
      "current accuracy: 0.6423234629428666\n",
      "best accuracy: 0.8722919557728218\n"
     ]
    },
    {
     "name": "stderr",
     "output_type": "stream",
     "text": [
      "INFO:root:Iteration 86\n",
      "INFO:root:Iteration 87\n"
     ]
    },
    {
     "name": "stdout",
     "output_type": "stream",
     "text": [
      "final res: t[[8.e+00 1.e-03 1.e+00]], [-0.00426169]\n",
      "{'max_depth': 8, 'min_samples_leaf': 0.001, 'n_estimators': 1} score: 0.8134544573126092\n",
      "current accuracy: 0.8134544573126092\n",
      "best accuracy: 0.8722919557728218\n",
      "final res: t[[7.e+00 1.e-03 8.e+00]], [-0.00936707]\n",
      "{'max_depth': 7, 'min_samples_leaf': 0.0010000000000000009, 'n_estimators': 8} score: 0.8722919557728218\n",
      "current accuracy: 0.8722919557728218\n",
      "best accuracy: 0.8722919557728218\n"
     ]
    },
    {
     "name": "stderr",
     "output_type": "stream",
     "text": [
      "INFO:root:Iteration 88\n",
      "INFO:root:Iteration 89\n"
     ]
    },
    {
     "name": "stdout",
     "output_type": "stream",
     "text": [
      "final res: t[[8.e+00 1.e-03 1.e+00]], [-0.0026456]\n",
      "{'max_depth': 8, 'min_samples_leaf': 0.001, 'n_estimators': 1} score: 0.8134544573126092\n",
      "current accuracy: 0.8134544573126092\n",
      "best accuracy: 0.8722919557728218\n",
      "final res: t[[7.e+00 1.e-03 8.e+00]], [-0.00895388]\n",
      "{'max_depth': 7, 'min_samples_leaf': 0.0010000000000000009, 'n_estimators': 8} score: 0.8722919557728218\n",
      "current accuracy: 0.8722919557728218\n",
      "best accuracy: 0.8722919557728218\n"
     ]
    },
    {
     "name": "stderr",
     "output_type": "stream",
     "text": [
      "INFO:root:Iteration 90\n",
      "INFO:root:Iteration 91\n"
     ]
    },
    {
     "name": "stdout",
     "output_type": "stream",
     "text": [
      "final res: t[[7.e+00 1.e-03 9.e+00]], [-0.00156995]\n",
      "{'max_depth': 7, 'min_samples_leaf': 0.0010000000000000009, 'n_estimators': 9} score: 0.8702316101168723\n",
      "current accuracy: 0.8702316101168723\n",
      "best accuracy: 0.8722919557728218\n",
      "final res: t[[6.e+00 1.e-03 7.e+00]], [-0.00476759]\n",
      "{'max_depth': 6, 'min_samples_leaf': 0.001, 'n_estimators': 7} score: 0.8534690540930964\n",
      "current accuracy: 0.8534690540930964\n",
      "best accuracy: 0.8722919557728218\n"
     ]
    },
    {
     "name": "stderr",
     "output_type": "stream",
     "text": [
      "INFO:root:Iteration 92\n",
      "INFO:root:Iteration 93\n"
     ]
    },
    {
     "name": "stdout",
     "output_type": "stream",
     "text": [
      "final res: t[[6.e+00 1.e-03 7.e+00]], [-0.00438903]\n",
      "{'max_depth': 6, 'min_samples_leaf': 0.000999999999999994, 'n_estimators': 7} score: 0.8534690540930964\n",
      "current accuracy: 0.8534690540930964\n",
      "best accuracy: 0.8722919557728218\n",
      "final res: t[[5.e+00 1.e-03 3.e+00]], [-0.0044645]\n",
      "{'max_depth': 5, 'min_samples_leaf': 0.0010000000000000009, 'n_estimators': 3} score: 0.8132778992257981\n",
      "current accuracy: 0.8132778992257981\n",
      "best accuracy: 0.8722919557728218\n"
     ]
    },
    {
     "name": "stderr",
     "output_type": "stream",
     "text": [
      "INFO:root:Iteration 94\n",
      "INFO:root:Iteration 95\n"
     ]
    },
    {
     "name": "stdout",
     "output_type": "stream",
     "text": [
      "final res: t[[6.e+00 1.e-03 3.e+00]], [-0.00183725]\n",
      "{'max_depth': 6, 'min_samples_leaf': 0.0010000000000000009, 'n_estimators': 3} score: 0.84208615845852\n",
      "current accuracy: 0.84208615845852\n",
      "best accuracy: 0.8722919557728218\n",
      "final res: t[[5.e+00 1.e-03 3.e+00]], [-0.00333617]\n",
      "{'max_depth': 5, 'min_samples_leaf': 0.001, 'n_estimators': 3} score: 0.8132778992257981\n",
      "current accuracy: 0.8132778992257981\n",
      "best accuracy: 0.8722919557728218\n",
      "final res: t[[5.e+00 1.e-03 5.e+00]], [-0.00468856]\n"
     ]
    },
    {
     "name": "stderr",
     "output_type": "stream",
     "text": [
      "INFO:root:Iteration 96\n",
      "INFO:root:Iteration 97\n"
     ]
    },
    {
     "name": "stdout",
     "output_type": "stream",
     "text": [
      "{'max_depth': 5, 'min_samples_leaf': 0.001, 'n_estimators': 5} score: 0.8367610139524462\n",
      "current accuracy: 0.8367610139524462\n",
      "best accuracy: 0.8722919557728218\n",
      "final res: t[[7.e+00 1.e-03 8.e+00]], [-0.00857155]\n",
      "{'max_depth': 7, 'min_samples_leaf': 0.001, 'n_estimators': 8} score: 0.8722919557728218\n",
      "current accuracy: 0.8722919557728218\n",
      "best accuracy: 0.8722919557728218\n",
      "final res: t[[7.e+00 1.e-03 8.e+00]], [-0.00821028]\n"
     ]
    },
    {
     "name": "stderr",
     "output_type": "stream",
     "text": [
      "INFO:root:Iteration 98\n",
      "INFO:root:Iteration 99\n"
     ]
    },
    {
     "name": "stdout",
     "output_type": "stream",
     "text": [
      "{'max_depth': 7, 'min_samples_leaf': 0.001, 'n_estimators': 8} score: 0.8722919557728218\n",
      "current accuracy: 0.8722919557728218\n",
      "best accuracy: 0.8722919557728218\n",
      "final res: t[[5.e+00 1.e-03 6.e+00]], [-0.00227107]\n",
      "{'max_depth': 5, 'min_samples_leaf': 0.001, 'n_estimators': 6} score: 0.8400175270016476\n",
      "current accuracy: 0.8400175270016476\n",
      "best accuracy: 0.8722919557728218\n",
      "final res: t[[5.e+00 1.e-03 4.e+00]], [-0.0038167]\n"
     ]
    },
    {
     "name": "stderr",
     "output_type": "stream",
     "text": [
      "INFO:root:Iteration 100\n",
      "INFO:root:Iteration 101\n",
      "INFO:root:Iteration 102\n"
     ]
    },
    {
     "name": "stdout",
     "output_type": "stream",
     "text": [
      "{'max_depth': 5, 'min_samples_leaf': 0.0010000000000000009, 'n_estimators': 4} score: 0.8265450198910773\n",
      "current accuracy: 0.8265450198910773\n",
      "best accuracy: 0.8722919557728218\n",
      "final res: t[[4.e+00 1.e-03 8.e+00]], [-0.00057141]\n",
      "{'max_depth': 4, 'min_samples_leaf': 0.0010000000000000009, 'n_estimators': 8} score: 0.7817383923885345\n",
      "current accuracy: 0.7817383923885345\n",
      "best accuracy: 0.8722919557728218\n",
      "final res: t[[7.e+00 1.e-03 1.e+00]], [-0.00294978]\n",
      "{'max_depth': 7, 'min_samples_leaf': 0.001, 'n_estimators': 1} score: 0.816176527961867\n",
      "current accuracy: 0.816176527961867\n",
      "best accuracy: 0.8722919557728218\n"
     ]
    },
    {
     "name": "stderr",
     "output_type": "stream",
     "text": [
      "INFO:root:Iteration 103\n",
      "INFO:root:Iteration 104\n"
     ]
    },
    {
     "name": "stdout",
     "output_type": "stream",
     "text": [
      "final res: t[[7.e+00 1.e-03 1.e+00]], [-0.00196307]\n",
      "{'max_depth': 7, 'min_samples_leaf': 0.0010000000000000009, 'n_estimators': 1} score: 0.816176527961867\n",
      "current accuracy: 0.816176527961867\n",
      "best accuracy: 0.8722919557728218\n",
      "final res: t[[7.e+00 1.e-03 8.e+00]], [-0.00755088]\n",
      "{'max_depth': 7, 'min_samples_leaf': 0.001, 'n_estimators': 8} score: 0.8722919557728218\n",
      "current accuracy: 0.8722919557728218\n",
      "best accuracy: 0.8722919557728218\n",
      "final res: t[[4.e+00 1.e-03 1.e+00]], [-9.34264504e-06]\n",
      "{'max_depth': 4, 'min_samples_leaf': 0.001, 'n_estimators': 1} score: 0.7375377772617231\n",
      "current accuracy: 0.7375377772617231\n",
      "best accuracy: 0.8722919557728218\n"
     ]
    },
    {
     "name": "stderr",
     "output_type": "stream",
     "text": [
      "INFO:root:Iteration 105\n",
      "INFO:root:Iteration 106\n",
      "INFO:root:Iteration 107\n"
     ]
    },
    {
     "name": "stdout",
     "output_type": "stream",
     "text": [
      "final res: t[[6.e+00 1.e-03 2.e+00]], [-0.00394311]\n",
      "{'max_depth': 6, 'min_samples_leaf': 0.0010000000000000009, 'n_estimators': 2} score: 0.8410277690329225\n",
      "current accuracy: 0.8410277690329225\n",
      "best accuracy: 0.8722919557728218\n",
      "final res: t[[6.e+00 1.e-03 3.e+00]], [-0.00112621]\n",
      "{'max_depth': 6, 'min_samples_leaf': 0.001, 'n_estimators': 3} score: 0.84208615845852\n",
      "current accuracy: 0.84208615845852\n",
      "best accuracy: 0.8722919557728218\n",
      "final res: t[[3.         0.15471321 8.        ]], [-2.11686125e-07]\n"
     ]
    },
    {
     "name": "stderr",
     "output_type": "stream",
     "text": [
      "INFO:root:Iteration 108\n",
      "INFO:root:Iteration 109\n"
     ]
    },
    {
     "name": "stdout",
     "output_type": "stream",
     "text": [
      "{'max_depth': 3, 'min_samples_leaf': 0.154713214243883, 'n_estimators': 8} score: 0.10028120877555972\n",
      "current accuracy: 0.10028120877555972\n",
      "best accuracy: 0.8722919557728218\n",
      "final res: t[[5.e+00 1.e-03 6.e+00]], [-0.00152901]\n",
      "{'max_depth': 5, 'min_samples_leaf': 0.0010000000000000009, 'n_estimators': 6} score: 0.8400175270016476\n",
      "current accuracy: 0.8400175270016476\n",
      "best accuracy: 0.8722919557728218\n",
      "final res: t[[7.e+00 1.e-03 3.e+00]], [-2.96957398e-05]\n"
     ]
    },
    {
     "name": "stderr",
     "output_type": "stream",
     "text": [
      "INFO:root:Iteration 110\n",
      "INFO:root:Iteration 111\n"
     ]
    },
    {
     "name": "stdout",
     "output_type": "stream",
     "text": [
      "{'max_depth': 7, 'min_samples_leaf': 0.0009999999999999992, 'n_estimators': 3} score: 0.8511314199371329\n",
      "current accuracy: 0.8511314199371329\n",
      "best accuracy: 0.8722919557728218\n",
      "final res: t[[7.e+00 1.e-03 7.e+00]], [-0.00026897]\n",
      "{'max_depth': 7, 'min_samples_leaf': 0.0010000000000000009, 'n_estimators': 7} score: 0.8680321664264559\n",
      "current accuracy: 0.8680321664264559\n",
      "best accuracy: 0.8722919557728218\n",
      "final res: t[[6.e+00 1.e-03 8.e+00]], [-0.00425481]\n"
     ]
    },
    {
     "name": "stderr",
     "output_type": "stream",
     "text": [
      "INFO:root:Iteration 112\n",
      "INFO:root:Iteration 113\n"
     ]
    },
    {
     "name": "stdout",
     "output_type": "stream",
     "text": [
      "{'max_depth': 6, 'min_samples_leaf': 0.001, 'n_estimators': 8} score: 0.8585267678580328\n",
      "current accuracy: 0.8585267678580328\n",
      "best accuracy: 0.8722919557728218\n",
      "final res: t[[8.e+00 1.e-03 8.e+00]], [-0.00016739]\n",
      "{'max_depth': 8, 'min_samples_leaf': 0.0010000000000000009, 'n_estimators': 8} score: 0.8755415565641732\n",
      "current accuracy: 0.8755415565641732\n",
      "best accuracy: 0.8755415565641732\n",
      "final res: t[[6.e+00 1.e-03 2.e+00]], [-0.00368311]\n"
     ]
    },
    {
     "name": "stderr",
     "output_type": "stream",
     "text": [
      "INFO:root:Iteration 114\n",
      "INFO:root:Iteration 115\n"
     ]
    },
    {
     "name": "stdout",
     "output_type": "stream",
     "text": [
      "{'max_depth': 6, 'min_samples_leaf': 0.001, 'n_estimators': 2} score: 0.8410277690329225\n",
      "current accuracy: 0.8410277690329225\n",
      "best accuracy: 0.8755415565641732\n",
      "final res: t[[5.e+00 1.e-03 6.e+00]], [-0.00039834]\n",
      "{'max_depth': 5, 'min_samples_leaf': 0.001, 'n_estimators': 6} score: 0.8400175270016476\n",
      "current accuracy: 0.8400175270016476\n",
      "best accuracy: 0.8755415565641732\n"
     ]
    },
    {
     "name": "stderr",
     "output_type": "stream",
     "text": [
      "INFO:root:Iteration 116\n",
      "INFO:root:Iteration 117\n"
     ]
    },
    {
     "name": "stdout",
     "output_type": "stream",
     "text": [
      "final res: t[[5.e+00 1.e-03 2.e+00]], [-0.0002659]\n",
      "{'max_depth': 5, 'min_samples_leaf': 0.0010000000000000009, 'n_estimators': 2} score: 0.7973119207470744\n",
      "current accuracy: 0.7973119207470744\n",
      "best accuracy: 0.8755415565641732\n",
      "final res: t[[6.e+00 1.e-03 8.e+00]], [-0.0008052]\n",
      "{'max_depth': 6, 'min_samples_leaf': 0.0010000000000000009, 'n_estimators': 8} score: 0.8585267678580328\n",
      "current accuracy: 0.8585267678580328\n",
      "best accuracy: 0.8755415565641732\n"
     ]
    },
    {
     "name": "stderr",
     "output_type": "stream",
     "text": [
      "INFO:root:Iteration 118\n",
      "INFO:root:Iteration 119\n"
     ]
    },
    {
     "name": "stdout",
     "output_type": "stream",
     "text": [
      "final res: t[[7.e+00 1.e-03 8.e+00]], [-0.00679209]\n",
      "{'max_depth': 7, 'min_samples_leaf': 0.0010000000000000009, 'n_estimators': 8} score: 0.8722919557728218\n",
      "current accuracy: 0.8722919557728218\n",
      "best accuracy: 0.8755415565641732\n",
      "final res: t[[7.e+00 1.e-03 2.e+00]], [-0.00254275]\n",
      "{'max_depth': 7, 'min_samples_leaf': 0.0010000000000000009, 'n_estimators': 2} score: 0.8437380720504661\n",
      "current accuracy: 0.8437380720504661\n",
      "best accuracy: 0.8755415565641732\n"
     ]
    },
    {
     "name": "stderr",
     "output_type": "stream",
     "text": [
      "INFO:root:Iteration 120\n",
      "INFO:root:Iteration 121\n"
     ]
    },
    {
     "name": "stdout",
     "output_type": "stream",
     "text": [
      "final res: t[[9.e+00 1.e-03 4.e+00]], [-8.62379178e-06]\n",
      "{'max_depth': 9, 'min_samples_leaf': 0.0010000000000000009, 'n_estimators': 4} score: 0.8643299044666121\n",
      "current accuracy: 0.8643299044666121\n",
      "best accuracy: 0.8755415565641732\n",
      "final res: t[[9.e+00 1.e-03 4.e+00]], [-0.00330082]\n",
      "{'max_depth': 9, 'min_samples_leaf': 0.0010000000000000009, 'n_estimators': 4} score: 0.8643299044666121\n",
      "current accuracy: 0.8643299044666121\n",
      "best accuracy: 0.8755415565641732\n"
     ]
    },
    {
     "name": "stderr",
     "output_type": "stream",
     "text": [
      "INFO:root:Iteration 122\n"
     ]
    },
    {
     "name": "stdout",
     "output_type": "stream",
     "text": [
      "final res: t[[9.e+00 1.e-03 6.e+00]], [-0.00690012]\n",
      "{'max_depth': 9, 'min_samples_leaf': 0.001, 'n_estimators': 6} score: 0.8669096840290497\n",
      "current accuracy: 0.8669096840290497\n",
      "best accuracy: 0.8755415565641732\n",
      "final res: t[[9.e+00 1.e-03 7.e+00]], [-0.0041789]\n",
      "{'max_depth': 9, 'min_samples_leaf': 0.0010000000000000009, 'n_estimators': 7} score: 0.8680416161645595\n",
      "current accuracy: 0.8680416161645595\n",
      "best accuracy: 0.8755415565641732\n"
     ]
    },
    {
     "name": "stderr",
     "output_type": "stream",
     "text": [
      "INFO:root:Iteration 123\n",
      "INFO:root:Iteration 124\n",
      "INFO:root:Iteration 125\n"
     ]
    },
    {
     "name": "stdout",
     "output_type": "stream",
     "text": [
      "final res: t[[9.e+00 1.e-03 6.e+00]], [-0.0159309]\n",
      "{'max_depth': 9, 'min_samples_leaf': 0.0010000000000000009, 'n_estimators': 6} score: 0.8669096840290497\n",
      "current accuracy: 0.8669096840290497\n",
      "best accuracy: 0.8755415565641732\n",
      "final res: t[[7.e+00 1.e-03 1.e+00]], [-0.00092154]\n",
      "{'max_depth': 7, 'min_samples_leaf': 0.0010000000000000078, 'n_estimators': 1} score: 0.816176527961867\n",
      "current accuracy: 0.816176527961867\n",
      "best accuracy: 0.8755415565641732\n"
     ]
    },
    {
     "name": "stderr",
     "output_type": "stream",
     "text": [
      "INFO:root:Iteration 126\n",
      "INFO:root:Iteration 127\n"
     ]
    },
    {
     "name": "stdout",
     "output_type": "stream",
     "text": [
      "final res: t[[9.         0.27923642 7.        ]], [-2.59882661e-07]\n",
      "{'max_depth': 9, 'min_samples_leaf': 0.27923642146289246, 'n_estimators': 7} score: 0.09426887386908134\n",
      "current accuracy: 0.09426887386908134\n",
      "best accuracy: 0.8755415565641732\n",
      "final res: t[[9.e+00 1.e-03 4.e+00]], [-0.00606841]\n",
      "{'max_depth': 9, 'min_samples_leaf': 0.001, 'n_estimators': 4} score: 0.8643299044666121\n",
      "current accuracy: 0.8643299044666121\n",
      "best accuracy: 0.8755415565641732\n"
     ]
    },
    {
     "name": "stderr",
     "output_type": "stream",
     "text": [
      "INFO:root:Iteration 128\n",
      "INFO:root:Iteration 129\n"
     ]
    },
    {
     "name": "stdout",
     "output_type": "stream",
     "text": [
      "final res: t[[1.         0.28425147 4.        ]], [-6.52420158e-09]\n",
      "{'max_depth': 1, 'min_samples_leaf': 0.2842514650324812, 'n_estimators': 4} score: 0.0886569583855823\n",
      "current accuracy: 0.0886569583855823\n",
      "best accuracy: 0.8755415565641732\n",
      "final res: t[[9.e+00 1.e-03 5.e+00]], [-0.01926467]\n",
      "{'max_depth': 9, 'min_samples_leaf': 0.0010000000000000009, 'n_estimators': 5} score: 0.8701581058158467\n",
      "current accuracy: 0.8701581058158467\n",
      "best accuracy: 0.8755415565641732\n"
     ]
    },
    {
     "name": "stderr",
     "output_type": "stream",
     "text": [
      "INFO:root:Iteration 130\n",
      "INFO:root:Iteration 131\n"
     ]
    },
    {
     "name": "stdout",
     "output_type": "stream",
     "text": [
      "final res: t[[5.e+00 1.e-03 5.e+00]], [-0.00136899]\n",
      "{'max_depth': 5, 'min_samples_leaf': 0.001, 'n_estimators': 5} score: 0.8367610139524462\n",
      "current accuracy: 0.8367610139524462\n",
      "best accuracy: 0.8755415565641732\n",
      "final res: t[[9.e+00 1.e-03 6.e+00]], [-0.00484939]\n",
      "{'max_depth': 9, 'min_samples_leaf': 0.001, 'n_estimators': 6} score: 0.8669096840290497\n",
      "current accuracy: 0.8669096840290497\n",
      "best accuracy: 0.8755415565641732\n"
     ]
    },
    {
     "name": "stderr",
     "output_type": "stream",
     "text": [
      "INFO:root:Iteration 132\n"
     ]
    },
    {
     "name": "stdout",
     "output_type": "stream",
     "text": [
      "final res: t[[9.e+00 1.e-03 5.e+00]], [-0.01500485]\n",
      "{'max_depth': 9, 'min_samples_leaf': 0.0010000000000000009, 'n_estimators': 5} score: 0.8701581058158467\n",
      "current accuracy: 0.8701581058158467\n",
      "best accuracy: 0.8755415565641732\n",
      "final res: t[[4.e+00 1.e-03 9.e+00]], [-0.00052723]\n",
      "{'max_depth': 4, 'min_samples_leaf': 0.0010000000000000009, 'n_estimators': 9}"
     ]
    },
    {
     "name": "stderr",
     "output_type": "stream",
     "text": [
      "INFO:root:Iteration 133\n",
      "INFO:root:Iteration 134\n"
     ]
    },
    {
     "name": "stdout",
     "output_type": "stream",
     "text": [
      " score: 0.7857008642997872\n",
      "current accuracy: 0.7857008642997872\n",
      "best accuracy: 0.8755415565641732\n",
      "final res: t[[8.e+00 1.e-03 7.e+00]], [-0.0012898]\n",
      "{'max_depth': 8, 'min_samples_leaf': 0.0010000000000000009, 'n_estimators': 7} score: 0.8694740933811869\n",
      "current accuracy: 0.8694740933811869\n",
      "best accuracy: 0.8755415565641732\n",
      "final res: t[[5.         0.07586669 4.        ]], [-5.97250926e-08]\n"
     ]
    },
    {
     "name": "stderr",
     "output_type": "stream",
     "text": [
      "INFO:root:Iteration 135\n",
      "INFO:root:Iteration 136\n"
     ]
    },
    {
     "name": "stdout",
     "output_type": "stream",
     "text": [
      "{'max_depth': 5, 'min_samples_leaf': 0.07586668707973951, 'n_estimators': 4} score: 0.43739280422422083\n",
      "current accuracy: 0.43739280422422083\n",
      "best accuracy: 0.8755415565641732\n",
      "final res: t[[9.e+00 1.e-03 4.e+00]], [-0.0034941]\n",
      "{'max_depth': 9, 'min_samples_leaf': 0.001, 'n_estimators': 4} score: 0.8643299044666121\n",
      "current accuracy: 0.8643299044666121\n",
      "best accuracy: 0.8755415565641732\n",
      "final res: t[[8.e+00 1.e-03 5.e+00]], [-0.00054401]\n"
     ]
    },
    {
     "name": "stderr",
     "output_type": "stream",
     "text": [
      "INFO:root:Iteration 137\n",
      "INFO:root:Iteration 138\n"
     ]
    },
    {
     "name": "stdout",
     "output_type": "stream",
     "text": [
      "{'max_depth': 8, 'min_samples_leaf': 0.0010000000000000009, 'n_estimators': 5} score: 0.8709131186835979\n",
      "current accuracy: 0.8709131186835979\n",
      "best accuracy: 0.8755415565641732\n",
      "final res: t[[9.e+00 1.e-03 6.e+00]], [-0.00343964]\n",
      "{'max_depth': 9, 'min_samples_leaf': 0.0010000000000000009, 'n_estimators': 6} score: 0.8669096840290497\n",
      "current accuracy: 0.8669096840290497\n",
      "best accuracy: 0.8755415565641732\n",
      "final res: t[[4.e+00 1.e-03 6.e+00]], [-5.27224353e-05]\n"
     ]
    },
    {
     "name": "stderr",
     "output_type": "stream",
     "text": [
      "INFO:root:Iteration 139\n",
      "INFO:root:Iteration 140\n"
     ]
    },
    {
     "name": "stdout",
     "output_type": "stream",
     "text": [
      "{'max_depth': 4, 'min_samples_leaf': 0.0009999999999999992, 'n_estimators': 6} score: 0.7846008148598017\n",
      "current accuracy: 0.7846008148598017\n",
      "best accuracy: 0.8755415565641732\n",
      "final res: t[[5.e+00 1.e-03 6.e+00]], [-0.0001327]\n",
      "{'max_depth': 5, 'min_samples_leaf': 0.0010000000000000009, 'n_estimators': 6} score: 0.8400175270016476\n",
      "current accuracy: 0.8400175270016476\n",
      "best accuracy: 0.8755415565641732\n",
      "final res: t[[5.e+00 1.e-03 2.e+00]], [-0.00014407]\n",
      "{'max_depth': 5, 'min_samples_leaf': 0.0010000000000000009, 'n_estimators': 2} score: 0.7973119207470744\n",
      "current accuracy: 0.7973119207470744\n",
      "best accuracy: 0.8755415565641732\n"
     ]
    },
    {
     "name": "stderr",
     "output_type": "stream",
     "text": [
      "INFO:root:Iteration 141\n",
      "INFO:root:Iteration 142\n",
      "INFO:root:Iteration 143\n"
     ]
    },
    {
     "name": "stdout",
     "output_type": "stream",
     "text": [
      "final res: t[[7.e+00 1.e-03 2.e+00]], [-0.00131669]\n",
      "{'max_depth': 7, 'min_samples_leaf': 0.001, 'n_estimators': 2} score: 0.8437380720504661\n",
      "current accuracy: 0.8437380720504661\n",
      "best accuracy: 0.8755415565641732\n",
      "final res: t[[7.e+00 1.e-03 7.e+00]], [-0.00134165]\n",
      "{'max_depth': 7, 'min_samples_leaf': 0.001, 'n_estimators': 7} score: 0.8680321664264559\n",
      "current accuracy: 0.8680321664264559\n",
      "best accuracy: 0.8755415565641732\n"
     ]
    },
    {
     "name": "stderr",
     "output_type": "stream",
     "text": [
      "INFO:root:Iteration 144\n"
     ]
    },
    {
     "name": "stdout",
     "output_type": "stream",
     "text": [
      "final res: t[[9.e+00 1.e-03 6.e+00]], [-0.00303515]\n",
      "{'max_depth': 9, 'min_samples_leaf': 0.001, 'n_estimators': 6} score: 0.8669096840290497\n",
      "current accuracy: 0.8669096840290497\n",
      "best accuracy: 0.8755415565641732\n",
      "final res: t[[7.e+00 1.e-03 8.e+00]], [-0.00362723]\n",
      "{'max_depth': 7, 'min_samples_leaf': 0.0010000000000000009, 'n_estimators': 8} score: 0.8722919557728218\n",
      "current accuracy: 0.8722919557728218\n",
      "best accuracy: 0.8755415565641732\n"
     ]
    },
    {
     "name": "stderr",
     "output_type": "stream",
     "text": [
      "INFO:root:Iteration 145\n",
      "INFO:root:Iteration 146\n",
      "INFO:root:Iteration 147\n"
     ]
    },
    {
     "name": "stdout",
     "output_type": "stream",
     "text": [
      "final res: t[[7.e+00 1.e-03 1.e+00]], [-0.00041569]\n",
      "{'max_depth': 7, 'min_samples_leaf': 0.0010000000000000009, 'n_estimators': 1} score: 0.816176527961867\n",
      "current accuracy: 0.816176527961867\n",
      "best accuracy: 0.8755415565641732\n",
      "final res: t[[7.         0.08158442 9.        ]], [-1.16127802e-10]\n",
      "{'max_depth': 7, 'min_samples_leaf': 0.08158442441243453, 'n_estimators': 9} score: 0.4407227088662481\n",
      "current accuracy: 0.4407227088662481\n",
      "best accuracy: 0.8755415565641732\n"
     ]
    },
    {
     "name": "stderr",
     "output_type": "stream",
     "text": [
      "INFO:root:Iteration 148\n",
      "INFO:root:Iteration 149\n"
     ]
    },
    {
     "name": "stdout",
     "output_type": "stream",
     "text": [
      "final res: t[[2.         0.01071867 5.        ]], [-1.43984045e-07]\n",
      "{'max_depth': 2, 'min_samples_leaf': 0.010718670817013911, 'n_estimators': 5} score: 0.4372166094910696\n",
      "current accuracy: 0.4372166094910696\n",
      "best accuracy: 0.8755415565641732\n",
      "final res: t[[5.e+00 1.e-03 1.e+00]], [-0.00010205]\n",
      "{'max_depth': 5, 'min_samples_leaf': 0.0010000000000000009, 'n_estimators': 1} score: 0.7654392260036406\n",
      "current accuracy: 0.7654392260036406\n",
      "best accuracy: 0.8755415565641732\n",
      "final res: t[[5.e+00 1.e-03 9.e+00]], [-0.00026661]\n"
     ]
    },
    {
     "name": "stderr",
     "output_type": "stream",
     "text": [
      "INFO:root:Iteration 150\n",
      "INFO:root:Iteration 151\n"
     ]
    },
    {
     "name": "stdout",
     "output_type": "stream",
     "text": [
      "{'max_depth': 5, 'min_samples_leaf': 0.0010000000000000009, 'n_estimators': 9} score: 0.8364963901229556\n",
      "current accuracy: 0.8364963901229556\n",
      "best accuracy: 0.8755415565641732\n",
      "final res: t[[9.e+00 1.e-03 1.e+00]], [-2.0782557e-05]\n",
      "{'max_depth': 9, 'min_samples_leaf': 0.001, 'n_estimators': 1} score: 0.8061935672204796\n",
      "current accuracy: 0.8061935672204796\n",
      "best accuracy: 0.8755415565641732\n",
      "final res: t[[6.e+00 1.e-03 2.e+00]], [-0.00092669]\n",
      "{'max_depth': 6, 'min_samples_leaf': 0.001, 'n_estimators': 2} score: 0.8410277690329225\n",
      "current accuracy: 0.8410277690329225\n",
      "best accuracy: 0.8755415565641732\n"
     ]
    },
    {
     "name": "stderr",
     "output_type": "stream",
     "text": [
      "INFO:root:Iteration 152\n",
      "INFO:root:Iteration 153\n",
      "INFO:root:Iteration 154\n"
     ]
    },
    {
     "name": "stdout",
     "output_type": "stream",
     "text": [
      "final res: t[[9.e+00 1.e-03 2.e+00]], [-0.00023407]\n",
      "{'max_depth': 9, 'min_samples_leaf': 0.0009999999999999992, 'n_estimators': 2} score: 0.8485069612911775\n",
      "current accuracy: 0.8485069612911775\n",
      "best accuracy: 0.8755415565641732\n",
      "final res: t[[9.e+00 1.e-03 5.e+00]], [-0.01016839]\n",
      "{'max_depth': 9, 'min_samples_leaf': 0.0010000000000000009, 'n_estimators': 5} score: 0.8701581058158467\n",
      "current accuracy: 0.8701581058158467\n",
      "best accuracy: 0.8755415565641732\n"
     ]
    },
    {
     "name": "stderr",
     "output_type": "stream",
     "text": [
      "INFO:root:Iteration 155\n",
      "INFO:root:Iteration 156\n"
     ]
    },
    {
     "name": "stdout",
     "output_type": "stream",
     "text": [
      "final res: t[[9.e+00 1.e-03 4.e+00]], [-0.00497166]\n",
      "{'max_depth': 9, 'min_samples_leaf': 0.0010000000000000009, 'n_estimators': 4} score: 0.8643299044666121\n",
      "current accuracy: 0.8643299044666121\n",
      "best accuracy: 0.8755415565641732\n",
      "final res: t[[9.e+00 1.e-03 5.e+00]], [-0.00892553]\n",
      "{'max_depth': 9, 'min_samples_leaf': 0.0010000000000000009, 'n_estimators': 5} score: 0.8701581058158467\n",
      "current accuracy: 0.8701581058158467\n",
      "best accuracy: 0.8755415565641732\n"
     ]
    },
    {
     "name": "stderr",
     "output_type": "stream",
     "text": [
      "INFO:root:Iteration 157\n",
      "INFO:root:Iteration 158\n"
     ]
    },
    {
     "name": "stdout",
     "output_type": "stream",
     "text": [
      "final res: t[[9.e+00 1.e-03 6.e+00]], [-0.00336701]\n",
      "{'max_depth': 9, 'min_samples_leaf': 0.001, 'n_estimators': 6} score: 0.8669096840290497\n",
      "current accuracy: 0.8669096840290497\n",
      "best accuracy: 0.8755415565641732\n",
      "final res: t[[8.e+00 1.e-03 3.e+00]], [-0.00159879]\n",
      "{'max_depth': 8, 'min_samples_leaf': 0.0010000000000000009, 'n_estimators': 3} score: 0.8499761078984717\n",
      "current accuracy: 0.8499761078984717\n",
      "best accuracy: 0.8755415565641732\n"
     ]
    },
    {
     "name": "stderr",
     "output_type": "stream",
     "text": [
      "INFO:root:Iteration 159\n",
      "INFO:root:Iteration 160\n"
     ]
    },
    {
     "name": "stdout",
     "output_type": "stream",
     "text": [
      "final res: t[[9.e+00 1.e-03 2.e+00]], [-0.00048658]\n",
      "{'max_depth': 9, 'min_samples_leaf': 0.0010000000000000078, 'n_estimators': 2} score: 0.8485069612911775\n",
      "current accuracy: 0.8485069612911775\n",
      "best accuracy: 0.8755415565641732\n",
      "final res: t[[7.e+00 1.e-03 4.e+00]], [-0.00013419]\n",
      "{'max_depth': 7, 'min_samples_leaf': 0.001, 'n_estimators': 4} score: 0.8640178762387585\n",
      "current accuracy: 0.8640178762387585\n",
      "best accuracy: 0.8755415565641732\n",
      "final res: t[[7.e+00 1.e-03 3.e+00]], [-0.00092794]\n"
     ]
    },
    {
     "name": "stderr",
     "output_type": "stream",
     "text": [
      "INFO:root:Iteration 161\n",
      "INFO:root:Iteration 162\n"
     ]
    },
    {
     "name": "stdout",
     "output_type": "stream",
     "text": [
      "{'max_depth': 7, 'min_samples_leaf': 0.0010000000000000009, 'n_estimators': 3} score: 0.8511314199371329\n",
      "current accuracy: 0.8511314199371329\n",
      "best accuracy: 0.8755415565641732\n",
      "final res: t[[7.         0.03488932 4.        ]], [-8.35900528e-08]\n",
      "{'max_depth': 7, 'min_samples_leaf': 0.03488932265010155, 'n_estimators': 4} score: 0.6164964564438595\n",
      "current accuracy: 0.6164964564438595\n",
      "best accuracy: 0.8755415565641732\n",
      "final res: t[[7.e+00 1.e-03 8.e+00]], [-0.00392945]\n"
     ]
    },
    {
     "name": "stderr",
     "output_type": "stream",
     "text": [
      "INFO:root:Iteration 163\n",
      "INFO:root:Iteration 164\n"
     ]
    },
    {
     "name": "stdout",
     "output_type": "stream",
     "text": [
      "{'max_depth': 7, 'min_samples_leaf': 0.0010000000000000009, 'n_estimators': 8} score: 0.8722919557728218\n",
      "current accuracy: 0.8722919557728218\n",
      "best accuracy: 0.8755415565641732\n",
      "final res: t[[8.e+00 1.e-03 5.e+00]], [-0.00077017]\n",
      "{'max_depth': 8, 'min_samples_leaf': 0.001, 'n_estimators': 5} score: 0.8709131186835979\n",
      "current accuracy: 0.8709131186835979\n",
      "best accuracy: 0.8755415565641732\n",
      "final res: t[[9.         0.07821171 4.        ]], [-8.54959242e-08]\n"
     ]
    },
    {
     "name": "stderr",
     "output_type": "stream",
     "text": [
      "INFO:root:Iteration 165\n",
      "INFO:root:Iteration 166\n"
     ]
    },
    {
     "name": "stdout",
     "output_type": "stream",
     "text": [
      "{'max_depth': 9, 'min_samples_leaf': 0.07821170545842898, 'n_estimators': 4} score: 0.44030076858436323\n",
      "current accuracy: 0.44030076858436323\n",
      "best accuracy: 0.8755415565641732\n",
      "final res: t[[6.e+00 1.e-03 2.e+00]], [-0.00179031]\n",
      "{'max_depth': 6, 'min_samples_leaf': 0.0010000000000000009, 'n_estimators': 2} score: 0.8410277690329225\n",
      "current accuracy: 0.8410277690329225\n",
      "best accuracy: 0.8755415565641732\n",
      "final res: t[[6.e+00 1.e-03 5.e+00]], [-0.00017038]\n",
      "{'max_depth': 6, 'min_samples_leaf': 0.0010000000000000009, 'n_estimators': 5} score: 0.8548198975119131\n",
      "current accuracy: 0.8548198975119131\n",
      "best accuracy: 0.8755415565641732\n"
     ]
    },
    {
     "name": "stderr",
     "output_type": "stream",
     "text": [
      "INFO:root:Iteration 167\n",
      "INFO:root:Iteration 168\n",
      "INFO:root:Iteration 169\n"
     ]
    },
    {
     "name": "stdout",
     "output_type": "stream",
     "text": [
      "final res: t[[6.e+00 1.e-03 3.e+00]], [-0.00038933]\n",
      "{'max_depth': 6, 'min_samples_leaf': 0.001, 'n_estimators': 3} score: 0.84208615845852\n",
      "current accuracy: 0.84208615845852\n",
      "best accuracy: 0.8755415565641732\n",
      "final res: t[[8.e+00 1.e-03 2.e+00]], [-0.00235888]\n",
      "{'max_depth': 8, 'min_samples_leaf': 0.0010000000000000009, 'n_estimators': 2} score: 0.8515730745940783\n",
      "current accuracy: 0.8515730745940783\n",
      "best accuracy: 0.8755415565641732\n",
      "final res: t[[9.e+00 1.e-03 7.e+00]], [-0.00055463]\n"
     ]
    },
    {
     "name": "stderr",
     "output_type": "stream",
     "text": [
      "INFO:root:Iteration 170\n",
      "INFO:root:Iteration 171\n"
     ]
    },
    {
     "name": "stdout",
     "output_type": "stream",
     "text": [
      "{'max_depth': 9, 'min_samples_leaf': 0.0010000000000000009, 'n_estimators': 7} score: 0.8680416161645595\n",
      "current accuracy: 0.8680416161645595\n",
      "best accuracy: 0.8755415565641732\n",
      "final res: t[[8.e+00 1.e-03 6.e+00]], [-0.00499129]\n",
      "{'max_depth': 8, 'min_samples_leaf': 0.001, 'n_estimators': 6} score: 0.8673190556481261\n",
      "current accuracy: 0.8673190556481261\n",
      "best accuracy: 0.8755415565641732\n",
      "final res: t[[9.e+00 1.e-03 5.e+00]], [-0.00346344]\n"
     ]
    },
    {
     "name": "stderr",
     "output_type": "stream",
     "text": [
      "INFO:root:Iteration 172\n",
      "INFO:root:Iteration 173\n"
     ]
    },
    {
     "name": "stdout",
     "output_type": "stream",
     "text": [
      "{'max_depth': 9, 'min_samples_leaf': 0.001, 'n_estimators': 5} score: 0.8701581058158467\n",
      "current accuracy: 0.8701581058158467\n",
      "best accuracy: 0.8755415565641732\n",
      "final res: t[[9.e+00 1.e-03 7.e+00]], [-0.0006528]\n",
      "{'max_depth': 9, 'min_samples_leaf': 0.001, 'n_estimators': 7} score: 0.8680416161645595\n",
      "current accuracy: 0.8680416161645595\n",
      "best accuracy: 0.8755415565641732\n"
     ]
    },
    {
     "name": "stderr",
     "output_type": "stream",
     "text": [
      "INFO:root:Iteration 174\n",
      "INFO:root:Iteration 175\n"
     ]
    },
    {
     "name": "stdout",
     "output_type": "stream",
     "text": [
      "final res: t[[7.e+00 1.e-03 7.e+00]], [-0.00691638]\n",
      "{'max_depth': 7, 'min_samples_leaf': 0.001, 'n_estimators': 7} score: 0.8680321664264559\n",
      "current accuracy: 0.8680321664264559\n",
      "best accuracy: 0.8755415565641732\n",
      "final res: t[[8.e+00 1.e-03 2.e+00]], [-0.00190908]\n",
      "{'max_depth': 8, 'min_samples_leaf': 0.0010000000000000009, 'n_estimators': 2} score: 0.8515730745940783\n",
      "current accuracy: 0.8515730745940783\n",
      "best accuracy: 0.8755415565641732\n"
     ]
    },
    {
     "name": "stderr",
     "output_type": "stream",
     "text": [
      "INFO:root:Iteration 176\n",
      "INFO:root:Iteration 177\n"
     ]
    },
    {
     "name": "stdout",
     "output_type": "stream",
     "text": [
      "final res: t[[7.         0.08307935 1.        ]], [-1.50373779e-10]\n",
      "{'max_depth': 7, 'min_samples_leaf': 0.08307934516648485, 'n_estimators': 1} score: 0.4278232731674211\n",
      "current accuracy: 0.4278232731674211\n",
      "best accuracy: 0.8755415565641732\n",
      "final res: t[[9.e+00 1.e-03 5.e+00]], [-0.00332445]\n",
      "{'max_depth': 9, 'min_samples_leaf': 0.001, 'n_estimators': 5} score: 0.8701581058158467\n",
      "current accuracy: 0.8701581058158467\n",
      "best accuracy: 0.8755415565641732\n",
      "final res: t[[8.e+00 1.e-03 8.e+00]], [-0.00085283]\n"
     ]
    },
    {
     "name": "stderr",
     "output_type": "stream",
     "text": [
      "INFO:root:Iteration 178\n",
      "INFO:root:Iteration 179\n"
     ]
    },
    {
     "name": "stdout",
     "output_type": "stream",
     "text": [
      "{'max_depth': 8, 'min_samples_leaf': 0.0010000000000000009, 'n_estimators': 8} score: 0.8755415565641732\n",
      "current accuracy: 0.8755415565641732\n",
      "best accuracy: 0.8755415565641732\n",
      "final res: t[[9.e+00 1.e-03 3.e+00]], [-0.00067897]\n",
      "{'max_depth': 9, 'min_samples_leaf': 0.001, 'n_estimators': 3} score: 0.8500094396535328\n",
      "current accuracy: 0.8500094396535328\n",
      "best accuracy: 0.8755415565641732\n",
      "final res: t[[8.e+00 1.e-03 3.e+00]], [-0.00101399]\n"
     ]
    },
    {
     "name": "stderr",
     "output_type": "stream",
     "text": [
      "INFO:root:Iteration 180\n",
      "INFO:root:Iteration 181\n"
     ]
    },
    {
     "name": "stdout",
     "output_type": "stream",
     "text": [
      "{'max_depth': 8, 'min_samples_leaf': 0.001, 'n_estimators': 3} score: 0.8499761078984717\n",
      "current accuracy: 0.8499761078984717\n",
      "best accuracy: 0.8755415565641732\n",
      "final res: t[[5.e+00 1.e-03 4.e+00]], [-6.83858926e-05]\n",
      "{'max_depth': 5, 'min_samples_leaf': 0.001, 'n_estimators': 4} score: 0.8265450198910773\n",
      "current accuracy: 0.8265450198910773\n",
      "best accuracy: 0.8755415565641732\n",
      "final res: t[[5.         0.02820776 4.        ]], [-2.39465533e-08]\n",
      "{'max_depth': 5, 'min_samples_leaf': 0.028207755184082455, 'n_estimators': 4} score: 0.6515094756454443\n",
      "current accuracy: 0.6515094756454443\n",
      "best accuracy: 0.8755415565641732\n"
     ]
    },
    {
     "name": "stderr",
     "output_type": "stream",
     "text": [
      "INFO:root:Iteration 182\n",
      "INFO:root:Iteration 183\n",
      "INFO:root:Iteration 184\n"
     ]
    },
    {
     "name": "stdout",
     "output_type": "stream",
     "text": [
      "final res: t[[9.         0.02183319 8.        ]], [-2.7209079e-07]\n",
      "{'max_depth': 9, 'min_samples_leaf': 0.021833188341851516, 'n_estimators': 8} score: 0.672899693881652\n",
      "current accuracy: 0.672899693881652\n",
      "best accuracy: 0.8755415565641732\n",
      "final res: t[[8.e+00 1.e-03 3.e+00]], [-0.00089576]\n",
      "{'max_depth': 8, 'min_samples_leaf': 0.001, 'n_estimators': 3} score: 0.8499761078984717\n",
      "current accuracy: 0.8499761078984717\n",
      "best accuracy: 0.8755415565641732\n"
     ]
    },
    {
     "name": "stderr",
     "output_type": "stream",
     "text": [
      "INFO:root:Iteration 185\n"
     ]
    },
    {
     "name": "stdout",
     "output_type": "stream",
     "text": [
      "final res: t[[5.e+00 1.e-03 9.e+00]], [-0.00040131]\n",
      "{'max_depth': 5, 'min_samples_leaf': 0.0010000000000000009, 'n_estimators': 9} score: 0.8364963901229556\n",
      "current accuracy: 0.8364963901229556\n",
      "best accuracy: 0.8755415565641732\n",
      "final res: t[[8.e+00 1.e-03 7.e+00]], [-0.00864017]\n",
      "{'max_depth': 8, 'min_samples_leaf': 0.001, 'n_estimators': 7} score: 0.8694740933811869\n",
      "current accuracy: 0.8694740933811869\n",
      "best accuracy: 0.8755415565641732\n"
     ]
    },
    {
     "name": "stderr",
     "output_type": "stream",
     "text": [
      "INFO:root:Iteration 186\n",
      "INFO:root:Iteration 187\n",
      "INFO:root:Iteration 188\n"
     ]
    },
    {
     "name": "stdout",
     "output_type": "stream",
     "text": [
      "final res: t[[9.e+00 1.e-03 2.e+00]], [-0.00039042]\n",
      "{'max_depth': 9, 'min_samples_leaf': 0.0010000000000000009, 'n_estimators': 2} score: 0.8485069612911775\n",
      "current accuracy: 0.8485069612911775\n",
      "best accuracy: 0.8755415565641732\n",
      "final res: t[[5.e+00 1.e-03 2.e+00]], [-4.26479394e-05]\n",
      "{'max_depth': 5, 'min_samples_leaf': 0.0010000000000000009, 'n_estimators': 2} score: 0.7973119207470744\n",
      "current accuracy: 0.7973119207470744\n",
      "best accuracy: 0.8755415565641732\n",
      "final res: t[[8.e+00 1.e-03 6.e+00]], [-0.00358542]\n"
     ]
    },
    {
     "name": "stderr",
     "output_type": "stream",
     "text": [
      "INFO:root:Iteration 189\n",
      "INFO:root:Iteration 190\n"
     ]
    },
    {
     "name": "stdout",
     "output_type": "stream",
     "text": [
      "{'max_depth': 8, 'min_samples_leaf': 0.001, 'n_estimators': 6} score: 0.8673190556481261\n",
      "current accuracy: 0.8673190556481261\n",
      "best accuracy: 0.8755415565641732\n",
      "final res: t[[3.         0.01139555 4.        ]], [-5.5112021e-09]\n",
      "{'max_depth': 3, 'min_samples_leaf': 0.011395552496135213, 'n_estimators': 4} score: 0.6292233447982722\n",
      "current accuracy: 0.6292233447982722\n",
      "best accuracy: 0.8755415565641732\n",
      "final res: t[[7.e+00 1.e-03 2.e+00]], [-0.00082952]\n",
      "{'max_depth': 7, 'min_samples_leaf': 0.0010000000000000009, 'n_estimators': 2} score: 0.8437380720504661\n",
      "current accuracy: 0.8437380720504661\n",
      "best accuracy: 0.8755415565641732\n"
     ]
    },
    {
     "name": "stderr",
     "output_type": "stream",
     "text": [
      "INFO:root:Iteration 191\n",
      "INFO:root:Iteration 192\n",
      "INFO:root:Iteration 193\n"
     ]
    },
    {
     "name": "stdout",
     "output_type": "stream",
     "text": [
      "final res: t[[6.        0.0360261 4.       ]], [-4.12216877e-11]\n",
      "{'max_depth': 6, 'min_samples_leaf': 0.03602610324728874, 'n_estimators': 4} score: 0.6128374735537347\n",
      "current accuracy: 0.6128374735537347\n",
      "best accuracy: 0.8755415565641732\n",
      "final res: t[[6.e+00 1.e-03 4.e+00]], [-4.15961336e-06]\n",
      "{'max_depth': 6, 'min_samples_leaf': 0.001, 'n_estimators': 4} score: 0.8504203292130808\n",
      "current accuracy: 0.8504203292130808\n",
      "best accuracy: 0.8755415565641732\n"
     ]
    },
    {
     "name": "stderr",
     "output_type": "stream",
     "text": [
      "INFO:root:Iteration 194\n",
      "INFO:root:Iteration 195\n"
     ]
    },
    {
     "name": "stdout",
     "output_type": "stream",
     "text": [
      "final res: t[[7.         0.05475857 8.        ]], [-7.16782431e-11]\n",
      "{'max_depth': 7, 'min_samples_leaf': 0.05475857061897516, 'n_estimators': 8} score: 0.4463169894952593\n",
      "current accuracy: 0.4463169894952593\n",
      "best accuracy: 0.8755415565641732\n",
      "final res: t[[8.e+00 1.e-03 6.e+00]], [-0.0045027]\n",
      "{'max_depth': 8, 'min_samples_leaf': 0.001, 'n_estimators': 6} score: 0.8673190556481261\n",
      "current accuracy: 0.8673190556481261\n",
      "best accuracy: 0.8755415565641732\n"
     ]
    },
    {
     "name": "stderr",
     "output_type": "stream",
     "text": [
      "INFO:root:Iteration 196\n",
      "INFO:root:Iteration 197\n"
     ]
    },
    {
     "name": "stdout",
     "output_type": "stream",
     "text": [
      "final res: t[[6.e+00 1.e-03 1.e+00]], [-0.00010923]\n",
      "{'max_depth': 6, 'min_samples_leaf': 0.0010000000000000009, 'n_estimators': 1} score: 0.826639251994225\n",
      "current accuracy: 0.826639251994225\n",
      "best accuracy: 0.8755415565641732\n",
      "final res: t[[6.e+00 1.e-03 2.e+00]], [-0.00071445]\n",
      "{'max_depth': 6, 'min_samples_leaf': 0.001, 'n_estimators': 2} score: 0.8410277690329225\n",
      "current accuracy: 0.8410277690329225\n",
      "best accuracy: 0.8755415565641732\n",
      "final res: t[[3.         0.01155907 4.        ]], [-2.73577359e-10]\n",
      "{'max_depth': 3, 'min_samples_leaf': 0.011559066203187932, 'n_estimators': 4} score: 0.6292233447982722\n",
      "current accuracy: 0.6292233447982722\n",
      "best accuracy: 0.8755415565641732\n"
     ]
    },
    {
     "name": "stderr",
     "output_type": "stream",
     "text": [
      "INFO:root:Iteration 198\n",
      "INFO:root:Iteration 199\n",
      "INFO:root:Iteration 200\n"
     ]
    },
    {
     "name": "stdout",
     "output_type": "stream",
     "text": [
      "final res: t[[5.         0.03791935 8.        ]], [-2.3197551e-09]\n",
      "{'max_depth': 5, 'min_samples_leaf': 0.037919354876676685, 'n_estimators': 8} score: 0.5890317411068328\n",
      "current accuracy: 0.5890317411068328\n",
      "best accuracy: 0.8755415565641732\n",
      "final res: t[[8.e+00 1.e-03 5.e+00]], [-0.00074637]\n",
      "{'max_depth': 8, 'min_samples_leaf': 0.0010000000000000009, 'n_estimators': 5} score: 0.8709131186835979\n",
      "current accuracy: 0.8709131186835979\n",
      "best accuracy: 0.8755415565641732\n"
     ]
    },
    {
     "name": "stderr",
     "output_type": "stream",
     "text": [
      "INFO:root:Iteration 201\n"
     ]
    },
    {
     "name": "stdout",
     "output_type": "stream",
     "text": [
      "final res: t[[6.e+00 1.e-03 1.e+00]], [-7.91905341e-05]\n",
      "{'max_depth': 6, 'min_samples_leaf': 0.001, 'n_estimators': 1} score: 0.826639251994225\n",
      "current accuracy: 0.826639251994225\n",
      "best accuracy: 0.8755415565641732\n",
      "final res: t[[9.e+00 1.e-03 2.e+00]], [-0.00045815]\n",
      "{'max_depth': 9, 'min_samples_leaf': 0.001, 'n_estimators': 2} score: 0.8485069612911775\n",
      "current accuracy: 0.8485069612911775\n",
      "best accuracy: 0.8755415565641732\n"
     ]
    },
    {
     "name": "stderr",
     "output_type": "stream",
     "text": [
      "/anaconda3/lib/python3.6/site-packages/sklearn/gaussian_process/gpr.py:469: ConvergenceWarning: fmin_l_bfgs_b terminated abnormally with the  state: {'grad': array([-1.11531472e-05]), 'task': b'ABNORMAL_TERMINATION_IN_LNSRCH', 'funcalls': 49, 'nit': 5, 'warnflag': 2}\n",
      "  ConvergenceWarning)\n",
      "INFO:root:Iteration 202\n",
      "INFO:root:Iteration 203\n"
     ]
    },
    {
     "name": "stdout",
     "output_type": "stream",
     "text": [
      "final res: t[[9.e+00 1.e-03 5.e+00]], [-0.00280226]\n",
      "{'max_depth': 9, 'min_samples_leaf': 0.0010000000000000009, 'n_estimators': 5} score: 0.8701581058158467\n",
      "current accuracy: 0.8701581058158467\n",
      "best accuracy: 0.8755415565641732\n",
      "final res: t[[4.         0.02633495 6.        ]], [-1.02033539e-07]\n",
      "{'max_depth': 4, 'min_samples_leaf': 0.02633494918044627, 'n_estimators': 6} score: 0.6640028801794987\n",
      "current accuracy: 0.6640028801794987\n",
      "best accuracy: 0.8755415565641732\n"
     ]
    },
    {
     "name": "stderr",
     "output_type": "stream",
     "text": [
      "INFO:root:Iteration 204\n",
      "INFO:root:Iteration 205\n"
     ]
    },
    {
     "name": "stdout",
     "output_type": "stream",
     "text": [
      "final res: t[[7.e+00 1.e-03 8.e+00]], [-0.00139711]\n",
      "{'max_depth': 7, 'min_samples_leaf': 0.001, 'n_estimators': 8} score: 0.8722919557728218\n",
      "current accuracy: 0.8722919557728218\n",
      "best accuracy: 0.8755415565641732\n",
      "final res: t[[8.e+00 1.e-03 6.e+00]], [-0.00458089]\n",
      "{'max_depth': 8, 'min_samples_leaf': 0.001, 'n_estimators': 6} score: 0.8673190556481261\n",
      "current accuracy: 0.8673190556481261\n",
      "best accuracy: 0.8755415565641732\n"
     ]
    },
    {
     "name": "stderr",
     "output_type": "stream",
     "text": [
      "INFO:root:Iteration 206\n",
      "INFO:root:Iteration 207\n",
      "INFO:root:Iteration 208\n"
     ]
    },
    {
     "name": "stdout",
     "output_type": "stream",
     "text": [
      "final res: t[[8.e+00 1.e-03 2.e+00]], [-0.0012735]\n",
      "{'max_depth': 8, 'min_samples_leaf': 0.001, 'n_estimators': 2} score: 0.8515730745940783\n",
      "current accuracy: 0.8515730745940783\n",
      "best accuracy: 0.8755415565641732\n",
      "final res: t[[9.         0.04837599 6.        ]], [-1.20627815e-07]\n",
      "{'max_depth': 9, 'min_samples_leaf': 0.048375993578286404, 'n_estimators': 6} score: 0.4624877334594359\n",
      "current accuracy: 0.4624877334594359\n",
      "best accuracy: 0.8755415565641732\n"
     ]
    },
    {
     "name": "stderr",
     "output_type": "stream",
     "text": [
      "INFO:root:Iteration 209\n",
      "INFO:root:Iteration 210\n"
     ]
    },
    {
     "name": "stdout",
     "output_type": "stream",
     "text": [
      "final res: t[[9.e+00 1.e-03 1.e+00]], [-4.2221754e-05]\n",
      "{'max_depth': 9, 'min_samples_leaf': 0.0010000000000000009, 'n_estimators': 1} score: 0.8061935672204796\n",
      "current accuracy: 0.8061935672204796\n",
      "best accuracy: 0.8755415565641732\n",
      "final res: t[[8.e+00 1.e-03 1.e+00]], [-6.31179362e-05]\n",
      "{'max_depth': 8, 'min_samples_leaf': 0.001, 'n_estimators': 1} score: 0.8134544573126092\n",
      "current accuracy: 0.8134544573126092\n",
      "best accuracy: 0.8755415565641732\n",
      "final res: t[[6.e+00 1.e-03 8.e+00]], [-0.00072695]\n"
     ]
    },
    {
     "name": "stderr",
     "output_type": "stream",
     "text": [
      "INFO:root:Iteration 211\n",
      "INFO:root:Iteration 212\n"
     ]
    },
    {
     "name": "stdout",
     "output_type": "stream",
     "text": [
      "{'max_depth': 6, 'min_samples_leaf': 0.0010000000000000009, 'n_estimators': 8} score: 0.8585267678580328\n",
      "current accuracy: 0.8585267678580328\n",
      "best accuracy: 0.8755415565641732\n",
      "final res: t[[9.e+00 1.e-03 4.e+00]], [-0.00072854]\n",
      "{'max_depth': 9, 'min_samples_leaf': 0.001, 'n_estimators': 4} score: 0.8643299044666121\n",
      "current accuracy: 0.8643299044666121\n",
      "best accuracy: 0.8755415565641732\n",
      "final res: t[[3.0000000e+00 5.9982127e-03 7.0000000e+00]], [-8.99340792e-11]\n"
     ]
    },
    {
     "name": "stderr",
     "output_type": "stream",
     "text": [
      "INFO:root:Iteration 213\n",
      "INFO:root:Iteration 214\n"
     ]
    },
    {
     "name": "stdout",
     "output_type": "stream",
     "text": [
      "{'max_depth': 3, 'min_samples_leaf': 0.00599821270486749, 'n_estimators': 7} score: 0.6442423428943163\n",
      "current accuracy: 0.6442423428943163\n",
      "best accuracy: 0.8755415565641732\n",
      "final res: t[[8.         0.06268558 5.        ]], [-7.26120887e-14]\n",
      "{'max_depth': 8, 'min_samples_leaf': 0.0626855819796947, 'n_estimators': 5} score: 0.43896190966438364\n",
      "current accuracy: 0.43896190966438364\n",
      "best accuracy: 0.8755415565641732\n",
      "final res: t[[3.         0.01168518 6.        ]], [-2.64235875e-10]\n"
     ]
    },
    {
     "name": "stderr",
     "output_type": "stream",
     "text": [
      "INFO:root:Iteration 215\n",
      "INFO:root:Iteration 216\n"
     ]
    },
    {
     "name": "stdout",
     "output_type": "stream",
     "text": [
      "{'max_depth': 3, 'min_samples_leaf': 0.011685175334718294, 'n_estimators': 6} score: 0.6439520008927718\n",
      "current accuracy: 0.6439520008927718\n",
      "best accuracy: 0.8755415565641732\n",
      "final res: t[[7.e+00 1.e-03 1.e+00]], [-5.03453144e-05]\n",
      "{'max_depth': 7, 'min_samples_leaf': 0.0010000000000000009, 'n_estimators': 1} score: 0.816176527961867\n",
      "current accuracy: 0.816176527961867\n",
      "best accuracy: 0.8755415565641732\n",
      "final res: t[[7.         0.02468926 9.        ]], [-5.71822817e-08]\n"
     ]
    },
    {
     "name": "stderr",
     "output_type": "stream",
     "text": [
      "INFO:root:Iteration 217\n",
      "INFO:root:Iteration 218\n"
     ]
    },
    {
     "name": "stdout",
     "output_type": "stream",
     "text": [
      "{'max_depth': 7, 'min_samples_leaf': 0.024689264862901444, 'n_estimators': 9} score: 0.6676607427842882\n",
      "current accuracy: 0.6676607427842882\n",
      "best accuracy: 0.8755415565641732\n",
      "final res: t[[5.e+00 1.e-03 1.e+00]], [-3.8520603e-05]\n",
      "{'max_depth': 5, 'min_samples_leaf': 0.0010000000000000009, 'n_estimators': 1} score: 0.7654392260036406\n",
      "current accuracy: 0.7654392260036406\n",
      "best accuracy: 0.8755415565641732\n",
      "final res: t[[9.e+00 1.e-03 1.e+00]], [-4.05693344e-05]\n",
      "{'max_depth': 9, 'min_samples_leaf': 0.0010000000000000009, 'n_estimators': 1} score: 0.8061935672204796\n",
      "current accuracy: 0.8061935672204796\n",
      "best accuracy: 0.8755415565641732\n"
     ]
    },
    {
     "name": "stderr",
     "output_type": "stream",
     "text": [
      "INFO:root:Iteration 219\n",
      "INFO:root:Iteration 220\n",
      "INFO:root:Iteration 221\n"
     ]
    },
    {
     "name": "stdout",
     "output_type": "stream",
     "text": [
      "final res: t[[7.         0.04155528 8.        ]], [-4.86448066e-10]\n",
      "{'max_depth': 7, 'min_samples_leaf': 0.04155527941565631, 'n_estimators': 8} score: 0.537346745571947\n",
      "current accuracy: 0.537346745571947\n",
      "best accuracy: 0.8755415565641732\n",
      "final res: t[[7.       0.021207 5.      ]], [-8.09885894e-08]\n",
      "{'max_depth': 7, 'min_samples_leaf': 0.021206997445273743, 'n_estimators': 5} score: 0.6645301112900597\n",
      "current accuracy: 0.6645301112900597\n",
      "best accuracy: 0.8755415565641732\n"
     ]
    },
    {
     "name": "stderr",
     "output_type": "stream",
     "text": [
      "INFO:root:Iteration 222\n"
     ]
    },
    {
     "name": "stdout",
     "output_type": "stream",
     "text": [
      "final res: t[[7.e+00 1.e-03 7.e+00]], [-0.00504024]\n",
      "{'max_depth': 7, 'min_samples_leaf': 0.001, 'n_estimators': 7} score: 0.8680321664264559\n",
      "current accuracy: 0.8680321664264559\n",
      "best accuracy: 0.8755415565641732\n",
      "final res: t[[6.         0.05753068 9.        ]], [-7.15417641e-11]\n",
      "{'max_depth': 6, 'min_samples_leaf': 0.05753068102264792, 'n_estimators': 9} score: 0.4437079330667782\n",
      "current accuracy: 0.4437079330667782\n",
      "best accuracy: 0.8755415565641732\n"
     ]
    },
    {
     "name": "stderr",
     "output_type": "stream",
     "text": [
      "INFO:root:Iteration 223\n",
      "INFO:root:Iteration 224\n",
      "INFO:root:Iteration 225\n"
     ]
    },
    {
     "name": "stdout",
     "output_type": "stream",
     "text": [
      "final res: t[[5.e+00 1.e-03 5.e+00]], [-9.99840413e-05]\n",
      "{'max_depth': 5, 'min_samples_leaf': 0.0010000000000000009, 'n_estimators': 5} score: 0.8367610139524462\n",
      "current accuracy: 0.8367610139524462\n",
      "best accuracy: 0.8755415565641732\n",
      "final res: t[[8.e+00 1.e-03 3.e+00]], [-0.00111786]\n",
      "{'max_depth': 8, 'min_samples_leaf': 0.001, 'n_estimators': 3} score: 0.8499761078984717\n",
      "current accuracy: 0.8499761078984717\n",
      "best accuracy: 0.8755415565641732\n"
     ]
    },
    {
     "name": "stderr",
     "output_type": "stream",
     "text": [
      "INFO:root:Iteration 226\n",
      "INFO:root:Iteration 227\n"
     ]
    },
    {
     "name": "stdout",
     "output_type": "stream",
     "text": [
      "final res: t[[7.e+00 1.e-03 1.e+00]], [-5.92204668e-05]\n",
      "{'max_depth': 7, 'min_samples_leaf': 0.0010000000000000009, 'n_estimators': 1} score: 0.816176527961867\n",
      "current accuracy: 0.816176527961867\n",
      "best accuracy: 0.8755415565641732\n",
      "final res: t[[8.e+00 1.e-03 1.e+00]], [-9.19550516e-05]\n",
      "{'max_depth': 8, 'min_samples_leaf': 0.001, 'n_estimators': 1} score: 0.8134544573126092\n",
      "current accuracy: 0.8134544573126092\n",
      "best accuracy: 0.8755415565641732\n",
      "final res: t[[5.e+00 1.e-03 2.e+00]], [-6.29197171e-05]\n"
     ]
    },
    {
     "name": "stderr",
     "output_type": "stream",
     "text": [
      "INFO:root:Iteration 228\n",
      "INFO:root:Iteration 229\n"
     ]
    },
    {
     "name": "stdout",
     "output_type": "stream",
     "text": [
      "{'max_depth': 5, 'min_samples_leaf': 0.001, 'n_estimators': 2} score: 0.7973119207470744\n",
      "current accuracy: 0.7973119207470744\n",
      "best accuracy: 0.8755415565641732\n",
      "final res: t[[8.e+00 1.e-03 3.e+00]], [-0.00108117]\n",
      "{'max_depth': 8, 'min_samples_leaf': 0.0010000000000000009, 'n_estimators': 3} score: 0.8499761078984717\n",
      "current accuracy: 0.8499761078984717\n",
      "best accuracy: 0.8755415565641732\n",
      "final res: t[[3.         0.10451408 1.        ]], [-9.56460625e-12]\n"
     ]
    },
    {
     "name": "stderr",
     "output_type": "stream",
     "text": [
      "INFO:root:Iteration 230\n",
      "INFO:root:Iteration 231\n"
     ]
    },
    {
     "name": "stdout",
     "output_type": "stream",
     "text": [
      "{'max_depth': 3, 'min_samples_leaf': 0.10451408490952202, 'n_estimators': 1} score: 0.37323181707782976\n",
      "current accuracy: 0.37323181707782976\n",
      "best accuracy: 0.8755415565641732\n",
      "final res: t[[9.e+00 1.e-03 6.e+00]], [-0.00247067]\n",
      "{'max_depth': 9, 'min_samples_leaf': 0.001, 'n_estimators': 6} score: 0.8669096840290497\n",
      "current accuracy: 0.8669096840290497\n",
      "best accuracy: 0.8755415565641732\n"
     ]
    },
    {
     "name": "stderr",
     "output_type": "stream",
     "text": [
      "INFO:root:Iteration 232\n"
     ]
    },
    {
     "name": "stdout",
     "output_type": "stream",
     "text": [
      "final res: t[[5.         0.04991466 8.        ]], [-7.59224645e-13]\n",
      "{'max_depth': 5, 'min_samples_leaf': 0.04991465972206997, 'n_estimators': 8} score: 0.4522408386932038\n",
      "current accuracy: 0.4522408386932038\n",
      "best accuracy: 0.8755415565641732\n",
      "final res: t[[3.         0.02345839 7.        ]], [-1.71069542e-14]\n",
      "{'max_depth': 3, 'min_samples_leaf': 0.023458388837436745, 'n_estimators': 7} score: 0.650868918037842\n",
      "current accuracy: 0.650868918037842\n",
      "best accuracy: 0.8755415565641732\n"
     ]
    },
    {
     "name": "stderr",
     "output_type": "stream",
     "text": [
      "INFO:root:Iteration 233\n",
      "INFO:root:Iteration 234\n"
     ]
    },
    {
     "name": "stdout",
     "output_type": "stream",
     "text": [
      "final res: t[[7.e+00 1.e-03 7.e+00]], [-0.00484253]\n",
      "{'max_depth': 7, 'min_samples_leaf': 0.001, 'n_estimators': 7} score: 0.8680321664264559\n",
      "current accuracy: 0.8680321664264559\n",
      "best accuracy: 0.8755415565641732\n",
      "final res: t[[8.e+00 1.e-03 7.e+00]], [-0.00579608]\n"
     ]
    },
    {
     "name": "stderr",
     "output_type": "stream",
     "text": [
      "INFO:root:Iteration 235\n",
      "INFO:root:Iteration 236\n"
     ]
    },
    {
     "name": "stdout",
     "output_type": "stream",
     "text": [
      "{'max_depth': 8, 'min_samples_leaf': 0.0010000000000000009, 'n_estimators': 7} score: 0.8694740933811869\n",
      "current accuracy: 0.8694740933811869\n",
      "best accuracy: 0.8755415565641732\n",
      "final res: t[[7.e+00 1.e-03 7.e+00]], [-0.00452604]\n",
      "{'max_depth': 7, 'min_samples_leaf': 0.0010000000000000009, 'n_estimators': 7} score: 0.8680321664264559\n",
      "current accuracy: 0.8680321664264559\n",
      "best accuracy: 0.8755415565641732\n"
     ]
    },
    {
     "name": "stderr",
     "output_type": "stream",
     "text": [
      "INFO:root:Iteration 237\n",
      "INFO:root:Iteration 238\n"
     ]
    },
    {
     "name": "stdout",
     "output_type": "stream",
     "text": [
      "final res: t[[9.         0.03707244 6.        ]], [-7.61975697e-08]\n",
      "{'max_depth': 9, 'min_samples_leaf': 0.037072435589446374, 'n_estimators': 6} score: 0.607572985121903\n",
      "current accuracy: 0.607572985121903\n",
      "best accuracy: 0.8755415565641732\n",
      "final res: t[[9.         0.06323225 3.        ]], [-1.13308268e-08]\n",
      "{'max_depth': 9, 'min_samples_leaf': 0.06323225114549053, 'n_estimators': 3} score: 0.43831492475062017\n",
      "current accuracy: 0.43831492475062017\n",
      "best accuracy: 0.8755415565641732\n"
     ]
    },
    {
     "name": "stderr",
     "output_type": "stream",
     "text": [
      "INFO:root:Iteration 239\n"
     ]
    },
    {
     "name": "stdout",
     "output_type": "stream",
     "text": [
      "final res: t[[7.e+00 1.e-03 6.e+00]], [-0.00057948]\n",
      "{'max_depth': 7, 'min_samples_leaf': 0.0010000000000000009, 'n_estimators': 6} score: 0.8687450607190158\n",
      "current accuracy: 0.8687450607190158\n",
      "best accuracy: 0.8755415565641732\n",
      "final res: t[[4.e+00 1.e-03 9.e+00]], [-1.45681781e-05]\n",
      "{'max_depth': 4, 'min_samples_leaf': 0.001, 'n_estimators': 9} score: 0.7857008642997872\n",
      "current accuracy: 0.7857008642997872\n",
      "best accuracy: 0.8755415565641732\n"
     ]
    },
    {
     "name": "stderr",
     "output_type": "stream",
     "text": [
      "INFO:root:Iteration 240\n",
      "INFO:root:Iteration 241\n"
     ]
    },
    {
     "name": "stdout",
     "output_type": "stream",
     "text": [
      "final res: t[[5.         0.04745907 1.        ]], [-1.58009628e-09]\n",
      "{'max_depth': 5, 'min_samples_leaf': 0.047459074028969844, 'n_estimators': 1} score: 0.4425469606348342\n",
      "current accuracy: 0.4425469606348342\n",
      "best accuracy: 0.8755415565641732\n",
      "final res: t[[7.e+00 1.e-03 7.e+00]], [-0.00423456]\n",
      "{'max_depth': 7, 'min_samples_leaf': 0.001, 'n_estimators': 7} score: 0.8680321664264559\n",
      "current accuracy: 0.8680321664264559\n",
      "best accuracy: 0.8755415565641732\n"
     ]
    },
    {
     "name": "stderr",
     "output_type": "stream",
     "text": [
      "INFO:root:Iteration 242\n",
      "INFO:root:Iteration 243\n"
     ]
    },
    {
     "name": "stdout",
     "output_type": "stream",
     "text": [
      "final res: t[[4.         0.02297153 8.        ]], [-3.1897709e-11]\n",
      "{'max_depth': 4, 'min_samples_leaf': 0.022971533199010054, 'n_estimators': 8} score: 0.673767461140915\n",
      "current accuracy: 0.673767461140915\n",
      "best accuracy: 0.8755415565641732\n",
      "final res: t[[5.         0.07936614 9.        ]], [-3.93575332e-15]\n"
     ]
    },
    {
     "name": "stderr",
     "output_type": "stream",
     "text": [
      "INFO:root:Iteration 244\n",
      "INFO:root:Iteration 245\n"
     ]
    },
    {
     "name": "stdout",
     "output_type": "stream",
     "text": [
      "{'max_depth': 5, 'min_samples_leaf': 0.07936613962165942, 'n_estimators': 9} score: 0.4428246243067866\n",
      "current accuracy: 0.4428246243067866\n",
      "best accuracy: 0.8755415565641732\n",
      "final res: t[[7.         0.01998561 5.        ]], [-8.12685583e-09]\n",
      "{'max_depth': 7, 'min_samples_leaf': 0.019985613114077958, 'n_estimators': 5} score: 0.6801740748008183\n",
      "current accuracy: 0.6801740748008183\n",
      "best accuracy: 0.8755415565641732\n"
     ]
    },
    {
     "name": "stderr",
     "output_type": "stream",
     "text": [
      "INFO:root:Iteration 246\n"
     ]
    },
    {
     "name": "stdout",
     "output_type": "stream",
     "text": [
      "final res: t[[8.         0.04858781 8.        ]], [-1.24453044e-10]\n",
      "{'max_depth': 8, 'min_samples_leaf': 0.04858780563639162, 'n_estimators': 8} score: 0.4573363571292835\n",
      "current accuracy: 0.4573363571292835\n",
      "best accuracy: 0.8755415565641732\n",
      "final res: t[[9.e+00 1.e-03 7.e+00]], [-0.00013246]\n"
     ]
    },
    {
     "name": "stderr",
     "output_type": "stream",
     "text": [
      "INFO:root:Iteration 247\n",
      "INFO:root:Iteration 248\n"
     ]
    },
    {
     "name": "stdout",
     "output_type": "stream",
     "text": [
      "{'max_depth': 9, 'min_samples_leaf': 0.0010000000000000009, 'n_estimators': 7} score: 0.8680416161645595\n",
      "current accuracy: 0.8680416161645595\n",
      "best accuracy: 0.8755415565641732\n",
      "final res: t[[5.e+00 1.e-03 5.e+00]], [-6.38020147e-05]\n",
      "{'max_depth': 5, 'min_samples_leaf': 0.0009999999999999992, 'n_estimators': 5} score: 0.8367610139524462\n",
      "current accuracy: 0.8367610139524462\n",
      "best accuracy: 0.8755415565641732\n"
     ]
    },
    {
     "name": "stderr",
     "output_type": "stream",
     "text": [
      "INFO:root:Iteration 249\n",
      "INFO:root:Iteration 250\n"
     ]
    },
    {
     "name": "stdout",
     "output_type": "stream",
     "text": [
      "final res: t[[6.         0.04248564 3.        ]], [-2.99723519e-11]\n",
      "{'max_depth': 6, 'min_samples_leaf': 0.042485639936569085, 'n_estimators': 3} score: 0.5264053584506516\n",
      "current accuracy: 0.5264053584506516\n",
      "best accuracy: 0.8755415565641732\n",
      "final res: t[[3.         0.03328726 9.        ]], [-1.13405418e-11]\n",
      "{'max_depth': 3, 'min_samples_leaf': 0.033287259230412716, 'n_estimators': 9} score: 0.6270546722812721\n",
      "current accuracy: 0.6270546722812721\n",
      "best accuracy: 0.8755415565641732\n"
     ]
    },
    {
     "name": "stderr",
     "output_type": "stream",
     "text": [
      "INFO:root:Iteration 251\n",
      "INFO:root:Iteration 252\n"
     ]
    },
    {
     "name": "stdout",
     "output_type": "stream",
     "text": [
      "final res: t[[7.e+00 1.e-03 8.e+00]], [-0.00043696]\n",
      "{'max_depth': 7, 'min_samples_leaf': 0.001, 'n_estimators': 8} score: 0.8722919557728218\n",
      "current accuracy: 0.8722919557728218\n",
      "best accuracy: 0.8755415565641732\n",
      "final res: t[[5.        0.0331568 1.       ]], [-1.75434202e-10]\n",
      "{'max_depth': 5, 'min_samples_leaf': 0.03315680471990899, 'n_estimators': 1} score: 0.6114032548171368\n",
      "current accuracy: 0.6114032548171368\n",
      "best accuracy: 0.8755415565641732\n"
     ]
    },
    {
     "name": "stderr",
     "output_type": "stream",
     "text": [
      "INFO:root:Iteration 253\n",
      "INFO:root:Iteration 254\n"
     ]
    },
    {
     "name": "stdout",
     "output_type": "stream",
     "text": [
      "final res: t[[6.         0.02357341 8.        ]], [-9.44849267e-10]\n",
      "{'max_depth': 6, 'min_samples_leaf': 0.02357341359995118, 'n_estimators': 8} score: 0.6731437467893692\n",
      "current accuracy: 0.6731437467893692\n",
      "best accuracy: 0.8755415565641732\n",
      "final res: t[[9.         0.07459508 3.        ]], [-3.00760856e-13]\n",
      "{'max_depth': 9, 'min_samples_leaf': 0.07459507843836598, 'n_estimators': 3} score: 0.43906875640376936\n",
      "current accuracy: 0.43906875640376936\n",
      "best accuracy: 0.8755415565641732\n"
     ]
    },
    {
     "name": "stderr",
     "output_type": "stream",
     "text": [
      "INFO:root:Iteration 255\n",
      "INFO:root:Iteration 256\n"
     ]
    },
    {
     "name": "stdout",
     "output_type": "stream",
     "text": [
      "final res: t[[7.e+00 1.e-03 7.e+00]], [-0.00405005]\n",
      "{'max_depth': 7, 'min_samples_leaf': 0.0010000000000000009, 'n_estimators': 7} score: 0.8680321664264559\n",
      "current accuracy: 0.8680321664264559\n",
      "best accuracy: 0.8755415565641732\n",
      "final res: t[[4.e+00 1.e-03 4.e+00]], [-1.35817674e-06]\n",
      "{'max_depth': 4, 'min_samples_leaf': 0.001, 'n_estimators': 4} score: 0.7691522451664363\n",
      "current accuracy: 0.7691522451664363\n",
      "best accuracy: 0.8755415565641732\n"
     ]
    },
    {
     "name": "stderr",
     "output_type": "stream",
     "text": [
      "INFO:root:Iteration 257\n"
     ]
    },
    {
     "name": "stdout",
     "output_type": "stream",
     "text": [
      "final res: t[[6.e+00 1.e-03 7.e+00]], [-0.00119277]\n",
      "{'max_depth': 6, 'min_samples_leaf': 0.001, 'n_estimators': 7} score: 0.8534690540930964\n",
      "current accuracy: 0.8534690540930964\n",
      "best accuracy: 0.8755415565641732\n",
      "final res: t[[8.e+00 1.e-03 6.e+00]], [-0.00199384]\n",
      "{'max_depth': 8, 'min_samples_leaf': 0.001, 'n_estimators': 6} score: 0.8673190556481261\n",
      "current accuracy: 0.8673190556481261\n",
      "best accuracy: 0.8755415565641732\n"
     ]
    },
    {
     "name": "stderr",
     "output_type": "stream",
     "text": [
      "INFO:root:Iteration 258\n",
      "INFO:root:Iteration 259\n",
      "INFO:root:Iteration 260\n"
     ]
    },
    {
     "name": "stdout",
     "output_type": "stream",
     "text": [
      "final res: t[[9.         0.03441158 7.        ]], [-1.0736553e-08]\n",
      "{'max_depth': 9, 'min_samples_leaf': 0.03441158189841891, 'n_estimators': 7} score: 0.6234411707222259\n",
      "current accuracy: 0.6234411707222259\n",
      "best accuracy: 0.8755415565641732\n",
      "final res: t[[7.e+00 1.e-03 3.e+00]], [-0.00012341]\n",
      "{'max_depth': 7, 'min_samples_leaf': 0.001, 'n_estimators': 3} score: 0.8511314199371329\n",
      "current accuracy: 0.8511314199371329\n",
      "best accuracy: 0.8755415565641732\n"
     ]
    },
    {
     "name": "stderr",
     "output_type": "stream",
     "text": [
      "INFO:root:Iteration 261\n",
      "INFO:root:Iteration 262\n"
     ]
    },
    {
     "name": "stdout",
     "output_type": "stream",
     "text": [
      "final res: t[[4.e+00 1.e-03 7.e+00]], [-2.32202045e-07]\n",
      "{'max_depth': 4, 'min_samples_leaf': 0.001, 'n_estimators': 7} score: 0.7844190903321948\n",
      "current accuracy: 0.7844190903321948\n",
      "best accuracy: 0.8755415565641732\n",
      "final res: t[[9.e+00 1.e-03 4.e+00]], [-4.14933527e-05]\n",
      "{'max_depth': 9, 'min_samples_leaf': 0.0010000000000000009, 'n_estimators': 4} score: 0.8643299044666121\n",
      "current accuracy: 0.8643299044666121\n",
      "best accuracy: 0.8755415565641732\n"
     ]
    },
    {
     "name": "stderr",
     "output_type": "stream",
     "text": [
      "INFO:root:Iteration 263\n",
      "INFO:root:Iteration 264\n"
     ]
    },
    {
     "name": "stdout",
     "output_type": "stream",
     "text": [
      "final res: t[[6.         0.03407903 3.        ]], [-4.14287343e-11]\n",
      "{'max_depth': 6, 'min_samples_leaf': 0.034079029014692806, 'n_estimators': 3} score: 0.6227328768155396\n",
      "current accuracy: 0.6227328768155396\n",
      "best accuracy: 0.8755415565641732\n",
      "final res: t[[9.         0.03183162 2.        ]], [-2.75713417e-08]\n",
      "{'max_depth': 9, 'min_samples_leaf': 0.03183162184869353, 'n_estimators': 2} score: 0.6153143326835211\n",
      "current accuracy: 0.6153143326835211\n",
      "best accuracy: 0.8755415565641732\n"
     ]
    },
    {
     "name": "stderr",
     "output_type": "stream",
     "text": [
      "INFO:root:Iteration 265\n",
      "INFO:root:Iteration 266\n"
     ]
    },
    {
     "name": "stdout",
     "output_type": "stream",
     "text": [
      "final res: t[[8.e+00 1.e-03 1.e+00]], [-0.00028365]\n",
      "{'max_depth': 8, 'min_samples_leaf': 0.0010000000000000009, 'n_estimators': 1} score: 0.8134544573126092\n",
      "current accuracy: 0.8134544573126092\n",
      "best accuracy: 0.8755415565641732\n",
      "final res: t[[8.e+00 1.e-03 6.e+00]], [-0.00214333]\n",
      "{'max_depth': 8, 'min_samples_leaf': 0.001, 'n_estimators': 6} score: 0.8673190556481261\n",
      "current accuracy: 0.8673190556481261\n",
      "best accuracy: 0.8755415565641732\n"
     ]
    },
    {
     "name": "stderr",
     "output_type": "stream",
     "text": [
      "INFO:root:Iteration 267\n",
      "INFO:root:Iteration 268\n"
     ]
    },
    {
     "name": "stdout",
     "output_type": "stream",
     "text": [
      "final res: t[[7.         0.03266207 7.        ]], [-1.23546841e-08]\n",
      "{'max_depth': 7, 'min_samples_leaf': 0.0326620695373114, 'n_estimators': 7} score: 0.6321744257715981\n",
      "current accuracy: 0.6321744257715981\n",
      "best accuracy: 0.8755415565641732\n",
      "final res: t[[8.         0.07073524 1.        ]], [-1.79059123e-11]\n",
      "{'max_depth': 8, 'min_samples_leaf': 0.07073523763350735, 'n_estimators': 1} score: 0.4255788623087369\n",
      "current accuracy: 0.4255788623087369\n",
      "best accuracy: 0.8755415565641732\n"
     ]
    },
    {
     "name": "stderr",
     "output_type": "stream",
     "text": [
      "INFO:root:Iteration 269\n",
      "INFO:root:Iteration 270\n"
     ]
    },
    {
     "name": "stdout",
     "output_type": "stream",
     "text": [
      "final res: t[[9.         0.03094943 2.        ]], [-5.26565848e-09]\n",
      "{'max_depth': 9, 'min_samples_leaf': 0.030949431977812213, 'n_estimators': 2} score: 0.6186964069978311\n",
      "current accuracy: 0.6186964069978311\n",
      "best accuracy: 0.8755415565641732\n",
      "final res: t[[9.e+00 1.e-03 6.e+00]], [-0.00235258]\n",
      "{'max_depth': 9, 'min_samples_leaf': 0.0009999999999999974, 'n_estimators': 6} score: 0.8669096840290497\n",
      "current accuracy: 0.8669096840290497\n",
      "best accuracy: 0.8755415565641732\n"
     ]
    },
    {
     "name": "stderr",
     "output_type": "stream",
     "text": [
      "INFO:root:Iteration 271\n",
      "INFO:root:Iteration 272\n"
     ]
    },
    {
     "name": "stdout",
     "output_type": "stream",
     "text": [
      "final res: t[[9.         0.04050795 4.        ]], [-3.50194562e-11]\n",
      "{'max_depth': 9, 'min_samples_leaf': 0.040507950789299356, 'n_estimators': 4} score: 0.548163829201462\n",
      "current accuracy: 0.548163829201462\n",
      "best accuracy: 0.8755415565641732\n",
      "final res: t[[7.e+00 1.e-03 4.e+00]], [-1.34167744e-05]\n",
      "{'max_depth': 7, 'min_samples_leaf': 0.0010000000000000009, 'n_estimators': 4} score: 0.8640178762387585\n",
      "current accuracy: 0.8640178762387585\n",
      "best accuracy: 0.8755415565641732\n"
     ]
    },
    {
     "name": "stderr",
     "output_type": "stream",
     "text": [
      "INFO:root:Iteration 273\n",
      "INFO:root:Iteration 274\n"
     ]
    },
    {
     "name": "stdout",
     "output_type": "stream",
     "text": [
      "final res: t[[6.         0.03609344 6.        ]], [-4.4817938e-10]\n",
      "{'max_depth': 6, 'min_samples_leaf': 0.03609343533625973, 'n_estimators': 6} score: 0.6196955257352121\n",
      "current accuracy: 0.6196955257352121\n",
      "best accuracy: 0.8755415565641732\n",
      "final res: t[[6.         0.02104471 1.        ]], [-4.29572692e-08]\n",
      "{'max_depth': 6, 'min_samples_leaf': 0.02104470610104376, 'n_estimators': 1} score: 0.6674486955404666\n",
      "current accuracy: 0.6674486955404666\n",
      "best accuracy: 0.8755415565641732\n"
     ]
    },
    {
     "name": "stderr",
     "output_type": "stream",
     "text": [
      "INFO:root:Iteration 275\n",
      "INFO:root:Iteration 276\n"
     ]
    },
    {
     "name": "stdout",
     "output_type": "stream",
     "text": [
      "final res: t[[6.e+00 1.e-03 3.e+00]], [-0.00011593]\n",
      "{'max_depth': 6, 'min_samples_leaf': 0.0009999999999999974, 'n_estimators': 3} score: 0.84208615845852\n",
      "current accuracy: 0.84208615845852\n",
      "best accuracy: 0.8755415565641732\n",
      "final res: t[[8.e+00 1.e-03 6.e+00]], [-0.00317926]\n",
      "{'max_depth': 8, 'min_samples_leaf': 0.001, 'n_estimators': 6} score: 0.8673190556481261\n",
      "current accuracy: 0.8673190556481261\n",
      "best accuracy: 0.8755415565641732\n"
     ]
    },
    {
     "name": "stderr",
     "output_type": "stream",
     "text": [
      "INFO:root:Iteration 277\n",
      "INFO:root:Iteration 278\n"
     ]
    },
    {
     "name": "stdout",
     "output_type": "stream",
     "text": [
      "final res: t[[1.         0.48409422 1.        ]], [-8.35123e-13]\n",
      "{'max_depth': 1, 'min_samples_leaf': 0.4840942150595174, 'n_estimators': 1} score: -0.01911756274176941\n",
      "current accuracy: -0.01911756274176941\n",
      "best accuracy: 0.8755415565641732\n",
      "final res: t[[5.         0.01194549 1.        ]], [-7.58540763e-09]\n",
      "{'max_depth': 5, 'min_samples_leaf': 0.011945490848417822, 'n_estimators': 1} score: 0.7393667946990103\n",
      "current accuracy: 0.7393667946990103\n",
      "best accuracy: 0.8755415565641732\n"
     ]
    },
    {
     "name": "stderr",
     "output_type": "stream",
     "text": [
      "INFO:root:Iteration 279\n"
     ]
    },
    {
     "name": "stdout",
     "output_type": "stream",
     "text": [
      "final res: t[[9.e+00 1.e-03 6.e+00]], [-0.00261725]\n",
      "{'max_depth': 9, 'min_samples_leaf': 0.001, 'n_estimators': 6} score: 0.8669096840290497\n",
      "current accuracy: 0.8669096840290497\n",
      "best accuracy: 0.8755415565641732\n",
      "final res: t[[8.         0.01494499 9.        ]], [-4.43040584e-08]\n"
     ]
    },
    {
     "name": "stderr",
     "output_type": "stream",
     "text": [
      "INFO:root:Iteration 280\n",
      "INFO:root:Iteration 281\n"
     ]
    },
    {
     "name": "stdout",
     "output_type": "stream",
     "text": [
      "{'max_depth': 8, 'min_samples_leaf': 0.014944986839959404, 'n_estimators': 9} score: 0.7378907871356162\n",
      "current accuracy: 0.7378907871356162\n",
      "best accuracy: 0.8755415565641732\n",
      "final res: t[[4.e+00 1.e-03 9.e+00]], [-3.97787792e-06]\n",
      "{'max_depth': 4, 'min_samples_leaf': 0.0009999999999999992, 'n_estimators': 9} score: 0.7857008642997872\n",
      "current accuracy: 0.7857008642997872\n",
      "best accuracy: 0.8755415565641732\n"
     ]
    },
    {
     "name": "stderr",
     "output_type": "stream",
     "text": [
      "INFO:root:Iteration 282\n",
      "INFO:root:Iteration 283\n"
     ]
    },
    {
     "name": "stdout",
     "output_type": "stream",
     "text": [
      "final res: t[[6.         0.03900205 2.        ]], [-1.06216181e-08]\n",
      "{'max_depth': 6, 'min_samples_leaf': 0.03900205166068658, 'n_estimators': 2} score: 0.5758946200477172\n",
      "current accuracy: 0.5758946200477172\n",
      "best accuracy: 0.8755415565641732\n",
      "final res: t[[4.         0.00649948 1.        ]], [-4.01654534e-10]\n",
      "{'max_depth': 4, 'min_samples_leaf': 0.00649948484767981, 'n_estimators': 1} score: 0.7407331621852837\n",
      "current accuracy: 0.7407331621852837\n",
      "best accuracy: 0.8755415565641732\n"
     ]
    },
    {
     "name": "stderr",
     "output_type": "stream",
     "text": [
      "INFO:root:Iteration 284\n"
     ]
    },
    {
     "name": "stdout",
     "output_type": "stream",
     "text": [
      "final res: t[[3.         0.01043132 5.        ]], [-2.66321519e-09]\n",
      "{'max_depth': 3, 'min_samples_leaf': 0.010431316211074848, 'n_estimators': 5} score: 0.6317242683447801\n",
      "current accuracy: 0.6317242683447801\n",
      "best accuracy: 0.8755415565641732\n",
      "final res: t[[4.e+00 1.e-03 9.e+00]], [-3.01815865e-06]\n",
      "{'max_depth': 4, 'min_samples_leaf': 0.0010000000000000009, 'n_estimators': 9} score: 0.7857008642997872\n",
      "current accuracy: 0.7857008642997872\n",
      "best accuracy: 0.8755415565641732\n"
     ]
    },
    {
     "name": "stderr",
     "output_type": "stream",
     "text": [
      "INFO:root:Iteration 285\n",
      "INFO:root:Iteration 286\n",
      "INFO:root:Iteration 287\n"
     ]
    },
    {
     "name": "stdout",
     "output_type": "stream",
     "text": [
      "final res: t[[7.e+00 1.e-03 3.e+00]], [-0.0002738]\n",
      "{'max_depth': 7, 'min_samples_leaf': 0.001, 'n_estimators': 3} score: 0.8511314199371329\n",
      "current accuracy: 0.8511314199371329\n",
      "best accuracy: 0.8755415565641732\n",
      "final res: t[[4.         0.03812923 6.        ]], [-8.17292311e-10]\n",
      "{'max_depth': 4, 'min_samples_leaf': 0.03812923030712016, 'n_estimators': 6} score: 0.5918919089457153\n",
      "current accuracy: 0.5918919089457153\n",
      "best accuracy: 0.8755415565641732\n"
     ]
    },
    {
     "name": "stderr",
     "output_type": "stream",
     "text": [
      "INFO:root:Iteration 288\n"
     ]
    },
    {
     "name": "stdout",
     "output_type": "stream",
     "text": [
      "final res: t[[7.         0.01857669 9.        ]], [-1.73823961e-08]\n",
      "{'max_depth': 7, 'min_samples_leaf': 0.018576692795357768, 'n_estimators': 9} score: 0.6907935617047513\n",
      "current accuracy: 0.6907935617047513\n",
      "best accuracy: 0.8755415565641732\n",
      "final res: t[[8.e+00 1.e-03 6.e+00]], [-0.0033388]\n"
     ]
    },
    {
     "name": "stderr",
     "output_type": "stream",
     "text": [
      "INFO:root:Iteration 289\n",
      "INFO:root:Iteration 290\n"
     ]
    },
    {
     "name": "stdout",
     "output_type": "stream",
     "text": [
      "{'max_depth': 8, 'min_samples_leaf': 0.0009999999999999974, 'n_estimators': 6} score: 0.8673190556481261\n",
      "current accuracy: 0.8673190556481261\n",
      "best accuracy: 0.8755415565641732\n",
      "final res: t[[6.e+00 1.e-03 6.e+00]], [-0.0002959]\n",
      "{'max_depth': 6, 'min_samples_leaf': 0.001, 'n_estimators': 6} score: 0.8542301603354392\n",
      "current accuracy: 0.8542301603354392\n",
      "best accuracy: 0.8755415565641732\n"
     ]
    },
    {
     "name": "stderr",
     "output_type": "stream",
     "text": [
      "INFO:root:Iteration 291\n",
      "INFO:root:Iteration 292\n"
     ]
    },
    {
     "name": "stdout",
     "output_type": "stream",
     "text": [
      "final res: t[[5.e+00 1.e-03 7.e+00]], [-0.00011247]\n",
      "{'max_depth': 5, 'min_samples_leaf': 0.0010000000000000009, 'n_estimators': 7} score: 0.837046719025978\n",
      "current accuracy: 0.837046719025978\n",
      "best accuracy: 0.8755415565641732\n",
      "final res: t[[8.e+00 1.e-03 1.e+00]], [-5.06563923e-05]\n",
      "{'max_depth': 8, 'min_samples_leaf': 0.001, 'n_estimators': 1} score: 0.8134544573126092\n",
      "current accuracy: 0.8134544573126092\n",
      "best accuracy: 0.8755415565641732\n"
     ]
    },
    {
     "name": "stderr",
     "output_type": "stream",
     "text": [
      "INFO:root:Iteration 293\n",
      "INFO:root:Iteration 294\n"
     ]
    },
    {
     "name": "stdout",
     "output_type": "stream",
     "text": [
      "final res: t[[8.         0.04319594 4.        ]], [-5.40035281e-12]\n",
      "{'max_depth': 8, 'min_samples_leaf': 0.04319594189034306, 'n_estimators': 4} score: 0.5227128600459485\n",
      "current accuracy: 0.5227128600459485\n",
      "best accuracy: 0.8755415565641732\n",
      "final res: t[[8.e+00 1.e-03 3.e+00]], [-9.54770315e-05]\n",
      "{'max_depth': 8, 'min_samples_leaf': 0.001, 'n_estimators': 3} score: 0.8499761078984717\n",
      "current accuracy: 0.8499761078984717\n",
      "best accuracy: 0.8755415565641732\n"
     ]
    },
    {
     "name": "stderr",
     "output_type": "stream",
     "text": [
      "INFO:root:Iteration 295\n"
     ]
    },
    {
     "name": "stdout",
     "output_type": "stream",
     "text": [
      "final res: t[[9.        0.0314792 9.       ]], [-5.50288466e-10]\n",
      "{'max_depth': 9, 'min_samples_leaf': 0.03147919897573908, 'n_estimators': 9} score: 0.6282208481041067\n",
      "current accuracy: 0.6282208481041067\n",
      "best accuracy: 0.8755415565641732\n",
      "final res: t[[4.         0.00592849 2.        ]], [-2.30529834e-09]\n",
      "{'max_depth': 4, 'min_samples_leaf': 0.005928491285226087, 'n_estimators': 2} score: 0.7404069076524386\n",
      "current accuracy: 0.7404069076524386\n",
      "best accuracy: 0.8755415565641732\n"
     ]
    },
    {
     "name": "stderr",
     "output_type": "stream",
     "text": [
      "INFO:root:Iteration 296\n",
      "INFO:root:Iteration 297\n"
     ]
    },
    {
     "name": "stdout",
     "output_type": "stream",
     "text": [
      "final res: t[[7.e+00 1.e-03 4.e+00]], [-9.08626951e-06]\n",
      "{'max_depth': 7, 'min_samples_leaf': 0.0010000000000000009, 'n_estimators': 4} score: 0.8640178762387585\n",
      "current accuracy: 0.8640178762387585\n",
      "best accuracy: 0.8755415565641732\n",
      "final res: t[[4.       0.009953 7.      ]], [-7.04661833e-09]\n"
     ]
    },
    {
     "name": "stderr",
     "output_type": "stream",
     "text": [
      "INFO:root:Iteration 298\n",
      "INFO:root:Iteration 299\n"
     ]
    },
    {
     "name": "stdout",
     "output_type": "stream",
     "text": [
      "{'max_depth': 4, 'min_samples_leaf': 0.009952995134891344, 'n_estimators': 7} score: 0.7677858054977028\n",
      "current accuracy: 0.7677858054977028\n",
      "best accuracy: 0.8755415565641732\n",
      "final res: t[[3.         0.02357457 2.        ]], [-1.18362224e-13]\n",
      "{'max_depth': 3, 'min_samples_leaf': 0.02357457301343041, 'n_estimators': 2} score: 0.6161170232723185\n",
      "current accuracy: 0.6161170232723185\n",
      "best accuracy: 0.8755415565641732\n"
     ]
    },
    {
     "name": "stderr",
     "output_type": "stream",
     "text": [
      "INFO:root:Best result 0.8755415565641732: Params: [8.e+00 1.e-03 8.e+00]\n",
      "INFO:root:Best result 0.8755415565641732: Params: {'max_depth': 8.0, 'min_samples_leaf': 0.0010000000000000009, 'n_estimators': 8.0}\n"
     ]
    },
    {
     "name": "stdout",
     "output_type": "stream",
     "text": [
      "final res: t[[5.e+00 1.e-03 5.e+00]], [-4.98631374e-05]\n",
      "{'max_depth': 5, 'min_samples_leaf': 0.0009999999999999992, 'n_estimators': 5} score: 0.8367610139524462\n",
      "current accuracy: 0.8367610139524462\n",
      "best accuracy: 0.8755415565641732\n"
     ]
    },
    {
     "data": {
      "text/plain": [
       "<bayesian_hyperparameter_optimisation_3.BayesianOptimisation at 0x1a1b5e00b8>"
      ]
     },
     "execution_count": 330,
     "metadata": {},
     "output_type": "execute_result"
    }
   ],
   "source": [
    "# --- Define our hyper parameter space as a dictionary. \n",
    "\n",
    "# Use the names of the hyper parameters as the keys\n",
    "# Values should be a list for discrete values and [lower_bound,upper_bound] for continuous\n",
    "hps = {\n",
    "    'n_estimators':range(1,10),\n",
    "    'max_depth':range(1,10),\n",
    "    'min_samples_leaf': [0.001, 0.5]\n",
    "}\n",
    "\n",
    "training_size = 1000\n",
    "X_train = 15*np.random.uniform(size=(1000,len(hps)))\n",
    "# Generate noisy data from a 2D gaussian defined above\n",
    "y_train = generate_noisy_data_from_bivariate_gaussian_nd(X_train, mu = [5, 10, 15], sig = [1, 5, 10])\n",
    "y_train = y_train.ravel()\n",
    "\n",
    "# --- Run the Bayesian Optimisation Code\n",
    "\n",
    "BOout = BayesianOptimisation(\n",
    "    hps=hps,\n",
    "    MLmodel = RandomForestRegressor(random_state=42),\n",
    "    NpI = 5,\n",
    "    Niter = 300,\n",
    "    y_train = y_train,\n",
    "    X_train = X_train,\n",
    "    n_restarts = 30,\n",
    "    optim_rout = 'random_search',\n",
    "    noise = 0.01\n",
    ")\n",
    "BOout.optimise()"
   ]
  },
  {
   "cell_type": "code",
   "execution_count": 331,
   "metadata": {},
   "outputs": [
    {
     "data": {
      "image/png": "[encoded data removed]",
      "text/plain": [
       "<Figure size 1152x720 with 3 Axes>"
      ]
     },
     "metadata": {
      "needs_background": "dark"
     },
     "output_type": "display_data"
    }
   ],
   "source": [
    "BOout.hyperparameter_convergence_plots()"
   ]
  },
  {
   "cell_type": "code",
   "execution_count": 332,
   "metadata": {},
   "outputs": [
    {
     "data": {
      "image/png": "[encoded data removed]",
      "text/plain": [
       "<Figure size 720x504 with 1 Axes>"
      ]
     },
     "metadata": {
      "needs_background": "dark"
     },
     "output_type": "display_data"
    }
   ],
   "source": [
    "BOout.model_accuracy_convergence_plot()"
   ]
  },
  {
   "cell_type": "code",
   "execution_count": 333,
   "metadata": {},
   "outputs": [
    {
     "data": {
      "text/plain": [
       "array([8.e+00, 1.e-03, 8.e+00])"
      ]
     },
     "execution_count": 333,
     "metadata": {},
     "output_type": "execute_result"
    }
   ],
   "source": [
    "BOout.best_params_vals"
   ]
  },
  {
   "cell_type": "markdown",
   "metadata": {},
   "source": [
    "# Ignore this for now..."
   ]
  },
  {
   "cell_type": "code",
   "execution_count": 165,
   "metadata": {},
   "outputs": [
    {
     "ename": "ValueError",
     "evalue": "XA and XB must have the same number of columns (i.e. feature dimension.)",
     "output_type": "error",
     "traceback": [
      "\u001b[0;31m---------------------------------------------------------------------------\u001b[0m",
      "\u001b[0;31mValueError\u001b[0m                                Traceback (most recent call last)",
      "\u001b[0;32m<ipython-input-165-9afb3bfe3cee>\u001b[0m in \u001b[0;36m<module>\u001b[0;34m\u001b[0m\n\u001b[1;32m      6\u001b[0m \u001b[0mnoise\u001b[0m \u001b[0;34m=\u001b[0m \u001b[0;36m0.001\u001b[0m\u001b[0;34m\u001b[0m\u001b[0;34m\u001b[0m\u001b[0m\n\u001b[1;32m      7\u001b[0m \u001b[0;31m# x=np.linspace(0.1, 0.5).reshape(-1,1)\u001b[0m\u001b[0;34m\u001b[0m\u001b[0;34m\u001b[0m\u001b[0;34m\u001b[0m\u001b[0m\n\u001b[0;32m----> 8\u001b[0;31m \u001b[0my\u001b[0m\u001b[0;34m,\u001b[0m \u001b[0mstd\u001b[0m \u001b[0;34m=\u001b[0m \u001b[0mBOout\u001b[0m\u001b[0;34m.\u001b[0m\u001b[0mgpr\u001b[0m\u001b[0;34m.\u001b[0m\u001b[0mpredict\u001b[0m\u001b[0;34m(\u001b[0m\u001b[0mX\u001b[0m\u001b[0;34m,\u001b[0m \u001b[0mreturn_std\u001b[0m\u001b[0;34m=\u001b[0m\u001b[0;32mTrue\u001b[0m\u001b[0;34m)\u001b[0m\u001b[0;34m\u001b[0m\u001b[0;34m\u001b[0m\u001b[0m\n\u001b[0m\u001b[1;32m      9\u001b[0m \u001b[0my1\u001b[0m\u001b[0;34m,\u001b[0m \u001b[0mstd1\u001b[0m \u001b[0;34m=\u001b[0m \u001b[0mGaussianProcessRegressor\u001b[0m\u001b[0;34m(\u001b[0m\u001b[0mkernel\u001b[0m\u001b[0;34m=\u001b[0m\u001b[0mMatern\u001b[0m\u001b[0;34m,\u001b[0m \u001b[0malpha\u001b[0m\u001b[0;34m=\u001b[0m\u001b[0;36m0.1\u001b[0m\u001b[0;34m)\u001b[0m\u001b[0;34m.\u001b[0m\u001b[0mfit\u001b[0m\u001b[0;34m(\u001b[0m\u001b[0mBOout\u001b[0m\u001b[0;34m.\u001b[0m\u001b[0mXt\u001b[0m\u001b[0;34m[\u001b[0m\u001b[0;34m:\u001b[0m\u001b[0;34m,\u001b[0m \u001b[0;36m1\u001b[0m\u001b[0;34m]\u001b[0m\u001b[0;34m.\u001b[0m\u001b[0mreshape\u001b[0m\u001b[0;34m(\u001b[0m\u001b[0;34m-\u001b[0m\u001b[0;36m1\u001b[0m\u001b[0;34m,\u001b[0m \u001b[0;36m1\u001b[0m\u001b[0;34m)\u001b[0m\u001b[0;34m,\u001b[0m \u001b[0mBOout\u001b[0m\u001b[0;34m.\u001b[0m\u001b[0mYt\u001b[0m\u001b[0;34m)\u001b[0m\u001b[0;34m.\u001b[0m\u001b[0mpredict\u001b[0m\u001b[0;34m(\u001b[0m\u001b[0mX\u001b[0m\u001b[0;34m[\u001b[0m\u001b[0;34m:\u001b[0m\u001b[0;34m,\u001b[0m\u001b[0;36m1\u001b[0m\u001b[0;34m]\u001b[0m\u001b[0;34m.\u001b[0m\u001b[0mreshape\u001b[0m\u001b[0;34m(\u001b[0m\u001b[0;34m-\u001b[0m\u001b[0;36m1\u001b[0m\u001b[0;34m,\u001b[0m \u001b[0;36m1\u001b[0m\u001b[0;34m)\u001b[0m\u001b[0;34m,\u001b[0m \u001b[0mreturn_std\u001b[0m\u001b[0;34m=\u001b[0m\u001b[0;32mTrue\u001b[0m\u001b[0;34m)\u001b[0m\u001b[0;34m\u001b[0m\u001b[0;34m\u001b[0m\u001b[0m\n\u001b[1;32m     10\u001b[0m \u001b[0mplt\u001b[0m\u001b[0;34m.\u001b[0m\u001b[0mplot\u001b[0m\u001b[0;34m(\u001b[0m\u001b[0mX\u001b[0m\u001b[0;34m[\u001b[0m\u001b[0;34m:\u001b[0m\u001b[0;34m,\u001b[0m\u001b[0;36m1\u001b[0m\u001b[0;34m]\u001b[0m\u001b[0;34m,\u001b[0m \u001b[0my\u001b[0m\u001b[0;34m)\u001b[0m\u001b[0;34m\u001b[0m\u001b[0;34m\u001b[0m\u001b[0m\n",
      "\u001b[0;32m/anaconda3/lib/python3.6/site-packages/sklearn/gaussian_process/gpr.py\u001b[0m in \u001b[0;36mpredict\u001b[0;34m(self, X, return_std, return_cov)\u001b[0m\n\u001b[1;32m    319\u001b[0m                 \u001b[0;32mreturn\u001b[0m \u001b[0my_mean\u001b[0m\u001b[0;34m\u001b[0m\u001b[0;34m\u001b[0m\u001b[0m\n\u001b[1;32m    320\u001b[0m         \u001b[0;32melse\u001b[0m\u001b[0;34m:\u001b[0m  \u001b[0;31m# Predict based on GP posterior\u001b[0m\u001b[0;34m\u001b[0m\u001b[0;34m\u001b[0m\u001b[0m\n\u001b[0;32m--> 321\u001b[0;31m             \u001b[0mK_trans\u001b[0m \u001b[0;34m=\u001b[0m \u001b[0mself\u001b[0m\u001b[0;34m.\u001b[0m\u001b[0mkernel_\u001b[0m\u001b[0;34m(\u001b[0m\u001b[0mX\u001b[0m\u001b[0;34m,\u001b[0m \u001b[0mself\u001b[0m\u001b[0;34m.\u001b[0m\u001b[0mX_train_\u001b[0m\u001b[0;34m)\u001b[0m\u001b[0;34m\u001b[0m\u001b[0;34m\u001b[0m\u001b[0m\n\u001b[0m\u001b[1;32m    322\u001b[0m             \u001b[0my_mean\u001b[0m \u001b[0;34m=\u001b[0m \u001b[0mK_trans\u001b[0m\u001b[0;34m.\u001b[0m\u001b[0mdot\u001b[0m\u001b[0;34m(\u001b[0m\u001b[0mself\u001b[0m\u001b[0;34m.\u001b[0m\u001b[0malpha_\u001b[0m\u001b[0;34m)\u001b[0m  \u001b[0;31m# Line 4 (y_mean = f_star)\u001b[0m\u001b[0;34m\u001b[0m\u001b[0;34m\u001b[0m\u001b[0m\n\u001b[1;32m    323\u001b[0m             \u001b[0my_mean\u001b[0m \u001b[0;34m=\u001b[0m \u001b[0mself\u001b[0m\u001b[0;34m.\u001b[0m\u001b[0m_y_train_mean\u001b[0m \u001b[0;34m+\u001b[0m \u001b[0my_mean\u001b[0m  \u001b[0;31m# undo normal.\u001b[0m\u001b[0;34m\u001b[0m\u001b[0;34m\u001b[0m\u001b[0m\n",
      "\u001b[0;32m/anaconda3/lib/python3.6/site-packages/sklearn/gaussian_process/kernels.py\u001b[0m in \u001b[0;36m__call__\u001b[0;34m(self, X, Y, eval_gradient)\u001b[0m\n\u001b[1;32m   1332\u001b[0m                     \"Gradient can only be evaluated when Y is None.\")\n\u001b[1;32m   1333\u001b[0m             dists = cdist(X / length_scale, Y / length_scale,\n\u001b[0;32m-> 1334\u001b[0;31m                           metric='euclidean')\n\u001b[0m\u001b[1;32m   1335\u001b[0m \u001b[0;34m\u001b[0m\u001b[0m\n\u001b[1;32m   1336\u001b[0m         \u001b[0;32mif\u001b[0m \u001b[0mself\u001b[0m\u001b[0;34m.\u001b[0m\u001b[0mnu\u001b[0m \u001b[0;34m==\u001b[0m \u001b[0;36m0.5\u001b[0m\u001b[0;34m:\u001b[0m\u001b[0;34m\u001b[0m\u001b[0;34m\u001b[0m\u001b[0m\n",
      "\u001b[0;32m/anaconda3/lib/python3.6/site-packages/scipy/spatial/distance.py\u001b[0m in \u001b[0;36mcdist\u001b[0;34m(XA, XB, metric, *args, **kwargs)\u001b[0m\n\u001b[1;32m   2700\u001b[0m         \u001b[0;32mraise\u001b[0m \u001b[0mValueError\u001b[0m\u001b[0;34m(\u001b[0m\u001b[0;34m'XB must be a 2-dimensional array.'\u001b[0m\u001b[0;34m)\u001b[0m\u001b[0;34m\u001b[0m\u001b[0;34m\u001b[0m\u001b[0m\n\u001b[1;32m   2701\u001b[0m     \u001b[0;32mif\u001b[0m \u001b[0ms\u001b[0m\u001b[0;34m[\u001b[0m\u001b[0;36m1\u001b[0m\u001b[0;34m]\u001b[0m \u001b[0;34m!=\u001b[0m \u001b[0msB\u001b[0m\u001b[0;34m[\u001b[0m\u001b[0;36m1\u001b[0m\u001b[0;34m]\u001b[0m\u001b[0;34m:\u001b[0m\u001b[0;34m\u001b[0m\u001b[0;34m\u001b[0m\u001b[0m\n\u001b[0;32m-> 2702\u001b[0;31m         raise ValueError('XA and XB must have the same number of columns '\n\u001b[0m\u001b[1;32m   2703\u001b[0m                          '(i.e. feature dimension.)')\n\u001b[1;32m   2704\u001b[0m \u001b[0;34m\u001b[0m\u001b[0m\n",
      "\u001b[0;31mValueError\u001b[0m: XA and XB must have the same number of columns (i.e. feature dimension.)"
     ]
    }
   ],
   "source": [
    "# X = np.zeros((ndim, len(hps)))\n",
    "# X[:, 0] = np.random.choice(hps[sorted(hps)[0]], size = ndim)#BOout.best_params_vals[0]\n",
    "# X[:, 1] = np.linspace(0.1, 0.5, ndim)\n",
    "# X[:, 2] = np.random.choice(hps[sorted(hps)[2]], size = ndim)#BOout.best_params_vals[2]\n",
    "\n",
    "noise = 0.001\n",
    "# x=np.linspace(0.1, 0.5).reshape(-1,1)\n",
    "y, std = BOout.gpr.predict(X, return_std=True)\n",
    "y1, std1 = GaussianProcessRegressor(kernel=RBF(), alpha=0.1).fit(BOout.Xt[:, 1].reshape(-1, 1), BOout.Yt).predict(X[:,1].reshape(-1, 1), return_std=True)\n",
    "plt.plot(X[:,1], y)\n",
    "# plt.plot(X[:,1], y - std, '--')\n",
    "# plt.plot(X[:,1], y + std, '--')\n",
    "plt.plot(BOout.Xt[:,1], BOout.Yt, '.')\n",
    "plt.plot(X[:,1], y1, '.')"
   ]
  },
  {
   "cell_type": "code",
   "execution_count": 175,
   "metadata": {},
   "outputs": [
    {
     "data": {
      "text/plain": [
       "[<matplotlib.lines.Line2D at 0x1a1b5a9a20>]"
      ]
     },
     "execution_count": 175,
     "metadata": {},
     "output_type": "execute_result"
    },
    {
     "data": {
      "image/png": "[encoded data removed]",
      "text/plain": [
       "<Figure size 432x288 with 1 Axes>"
      ]
     },
     "metadata": {
      "needs_background": "dark"
     },
     "output_type": "display_data"
    }
   ],
   "source": [
    "ndim = BOout.Xt.shape[0]\n",
    "\n",
    "X = np.zeros((ndim, 4))\n",
    "X[:, 0] = np.linspace(0.01, 0.5, ndim)\n",
    "for i in range(1, 4):\n",
    "    X[:, i] = i\n",
    "    \n",
    "plot_i = 1\n",
    "y, std = BOout.gpr.predict(X[:, [0, plot_i]], return_std=True)\n",
    "plot_i = 2\n",
    "y_, std_ = BOout.gpr.predict(X[:, [0, plot_i]], return_std=True)\n",
    "plot_i = 3\n",
    "y__, std__ = BOout.gpr.predict(X[:, [0, plot_i]], return_std=True)\n",
    "\n",
    "y1, std1 = GaussianProcessRegressor(kernel=Matern(), alpha=0.0125).fit(BOout.Xt[:, 0].reshape(-1, 1), BOout.Yt)\\\n",
    "    .predict(X[:,[0]], return_std=True)\n",
    "\n",
    "plt.plot(X[:,0], y, color = 'steelblue', linewidth = 3)\n",
    "plt.plot(X[:,0], y_, '--', color = 'steelblue', linewidth = 3)\n",
    "plt.plot(X[:,0], y__, '-.', color = 'steelblue', linewidth = 3)\n",
    "plt.plot(BOout.Xt[:,0], BOout.Yt, '.', color = 'sandybrown', markersize = 12)\n",
    "plt.plot(X[:,0], y1, color = 'forestgreen', linewidth = 3)"
   ]
  },
  {
   "cell_type": "code",
   "execution_count": 143,
   "metadata": {},
   "outputs": [
    {
     "data": {
      "text/plain": [
       "[<matplotlib.lines.Line2D at 0x109809e48>]"
      ]
     },
     "execution_count": 143,
     "metadata": {},
     "output_type": "execute_result"
    },
    {
     "data": {
      "image/png": "[encoded data removed]",
      "text/plain": [
       "<Figure size 432x288 with 1 Axes>"
      ]
     },
     "metadata": {
      "needs_background": "dark"
     },
     "output_type": "display_data"
    }
   ],
   "source": [
    "plt.plot(BOout.Xt[BOout.Xt[:, 1] == 1, 0], BOout.Yt[BOout.Xt[:, 1] == 1], 'x', color = 'sandybrown', markersize = 12)\n",
    "plt.plot(BOout.Xt[BOout.Xt[:, 1] == 2, 0], BOout.Yt[BOout.Xt[:, 1] == 2], '.', color = 'sandybrown', markersize = 12)\n",
    "plt.plot(BOout.Xt[BOout.Xt[:, 1] == 3, 0], BOout.Yt[BOout.Xt[:, 1] == 3], '+', color = 'sandybrown', markersize = 12)"
   ]
  },
  {
   "cell_type": "code",
   "execution_count": null,
   "metadata": {},
   "outputs": [],
   "source": []
  },
  {
   "cell_type": "code",
   "execution_count": 26,
   "metadata": {},
   "outputs": [
    {
     "ename": "ValueError",
     "evalue": "XA and XB must have the same number of columns (i.e. feature dimension.)",
     "output_type": "error",
     "traceback": [
      "\u001b[0;31m---------------------------------------------------------------------------\u001b[0m",
      "\u001b[0;31mValueError\u001b[0m                                Traceback (most recent call last)",
      "\u001b[0;32m<ipython-input-26-c15106b2c9a7>\u001b[0m in \u001b[0;36m<module>\u001b[0;34m\u001b[0m\n\u001b[1;32m      1\u001b[0m \u001b[0mnoise\u001b[0m \u001b[0;34m=\u001b[0m \u001b[0;36m0.001\u001b[0m\u001b[0;34m\u001b[0m\u001b[0;34m\u001b[0m\u001b[0m\n\u001b[1;32m      2\u001b[0m \u001b[0;31m# x=np.linspace(0.1, 0.5).reshape(-1,1)\u001b[0m\u001b[0;34m\u001b[0m\u001b[0;34m\u001b[0m\u001b[0;34m\u001b[0m\u001b[0m\n\u001b[0;32m----> 3\u001b[0;31m \u001b[0my\u001b[0m\u001b[0;34m,\u001b[0m \u001b[0mstd\u001b[0m \u001b[0;34m=\u001b[0m \u001b[0mBOout\u001b[0m\u001b[0;34m.\u001b[0m\u001b[0mgpr\u001b[0m\u001b[0;34m.\u001b[0m\u001b[0mpredict\u001b[0m\u001b[0;34m(\u001b[0m\u001b[0mX\u001b[0m\u001b[0;34m,\u001b[0m \u001b[0mreturn_std\u001b[0m\u001b[0;34m=\u001b[0m\u001b[0;32mTrue\u001b[0m\u001b[0;34m)\u001b[0m\u001b[0;34m\u001b[0m\u001b[0;34m\u001b[0m\u001b[0m\n\u001b[0m\u001b[1;32m      4\u001b[0m \u001b[0my1\u001b[0m\u001b[0;34m,\u001b[0m \u001b[0mstd1\u001b[0m \u001b[0;34m=\u001b[0m \u001b[0mGaussianProcessRegressor\u001b[0m\u001b[0;34m(\u001b[0m\u001b[0mkernel\u001b[0m\u001b[0;34m=\u001b[0m\u001b[0mRBF\u001b[0m\u001b[0;34m(\u001b[0m\u001b[0;34m)\u001b[0m\u001b[0;34m,\u001b[0m \u001b[0malpha\u001b[0m\u001b[0;34m=\u001b[0m\u001b[0;36m0.1\u001b[0m\u001b[0;34m)\u001b[0m\u001b[0;34m.\u001b[0m\u001b[0mfit\u001b[0m\u001b[0;34m(\u001b[0m\u001b[0mBOout\u001b[0m\u001b[0;34m.\u001b[0m\u001b[0mXt\u001b[0m\u001b[0;34m[\u001b[0m\u001b[0;34m:\u001b[0m\u001b[0;34m,\u001b[0m \u001b[0;36m1\u001b[0m\u001b[0;34m]\u001b[0m\u001b[0;34m.\u001b[0m\u001b[0mreshape\u001b[0m\u001b[0;34m(\u001b[0m\u001b[0;34m-\u001b[0m\u001b[0;36m1\u001b[0m\u001b[0;34m,\u001b[0m \u001b[0;36m1\u001b[0m\u001b[0;34m)\u001b[0m\u001b[0;34m,\u001b[0m \u001b[0mBOout\u001b[0m\u001b[0;34m.\u001b[0m\u001b[0mYt\u001b[0m\u001b[0;34m)\u001b[0m\u001b[0;34m.\u001b[0m\u001b[0mpredict\u001b[0m\u001b[0;34m(\u001b[0m\u001b[0mX\u001b[0m\u001b[0;34m[\u001b[0m\u001b[0;34m:\u001b[0m\u001b[0;34m,\u001b[0m\u001b[0;36m1\u001b[0m\u001b[0;34m]\u001b[0m\u001b[0;34m.\u001b[0m\u001b[0mreshape\u001b[0m\u001b[0;34m(\u001b[0m\u001b[0;34m-\u001b[0m\u001b[0;36m1\u001b[0m\u001b[0;34m,\u001b[0m \u001b[0;36m1\u001b[0m\u001b[0;34m)\u001b[0m\u001b[0;34m,\u001b[0m \u001b[0mreturn_std\u001b[0m\u001b[0;34m=\u001b[0m\u001b[0;32mTrue\u001b[0m\u001b[0;34m)\u001b[0m\u001b[0;34m\u001b[0m\u001b[0;34m\u001b[0m\u001b[0m\n\u001b[1;32m      5\u001b[0m \u001b[0mplt\u001b[0m\u001b[0;34m.\u001b[0m\u001b[0mplot\u001b[0m\u001b[0;34m(\u001b[0m\u001b[0mX\u001b[0m\u001b[0;34m[\u001b[0m\u001b[0;34m:\u001b[0m\u001b[0;34m,\u001b[0m\u001b[0;36m1\u001b[0m\u001b[0;34m]\u001b[0m\u001b[0;34m,\u001b[0m \u001b[0my\u001b[0m\u001b[0;34m)\u001b[0m\u001b[0;34m\u001b[0m\u001b[0;34m\u001b[0m\u001b[0m\n",
      "\u001b[0;32m/anaconda3/lib/python3.6/site-packages/sklearn/gaussian_process/gpr.py\u001b[0m in \u001b[0;36mpredict\u001b[0;34m(self, X, return_std, return_cov)\u001b[0m\n\u001b[1;32m    319\u001b[0m                 \u001b[0;32mreturn\u001b[0m \u001b[0my_mean\u001b[0m\u001b[0;34m\u001b[0m\u001b[0;34m\u001b[0m\u001b[0m\n\u001b[1;32m    320\u001b[0m         \u001b[0;32melse\u001b[0m\u001b[0;34m:\u001b[0m  \u001b[0;31m# Predict based on GP posterior\u001b[0m\u001b[0;34m\u001b[0m\u001b[0;34m\u001b[0m\u001b[0m\n\u001b[0;32m--> 321\u001b[0;31m             \u001b[0mK_trans\u001b[0m \u001b[0;34m=\u001b[0m \u001b[0mself\u001b[0m\u001b[0;34m.\u001b[0m\u001b[0mkernel_\u001b[0m\u001b[0;34m(\u001b[0m\u001b[0mX\u001b[0m\u001b[0;34m,\u001b[0m \u001b[0mself\u001b[0m\u001b[0;34m.\u001b[0m\u001b[0mX_train_\u001b[0m\u001b[0;34m)\u001b[0m\u001b[0;34m\u001b[0m\u001b[0;34m\u001b[0m\u001b[0m\n\u001b[0m\u001b[1;32m    322\u001b[0m             \u001b[0my_mean\u001b[0m \u001b[0;34m=\u001b[0m \u001b[0mK_trans\u001b[0m\u001b[0;34m.\u001b[0m\u001b[0mdot\u001b[0m\u001b[0;34m(\u001b[0m\u001b[0mself\u001b[0m\u001b[0;34m.\u001b[0m\u001b[0malpha_\u001b[0m\u001b[0;34m)\u001b[0m  \u001b[0;31m# Line 4 (y_mean = f_star)\u001b[0m\u001b[0;34m\u001b[0m\u001b[0;34m\u001b[0m\u001b[0m\n\u001b[1;32m    323\u001b[0m             \u001b[0my_mean\u001b[0m \u001b[0;34m=\u001b[0m \u001b[0mself\u001b[0m\u001b[0;34m.\u001b[0m\u001b[0m_y_train_mean\u001b[0m \u001b[0;34m+\u001b[0m \u001b[0my_mean\u001b[0m  \u001b[0;31m# undo normal.\u001b[0m\u001b[0;34m\u001b[0m\u001b[0;34m\u001b[0m\u001b[0m\n",
      "\u001b[0;32m/anaconda3/lib/python3.6/site-packages/sklearn/gaussian_process/kernels.py\u001b[0m in \u001b[0;36m__call__\u001b[0;34m(self, X, Y, eval_gradient)\u001b[0m\n\u001b[1;32m   1223\u001b[0m                     \"Gradient can only be evaluated when Y is None.\")\n\u001b[1;32m   1224\u001b[0m             dists = cdist(X / length_scale, Y / length_scale,\n\u001b[0;32m-> 1225\u001b[0;31m                           metric='sqeuclidean')\n\u001b[0m\u001b[1;32m   1226\u001b[0m             \u001b[0mK\u001b[0m \u001b[0;34m=\u001b[0m \u001b[0mnp\u001b[0m\u001b[0;34m.\u001b[0m\u001b[0mexp\u001b[0m\u001b[0;34m(\u001b[0m\u001b[0;34m-\u001b[0m\u001b[0;36m.5\u001b[0m \u001b[0;34m*\u001b[0m \u001b[0mdists\u001b[0m\u001b[0;34m)\u001b[0m\u001b[0;34m\u001b[0m\u001b[0;34m\u001b[0m\u001b[0m\n\u001b[1;32m   1227\u001b[0m \u001b[0;34m\u001b[0m\u001b[0m\n",
      "\u001b[0;32m/anaconda3/lib/python3.6/site-packages/scipy/spatial/distance.py\u001b[0m in \u001b[0;36mcdist\u001b[0;34m(XA, XB, metric, *args, **kwargs)\u001b[0m\n\u001b[1;32m   2700\u001b[0m         \u001b[0;32mraise\u001b[0m \u001b[0mValueError\u001b[0m\u001b[0;34m(\u001b[0m\u001b[0;34m'XB must be a 2-dimensional array.'\u001b[0m\u001b[0;34m)\u001b[0m\u001b[0;34m\u001b[0m\u001b[0;34m\u001b[0m\u001b[0m\n\u001b[1;32m   2701\u001b[0m     \u001b[0;32mif\u001b[0m \u001b[0ms\u001b[0m\u001b[0;34m[\u001b[0m\u001b[0;36m1\u001b[0m\u001b[0;34m]\u001b[0m \u001b[0;34m!=\u001b[0m \u001b[0msB\u001b[0m\u001b[0;34m[\u001b[0m\u001b[0;36m1\u001b[0m\u001b[0;34m]\u001b[0m\u001b[0;34m:\u001b[0m\u001b[0;34m\u001b[0m\u001b[0;34m\u001b[0m\u001b[0m\n\u001b[0;32m-> 2702\u001b[0;31m         raise ValueError('XA and XB must have the same number of columns '\n\u001b[0m\u001b[1;32m   2703\u001b[0m                          '(i.e. feature dimension.)')\n\u001b[1;32m   2704\u001b[0m \u001b[0;34m\u001b[0m\u001b[0m\n",
      "\u001b[0;31mValueError\u001b[0m: XA and XB must have the same number of columns (i.e. feature dimension.)"
     ]
    }
   ],
   "source": [
    "noise = 0.001\n",
    "# x=np.linspace(0.1, 0.5).reshape(-1,1)\n",
    "y, std = BOout.gpr.predict(X, return_std=True)\n",
    "y1, std1 = GaussianProcessRegressor(kernel=RBF(), alpha=0.1).fit(BOout.Xt[:, 1].reshape(-1, 1), BOout.Yt).predict(X[:,1].reshape(-1, 1), return_std=True)\n",
    "plt.plot(X[:,1], y)\n",
    "# plt.plot(X[:,1], y - std, '--')\n",
    "# plt.plot(X[:,1], y + std, '--')\n",
    "plt.plot(BOout.Xt[:,1], BOout.Yt, '.')\n",
    "plt.plot(X[:,1], y1, '.')"
   ]
  },
  {
   "cell_type": "code",
   "execution_count": 146,
   "metadata": {},
   "outputs": [
    {
     "data": {
      "text/plain": [
       "array([-1.83090872e-007,  9.33336254e-061,  3.23542516e-121,\n",
       "        0.00000000e+000,  0.00000000e+000,  0.00000000e+000,\n",
       "        1.79261038e-119, -2.02127050e-301, -2.65832982e-301,\n",
       "       -3.23918971e-242,  0.00000000e+000,  0.00000000e+000,\n",
       "        0.00000000e+000,  4.76520317e-001,  0.00000000e+000,\n",
       "        1.12019470e-295,  0.00000000e+000,  4.05230613e-060,\n",
       "        6.15450612e-238,  0.00000000e+000, -2.00465774e-125,\n",
       "        1.13053885e-059,  8.99325934e-120,  1.34607900e-059,\n",
       "        0.00000000e+000, -1.08859087e-301,  6.85738453e-119,\n",
       "        1.80735970e-237,  0.00000000e+000,  0.00000000e+000,\n",
       "        0.00000000e+000,  0.00000000e+000,  0.00000000e+000,\n",
       "        0.00000000e+000,  6.00695818e-001,  0.00000000e+000,\n",
       "        0.00000000e+000, -1.09054977e-298,  0.00000000e+000,\n",
       "        0.00000000e+000,  1.08444270e-060,  1.98584291e-296,\n",
       "       -4.03984531e-062,  0.00000000e+000,  0.00000000e+000,\n",
       "       -9.88845497e-064,  0.00000000e+000, -2.94823117e-121,\n",
       "        0.00000000e+000,  3.14835594e-237,  2.07025960e-060,\n",
       "       -4.87933056e-239,  4.74143713e-119,  0.00000000e+000,\n",
       "        9.75289133e-002,  3.91587593e-062, -1.39937803e-002,\n",
       "        0.00000000e+000,  9.13597974e-002,  0.00000000e+000,\n",
       "        0.00000000e+000,  0.00000000e+000,  1.83275561e-003,\n",
       "       -4.03431126e-063,  0.00000000e+000,  0.00000000e+000,\n",
       "        1.84897833e-061,  2.65236889e-061,  0.00000000e+000,\n",
       "        0.00000000e+000,  1.70121392e-120, -7.74909193e-063,\n",
       "        1.46639039e-061,  0.00000000e+000,  6.95877118e-003,\n",
       "        0.00000000e+000,  0.00000000e+000,  0.00000000e+000,\n",
       "        0.00000000e+000,  2.19840626e-123,  6.50580972e-125,\n",
       "        6.61340012e-297,  2.74749715e-007,  0.00000000e+000,\n",
       "        0.00000000e+000,  7.08448918e-122,  0.00000000e+000,\n",
       "        1.64506732e-124,  0.00000000e+000,  2.38668389e-063,\n",
       "        1.39814616e-067,  0.00000000e+000,  1.31920516e-240,\n",
       "        8.37147053e-239,  0.00000000e+000,  4.89039560e-123,\n",
       "        0.00000000e+000,  8.25402778e-128,  4.63964331e-010,\n",
       "        0.00000000e+000])"
      ]
     },
     "execution_count": 146,
     "metadata": {},
     "output_type": "execute_result"
    }
   ],
   "source": [
    "y1\n"
   ]
  },
  {
   "cell_type": "code",
   "execution_count": null,
   "metadata": {},
   "outputs": [],
   "source": []
  }
 ],
 "metadata": {
  "kernelspec": {
   "display_name": "Python 3",
   "language": "python",
   "name": "python3"
  },
  "language_info": {
   "codemirror_mode": {
    "name": "ipython",
    "version": 3
   },
   "file_extension": ".py",
   "mimetype": "text/x-python",
   "name": "python",
   "nbconvert_exporter": "python",
   "pygments_lexer": "ipython3",
   "version": "3.6.8"
  },
  "latex_envs": {
   "LaTeX_envs_menu_present": true,
   "autoclose": false,
   "autocomplete": true,
   "bibliofile": "biblio.bib",
   "cite_by": "apalike",
   "current_citInitial": 1,
   "eqLabelWithNumbers": true,
   "eqNumInitial": 1,
   "hotkeys": {
    "equation": "Ctrl-E",
    "itemize": "Ctrl-I"
   },
   "labels_anchors": false,
   "latex_user_defs": false,
   "report_style_numbering": false,
   "user_envs_cfg": false
  },
  "toc": {
   "base_numbering": 1,
   "nav_menu": {},
   "number_sections": true,
   "sideBar": false,
   "skip_h1_title": false,
   "title_cell": "Table of Contents",
   "title_sidebar": "Contents",
   "toc_cell": true,
   "toc_position": {},
   "toc_section_display": true,
   "toc_window_display": false
  }
 },
 "nbformat": 4,
 "nbformat_minor": 2
}
