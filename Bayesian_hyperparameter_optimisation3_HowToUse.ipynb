{
 "cells": [
  {
   "cell_type": "code",
   "execution_count": 42,
   "metadata": {},
   "outputs": [
    {
     "name": "stderr",
     "output_type": "stream",
     "text": [
      "INFO:root:Will perform 5 iterations\n",
      "INFO:root:Iteration 0\n",
      "INFO:root:Iteration 1\n",
      "INFO:root:Iteration 2\n"
     ]
    },
    {
     "name": "stdout",
     "output_type": "stream",
     "text": [
      "('current accuracy:', 0.7703572529591407)\n",
      "('best accuracy:', 0.9140368247138129)\n",
      "('current accuracy:', 0.8833396367502306)\n",
      "('best accuracy:', 0.9140368247138129)\n"
     ]
    },
    {
     "name": "stderr",
     "output_type": "stream",
     "text": [
      "INFO:root:Iteration 3\n"
     ]
    },
    {
     "name": "stdout",
     "output_type": "stream",
     "text": [
      "('current accuracy:', 0.8774177900861069)\n",
      "('best accuracy:', 0.9140368247138129)\n"
     ]
    },
    {
     "name": "stderr",
     "output_type": "stream",
     "text": [
      "INFO:root:Iteration 4\n"
     ]
    },
    {
     "name": "stdout",
     "output_type": "stream",
     "text": [
      "('current accuracy:', 0.859860423119495)\n",
      "('best accuracy:', 0.9140368247138129)\n"
     ]
    },
    {
     "name": "stderr",
     "output_type": "stream",
     "text": [
      "INFO:root:Best result 0.914036824714: Params: [7. 7.]\n",
      "INFO:root:Best result 0.914036824714: Params: {'warm_start': 7.0, 'oob_score': 7.0}\n"
     ]
    },
    {
     "name": "stdout",
     "output_type": "stream",
     "text": [
      "('current accuracy:', 0.8704097512107701)\n",
      "('best accuracy:', 0.9140368247138129)\n"
     ]
    }
   ],
   "source": [
    "from sklearn.ensemble import RandomForestRegressor\n",
    "from sklearn.model_selection import cross_val_score\n",
    "import numpy as np\n",
    "from bayesian_hyperparameter_optimisation_3 import BayesianOptimisation\n",
    "\n",
    "\n",
    "def generate_noisy_data_from_bivariate_gaussian(z):\n",
    "    \n",
    "    \"Define a simple 2-D gaussian to generate noisy data\"\n",
    "    \n",
    "    x = z[:,0].reshape(-1,1)\n",
    "    y = z[:,1].reshape(-1,1)\n",
    "    return 1-np.exp(-((x-5)/10)**2)*np.exp(-((y-10)/10)**2)+0.1*np.random.uniform(size=(100,1))#,loc=0,scale=1)\n",
    "\n",
    "\n",
    "# --- Generate our training data\n",
    "\n",
    "# Generate random x data from 0 to 15\n",
    "X_train = 15*np.random.uniform(size=(100,2))\n",
    "# Generate noisy data from a 2D gaussian defined above\n",
    "y_train = generate_noisy_data_from_bivariate_gaussian(X_train)\n",
    "y_train = y_train.ravel()\n",
    "\n",
    "\n",
    "# --- Define our hyper parameter space as a dictionary. \n",
    "\n",
    "# Use the names of the hyper parameters as the keys\n",
    "# Values should be a list for discrete values and [lower_bound,upper_bound] for continuous\n",
    "hps = {\n",
    "    'n_estimators':range(1,10),\n",
    "    'max_depth':range(1,10)\n",
    "}\n",
    "\n",
    "# --- Run the Bayesian Optimisation Code\n",
    "\n",
    "BOout = BayesianOptimisation(\n",
    "    hps=hps,\n",
    "    MLmodel = RandomForestRegressor(random_state=42),\n",
    "    optim_rout = 'MCMC-discrete',\n",
    "    NpI = 2,\n",
    "    Niter = 5,\n",
    "    y_train = y_train,\n",
    "    X_train = X_train\n",
    ").optimise()"
   ]
  },
  {
   "cell_type": "code",
   "execution_count": 39,
   "metadata": {},
   "outputs": [
    {
     "data": {
      "image/png": "[encoded data removed]",
      "text/plain": [
       "<Figure size 864x360 with 2 Axes>"
      ]
     },
     "metadata": {},
     "output_type": "display_data"
    }
   ],
   "source": [
    "# --- Track the results with each iteration\n",
    "\n",
    "import matplotlib.pyplot as plt\n",
    "\n",
    "plt.figure(figsize=(12,5))\n",
    "plt.subplot(121)\n",
    "plt.plot(BOout.Xt,'.')\n",
    "plt.subplot(122)\n",
    "plt.plot(BOout.Yt,'.')\n",
    "\n",
    "plt.show()"
   ]
  },
  {
   "cell_type": "code",
   "execution_count": 40,
   "metadata": {},
   "outputs": [
    {
     "data": {
      "text/plain": [
       "0.9387873440061991"
      ]
     },
     "execution_count": 40,
     "metadata": {},
     "output_type": "execute_result"
    }
   ],
   "source": [
    "best_params = BOout.Xt[np.argmax(BOout.Yt)]\n",
    "RFr = RandomForestRegressor(\n",
    "    n_estimators=int(best_params[0]),\n",
    "    max_depth=int(best_params[1]),\n",
    "    random_state=42\n",
    ").fit(X_train,y_train)\n",
    "np.mean(cross_val_score(RFr, X_train,y_train, cv=5))"
   ]
  },
  {
   "cell_type": "code",
   "execution_count": 44,
   "metadata": {},
   "outputs": [
    {
     "name": "stdout",
     "output_type": "stream",
     "text": [
      "/Users/crookm12/Documents/GitHub/BayesianOptimisation\n"
     ]
    }
   ],
   "source": [
    "import os\n",
    "print os.getcwd()"
   ]
  },
  {
   "cell_type": "code",
   "execution_count": null,
   "metadata": {},
   "outputs": [],
   "source": []
  }
 ],
 "metadata": {
  "kernelspec": {
   "display_name": "Python 2",
   "language": "python",
   "name": "python2"
  },
  "language_info": {
   "codemirror_mode": {
    "name": "ipython",
    "version": 2
   },
   "file_extension": ".py",
   "mimetype": "text/x-python",
   "name": "python",
   "nbconvert_exporter": "python",
   "pygments_lexer": "ipython2",
   "version": "2.7.6"
  }
 },
 "nbformat": 4,
 "nbformat_minor": 2
}
