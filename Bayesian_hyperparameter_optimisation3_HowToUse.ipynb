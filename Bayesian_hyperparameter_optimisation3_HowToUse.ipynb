{
 "cells": [
  {
   "cell_type": "markdown",
   "metadata": {
    "toc": true
   },
   "source": [
    "<h1>Table of Contents<span class=\"tocSkip\"></span></h1>\n",
    "<div class=\"toc\"><ul class=\"toc-item\"><li><span><a href=\"#Import-the-Bayesian-Hyperparameter-Optimisation-Algorithm\" data-toc-modified-id=\"Import-the-Bayesian-Hyperparameter-Optimisation-Algorithm-1\"><span class=\"toc-item-num\">1&nbsp;&nbsp;</span>Import the Bayesian Hyperparameter Optimisation Algorithm</a></span></li><li><span><a href=\"#Example-Use-Case\" data-toc-modified-id=\"Example-Use-Case-2\"><span class=\"toc-item-num\">2&nbsp;&nbsp;</span>Example Use Case</a></span><ul class=\"toc-item\"><li><span><a href=\"#Generate-some-tarining-data\" data-toc-modified-id=\"Generate-some-tarining-data-2.1\"><span class=\"toc-item-num\">2.1&nbsp;&nbsp;</span>Generate some tarining data</a></span></li><li><span><a href=\"#Run-the-Optimisation\" data-toc-modified-id=\"Run-the-Optimisation-2.2\"><span class=\"toc-item-num\">2.2&nbsp;&nbsp;</span>Run the Optimisation</a></span></li><li><span><a href=\"#Plot-the-Samples\" data-toc-modified-id=\"Plot-the-Samples-2.3\"><span class=\"toc-item-num\">2.3&nbsp;&nbsp;</span>Plot the Samples</a></span></li></ul></li><li><span><a href=\"#Advanced-User-defined-Inputs\" data-toc-modified-id=\"Advanced-User-defined-Inputs-3\"><span class=\"toc-item-num\">3&nbsp;&nbsp;</span>Advanced User-defined Inputs</a></span><ul class=\"toc-item\"><li><span><a href=\"#Providing-your-own-scoring-function\" data-toc-modified-id=\"Providing-your-own-scoring-function-3.1\"><span class=\"toc-item-num\">3.1&nbsp;&nbsp;</span>Providing your own scoring function</a></span><ul class=\"toc-item\"><li><span><a href=\"#Example-1\" data-toc-modified-id=\"Example-1-3.1.1\"><span class=\"toc-item-num\">3.1.1&nbsp;&nbsp;</span>Example 1</a></span></li><li><span><a href=\"#Example-2\" data-toc-modified-id=\"Example-2-3.1.2\"><span class=\"toc-item-num\">3.1.2&nbsp;&nbsp;</span>Example 2</a></span></li></ul></li><li><span><a href=\"#Convergence-Diagnostics\" data-toc-modified-id=\"Convergence-Diagnostics-3.2\"><span class=\"toc-item-num\">3.2&nbsp;&nbsp;</span>Convergence Diagnostics</a></span></li></ul></li><li><span><a href=\"#Using-random_search-solver-for-discrete-valued-hyperparameters\" data-toc-modified-id=\"Using-random_search-solver-for-discrete-valued-hyperparameters-4\"><span class=\"toc-item-num\">4&nbsp;&nbsp;</span>Using random_search solver for discrete valued hyperparameters</a></span></li><li><span><a href=\"#Ignore-this-for-now...\" data-toc-modified-id=\"Ignore-this-for-now...-5\"><span class=\"toc-item-num\">5&nbsp;&nbsp;</span>Ignore this for now...</a></span></li></ul></div>"
   ]
  },
  {
   "cell_type": "code",
   "execution_count": 1,
   "metadata": {},
   "outputs": [],
   "source": [
    "# That is setting up the autoreload mode to automatically \n",
    "# reload your imports when you edit a file\n",
    "%load_ext autoreload\n",
    "%autoreload 2"
   ]
  },
  {
   "cell_type": "markdown",
   "metadata": {},
   "source": [
    "# Import the Bayesian Hyperparameter Optimisation Algorithm"
   ]
  },
  {
   "cell_type": "code",
   "execution_count": 2,
   "metadata": {},
   "outputs": [],
   "source": [
    "from sklearn.ensemble import RandomForestRegressor\n",
    "from sklearn.model_selection import cross_val_score\n",
    "import numpy as np\n",
    "from bayesian_hyperparameter_optimisation_3 import BayesianOptimisation\n",
    "from sklearn.gaussian_process import GaussianProcessRegressor\n",
    "from sklearn.gaussian_process.kernels import ConstantKernel, Matern, RBF\n",
    "import matplotlib.pyplot as plt"
   ]
  },
  {
   "cell_type": "markdown",
   "metadata": {},
   "source": [
    "# Example Use Case\n",
    "## Generate some tarining data"
   ]
  },
  {
   "cell_type": "code",
   "execution_count": 19,
   "metadata": {},
   "outputs": [],
   "source": [
    "def generate_noisy_data_from_bivariate_gaussian(z):\n",
    "    \n",
    "    \"Define a simple 2-D gaussian to generate noisy data\"\n",
    "    \n",
    "    x = z[:,0].reshape(-1,1)\n",
    "    y = z[:,1].reshape(-1,1)\n",
    "    return 1-np.exp(-((x-5)/10)**2)*np.exp(-((y-10)/10)**2)+0.1*np.random.uniform(size=(1000,1))#,loc=0,scale=1)\n",
    "\n",
    "def generate_noisy_data_from_bivariate_gaussian_nd(z, mu, sig):\n",
    "    \n",
    "    \"Define a simple 3-D gaussian to generate noisy data\"\n",
    "    \n",
    "    G = np.ones((z.shape[0],1))\n",
    "    for i in range(z.shape[1]):\n",
    "        G = G*np.exp(-((z[:,i]-mu[i])/sig[i])**2).reshape(-1,1)\n",
    "    \n",
    "    return 1-G+0.1*np.random.uniform(size=(1000,1))\n",
    "\n",
    "\n",
    "# --- Generate our training data\n",
    "\n",
    "# Generate random x data from 0 to 15\n",
    "X_train = 15*np.random.uniform(size=(1000,2))\n",
    "# Generate noisy data from a 2D gaussian defined above\n",
    "y_train = generate_noisy_data_from_bivariate_gaussian(X_train)\n",
    "y_train = y_train.ravel()\n",
    "\n",
    "\n"
   ]
  },
  {
   "cell_type": "markdown",
   "metadata": {},
   "source": [
    "## Run the Optimisation"
   ]
  },
  {
   "cell_type": "code",
   "execution_count": 102,
   "metadata": {},
   "outputs": [
    {
     "name": "stdout",
     "output_type": "stream",
     "text": [
      "ndim: 0\n",
      "{'max_depth': 6, 'n_estimators': 6} score: 0.9593846302314712\n",
      "{'max_depth': 1, 'n_estimators': 10} score: 0.554417949890885\n",
      "{'max_depth': 3, 'n_estimators': 2} score: 0.8821281604580913\n",
      "{'max_depth': 8, 'n_estimators': 13} score: 0.9723970158795666\n"
     ]
    },
    {
     "name": "stderr",
     "output_type": "stream",
     "text": [
      "INFO:root:Will perform 95 iterations\n",
      "INFO:root:Iteration 0\n"
     ]
    },
    {
     "name": "stdout",
     "output_type": "stream",
     "text": [
      "{'max_depth': 5, 'n_estimators': 17} score: 0.9478169130823251\n"
     ]
    },
    {
     "ename": "ValueError",
     "evalue": "cannot reshape array of size 2 into shape (0)",
     "output_type": "error",
     "traceback": [
      "\u001b[0;31m---------------------------------------------------------------------------\u001b[0m",
      "\u001b[0;31mValueError\u001b[0m                                Traceback (most recent call last)",
      "\u001b[0;32m<ipython-input-102-3363b1a40448>\u001b[0m in \u001b[0;36m<module>\u001b[0;34m\u001b[0m\n\u001b[1;32m     20\u001b[0m     \u001b[0mn_restarts\u001b[0m \u001b[0;34m=\u001b[0m \u001b[0;36m10\u001b[0m\u001b[0;34m,\u001b[0m\u001b[0;34m\u001b[0m\u001b[0;34m\u001b[0m\u001b[0m\n\u001b[1;32m     21\u001b[0m )\n\u001b[0;32m---> 22\u001b[0;31m \u001b[0mBOout\u001b[0m\u001b[0;34m.\u001b[0m\u001b[0moptimise\u001b[0m\u001b[0;34m(\u001b[0m\u001b[0;34m)\u001b[0m\u001b[0;34m\u001b[0m\u001b[0;34m\u001b[0m\u001b[0m\n\u001b[0m",
      "\u001b[0;32m~/Documents/GitHub/BayesianOptimisation/bayesian_hyperparameter_optimisation_3.py\u001b[0m in \u001b[0;36moptimise\u001b[0;34m(self)\u001b[0m\n\u001b[1;32m    617\u001b[0m         \u001b[0;32mfor\u001b[0m \u001b[0mi\u001b[0m \u001b[0;32min\u001b[0m \u001b[0mrange\u001b[0m\u001b[0;34m(\u001b[0m\u001b[0mself\u001b[0m\u001b[0;34m.\u001b[0m\u001b[0mNiter\u001b[0m\u001b[0;34m)\u001b[0m\u001b[0;34m:\u001b[0m\u001b[0;34m\u001b[0m\u001b[0;34m\u001b[0m\u001b[0m\n\u001b[1;32m    618\u001b[0m             \u001b[0mlogging\u001b[0m\u001b[0;34m.\u001b[0m\u001b[0minfo\u001b[0m\u001b[0;34m(\u001b[0m\u001b[0;34m'Iteration {}'\u001b[0m\u001b[0;34m.\u001b[0m\u001b[0mformat\u001b[0m\u001b[0;34m(\u001b[0m\u001b[0mi\u001b[0m\u001b[0;34m)\u001b[0m\u001b[0;34m)\u001b[0m\u001b[0;34m\u001b[0m\u001b[0;34m\u001b[0m\u001b[0m\n\u001b[0;32m--> 619\u001b[0;31m             \u001b[0mit1\u001b[0m \u001b[0;34m=\u001b[0m \u001b[0miteration\u001b[0m\u001b[0;34m(\u001b[0m\u001b[0mself\u001b[0m\u001b[0;34m)\u001b[0m\u001b[0;34m\u001b[0m\u001b[0;34m\u001b[0m\u001b[0m\n\u001b[0m\u001b[1;32m    620\u001b[0m             \u001b[0mself\u001b[0m\u001b[0;34m.\u001b[0m\u001b[0mXt\u001b[0m \u001b[0;34m=\u001b[0m \u001b[0mit1\u001b[0m\u001b[0;34m.\u001b[0m\u001b[0mXt\u001b[0m\u001b[0;34m\u001b[0m\u001b[0;34m\u001b[0m\u001b[0m\n\u001b[1;32m    621\u001b[0m             \u001b[0mself\u001b[0m\u001b[0;34m.\u001b[0m\u001b[0mYt\u001b[0m \u001b[0;34m=\u001b[0m \u001b[0mit1\u001b[0m\u001b[0;34m.\u001b[0m\u001b[0mYt\u001b[0m\u001b[0;34m\u001b[0m\u001b[0;34m\u001b[0m\u001b[0m\n",
      "\u001b[0;32m~/Documents/GitHub/BayesianOptimisation/bayesian_hyperparameter_optimisation_3.py\u001b[0m in \u001b[0;36m__init__\u001b[0;34m(self, pars)\u001b[0m\n\u001b[1;32m     97\u001b[0m \u001b[0;34m\u001b[0m\u001b[0m\n\u001b[1;32m     98\u001b[0m         \u001b[0;31m# Obtain next sampling point from the acquisition function (expected_improvement)\u001b[0m\u001b[0;34m\u001b[0m\u001b[0;34m\u001b[0m\u001b[0;34m\u001b[0m\u001b[0m\n\u001b[0;32m---> 99\u001b[0;31m         \u001b[0mX_next\u001b[0m \u001b[0;34m=\u001b[0m \u001b[0mself\u001b[0m\u001b[0;34m.\u001b[0m\u001b[0mpropose_location\u001b[0m\u001b[0;34m(\u001b[0m\u001b[0mpars\u001b[0m\u001b[0;34m)\u001b[0m\u001b[0;34m\u001b[0m\u001b[0;34m\u001b[0m\u001b[0m\n\u001b[0m\u001b[1;32m    100\u001b[0m         \u001b[0;31m# Convert to int where necessary\u001b[0m\u001b[0;34m\u001b[0m\u001b[0;34m\u001b[0m\u001b[0;34m\u001b[0m\u001b[0m\n\u001b[1;32m    101\u001b[0m \u001b[0;34m\u001b[0m\u001b[0m\n",
      "\u001b[0;32m~/Documents/GitHub/BayesianOptimisation/bayesian_hyperparameter_optimisation_3.py\u001b[0m in \u001b[0;36mpropose_location\u001b[0;34m(self, pars)\u001b[0m\n\u001b[1;32m    167\u001b[0m         \u001b[0;32mif\u001b[0m \u001b[0mpars\u001b[0m\u001b[0;34m.\u001b[0m\u001b[0moptim_rout\u001b[0m \u001b[0;34m==\u001b[0m \u001b[0;34m'minimize'\u001b[0m\u001b[0;34m:\u001b[0m\u001b[0;34m\u001b[0m\u001b[0;34m\u001b[0m\u001b[0m\n\u001b[1;32m    168\u001b[0m             \u001b[0;32mfor\u001b[0m \u001b[0mx0\u001b[0m \u001b[0;32min\u001b[0m \u001b[0mXs\u001b[0m\u001b[0;34m:\u001b[0m\u001b[0;34m\u001b[0m\u001b[0;34m\u001b[0m\u001b[0m\n\u001b[0;32m--> 169\u001b[0;31m                 \u001b[0mres\u001b[0m \u001b[0;34m=\u001b[0m \u001b[0mminimize\u001b[0m\u001b[0;34m(\u001b[0m\u001b[0mself\u001b[0m\u001b[0;34m.\u001b[0m\u001b[0mmin_obj\u001b[0m\u001b[0;34m,\u001b[0m \u001b[0mx0\u001b[0m\u001b[0;34m=\u001b[0m\u001b[0mx0\u001b[0m\u001b[0;34m,\u001b[0m \u001b[0mbounds\u001b[0m\u001b[0;34m=\u001b[0m\u001b[0mpars\u001b[0m\u001b[0;34m.\u001b[0m\u001b[0mbounds\u001b[0m\u001b[0;34m,\u001b[0m \u001b[0mmethod\u001b[0m\u001b[0;34m=\u001b[0m\u001b[0mpars\u001b[0m\u001b[0;34m.\u001b[0m\u001b[0mmethod\u001b[0m\u001b[0;34m)\u001b[0m\u001b[0;34m\u001b[0m\u001b[0;34m\u001b[0m\u001b[0m\n\u001b[0m\u001b[1;32m    170\u001b[0m                 \u001b[0;31m# Find the best optimum across all initiations\u001b[0m\u001b[0;34m\u001b[0m\u001b[0;34m\u001b[0m\u001b[0;34m\u001b[0m\u001b[0m\n\u001b[1;32m    171\u001b[0m                 \u001b[0;32mif\u001b[0m \u001b[0mres\u001b[0m\u001b[0;34m.\u001b[0m\u001b[0mfun\u001b[0m \u001b[0;34m<\u001b[0m \u001b[0mmin_val\u001b[0m\u001b[0;34m:\u001b[0m\u001b[0;34m\u001b[0m\u001b[0;34m\u001b[0m\u001b[0m\n",
      "\u001b[0;32m/anaconda3/lib/python3.6/site-packages/scipy/optimize/_minimize.py\u001b[0m in \u001b[0;36mminimize\u001b[0;34m(fun, x0, args, method, jac, hess, hessp, bounds, constraints, tol, callback, options)\u001b[0m\n\u001b[1;32m    599\u001b[0m     \u001b[0;32melif\u001b[0m \u001b[0mmeth\u001b[0m \u001b[0;34m==\u001b[0m \u001b[0;34m'l-bfgs-b'\u001b[0m\u001b[0;34m:\u001b[0m\u001b[0;34m\u001b[0m\u001b[0;34m\u001b[0m\u001b[0m\n\u001b[1;32m    600\u001b[0m         return _minimize_lbfgsb(fun, x0, args, jac, bounds,\n\u001b[0;32m--> 601\u001b[0;31m                                 callback=callback, **options)\n\u001b[0m\u001b[1;32m    602\u001b[0m     \u001b[0;32melif\u001b[0m \u001b[0mmeth\u001b[0m \u001b[0;34m==\u001b[0m \u001b[0;34m'tnc'\u001b[0m\u001b[0;34m:\u001b[0m\u001b[0;34m\u001b[0m\u001b[0;34m\u001b[0m\u001b[0m\n\u001b[1;32m    603\u001b[0m         return _minimize_tnc(fun, x0, args, jac, bounds, callback=callback,\n",
      "\u001b[0;32m/anaconda3/lib/python3.6/site-packages/scipy/optimize/lbfgsb.py\u001b[0m in \u001b[0;36m_minimize_lbfgsb\u001b[0;34m(fun, x0, args, jac, bounds, disp, maxcor, ftol, gtol, eps, maxfun, maxiter, iprint, callback, maxls, **unknown_options)\u001b[0m\n\u001b[1;32m    333\u001b[0m             \u001b[0;31m# until the completion of the current minimization iteration.\u001b[0m\u001b[0;34m\u001b[0m\u001b[0;34m\u001b[0m\u001b[0;34m\u001b[0m\u001b[0m\n\u001b[1;32m    334\u001b[0m             \u001b[0;31m# Overwrite f and g:\u001b[0m\u001b[0;34m\u001b[0m\u001b[0;34m\u001b[0m\u001b[0;34m\u001b[0m\u001b[0m\n\u001b[0;32m--> 335\u001b[0;31m             \u001b[0mf\u001b[0m\u001b[0;34m,\u001b[0m \u001b[0mg\u001b[0m \u001b[0;34m=\u001b[0m \u001b[0mfunc_and_grad\u001b[0m\u001b[0;34m(\u001b[0m\u001b[0mx\u001b[0m\u001b[0;34m)\u001b[0m\u001b[0;34m\u001b[0m\u001b[0;34m\u001b[0m\u001b[0m\n\u001b[0m\u001b[1;32m    336\u001b[0m         \u001b[0;32melif\u001b[0m \u001b[0mtask_str\u001b[0m\u001b[0;34m.\u001b[0m\u001b[0mstartswith\u001b[0m\u001b[0;34m(\u001b[0m\u001b[0;34mb'NEW_X'\u001b[0m\u001b[0;34m)\u001b[0m\u001b[0;34m:\u001b[0m\u001b[0;34m\u001b[0m\u001b[0;34m\u001b[0m\u001b[0m\n\u001b[1;32m    337\u001b[0m             \u001b[0;31m# new iteration\u001b[0m\u001b[0;34m\u001b[0m\u001b[0;34m\u001b[0m\u001b[0;34m\u001b[0m\u001b[0m\n",
      "\u001b[0;32m/anaconda3/lib/python3.6/site-packages/scipy/optimize/lbfgsb.py\u001b[0m in \u001b[0;36mfunc_and_grad\u001b[0;34m(x)\u001b[0m\n\u001b[1;32m    278\u001b[0m     \u001b[0;32mif\u001b[0m \u001b[0mjac\u001b[0m \u001b[0;32mis\u001b[0m \u001b[0;32mNone\u001b[0m\u001b[0;34m:\u001b[0m\u001b[0;34m\u001b[0m\u001b[0;34m\u001b[0m\u001b[0m\n\u001b[1;32m    279\u001b[0m         \u001b[0;32mdef\u001b[0m \u001b[0mfunc_and_grad\u001b[0m\u001b[0;34m(\u001b[0m\u001b[0mx\u001b[0m\u001b[0;34m)\u001b[0m\u001b[0;34m:\u001b[0m\u001b[0;34m\u001b[0m\u001b[0;34m\u001b[0m\u001b[0m\n\u001b[0;32m--> 280\u001b[0;31m             \u001b[0mf\u001b[0m \u001b[0;34m=\u001b[0m \u001b[0mfun\u001b[0m\u001b[0;34m(\u001b[0m\u001b[0mx\u001b[0m\u001b[0;34m,\u001b[0m \u001b[0;34m*\u001b[0m\u001b[0margs\u001b[0m\u001b[0;34m)\u001b[0m\u001b[0;34m\u001b[0m\u001b[0;34m\u001b[0m\u001b[0m\n\u001b[0m\u001b[1;32m    281\u001b[0m             \u001b[0mg\u001b[0m \u001b[0;34m=\u001b[0m \u001b[0m_approx_fprime_helper\u001b[0m\u001b[0;34m(\u001b[0m\u001b[0mx\u001b[0m\u001b[0;34m,\u001b[0m \u001b[0mfun\u001b[0m\u001b[0;34m,\u001b[0m \u001b[0mepsilon\u001b[0m\u001b[0;34m,\u001b[0m \u001b[0margs\u001b[0m\u001b[0;34m=\u001b[0m\u001b[0margs\u001b[0m\u001b[0;34m,\u001b[0m \u001b[0mf0\u001b[0m\u001b[0;34m=\u001b[0m\u001b[0mf\u001b[0m\u001b[0;34m)\u001b[0m\u001b[0;34m\u001b[0m\u001b[0;34m\u001b[0m\u001b[0m\n\u001b[1;32m    282\u001b[0m             \u001b[0;32mreturn\u001b[0m \u001b[0mf\u001b[0m\u001b[0;34m,\u001b[0m \u001b[0mg\u001b[0m\u001b[0;34m\u001b[0m\u001b[0;34m\u001b[0m\u001b[0m\n",
      "\u001b[0;32m/anaconda3/lib/python3.6/site-packages/scipy/optimize/optimize.py\u001b[0m in \u001b[0;36mfunction_wrapper\u001b[0;34m(*wrapper_args)\u001b[0m\n\u001b[1;32m    298\u001b[0m     \u001b[0;32mdef\u001b[0m \u001b[0mfunction_wrapper\u001b[0m\u001b[0;34m(\u001b[0m\u001b[0;34m*\u001b[0m\u001b[0mwrapper_args\u001b[0m\u001b[0;34m)\u001b[0m\u001b[0;34m:\u001b[0m\u001b[0;34m\u001b[0m\u001b[0;34m\u001b[0m\u001b[0m\n\u001b[1;32m    299\u001b[0m         \u001b[0mncalls\u001b[0m\u001b[0;34m[\u001b[0m\u001b[0;36m0\u001b[0m\u001b[0;34m]\u001b[0m \u001b[0;34m+=\u001b[0m \u001b[0;36m1\u001b[0m\u001b[0;34m\u001b[0m\u001b[0;34m\u001b[0m\u001b[0m\n\u001b[0;32m--> 300\u001b[0;31m         \u001b[0;32mreturn\u001b[0m \u001b[0mfunction\u001b[0m\u001b[0;34m(\u001b[0m\u001b[0;34m*\u001b[0m\u001b[0;34m(\u001b[0m\u001b[0mwrapper_args\u001b[0m \u001b[0;34m+\u001b[0m \u001b[0margs\u001b[0m\u001b[0;34m)\u001b[0m\u001b[0;34m)\u001b[0m\u001b[0;34m\u001b[0m\u001b[0;34m\u001b[0m\u001b[0m\n\u001b[0m\u001b[1;32m    301\u001b[0m \u001b[0;34m\u001b[0m\u001b[0m\n\u001b[1;32m    302\u001b[0m     \u001b[0;32mreturn\u001b[0m \u001b[0mncalls\u001b[0m\u001b[0;34m,\u001b[0m \u001b[0mfunction_wrapper\u001b[0m\u001b[0;34m\u001b[0m\u001b[0;34m\u001b[0m\u001b[0m\n",
      "\u001b[0;32m~/Documents/GitHub/BayesianOptimisation/bayesian_hyperparameter_optimisation_3.py\u001b[0m in \u001b[0;36mmin_obj\u001b[0;34m(self, X)\u001b[0m\n\u001b[1;32m    233\u001b[0m             \u001b[0;32mreturn\u001b[0m \u001b[0;34m-\u001b[0m\u001b[0mself\u001b[0m\u001b[0;34m.\u001b[0m\u001b[0mexpected_improvement\u001b[0m\u001b[0;34m(\u001b[0m\u001b[0;34m)\u001b[0m\u001b[0;34m\u001b[0m\u001b[0;34m\u001b[0m\u001b[0m\n\u001b[1;32m    234\u001b[0m         \u001b[0;32melse\u001b[0m\u001b[0;34m:\u001b[0m\u001b[0;34m\u001b[0m\u001b[0;34m\u001b[0m\u001b[0m\n\u001b[0;32m--> 235\u001b[0;31m             \u001b[0;32mreturn\u001b[0m \u001b[0;34m-\u001b[0m\u001b[0mself\u001b[0m\u001b[0;34m.\u001b[0m\u001b[0mexpected_improvement\u001b[0m\u001b[0;34m(\u001b[0m\u001b[0mX\u001b[0m\u001b[0;34m.\u001b[0m\u001b[0mreshape\u001b[0m\u001b[0;34m(\u001b[0m\u001b[0;34m-\u001b[0m\u001b[0;36m1\u001b[0m\u001b[0;34m,\u001b[0m \u001b[0mself\u001b[0m\u001b[0;34m.\u001b[0m\u001b[0mpars\u001b[0m\u001b[0;34m.\u001b[0m\u001b[0mNdim_optim\u001b[0m\u001b[0;34m)\u001b[0m\u001b[0;34m)\u001b[0m\u001b[0;34m\u001b[0m\u001b[0;34m\u001b[0m\u001b[0m\n\u001b[0m\u001b[1;32m    236\u001b[0m \u001b[0;34m\u001b[0m\u001b[0m\n\u001b[1;32m    237\u001b[0m     \u001b[0;32mdef\u001b[0m \u001b[0mmax_obj\u001b[0m\u001b[0;34m(\u001b[0m\u001b[0mself\u001b[0m\u001b[0;34m,\u001b[0m \u001b[0mX\u001b[0m \u001b[0;34m=\u001b[0m \u001b[0;32mNone\u001b[0m\u001b[0;34m)\u001b[0m\u001b[0;34m:\u001b[0m\u001b[0;34m\u001b[0m\u001b[0;34m\u001b[0m\u001b[0m\n",
      "\u001b[0;31mValueError\u001b[0m: cannot reshape array of size 2 into shape (0)"
     ]
    }
   ],
   "source": [
    "# --- Define our hyper parameter space as a dictionary. \n",
    "\n",
    "# Use the names of the hyper parameters as the keys\n",
    "# Values should be a list for discrete values and [lower_bound,upper_bound] for continuous\n",
    "hps = {\n",
    "    'n_estimators':range(1,20),\n",
    "    'max_depth':range(1,10),\n",
    "#     'min_samples_leaf': [0.1,0.5]\n",
    "}\n",
    "\n",
    "# --- Run the Bayesian Optimisation Code\n",
    "\n",
    "BOout = BayesianOptimisation(\n",
    "    hps=hps,\n",
    "    MLmodel = RandomForestRegressor(random_state=42),\n",
    "    NpI = 5,\n",
    "    Niter = 95,\n",
    "    y_train = y_train,\n",
    "    X_train = X_train,\n",
    "    n_restarts = 10\n",
    ")\n",
    "BOout.optimise()"
   ]
  },
  {
   "cell_type": "markdown",
   "metadata": {},
   "source": [
    "## Plot the Samples"
   ]
  },
  {
   "cell_type": "code",
   "execution_count": 36,
   "metadata": {},
   "outputs": [
    {
     "data": {
      "image/png": "[encoded data removed]",
      "text/plain": [
       "<Figure size 864x360 with 2 Axes>"
      ]
     },
     "metadata": {
      "needs_background": "dark"
     },
     "output_type": "display_data"
    }
   ],
   "source": [
    "# --- Track the results with each iteration\n",
    "\n",
    "import matplotlib.pyplot as plt\n",
    "\n",
    "plt.figure(figsize=(12,5))\n",
    "plt.subplot(121)\n",
    "plt.plot(BOout.Xt,'.')\n",
    "plt.subplot(122)\n",
    "plt.plot(BOout.Yt,'.')\n",
    "\n",
    "plt.show()"
   ]
  },
  {
   "cell_type": "code",
   "execution_count": 9,
   "metadata": {},
   "outputs": [
    {
     "name": "stderr",
     "output_type": "stream",
     "text": [
      "/anaconda3/lib/python3.6/site-packages/sklearn/ensemble/forest.py:245: FutureWarning: The default value of n_estimators will change from 10 in version 0.20 to 100 in 0.22.\n",
      "  \"10 in version 0.20 to 100 in 0.22.\", FutureWarning)\n"
     ]
    },
    {
     "data": {
      "text/plain": [
       "0.7700969003203069"
      ]
     },
     "execution_count": 9,
     "metadata": {},
     "output_type": "execute_result"
    }
   ],
   "source": [
    "best_params = BOout.Xt[np.argmax(BOout.Yt)]\n",
    "RFr = RandomForestRegressor(\n",
    "    min_samples_leaf=best_params[0],\n",
    "    random_state=42\n",
    ").fit(X_train,y_train)\n",
    "np.mean(cross_val_score(RFr, X_train,y_train, cv=5))"
   ]
  },
  {
   "cell_type": "markdown",
   "metadata": {},
   "source": [
    "# Advanced User-defined Inputs\n",
    "## Providing your own scoring function"
   ]
  },
  {
   "cell_type": "markdown",
   "metadata": {},
   "source": [
    "### Example 1"
   ]
  },
  {
   "cell_type": "code",
   "execution_count": 34,
   "metadata": {},
   "outputs": [
    {
     "name": "stderr",
     "output_type": "stream",
     "text": [
      "INFO:root:Will perform 95 iterations\n",
      "INFO:root:Iteration 0\n",
      "INFO:root:Iteration 1\n"
     ]
    },
    {
     "name": "stdout",
     "output_type": "stream",
     "text": [
      "{'max_depth': 1, 'min_samples_leaf': 0.30000000000000004, 'n_estimators': 13} score: 0.44528430312364015\n",
      "{'max_depth': 3, 'min_samples_leaf': 0.4600000000000001, 'n_estimators': 17} score: -0.008378617416458178\n",
      "{'max_depth': 6, 'min_samples_leaf': 0.38, 'n_estimators': 2} score: -0.012146062392077406\n",
      "{'max_depth': 8, 'min_samples_leaf': 0.22000000000000003, 'n_estimators': 10} score: 0.5426162011160974\n",
      "{'max_depth': 5, 'min_samples_leaf': 0.14, 'n_estimators': 6} score: 0.7782525552890325\n",
      "next iteration\n",
      "{'max_depth': 3, 'min_samples_leaf': 0.32000000000000006, 'n_estimators': 9} score: 0.12398975013204641\n",
      "current accuracy: 0.12398975013204641\n",
      "best accuracy: 0.7782525552890325\n",
      "next iteration\n"
     ]
    },
    {
     "name": "stderr",
     "output_type": "stream",
     "text": [
      "INFO:root:Iteration 2\n",
      "INFO:root:Iteration 3\n",
      "INFO:root:Iteration 4\n"
     ]
    },
    {
     "name": "stdout",
     "output_type": "stream",
     "text": [
      "{'max_depth': 6, 'min_samples_leaf': 0.48, 'n_estimators': 10} score: -0.009335740534074289\n",
      "current accuracy: -0.009335740534074289\n",
      "best accuracy: 0.7782525552890325\n",
      "next iteration\n",
      "{'max_depth': 4, 'min_samples_leaf': 0.48, 'n_estimators': 10} score: -0.009335740534074289\n",
      "current accuracy: -0.009335740534074289\n",
      "best accuracy: 0.7782525552890325\n",
      "next iteration\n",
      "{'max_depth': 4, 'min_samples_leaf': 0.16000000000000003, 'n_estimators': 10} score: 0.7779499751645844\n",
      "current accuracy: 0.7779499751645844\n",
      "best accuracy: 0.7782525552890325\n",
      "next iteration\n"
     ]
    },
    {
     "name": "stderr",
     "output_type": "stream",
     "text": [
      "INFO:root:Iteration 5\n",
      "INFO:root:Iteration 6\n",
      "INFO:root:Iteration 7\n",
      "INFO:root:Iteration 8\n"
     ]
    },
    {
     "name": "stdout",
     "output_type": "stream",
     "text": [
      "{'max_depth': 3, 'min_samples_leaf': 0.24000000000000002, 'n_estimators': 10} score: 0.5148707931739177\n",
      "current accuracy: 0.5148707931739177\n",
      "best accuracy: 0.7782525552890325\n",
      "next iteration\n",
      "{'max_depth': 3, 'min_samples_leaf': 0.44000000000000006, 'n_estimators': 9} score: -0.00957459560700884\n",
      "current accuracy: -0.00957459560700884\n",
      "best accuracy: 0.7782525552890325\n",
      "next iteration\n",
      "{'max_depth': 5, 'min_samples_leaf': 0.44000000000000006, 'n_estimators': 10} score: -0.009335740534074289\n",
      "current accuracy: -0.009335740534074289\n",
      "best accuracy: 0.7782525552890325\n",
      "next iteration\n",
      "{'max_depth': 6, 'min_samples_leaf': 0.2, 'n_estimators': 7} score: 0.6744583836414535\n",
      "current accuracy: 0.6744583836414535\n",
      "best accuracy: 0.7782525552890325\n"
     ]
    },
    {
     "name": "stderr",
     "output_type": "stream",
     "text": [
      "INFO:root:Iteration 9\n",
      "INFO:root:Iteration 10\n"
     ]
    },
    {
     "name": "stdout",
     "output_type": "stream",
     "text": [
      "next iteration\n",
      "{'max_depth': 4, 'min_samples_leaf': 0.3600000000000001, 'n_estimators': 9} score: -0.00957459560700884\n",
      "current accuracy: -0.00957459560700884\n",
      "best accuracy: 0.7782525552890325\n",
      "next iteration\n",
      "{'max_depth': 3, 'min_samples_leaf': 0.28, 'n_estimators': 10} score: 0.46852619298481\n",
      "current accuracy: 0.46852619298481\n",
      "best accuracy: 0.7782525552890325\n",
      "next iteration\n"
     ]
    },
    {
     "name": "stderr",
     "output_type": "stream",
     "text": [
      "INFO:root:Iteration 11\n",
      "INFO:root:Iteration 12\n",
      "INFO:root:Iteration 13\n"
     ]
    },
    {
     "name": "stdout",
     "output_type": "stream",
     "text": [
      "{'max_depth': 4, 'min_samples_leaf': 0.32000000000000006, 'n_estimators': 10} score: 0.11200043782181188\n",
      "current accuracy: 0.11200043782181188\n",
      "best accuracy: 0.7782525552890325\n",
      "next iteration\n",
      "{'max_depth': 4, 'min_samples_leaf': 0.4, 'n_estimators': 9} score: -0.00957459560700884\n",
      "current accuracy: -0.00957459560700884\n",
      "best accuracy: 0.7782525552890325\n",
      "next iteration\n",
      "{'max_depth': 5, 'min_samples_leaf': 0.48, 'n_estimators': 10} score: -0.009335740534074289\n",
      "current accuracy: -0.009335740534074289\n",
      "best accuracy: 0.7782525552890325\n",
      "next iteration\n"
     ]
    },
    {
     "name": "stderr",
     "output_type": "stream",
     "text": [
      "INFO:root:Iteration 14\n",
      "INFO:root:Iteration 15\n",
      "INFO:root:Iteration 16\n"
     ]
    },
    {
     "name": "stdout",
     "output_type": "stream",
     "text": [
      "{'max_depth': 6, 'min_samples_leaf': 0.4, 'n_estimators': 10} score: -0.009335740534074289\n",
      "current accuracy: -0.009335740534074289\n",
      "best accuracy: 0.7782525552890325\n",
      "next iteration\n",
      "{'max_depth': 5, 'min_samples_leaf': 0.12000000000000001, 'n_estimators': 10} score: 0.7966941788055276\n",
      "current accuracy: 0.7966941788055276\n",
      "best accuracy: 0.7966941788055276\n",
      "next iteration\n",
      "{'max_depth': 4, 'min_samples_leaf': 0.28001474376176705, 'n_estimators': 12} score: 0.47885622560997254\n",
      "current accuracy: 0.47885622560997254\n",
      "best accuracy: 0.7966941788055276\n",
      "next iteration\n"
     ]
    },
    {
     "name": "stderr",
     "output_type": "stream",
     "text": [
      "INFO:root:Iteration 17\n",
      "INFO:root:Iteration 18\n",
      "INFO:root:Iteration 19\n"
     ]
    },
    {
     "name": "stdout",
     "output_type": "stream",
     "text": [
      "{'max_depth': 4, 'min_samples_leaf': 0.16000000000000003, 'n_estimators': 10} score: 0.7779499751645844\n",
      "current accuracy: 0.7779499751645844\n",
      "best accuracy: 0.7966941788055276\n",
      "next iteration\n",
      "{'max_depth': 3, 'min_samples_leaf': 0.4, 'n_estimators': 10} score: -0.009335740534074289\n",
      "current accuracy: -0.009335740534074289\n",
      "best accuracy: 0.7966941788055276\n",
      "next iteration\n",
      "{'max_depth': 3, 'min_samples_leaf': 0.32000000000000006, 'n_estimators': 9} score: 0.12398975013204641\n",
      "current accuracy: 0.12398975013204641\n",
      "best accuracy: 0.7966941788055276\n",
      "next iteration\n"
     ]
    },
    {
     "name": "stderr",
     "output_type": "stream",
     "text": [
      "INFO:root:Iteration 20\n",
      "INFO:root:Iteration 21\n",
      "INFO:root:Iteration 22\n"
     ]
    },
    {
     "name": "stdout",
     "output_type": "stream",
     "text": [
      "{'max_depth': 3, 'min_samples_leaf': 0.44000000000000006, 'n_estimators': 10} score: -0.009335740534074289\n",
      "current accuracy: -0.009335740534074289\n",
      "best accuracy: 0.7966941788055276\n",
      "next iteration\n",
      "{'max_depth': 2, 'min_samples_leaf': 0.3600000000000001, 'n_estimators': 10} score: -0.009335740534074289\n",
      "current accuracy: -0.009335740534074289\n",
      "best accuracy: 0.7966941788055276\n",
      "next iteration\n",
      "{'max_depth': 5, 'min_samples_leaf': 0.4800000972976031, 'n_estimators': 9} score: -0.00957459560700884\n",
      "current accuracy: -0.00957459560700884\n",
      "best accuracy: 0.7966941788055276\n",
      "next iteration\n"
     ]
    },
    {
     "name": "stderr",
     "output_type": "stream",
     "text": [
      "INFO:root:Iteration 23\n",
      "INFO:root:Iteration 24\n",
      "INFO:root:Iteration 25\n"
     ]
    },
    {
     "name": "stdout",
     "output_type": "stream",
     "text": [
      "{'max_depth': 5, 'min_samples_leaf': 0.12000000000000001, 'n_estimators': 10} score: 0.7966941788055276\n",
      "current accuracy: 0.7966941788055276\n",
      "best accuracy: 0.7966941788055276\n",
      "next iteration\n",
      "{'max_depth': 5, 'min_samples_leaf': 0.4, 'n_estimators': 9} score: -0.00957459560700884\n",
      "current accuracy: -0.00957459560700884\n",
      "best accuracy: 0.7966941788055276\n",
      "next iteration\n",
      "{'max_depth': 6, 'min_samples_leaf': 0.44000000000000006, 'n_estimators': 9} score: -0.00957459560700884\n",
      "current accuracy: -0.00957459560700884\n",
      "best accuracy: 0.7966941788055276\n",
      "next iteration\n"
     ]
    },
    {
     "name": "stderr",
     "output_type": "stream",
     "text": [
      "INFO:root:Iteration 26\n",
      "INFO:root:Iteration 27\n"
     ]
    },
    {
     "name": "stdout",
     "output_type": "stream",
     "text": [
      "{'max_depth': 3, 'min_samples_leaf': 0.4, 'n_estimators': 10} score: -0.009335740534074289\n",
      "current accuracy: -0.009335740534074289\n",
      "best accuracy: 0.7966941788055276\n",
      "next iteration\n",
      "{'max_depth': 3, 'min_samples_leaf': 0.11999999872730176, 'n_estimators': 9} score: 0.7981373572444003\n",
      "current accuracy: 0.7981373572444003\n",
      "best accuracy: 0.7981373572444003\n",
      "next iteration\n"
     ]
    },
    {
     "name": "stderr",
     "output_type": "stream",
     "text": [
      "INFO:root:Iteration 28\n",
      "INFO:root:Iteration 29\n",
      "INFO:root:Iteration 30\n"
     ]
    },
    {
     "name": "stdout",
     "output_type": "stream",
     "text": [
      "{'max_depth': 6, 'min_samples_leaf': 0.4, 'n_estimators': 10} score: -0.009335740534074289\n",
      "current accuracy: -0.009335740534074289\n",
      "best accuracy: 0.7981373572444003\n",
      "next iteration\n",
      "{'max_depth': 2, 'min_samples_leaf': 0.4, 'n_estimators': 9} score: -0.00957459560700884\n",
      "current accuracy: -0.00957459560700884\n",
      "best accuracy: 0.7981373572444003\n",
      "next iteration\n",
      "{'max_depth': 4, 'min_samples_leaf': 0.2000115685239166, 'n_estimators': 10} score: 0.7043018952806764\n",
      "current accuracy: 0.7043018952806764\n",
      "best accuracy: 0.7981373572444003\n",
      "next iteration\n"
     ]
    },
    {
     "name": "stderr",
     "output_type": "stream",
     "text": [
      "INFO:root:Iteration 31\n",
      "INFO:root:Iteration 32\n",
      "INFO:root:Iteration 33\n"
     ]
    },
    {
     "name": "stdout",
     "output_type": "stream",
     "text": [
      "{'max_depth': 5, 'min_samples_leaf': 0.12000000000000001, 'n_estimators': 12} score: 0.8002983920390958\n",
      "current accuracy: 0.8002983920390958\n",
      "best accuracy: 0.8002983920390958\n",
      "next iteration\n",
      "{'max_depth': 6, 'min_samples_leaf': 0.43999545962083364, 'n_estimators': 9} score: -0.00957459560700884\n",
      "current accuracy: -0.00957459560700884\n",
      "best accuracy: 0.8002983920390958\n",
      "next iteration\n",
      "{'max_depth': 3, 'min_samples_leaf': 0.44000000000000006, 'n_estimators': 10} score: -0.009335740534074289\n",
      "current accuracy: -0.009335740534074289\n",
      "best accuracy: 0.8002983920390958\n",
      "next iteration\n"
     ]
    },
    {
     "name": "stderr",
     "output_type": "stream",
     "text": [
      "INFO:root:Iteration 34\n",
      "INFO:root:Iteration 35\n",
      "INFO:root:Iteration 36\n"
     ]
    },
    {
     "name": "stdout",
     "output_type": "stream",
     "text": [
      "{'max_depth': 3, 'min_samples_leaf': 0.32000000000000006, 'n_estimators': 10} score: 0.11200043782181188\n",
      "current accuracy: 0.11200043782181188\n",
      "best accuracy: 0.8002983920390958\n",
      "next iteration\n",
      "{'max_depth': 4, 'min_samples_leaf': 0.2, 'n_estimators': 9} score: 0.6948271931798515\n",
      "current accuracy: 0.6948271931798515\n",
      "best accuracy: 0.8002983920390958\n",
      "next iteration\n",
      "{'max_depth': 4, 'min_samples_leaf': 0.4, 'n_estimators': 10} score: -0.009335740534074289\n",
      "current accuracy: -0.009335740534074289\n",
      "best accuracy: 0.8002983920390958\n"
     ]
    },
    {
     "name": "stderr",
     "output_type": "stream",
     "text": [
      "INFO:root:Iteration 37\n",
      "INFO:root:Iteration 38\n",
      "INFO:root:Iteration 39\n"
     ]
    },
    {
     "name": "stdout",
     "output_type": "stream",
     "text": [
      "next iteration\n",
      "{'max_depth': 2, 'min_samples_leaf': 0.44000000000000006, 'n_estimators': 9} score: -0.00957459560700884\n",
      "current accuracy: -0.00957459560700884\n",
      "best accuracy: 0.8002983920390958\n",
      "next iteration\n",
      "{'max_depth': 6, 'min_samples_leaf': 0.44000000000000006, 'n_estimators': 10} score: -0.009335740534074289\n",
      "current accuracy: -0.009335740534074289\n",
      "best accuracy: 0.8002983920390958\n",
      "next iteration\n",
      "{'max_depth': 4, 'min_samples_leaf': 0.44000000000000006, 'n_estimators': 10} score: -0.009335740534074289\n",
      "current accuracy: -0.009335740534074289\n",
      "best accuracy: 0.8002983920390958\n",
      "next iteration\n"
     ]
    },
    {
     "name": "stderr",
     "output_type": "stream",
     "text": [
      "INFO:root:Iteration 40\n",
      "INFO:root:Iteration 41\n"
     ]
    },
    {
     "name": "stdout",
     "output_type": "stream",
     "text": [
      "{'max_depth': 5, 'min_samples_leaf': 0.2, 'n_estimators': 9} score: 0.6948271931798515\n",
      "current accuracy: 0.6948271931798515\n",
      "best accuracy: 0.8002983920390958\n",
      "next iteration\n",
      "{'max_depth': 3, 'min_samples_leaf': 0.3600001036287043, 'n_estimators': 10} score: -0.009335740534074289\n",
      "current accuracy: -0.009335740534074289\n",
      "best accuracy: 0.8002983920390958\n",
      "next iteration\n"
     ]
    },
    {
     "name": "stderr",
     "output_type": "stream",
     "text": [
      "INFO:root:Iteration 42\n",
      "INFO:root:Iteration 43\n"
     ]
    },
    {
     "name": "stdout",
     "output_type": "stream",
     "text": [
      "{'max_depth': 3, 'min_samples_leaf': 0.32000000000000006, 'n_estimators': 10} score: 0.11200043782181188\n",
      "current accuracy: 0.11200043782181188\n",
      "best accuracy: 0.8002983920390958\n",
      "next iteration\n",
      "{'max_depth': 5, 'min_samples_leaf': 0.31999992754119416, 'n_estimators': 10} score: 0.16196401665439014\n",
      "current accuracy: 0.16196401665439014\n",
      "best accuracy: 0.8002983920390958\n",
      "next iteration\n"
     ]
    },
    {
     "name": "stderr",
     "output_type": "stream",
     "text": [
      "INFO:root:Iteration 44\n",
      "INFO:root:Iteration 45\n"
     ]
    },
    {
     "name": "stdout",
     "output_type": "stream",
     "text": [
      "{'max_depth': 3, 'min_samples_leaf': 0.48, 'n_estimators': 9} score: -0.00957459560700884\n",
      "current accuracy: -0.00957459560700884\n",
      "best accuracy: 0.8002983920390958\n",
      "next iteration\n",
      "{'max_depth': 4, 'min_samples_leaf': 0.1200370370401015, 'n_estimators': 10} score: 0.7966941788055276\n",
      "current accuracy: 0.7966941788055276\n",
      "best accuracy: 0.8002983920390958\n",
      "next iteration\n"
     ]
    },
    {
     "name": "stderr",
     "output_type": "stream",
     "text": [
      "INFO:root:Iteration 46\n",
      "INFO:root:Iteration 47\n"
     ]
    },
    {
     "name": "stdout",
     "output_type": "stream",
     "text": [
      "{'max_depth': 3, 'min_samples_leaf': 0.39996616040220945, 'n_estimators': 9} score: -0.00957459560700884\n",
      "current accuracy: -0.00957459560700884\n",
      "best accuracy: 0.8002983920390958\n",
      "next iteration\n",
      "{'max_depth': 3, 'min_samples_leaf': 0.12002557953848737, 'n_estimators': 10} score: 0.7966941788055276\n",
      "current accuracy: 0.7966941788055276\n",
      "best accuracy: 0.8002983920390958\n",
      "next iteration\n"
     ]
    },
    {
     "name": "stderr",
     "output_type": "stream",
     "text": [
      "INFO:root:Iteration 48\n",
      "INFO:root:Iteration 49\n"
     ]
    },
    {
     "name": "stdout",
     "output_type": "stream",
     "text": [
      "{'max_depth': 5, 'min_samples_leaf': 0.4, 'n_estimators': 10} score: -0.009335740534074289\n",
      "current accuracy: -0.009335740534074289\n",
      "best accuracy: 0.8002983920390958\n",
      "next iteration\n",
      "{'max_depth': 3, 'min_samples_leaf': 0.11999905591870905, 'n_estimators': 10} score: 0.7964020277097115\n",
      "current accuracy: 0.7964020277097115\n",
      "best accuracy: 0.8002983920390958\n",
      "next iteration\n"
     ]
    },
    {
     "name": "stderr",
     "output_type": "stream",
     "text": [
      "INFO:root:Iteration 50\n",
      "INFO:root:Iteration 51\n"
     ]
    },
    {
     "name": "stdout",
     "output_type": "stream",
     "text": [
      "{'max_depth': 3, 'min_samples_leaf': 0.44000000000000006, 'n_estimators': 10} score: -0.009335740534074289\n",
      "current accuracy: -0.009335740534074289\n",
      "best accuracy: 0.8002983920390958\n",
      "next iteration\n",
      "{'max_depth': 4, 'min_samples_leaf': 0.27998250288513193, 'n_estimators': 9} score: 0.45290613797064994\n",
      "current accuracy: 0.45290613797064994\n",
      "best accuracy: 0.8002983920390958\n",
      "next iteration\n"
     ]
    },
    {
     "name": "stderr",
     "output_type": "stream",
     "text": [
      "INFO:root:Iteration 52\n",
      "INFO:root:Iteration 53\n"
     ]
    },
    {
     "name": "stdout",
     "output_type": "stream",
     "text": [
      "{'max_depth': 4, 'min_samples_leaf': 0.48, 'n_estimators': 10} score: -0.009335740534074289\n",
      "current accuracy: -0.009335740534074289\n",
      "best accuracy: 0.8002983920390958\n",
      "next iteration\n",
      "{'max_depth': 5, 'min_samples_leaf': 0.44000003160733664, 'n_estimators': 7} score: -0.010515454502098143\n",
      "current accuracy: -0.010515454502098143\n",
      "best accuracy: 0.8002983920390958\n",
      "next iteration\n"
     ]
    },
    {
     "name": "stderr",
     "output_type": "stream",
     "text": [
      "INFO:root:Iteration 54\n",
      "INFO:root:Iteration 55\n"
     ]
    },
    {
     "name": "stdout",
     "output_type": "stream",
     "text": [
      "{'max_depth': 2, 'min_samples_leaf': 0.31998306180655145, 'n_estimators': 10} score: 0.16196401665439014\n",
      "current accuracy: 0.16196401665439014\n",
      "best accuracy: 0.8002983920390958\n",
      "next iteration\n",
      "{'max_depth': 3, 'min_samples_leaf': 0.4399842839172108, 'n_estimators': 9} score: -0.00957459560700884\n",
      "current accuracy: -0.00957459560700884\n",
      "best accuracy: 0.8002983920390958\n",
      "next iteration\n"
     ]
    },
    {
     "name": "stderr",
     "output_type": "stream",
     "text": [
      "INFO:root:Iteration 56\n",
      "INFO:root:Iteration 57\n"
     ]
    },
    {
     "name": "stdout",
     "output_type": "stream",
     "text": [
      "{'max_depth': 6, 'min_samples_leaf': 0.1999983346845634, 'n_estimators': 9} score: 0.6948271931798515\n",
      "current accuracy: 0.6948271931798515\n",
      "best accuracy: 0.8002983920390958\n",
      "next iteration\n",
      "{'max_depth': 2, 'min_samples_leaf': 0.24003166356066233, 'n_estimators': 9} score: 0.5022439460506452\n",
      "current accuracy: 0.5022439460506452\n",
      "best accuracy: 0.8002983920390958\n",
      "next iteration\n"
     ]
    },
    {
     "name": "stderr",
     "output_type": "stream",
     "text": [
      "INFO:root:Iteration 58\n",
      "INFO:root:Iteration 59\n"
     ]
    },
    {
     "name": "stdout",
     "output_type": "stream",
     "text": [
      "{'max_depth': 6, 'min_samples_leaf': 0.4, 'n_estimators': 10} score: -0.009335740534074289\n",
      "current accuracy: -0.009335740534074289\n",
      "best accuracy: 0.8002983920390958\n",
      "next iteration\n",
      "{'max_depth': 2, 'min_samples_leaf': 0.31999820241602606, 'n_estimators': 10} score: 0.16196401665439014\n",
      "current accuracy: 0.16196401665439014\n",
      "best accuracy: 0.8002983920390958\n",
      "next iteration\n"
     ]
    },
    {
     "name": "stderr",
     "output_type": "stream",
     "text": [
      "INFO:root:Iteration 60\n",
      "INFO:root:Iteration 61\n"
     ]
    },
    {
     "name": "stdout",
     "output_type": "stream",
     "text": [
      "{'max_depth': 3, 'min_samples_leaf': 0.4, 'n_estimators': 9} score: -0.00957459560700884\n",
      "current accuracy: -0.00957459560700884\n",
      "best accuracy: 0.8002983920390958\n",
      "next iteration\n",
      "{'max_depth': 2, 'min_samples_leaf': 0.48, 'n_estimators': 9} score: -0.00957459560700884\n",
      "current accuracy: -0.00957459560700884\n",
      "best accuracy: 0.8002983920390958\n",
      "next iteration\n"
     ]
    },
    {
     "name": "stderr",
     "output_type": "stream",
     "text": [
      "INFO:root:Iteration 62\n",
      "INFO:root:Iteration 63\n"
     ]
    },
    {
     "name": "stdout",
     "output_type": "stream",
     "text": [
      "{'max_depth': 5, 'min_samples_leaf': 0.36000018577592724, 'n_estimators': 9} score: -0.00957459560700884\n",
      "current accuracy: -0.00957459560700884\n",
      "best accuracy: 0.8002983920390958\n",
      "next iteration\n",
      "{'max_depth': 6, 'min_samples_leaf': 0.31999681829377796, 'n_estimators': 10} score: 0.16196401665439014\n",
      "current accuracy: 0.16196401665439014\n",
      "best accuracy: 0.8002983920390958\n",
      "next iteration\n"
     ]
    },
    {
     "name": "stderr",
     "output_type": "stream",
     "text": [
      "INFO:root:Iteration 64\n",
      "INFO:root:Iteration 65\n"
     ]
    },
    {
     "name": "stdout",
     "output_type": "stream",
     "text": [
      "{'max_depth': 4, 'min_samples_leaf': 0.12001909583602356, 'n_estimators': 10} score: 0.7966941788055276\n",
      "current accuracy: 0.7966941788055276\n",
      "best accuracy: 0.8002983920390958\n",
      "next iteration\n",
      "{'max_depth': 3, 'min_samples_leaf': 0.3999864330746391, 'n_estimators': 10} score: -0.009335740534074289\n",
      "current accuracy: -0.009335740534074289\n",
      "best accuracy: 0.8002983920390958\n",
      "next iteration\n"
     ]
    },
    {
     "name": "stderr",
     "output_type": "stream",
     "text": [
      "INFO:root:Iteration 66\n",
      "INFO:root:Iteration 67\n"
     ]
    },
    {
     "name": "stdout",
     "output_type": "stream",
     "text": [
      "{'max_depth': 5, 'min_samples_leaf': 0.43998636646125766, 'n_estimators': 10} score: -0.009335740534074289\n",
      "current accuracy: -0.009335740534074289\n",
      "best accuracy: 0.8002983920390958\n",
      "next iteration\n",
      "{'max_depth': 3, 'min_samples_leaf': 0.23999122820306898, 'n_estimators': 9} score: 0.5030954049197514\n",
      "current accuracy: 0.5030954049197514\n",
      "best accuracy: 0.8002983920390958\n",
      "next iteration\n"
     ]
    },
    {
     "name": "stderr",
     "output_type": "stream",
     "text": [
      "INFO:root:Iteration 68\n",
      "INFO:root:Iteration 69\n"
     ]
    },
    {
     "name": "stdout",
     "output_type": "stream",
     "text": [
      "{'max_depth': 5, 'min_samples_leaf': 0.4399857225319034, 'n_estimators': 10} score: -0.009335740534074289\n",
      "current accuracy: -0.009335740534074289\n",
      "best accuracy: 0.8002983920390958\n",
      "next iteration\n",
      "{'max_depth': 3, 'min_samples_leaf': 0.47992457144770695, 'n_estimators': 10} score: -0.009335740534074289\n",
      "current accuracy: -0.009335740534074289\n",
      "best accuracy: 0.8002983920390958\n",
      "next iteration\n"
     ]
    },
    {
     "name": "stderr",
     "output_type": "stream",
     "text": [
      "INFO:root:Iteration 70\n",
      "INFO:root:Iteration 71\n"
     ]
    },
    {
     "name": "stdout",
     "output_type": "stream",
     "text": [
      "{'max_depth': 3, 'min_samples_leaf': 0.11999624486391751, 'n_estimators': 9} score: 0.7981373572444003\n",
      "current accuracy: 0.7981373572444003\n",
      "best accuracy: 0.8002983920390958\n",
      "next iteration\n",
      "{'max_depth': 4, 'min_samples_leaf': 0.39996194155471587, 'n_estimators': 9} score: -0.00957459560700884\n",
      "current accuracy: -0.00957459560700884\n",
      "best accuracy: 0.8002983920390958\n",
      "next iteration\n"
     ]
    },
    {
     "name": "stderr",
     "output_type": "stream",
     "text": [
      "INFO:root:Iteration 72\n",
      "INFO:root:Iteration 73\n"
     ]
    },
    {
     "name": "stdout",
     "output_type": "stream",
     "text": [
      "{'max_depth': 6, 'min_samples_leaf': 0.24002371081611523, 'n_estimators': 10} score: 0.5148707931739177\n",
      "current accuracy: 0.5148707931739177\n",
      "best accuracy: 0.8002983920390958\n",
      "next iteration\n",
      "{'max_depth': 3, 'min_samples_leaf': 0.23999989870287225, 'n_estimators': 10} score: 0.5156684657279785\n",
      "current accuracy: 0.5156684657279785\n",
      "best accuracy: 0.8002983920390958\n",
      "next iteration\n"
     ]
    },
    {
     "name": "stderr",
     "output_type": "stream",
     "text": [
      "INFO:root:Iteration 74\n",
      "INFO:root:Iteration 75\n"
     ]
    },
    {
     "name": "stdout",
     "output_type": "stream",
     "text": [
      "{'max_depth': 3, 'min_samples_leaf': 0.16003943457918282, 'n_estimators': 9} score: 0.7758889566588596\n",
      "current accuracy: 0.7758889566588596\n",
      "best accuracy: 0.8002983920390958\n",
      "next iteration\n",
      "{'max_depth': 7, 'min_samples_leaf': 0.11999852177807155, 'n_estimators': 10} score: 0.7964020277097115\n",
      "current accuracy: 0.7964020277097115\n",
      "best accuracy: 0.8002983920390958\n",
      "next iteration\n"
     ]
    },
    {
     "name": "stderr",
     "output_type": "stream",
     "text": [
      "INFO:root:Iteration 76\n",
      "INFO:root:Iteration 77\n"
     ]
    },
    {
     "name": "stdout",
     "output_type": "stream",
     "text": [
      "{'max_depth': 4, 'min_samples_leaf': 0.3199459543431613, 'n_estimators': 10} score: 0.16196401665439014\n",
      "current accuracy: 0.16196401665439014\n",
      "best accuracy: 0.8002983920390958\n",
      "next iteration\n",
      "{'max_depth': 6, 'min_samples_leaf': 0.28, 'n_estimators': 9} score: 0.45724519226796384\n",
      "current accuracy: 0.45724519226796384\n",
      "best accuracy: 0.8002983920390958\n",
      "next iteration\n"
     ]
    },
    {
     "name": "stderr",
     "output_type": "stream",
     "text": [
      "INFO:root:Iteration 78\n",
      "INFO:root:Iteration 79\n"
     ]
    },
    {
     "name": "stdout",
     "output_type": "stream",
     "text": [
      "{'max_depth': 3, 'min_samples_leaf': 0.31999305092893116, 'n_estimators': 10} score: 0.16196401665439014\n",
      "current accuracy: 0.16196401665439014\n",
      "best accuracy: 0.8002983920390958\n",
      "next iteration\n",
      "{'max_depth': 4, 'min_samples_leaf': 0.35999837553072195, 'n_estimators': 9} score: -0.00957459560700884\n",
      "current accuracy: -0.00957459560700884\n",
      "best accuracy: 0.8002983920390958\n",
      "next iteration\n"
     ]
    },
    {
     "name": "stderr",
     "output_type": "stream",
     "text": [
      "INFO:root:Iteration 80\n",
      "INFO:root:Iteration 81\n"
     ]
    },
    {
     "name": "stdout",
     "output_type": "stream",
     "text": [
      "{'max_depth': 3, 'min_samples_leaf': 0.32000000000000006, 'n_estimators': 10} score: 0.11200043782181188\n",
      "current accuracy: 0.11200043782181188\n",
      "best accuracy: 0.8002983920390958\n",
      "next iteration\n",
      "{'max_depth': 3, 'min_samples_leaf': 0.4, 'n_estimators': 12} score: -0.008587570224572082\n",
      "current accuracy: -0.008587570224572082\n",
      "best accuracy: 0.8002983920390958\n",
      "next iteration\n"
     ]
    },
    {
     "name": "stderr",
     "output_type": "stream",
     "text": [
      "INFO:root:Iteration 82\n",
      "INFO:root:Iteration 83\n"
     ]
    },
    {
     "name": "stdout",
     "output_type": "stream",
     "text": [
      "{'max_depth': 2, 'min_samples_leaf': 0.2, 'n_estimators': 10} score: 0.7057872101137947\n",
      "current accuracy: 0.7057872101137947\n",
      "best accuracy: 0.8002983920390958\n",
      "next iteration\n",
      "{'max_depth': 4, 'min_samples_leaf': 0.15999878735054424, 'n_estimators': 9} score: 0.7772455185040268\n",
      "current accuracy: 0.7772455185040268\n",
      "best accuracy: 0.8002983920390958\n",
      "next iteration\n"
     ]
    },
    {
     "name": "stderr",
     "output_type": "stream",
     "text": [
      "INFO:root:Iteration 84\n",
      "INFO:root:Iteration 85\n"
     ]
    },
    {
     "name": "stdout",
     "output_type": "stream",
     "text": [
      "{'max_depth': 3, 'min_samples_leaf': 0.28, 'n_estimators': 10} score: 0.46852619298481\n",
      "current accuracy: 0.46852619298481\n",
      "best accuracy: 0.8002983920390958\n",
      "next iteration\n",
      "{'max_depth': 4, 'min_samples_leaf': 0.32000000000000006, 'n_estimators': 10} score: 0.11200043782181188\n",
      "current accuracy: 0.11200043782181188\n",
      "best accuracy: 0.8002983920390958\n",
      "next iteration\n"
     ]
    },
    {
     "name": "stderr",
     "output_type": "stream",
     "text": [
      "INFO:root:Iteration 86\n",
      "INFO:root:Iteration 87\n"
     ]
    },
    {
     "name": "stdout",
     "output_type": "stream",
     "text": [
      "{'max_depth': 4, 'min_samples_leaf': 0.11999085721966167, 'n_estimators': 7} score: 0.7962059664031744\n",
      "current accuracy: 0.7962059664031744\n",
      "best accuracy: 0.8002983920390958\n",
      "next iteration\n",
      "{'max_depth': 3, 'min_samples_leaf': 0.3600000000000001, 'n_estimators': 9} score: -0.00957459560700884\n",
      "current accuracy: -0.00957459560700884\n",
      "best accuracy: 0.8002983920390958\n",
      "next iteration\n"
     ]
    },
    {
     "name": "stderr",
     "output_type": "stream",
     "text": [
      "INFO:root:Iteration 88\n",
      "INFO:root:Iteration 89\n"
     ]
    },
    {
     "name": "stdout",
     "output_type": "stream",
     "text": [
      "{'max_depth': 3, 'min_samples_leaf': 0.12000000000000001, 'n_estimators': 9} score: 0.7990162760853565\n",
      "current accuracy: 0.7990162760853565\n",
      "best accuracy: 0.8002983920390958\n",
      "next iteration\n",
      "{'max_depth': 2, 'min_samples_leaf': 0.39995252686346705, 'n_estimators': 9} score: -0.00957459560700884\n",
      "current accuracy: -0.00957459560700884\n",
      "best accuracy: 0.8002983920390958\n",
      "next iteration\n"
     ]
    },
    {
     "name": "stderr",
     "output_type": "stream",
     "text": [
      "INFO:root:Iteration 90\n",
      "INFO:root:Iteration 91\n"
     ]
    },
    {
     "name": "stdout",
     "output_type": "stream",
     "text": [
      "{'max_depth': 3, 'min_samples_leaf': 0.4799982599970509, 'n_estimators': 10} score: -0.009335740534074289\n",
      "current accuracy: -0.009335740534074289\n",
      "best accuracy: 0.8002983920390958\n",
      "next iteration\n",
      "{'max_depth': 3, 'min_samples_leaf': 0.4399880095913341, 'n_estimators': 9} score: -0.00957459560700884\n",
      "current accuracy: -0.00957459560700884\n",
      "best accuracy: 0.8002983920390958\n",
      "next iteration\n"
     ]
    },
    {
     "name": "stderr",
     "output_type": "stream",
     "text": [
      "INFO:root:Iteration 92\n",
      "INFO:root:Iteration 93\n",
      "INFO:root:Iteration 94\n"
     ]
    },
    {
     "name": "stdout",
     "output_type": "stream",
     "text": [
      "{'max_depth': 4, 'min_samples_leaf': 0.12000000000000001, 'n_estimators': 9} score: 0.7990162760853565\n",
      "current accuracy: 0.7990162760853565\n",
      "best accuracy: 0.8002983920390958\n",
      "next iteration\n",
      "{'max_depth': 5, 'min_samples_leaf': 0.28, 'n_estimators': 10} score: 0.46852619298481\n",
      "current accuracy: 0.46852619298481\n",
      "best accuracy: 0.8002983920390958\n",
      "next iteration\n",
      "{'max_depth': 2, 'min_samples_leaf': 0.44000000000000006, 'n_estimators': 9} score: -0.00957459560700884\n",
      "current accuracy: -0.00957459560700884\n",
      "best accuracy: 0.8002983920390958\n",
      "next iteration\n"
     ]
    },
    {
     "name": "stderr",
     "output_type": "stream",
     "text": [
      "INFO:root:Best result 0.8002983920390958: Params: [ 5.    0.12 12.  ]\n",
      "INFO:root:Best result 0.8002983920390958: Params: {'bootstrap': 5.0, 'criterion': 0.12000000000000001, 'max_depth': 12.0}\n"
     ]
    },
    {
     "name": "stdout",
     "output_type": "stream",
     "text": [
      "{'max_depth': 5, 'min_samples_leaf': 0.32000000000000006, 'n_estimators': 9} score: 0.12398975013204641\n",
      "current accuracy: 0.12398975013204641\n",
      "best accuracy: 0.8002983920390958\n"
     ]
    }
   ],
   "source": [
    "# --- Define our hyper parameter space as a dictionary. \n",
    "\n",
    "# Use the names of the hyper parameters as the keys\n",
    "# Values should be a list for discrete values and [lower_bound,upper_bound] for continuous\n",
    "hps = {\n",
    "    'n_estimators':range(1,20),\n",
    "    'max_depth':range(1,10),\n",
    "    'min_samples_leaf': [0.1,0.5]\n",
    "}\n",
    "\n",
    "# --- Run the Bayesian Optimisation Code\n",
    "MLmodel = RandomForestRegressor(random_state=42)\n",
    "\n",
    "def my_scoring_function(X_train, y_train):\n",
    "    return MLmodel.score(X_train, y_train)\n",
    "\n",
    "BOout = BayesianOptimisation(\n",
    "    hps=hps,\n",
    "    MLmodel = MLmodel,\n",
    "    scoring_function = my_scoring_function,\n",
    "    NpI = 5,\n",
    "    Niter = 95,\n",
    "    y_train = y_train,\n",
    "    X_train = X_train,\n",
    "    n_restarts = 10,\n",
    ").optimise()"
   ]
  },
  {
   "cell_type": "markdown",
   "metadata": {},
   "source": [
    "### Example 2"
   ]
  },
  {
   "cell_type": "code",
   "execution_count": null,
   "metadata": {},
   "outputs": [
    {
     "name": "stderr",
     "output_type": "stream",
     "text": [
      "/anaconda3/lib/python3.6/site-packages/sklearn/ensemble/forest.py:245: FutureWarning: The default value of n_estimators will change from 10 in version 0.20 to 100 in 0.22.\n",
      "  \"10 in version 0.20 to 100 in 0.22.\", FutureWarning)\n",
      "INFO:root:Will perform 95 iterations\n",
      "INFO:root:Iteration 0\n",
      "INFO:root:Iteration 1\n",
      "INFO:root:Iteration 2\n"
     ]
    },
    {
     "name": "stdout",
     "output_type": "stream",
     "text": [
      "{'min_samples_leaf': 0.22000000000000003} 0.4813176890428952\n",
      "{'min_samples_leaf': 0.14} 0.7611842226514938\n",
      "{'min_samples_leaf': 0.4600000000000001} -8.105585937734361e-05\n",
      "{'min_samples_leaf': 0.30000000000000004} 0.4181731386486091\n",
      "{'min_samples_leaf': 0.38} -8.105585937734361e-05\n",
      "{'min_samples_leaf': 0.16000000000000003} 0.7506234076621161\n",
      "current accuracy: 0.7506234076621161\n",
      "best accuracy: 0.7611842226514938\n",
      "{'min_samples_leaf': 0.14500071901704767} 0.758548068733668\n",
      "current accuracy: 0.758548068733668\n",
      "best accuracy: 0.7611842226514938\n"
     ]
    },
    {
     "name": "stderr",
     "output_type": "stream",
     "text": [
      "INFO:root:Iteration 3\n",
      "INFO:root:Iteration 4\n",
      "INFO:root:Iteration 5\n"
     ]
    },
    {
     "name": "stdout",
     "output_type": "stream",
     "text": [
      "{'min_samples_leaf': 0.14359800654588614} 0.7597490697232373\n",
      "current accuracy: 0.7597490697232373\n",
      "best accuracy: 0.7611842226514938\n",
      "{'min_samples_leaf': 0.14281551301451326} 0.7604543509917512\n",
      "current accuracy: 0.7604543509917512\n",
      "best accuracy: 0.7611842226514938\n",
      "{'min_samples_leaf': 0.1423166685308091} 0.7604543509917512\n",
      "current accuracy: 0.7604543509917512\n",
      "best accuracy: 0.7611842226514938\n",
      "{'min_samples_leaf': 0.14197114286162132} 0.7607869359838187\n",
      "current accuracy: 0.7607869359838187\n",
      "best accuracy: 0.7611842226514938\n"
     ]
    },
    {
     "name": "stderr",
     "output_type": "stream",
     "text": [
      "INFO:root:Iteration 6\n",
      "INFO:root:Iteration 7\n",
      "INFO:root:Iteration 8\n",
      "INFO:root:Iteration 9\n"
     ]
    },
    {
     "name": "stdout",
     "output_type": "stream",
     "text": [
      "{'min_samples_leaf': 0.141717220259729} 0.7607869359838187\n",
      "current accuracy: 0.7607869359838187\n",
      "best accuracy: 0.7611842226514938\n",
      "{'min_samples_leaf': 0.1415226278231482} 0.7607869359838187\n",
      "current accuracy: 0.7607869359838187\n",
      "best accuracy: 0.7611842226514938\n",
      "{'min_samples_leaf': 0.1413687435551261} 0.7607869359838187\n",
      "current accuracy: 0.7607869359838187\n",
      "best accuracy: 0.7611842226514938\n"
     ]
    },
    {
     "name": "stderr",
     "output_type": "stream",
     "text": [
      "INFO:root:Iteration 10\n",
      "INFO:root:Iteration 11\n",
      "INFO:root:Iteration 12\n"
     ]
    },
    {
     "name": "stdout",
     "output_type": "stream",
     "text": [
      "{'min_samples_leaf': 0.14124389354935635} 0.7607869359838187\n",
      "current accuracy: 0.7607869359838187\n",
      "best accuracy: 0.7611842226514938\n",
      "{'min_samples_leaf': 0.14114050141384749} 0.7607869359838187\n",
      "current accuracy: 0.7607869359838187\n",
      "best accuracy: 0.7611842226514938\n",
      "{'min_samples_leaf': 0.14105347788853914} 0.7607869359838187\n",
      "current accuracy: 0.7607869359838187\n",
      "best accuracy: 0.7611842226514938\n"
     ]
    },
    {
     "name": "stderr",
     "output_type": "stream",
     "text": [
      "INFO:root:Iteration 13\n",
      "INFO:root:Iteration 14\n"
     ]
    },
    {
     "name": "stdout",
     "output_type": "stream",
     "text": [
      "{'min_samples_leaf': 0.14097910774705696} 0.7611835084856301\n",
      "current accuracy: 0.7611835084856301\n",
      "best accuracy: 0.7611842226514938\n",
      "{'min_samples_leaf': 0.14091472897980928} 0.7611835084856301\n",
      "current accuracy: 0.7611835084856301\n",
      "best accuracy: 0.7611842226514938\n",
      "{'min_samples_leaf': 0.1408586094476931} 0.7611835084856301\n",
      "current accuracy: 0.7611835084856301\n",
      "best accuracy: 0.7611842226514938\n"
     ]
    },
    {
     "name": "stderr",
     "output_type": "stream",
     "text": [
      "INFO:root:Iteration 15\n",
      "INFO:root:Iteration 16\n",
      "INFO:root:Iteration 17\n",
      "INFO:root:Iteration 18\n"
     ]
    },
    {
     "name": "stdout",
     "output_type": "stream",
     "text": [
      "{'min_samples_leaf': 0.14080913192964453} 0.7611835084856301\n",
      "current accuracy: 0.7611835084856301\n",
      "best accuracy: 0.7611842226514938\n",
      "{'min_samples_leaf': 0.1407652305916371} 0.7611835084856301\n",
      "current accuracy: 0.7611835084856301\n",
      "best accuracy: 0.7611842226514938\n",
      "{'min_samples_leaf': 0.14072592861226316} 0.7611835084856301\n",
      "current accuracy: 0.7611835084856301\n",
      "best accuracy: 0.7611842226514938\n"
     ]
    },
    {
     "name": "stderr",
     "output_type": "stream",
     "text": [
      "INFO:root:Iteration 19\n",
      "INFO:root:Iteration 20\n",
      "INFO:root:Iteration 21\n"
     ]
    },
    {
     "name": "stdout",
     "output_type": "stream",
     "text": [
      "{'min_samples_leaf': 0.1406906148518981} 0.7611835084856301\n",
      "current accuracy: 0.7611835084856301\n",
      "best accuracy: 0.7611842226514938\n",
      "{'min_samples_leaf': 0.1406587097872982} 0.7611835084856301\n",
      "current accuracy: 0.7611835084856301\n",
      "best accuracy: 0.7611842226514938\n",
      "{'min_samples_leaf': 0.1406297208136269} 0.7611835084856301\n",
      "current accuracy: 0.7611835084856301\n",
      "best accuracy: 0.7611842226514938\n"
     ]
    },
    {
     "name": "stderr",
     "output_type": "stream",
     "text": [
      "INFO:root:Iteration 22\n",
      "INFO:root:Iteration 23\n",
      "INFO:root:Iteration 24\n"
     ]
    },
    {
     "name": "stdout",
     "output_type": "stream",
     "text": [
      "{'min_samples_leaf': 0.1406032882885509} 0.7611835084856301\n",
      "current accuracy: 0.7611835084856301\n",
      "best accuracy: 0.7611842226514938\n",
      "{'min_samples_leaf': 0.14057893927770826} 0.7611835084856301\n",
      "current accuracy: 0.7611835084856301\n",
      "best accuracy: 0.7611842226514938\n",
      "{'min_samples_leaf': 0.14055663146242953} 0.7611835084856301\n",
      "current accuracy: 0.7611835084856301\n",
      "best accuracy: 0.7611842226514938\n"
     ]
    },
    {
     "name": "stderr",
     "output_type": "stream",
     "text": [
      "INFO:root:Iteration 25\n",
      "INFO:root:Iteration 26\n",
      "INFO:root:Iteration 27\n"
     ]
    },
    {
     "name": "stdout",
     "output_type": "stream",
     "text": [
      "{'min_samples_leaf': 0.14053592379649466} 0.7611835084856301\n",
      "current accuracy: 0.7611835084856301\n",
      "best accuracy: 0.7611842226514938\n",
      "{'min_samples_leaf': 0.1405169350284069} 0.7611835084856301\n",
      "current accuracy: 0.7611835084856301\n",
      "best accuracy: 0.7611842226514938\n",
      "{'min_samples_leaf': 0.14049921494078055} 0.7611835084856301\n",
      "current accuracy: 0.7611835084856301\n",
      "best accuracy: 0.7611842226514938\n"
     ]
    },
    {
     "name": "stderr",
     "output_type": "stream",
     "text": [
      "INFO:root:Iteration 28\n",
      "INFO:root:Iteration 29\n",
      "INFO:root:Iteration 30\n"
     ]
    },
    {
     "name": "stdout",
     "output_type": "stream",
     "text": [
      "{'min_samples_leaf': 0.14048271698603643} 0.7611835084856301\n",
      "current accuracy: 0.7611835084856301\n",
      "best accuracy: 0.7611842226514938\n",
      "{'min_samples_leaf': 0.140467070884656} 0.7611835084856301\n",
      "current accuracy: 0.7611835084856301\n",
      "best accuracy: 0.7611842226514938\n",
      "{'min_samples_leaf': 0.14045270548183333} 0.7611835084856301\n",
      "current accuracy: 0.7611835084856301\n",
      "best accuracy: 0.7611842226514938\n"
     ]
    },
    {
     "name": "stderr",
     "output_type": "stream",
     "text": [
      "INFO:root:Iteration 31\n",
      "INFO:root:Iteration 32\n",
      "INFO:root:Iteration 33\n"
     ]
    },
    {
     "name": "stdout",
     "output_type": "stream",
     "text": [
      "{'min_samples_leaf': 0.14043920429979037} 0.7611835084856301\n",
      "current accuracy: 0.7611835084856301\n",
      "best accuracy: 0.7611842226514938\n",
      "{'min_samples_leaf': 0.14042662126576239} 0.7611835084856301\n",
      "current accuracy: 0.7611835084856301\n",
      "best accuracy: 0.7611842226514938\n",
      "{'min_samples_leaf': 0.1404145191303343} 0.7611835084856301\n",
      "current accuracy: 0.7611835084856301\n",
      "best accuracy: 0.7611842226514938\n"
     ]
    },
    {
     "name": "stderr",
     "output_type": "stream",
     "text": [
      "INFO:root:Iteration 34\n",
      "INFO:root:Iteration 35\n"
     ]
    },
    {
     "name": "stdout",
     "output_type": "stream",
     "text": [
      "{'min_samples_leaf': 0.14040306855642762} 0.7611835084856301\n",
      "current accuracy: 0.7611835084856301\n",
      "best accuracy: 0.7611842226514938\n",
      "{'min_samples_leaf': 0.1403924885252998} 0.7611835084856301\n",
      "current accuracy: 0.7611835084856301\n",
      "best accuracy: 0.7611842226514938\n"
     ]
    },
    {
     "name": "stderr",
     "output_type": "stream",
     "text": [
      "INFO:root:Iteration 36\n",
      "INFO:root:Iteration 37\n"
     ]
    },
    {
     "name": "stdout",
     "output_type": "stream",
     "text": [
      "{'min_samples_leaf': 0.14038238251857807} 0.7611835084856301\n",
      "current accuracy: 0.7611835084856301\n",
      "best accuracy: 0.7611842226514938\n",
      "{'min_samples_leaf': 0.1403726310805419} 0.7611835084856301\n",
      "current accuracy: 0.7611835084856301\n",
      "best accuracy: 0.7611842226514938\n"
     ]
    },
    {
     "name": "stderr",
     "output_type": "stream",
     "text": [
      "INFO:root:Iteration 38\n",
      "INFO:root:Iteration 39\n",
      "INFO:root:Iteration 40\n"
     ]
    },
    {
     "name": "stdout",
     "output_type": "stream",
     "text": [
      "{'min_samples_leaf': 0.14036362454534673} 0.7611835084856301\n",
      "current accuracy: 0.7611835084856301\n",
      "best accuracy: 0.7611842226514938\n",
      "{'min_samples_leaf': 0.14035470709928402} 0.7611835084856301\n",
      "current accuracy: 0.7611835084856301\n",
      "best accuracy: 0.7611842226514938\n",
      "{'min_samples_leaf': 0.14034680809441266} 0.7611835084856301\n",
      "current accuracy: 0.7611835084856301\n",
      "best accuracy: 0.7611842226514938\n"
     ]
    },
    {
     "name": "stderr",
     "output_type": "stream",
     "text": [
      "INFO:root:Iteration 41\n",
      "INFO:root:Iteration 42\n"
     ]
    },
    {
     "name": "stdout",
     "output_type": "stream",
     "text": [
      "{'min_samples_leaf': 0.14033900927495396} 0.7611835084856301\n",
      "current accuracy: 0.7611835084856301\n",
      "best accuracy: 0.7611842226514938\n",
      "{'min_samples_leaf': 0.14033150207357958} 0.7611835084856301\n",
      "current accuracy: 0.7611835084856301\n",
      "best accuracy: 0.7611842226514938\n"
     ]
    },
    {
     "name": "stderr",
     "output_type": "stream",
     "text": [
      "INFO:root:Iteration 43\n",
      "INFO:root:Iteration 44\n"
     ]
    },
    {
     "name": "stdout",
     "output_type": "stream",
     "text": [
      "{'min_samples_leaf': 0.1403241481248132} 0.7611835084856301\n",
      "current accuracy: 0.7611835084856301\n",
      "best accuracy: 0.7611842226514938\n",
      "{'min_samples_leaf': 0.14031738468992408} 0.7611835084856301\n",
      "current accuracy: 0.7611835084856301\n",
      "best accuracy: 0.7611842226514938\n"
     ]
    },
    {
     "name": "stderr",
     "output_type": "stream",
     "text": [
      "INFO:root:Iteration 45\n",
      "INFO:root:Iteration 46\n"
     ]
    },
    {
     "name": "stdout",
     "output_type": "stream",
     "text": [
      "{'min_samples_leaf': 0.14031080911750027} 0.7611835084856301\n",
      "current accuracy: 0.7611835084856301\n",
      "best accuracy: 0.7611842226514938\n",
      "{'min_samples_leaf': 0.14030458378668806} 0.7611835084856301\n",
      "current accuracy: 0.7611835084856301\n",
      "best accuracy: 0.7611842226514938\n"
     ]
    },
    {
     "name": "stderr",
     "output_type": "stream",
     "text": [
      "INFO:root:Iteration 47\n",
      "INFO:root:Iteration 48\n"
     ]
    },
    {
     "name": "stdout",
     "output_type": "stream",
     "text": [
      "{'min_samples_leaf': 0.14029853497401615} 0.7611835084856301\n",
      "current accuracy: 0.7611835084856301\n",
      "best accuracy: 0.7611842226514938\n",
      "{'min_samples_leaf': 0.14029275754677403} 0.7611835084856301\n",
      "current accuracy: 0.7611835084856301\n",
      "best accuracy: 0.7611842226514938\n"
     ]
    },
    {
     "name": "stderr",
     "output_type": "stream",
     "text": [
      "INFO:root:Iteration 49\n",
      "INFO:root:Iteration 50\n"
     ]
    },
    {
     "name": "stdout",
     "output_type": "stream",
     "text": [
      "{'min_samples_leaf': 0.1402871904764465} 0.7611835084856301\n",
      "current accuracy: 0.7611835084856301\n",
      "best accuracy: 0.7611842226514938\n",
      "{'min_samples_leaf': 0.14028195937492788} 0.7611835084856301\n",
      "current accuracy: 0.7611835084856301\n",
      "best accuracy: 0.7611842226514938\n"
     ]
    }
   ],
   "source": [
    "# --- Define our hyper parameter space as a dictionary. \n",
    "\n",
    "# Use the names of the hyper parameters as the keys\n",
    "# Values should be a list for discrete values and [lower_bound,upper_bound] for continuous\n",
    "hps = {\n",
    "    'n_estimators':range(1,20),\n",
    "    'max_depth':range(1,10),\n",
    "    'min_samples_leaf': [0.1,0.5]\n",
    "}\n",
    "\n",
    "# --- Run the Bayesian Optimisation Code\n",
    "MLmodel = RandomForestRegressor(random_state=42)\n",
    "\n",
    "BOout = BayesianOptimisation(\n",
    "    hps=hps,\n",
    "    MLmodel = MLmodel,\n",
    "    scoring_function = MLmodel.score,\n",
    "    NpI = 5,\n",
    "    Niter = 95,\n",
    "    y_train = y_train,\n",
    "    X_train = X_train,\n",
    "    n_restarts = 10,\n",
    ").optimise()"
   ]
  },
  {
   "cell_type": "code",
   "execution_count": 40,
   "metadata": {},
   "outputs": [
    {
     "data": {
      "image/png": "[encoded data removed]",
      "text/plain": [
       "<Figure size 864x360 with 2 Axes>"
      ]
     },
     "metadata": {
      "needs_background": "dark"
     },
     "output_type": "display_data"
    }
   ],
   "source": [
    "# --- Track the results with each iteration\n",
    "\n",
    "import matplotlib.pyplot as plt\n",
    "\n",
    "plt.figure(figsize=(12,5))\n",
    "plt.subplot(121)\n",
    "plt.plot(BOout.Xt,'.')\n",
    "plt.subplot(122)\n",
    "plt.plot(BOout.Yt,'.')\n",
    "\n",
    "plt.show()"
   ]
  },
  {
   "cell_type": "markdown",
   "metadata": {},
   "source": [
    "## Convergence Diagnostics\n",
    "Plot the convergence of the hyper parameters with each iteration"
   ]
  },
  {
   "cell_type": "code",
   "execution_count": 8,
   "metadata": {},
   "outputs": [
    {
     "name": "stderr",
     "output_type": "stream",
     "text": [
      "[autoreload of bayesian_hyperparameter_optimisation_3 failed: Traceback (most recent call last):\n",
      "  File \"/anaconda3/lib/python3.6/site-packages/IPython/extensions/autoreload.py\", line 244, in check\n",
      "    superreload(m, reload, self.old_objects)\n",
      "  File \"/anaconda3/lib/python3.6/site-packages/IPython/extensions/autoreload.py\", line 378, in superreload\n",
      "    module = reload(module)\n",
      "  File \"/anaconda3/lib/python3.6/imp.py\", line 315, in reload\n",
      "    return importlib.reload(module)\n",
      "  File \"/anaconda3/lib/python3.6/importlib/__init__.py\", line 166, in reload\n",
      "    _bootstrap._exec(spec, module)\n",
      "  File \"<frozen importlib._bootstrap>\", line 618, in _exec\n",
      "  File \"<frozen importlib._bootstrap_external>\", line 674, in exec_module\n",
      "  File \"<frozen importlib._bootstrap_external>\", line 781, in get_code\n",
      "  File \"<frozen importlib._bootstrap_external>\", line 741, in source_to_code\n",
      "  File \"<frozen importlib._bootstrap>\", line 219, in _call_with_frames_removed\n",
      "  File \"/Users/crookm12/Documents/GitHub/BayesianOptimisation/bayesian_hyperparameter_optimisation_3.py\", line 206\n",
      "    self:\n",
      "        ^\n",
      "SyntaxError: invalid syntax\n",
      "]\n"
     ]
    },
    {
     "name": "stdout",
     "output_type": "stream",
     "text": [
      "ndim: 1\n",
      "{'max_depth': 3, 'min_samples_leaf': 0.30000000000000004, 'n_estimators': 13} score: 0.3336931732685191\n",
      "{'max_depth': 1, 'min_samples_leaf': 0.38, 'n_estimators': 2} score: -0.004065434124759504\n",
      "{'max_depth': 8, 'min_samples_leaf': 0.22000000000000003, 'n_estimators': 17} score: 0.46907179009709593\n",
      "{'max_depth': 6, 'min_samples_leaf': 0.4600000000000001, 'n_estimators': 6} score: -0.003851707134288196\n"
     ]
    },
    {
     "name": "stderr",
     "output_type": "stream",
     "text": [
      "INFO:root:Will perform 25 iterations\n",
      "INFO:root:Iteration 0\n"
     ]
    },
    {
     "name": "stdout",
     "output_type": "stream",
     "text": [
      "{'max_depth': 5, 'min_samples_leaf': 0.14, 'n_estimators': 10} score: 0.7835089048503446\n",
      "optim rout: minimize\n",
      "Ncontinous_hps: 1\n"
     ]
    },
    {
     "ename": "AttributeError",
     "evalue": "'iteration' object has no attribute 'discrete_values'",
     "output_type": "error",
     "traceback": [
      "\u001b[0;31m---------------------------------------------------------------------------\u001b[0m",
      "\u001b[0;31mAttributeError\u001b[0m                            Traceback (most recent call last)",
      "\u001b[0;32m<ipython-input-8-da560d660c83>\u001b[0m in \u001b[0;36m<module>\u001b[0;34m\u001b[0m\n\u001b[1;32m     16\u001b[0m     \u001b[0my_train\u001b[0m \u001b[0;34m=\u001b[0m \u001b[0my_train\u001b[0m\u001b[0;34m,\u001b[0m\u001b[0;34m\u001b[0m\u001b[0;34m\u001b[0m\u001b[0m\n\u001b[1;32m     17\u001b[0m     \u001b[0mX_train\u001b[0m \u001b[0;34m=\u001b[0m \u001b[0mX_train\u001b[0m\u001b[0;34m,\u001b[0m\u001b[0;34m\u001b[0m\u001b[0;34m\u001b[0m\u001b[0m\n\u001b[0;32m---> 18\u001b[0;31m     \u001b[0mn_restarts\u001b[0m \u001b[0;34m=\u001b[0m \u001b[0;36m10\u001b[0m\u001b[0;34m\u001b[0m\u001b[0;34m\u001b[0m\u001b[0m\n\u001b[0m\u001b[1;32m     19\u001b[0m ).optimise()\n",
      "\u001b[0;32m~/Documents/GitHub/BayesianOptimisation/bayesian_hyperparameter_optimisation_3.py\u001b[0m in \u001b[0;36moptimise\u001b[0;34m(self)\u001b[0m\n\u001b[1;32m    606\u001b[0m \u001b[0;34m\u001b[0m\u001b[0m\n\u001b[1;32m    607\u001b[0m \u001b[0;34m\u001b[0m\u001b[0m\n\u001b[0;32m--> 608\u001b[0;31m     \u001b[0;32mdef\u001b[0m \u001b[0moptimise\u001b[0m\u001b[0;34m(\u001b[0m\u001b[0mself\u001b[0m\u001b[0;34m)\u001b[0m\u001b[0;34m:\u001b[0m\u001b[0;34m\u001b[0m\u001b[0;34m\u001b[0m\u001b[0m\n\u001b[0m\u001b[1;32m    609\u001b[0m         \u001b[0;32mfor\u001b[0m \u001b[0mi\u001b[0m \u001b[0;32min\u001b[0m \u001b[0mrange\u001b[0m\u001b[0;34m(\u001b[0m\u001b[0mself\u001b[0m\u001b[0;34m.\u001b[0m\u001b[0mNiter\u001b[0m\u001b[0;34m)\u001b[0m\u001b[0;34m:\u001b[0m\u001b[0;34m\u001b[0m\u001b[0;34m\u001b[0m\u001b[0m\n\u001b[1;32m    610\u001b[0m             \u001b[0mlogging\u001b[0m\u001b[0;34m.\u001b[0m\u001b[0minfo\u001b[0m\u001b[0;34m(\u001b[0m\u001b[0;34m'Iteration {}'\u001b[0m\u001b[0;34m.\u001b[0m\u001b[0mformat\u001b[0m\u001b[0;34m(\u001b[0m\u001b[0mi\u001b[0m\u001b[0;34m)\u001b[0m\u001b[0;34m)\u001b[0m\u001b[0;34m\u001b[0m\u001b[0;34m\u001b[0m\u001b[0m\n",
      "\u001b[0;32m~/Documents/GitHub/BayesianOptimisation/bayesian_hyperparameter_optimisation_3.py\u001b[0m in \u001b[0;36m__init__\u001b[0;34m(self, pars)\u001b[0m\n\u001b[1;32m     97\u001b[0m \u001b[0;34m\u001b[0m\u001b[0m\n\u001b[1;32m     98\u001b[0m         \u001b[0;31m# Obtain next sampling point from the acquisition function (expected_improvement)\u001b[0m\u001b[0;34m\u001b[0m\u001b[0;34m\u001b[0m\u001b[0;34m\u001b[0m\u001b[0m\n\u001b[0;32m---> 99\u001b[0;31m         \u001b[0mX_next\u001b[0m \u001b[0;34m=\u001b[0m \u001b[0mself\u001b[0m\u001b[0;34m.\u001b[0m\u001b[0mpropose_location\u001b[0m\u001b[0;34m(\u001b[0m\u001b[0mpars\u001b[0m\u001b[0;34m)\u001b[0m\u001b[0;34m\u001b[0m\u001b[0;34m\u001b[0m\u001b[0m\n\u001b[0m\u001b[1;32m    100\u001b[0m         \u001b[0;31m# Convert to int where necessary\u001b[0m\u001b[0;34m\u001b[0m\u001b[0;34m\u001b[0m\u001b[0;34m\u001b[0m\u001b[0m\n\u001b[1;32m    101\u001b[0m \u001b[0;34m\u001b[0m\u001b[0m\n",
      "\u001b[0;32m~/Documents/GitHub/BayesianOptimisation/bayesian_hyperparameter_optimisation_3.py\u001b[0m in \u001b[0;36mpropose_location\u001b[0;34m(self, pars)\u001b[0m\n\u001b[1;32m    171\u001b[0m         \u001b[0;32mif\u001b[0m \u001b[0mpars\u001b[0m\u001b[0;34m.\u001b[0m\u001b[0moptim_rout\u001b[0m \u001b[0;34m==\u001b[0m \u001b[0;34m'minimize'\u001b[0m\u001b[0;34m:\u001b[0m\u001b[0;34m\u001b[0m\u001b[0;34m\u001b[0m\u001b[0m\n\u001b[1;32m    172\u001b[0m             \u001b[0;32mfor\u001b[0m \u001b[0mx0\u001b[0m \u001b[0;32min\u001b[0m \u001b[0mXs\u001b[0m\u001b[0;34m:\u001b[0m\u001b[0;34m\u001b[0m\u001b[0;34m\u001b[0m\u001b[0m\n\u001b[0;32m--> 173\u001b[0;31m                 \u001b[0mres\u001b[0m \u001b[0;34m=\u001b[0m \u001b[0mminimize\u001b[0m\u001b[0;34m(\u001b[0m\u001b[0mself\u001b[0m\u001b[0;34m.\u001b[0m\u001b[0mmin_obj\u001b[0m\u001b[0;34m,\u001b[0m \u001b[0mx0\u001b[0m\u001b[0;34m=\u001b[0m\u001b[0mx0\u001b[0m\u001b[0;34m,\u001b[0m \u001b[0mbounds\u001b[0m\u001b[0;34m=\u001b[0m\u001b[0mpars\u001b[0m\u001b[0;34m.\u001b[0m\u001b[0mbounds\u001b[0m\u001b[0;34m,\u001b[0m \u001b[0mmethod\u001b[0m\u001b[0;34m=\u001b[0m\u001b[0mpars\u001b[0m\u001b[0;34m.\u001b[0m\u001b[0mmethod\u001b[0m\u001b[0;34m)\u001b[0m\u001b[0;34m\u001b[0m\u001b[0;34m\u001b[0m\u001b[0m\n\u001b[0m\u001b[1;32m    174\u001b[0m                 \u001b[0;31m# Find the best optimum across all initiations\u001b[0m\u001b[0;34m\u001b[0m\u001b[0;34m\u001b[0m\u001b[0;34m\u001b[0m\u001b[0m\n\u001b[1;32m    175\u001b[0m                 \u001b[0;32mif\u001b[0m \u001b[0mres\u001b[0m\u001b[0;34m.\u001b[0m\u001b[0mfun\u001b[0m \u001b[0;34m<\u001b[0m \u001b[0mmin_val\u001b[0m\u001b[0;34m:\u001b[0m\u001b[0;34m\u001b[0m\u001b[0;34m\u001b[0m\u001b[0m\n",
      "\u001b[0;32m/anaconda3/lib/python3.6/site-packages/scipy/optimize/_minimize.py\u001b[0m in \u001b[0;36mminimize\u001b[0;34m(fun, x0, args, method, jac, hess, hessp, bounds, constraints, tol, callback, options)\u001b[0m\n\u001b[1;32m    599\u001b[0m     \u001b[0;32melif\u001b[0m \u001b[0mmeth\u001b[0m \u001b[0;34m==\u001b[0m \u001b[0;34m'l-bfgs-b'\u001b[0m\u001b[0;34m:\u001b[0m\u001b[0;34m\u001b[0m\u001b[0;34m\u001b[0m\u001b[0m\n\u001b[1;32m    600\u001b[0m         return _minimize_lbfgsb(fun, x0, args, jac, bounds,\n\u001b[0;32m--> 601\u001b[0;31m                                 callback=callback, **options)\n\u001b[0m\u001b[1;32m    602\u001b[0m     \u001b[0;32melif\u001b[0m \u001b[0mmeth\u001b[0m \u001b[0;34m==\u001b[0m \u001b[0;34m'tnc'\u001b[0m\u001b[0;34m:\u001b[0m\u001b[0;34m\u001b[0m\u001b[0;34m\u001b[0m\u001b[0m\n\u001b[1;32m    603\u001b[0m         return _minimize_tnc(fun, x0, args, jac, bounds, callback=callback,\n",
      "\u001b[0;32m/anaconda3/lib/python3.6/site-packages/scipy/optimize/lbfgsb.py\u001b[0m in \u001b[0;36m_minimize_lbfgsb\u001b[0;34m(fun, x0, args, jac, bounds, disp, maxcor, ftol, gtol, eps, maxfun, maxiter, iprint, callback, maxls, **unknown_options)\u001b[0m\n\u001b[1;32m    333\u001b[0m             \u001b[0;31m# until the completion of the current minimization iteration.\u001b[0m\u001b[0;34m\u001b[0m\u001b[0;34m\u001b[0m\u001b[0;34m\u001b[0m\u001b[0m\n\u001b[1;32m    334\u001b[0m             \u001b[0;31m# Overwrite f and g:\u001b[0m\u001b[0;34m\u001b[0m\u001b[0;34m\u001b[0m\u001b[0;34m\u001b[0m\u001b[0m\n\u001b[0;32m--> 335\u001b[0;31m             \u001b[0mf\u001b[0m\u001b[0;34m,\u001b[0m \u001b[0mg\u001b[0m \u001b[0;34m=\u001b[0m \u001b[0mfunc_and_grad\u001b[0m\u001b[0;34m(\u001b[0m\u001b[0mx\u001b[0m\u001b[0;34m)\u001b[0m\u001b[0;34m\u001b[0m\u001b[0;34m\u001b[0m\u001b[0m\n\u001b[0m\u001b[1;32m    336\u001b[0m         \u001b[0;32melif\u001b[0m \u001b[0mtask_str\u001b[0m\u001b[0;34m.\u001b[0m\u001b[0mstartswith\u001b[0m\u001b[0;34m(\u001b[0m\u001b[0;34mb'NEW_X'\u001b[0m\u001b[0;34m)\u001b[0m\u001b[0;34m:\u001b[0m\u001b[0;34m\u001b[0m\u001b[0;34m\u001b[0m\u001b[0m\n\u001b[1;32m    337\u001b[0m             \u001b[0;31m# new iteration\u001b[0m\u001b[0;34m\u001b[0m\u001b[0;34m\u001b[0m\u001b[0;34m\u001b[0m\u001b[0m\n",
      "\u001b[0;32m/anaconda3/lib/python3.6/site-packages/scipy/optimize/lbfgsb.py\u001b[0m in \u001b[0;36mfunc_and_grad\u001b[0;34m(x)\u001b[0m\n\u001b[1;32m    278\u001b[0m     \u001b[0;32mif\u001b[0m \u001b[0mjac\u001b[0m \u001b[0;32mis\u001b[0m \u001b[0;32mNone\u001b[0m\u001b[0;34m:\u001b[0m\u001b[0;34m\u001b[0m\u001b[0;34m\u001b[0m\u001b[0m\n\u001b[1;32m    279\u001b[0m         \u001b[0;32mdef\u001b[0m \u001b[0mfunc_and_grad\u001b[0m\u001b[0;34m(\u001b[0m\u001b[0mx\u001b[0m\u001b[0;34m)\u001b[0m\u001b[0;34m:\u001b[0m\u001b[0;34m\u001b[0m\u001b[0;34m\u001b[0m\u001b[0m\n\u001b[0;32m--> 280\u001b[0;31m             \u001b[0mf\u001b[0m \u001b[0;34m=\u001b[0m \u001b[0mfun\u001b[0m\u001b[0;34m(\u001b[0m\u001b[0mx\u001b[0m\u001b[0;34m,\u001b[0m \u001b[0;34m*\u001b[0m\u001b[0margs\u001b[0m\u001b[0;34m)\u001b[0m\u001b[0;34m\u001b[0m\u001b[0;34m\u001b[0m\u001b[0m\n\u001b[0m\u001b[1;32m    281\u001b[0m             \u001b[0mg\u001b[0m \u001b[0;34m=\u001b[0m \u001b[0m_approx_fprime_helper\u001b[0m\u001b[0;34m(\u001b[0m\u001b[0mx\u001b[0m\u001b[0;34m,\u001b[0m \u001b[0mfun\u001b[0m\u001b[0;34m,\u001b[0m \u001b[0mepsilon\u001b[0m\u001b[0;34m,\u001b[0m \u001b[0margs\u001b[0m\u001b[0;34m=\u001b[0m\u001b[0margs\u001b[0m\u001b[0;34m,\u001b[0m \u001b[0mf0\u001b[0m\u001b[0;34m=\u001b[0m\u001b[0mf\u001b[0m\u001b[0;34m)\u001b[0m\u001b[0;34m\u001b[0m\u001b[0;34m\u001b[0m\u001b[0m\n\u001b[1;32m    282\u001b[0m             \u001b[0;32mreturn\u001b[0m \u001b[0mf\u001b[0m\u001b[0;34m,\u001b[0m \u001b[0mg\u001b[0m\u001b[0;34m\u001b[0m\u001b[0;34m\u001b[0m\u001b[0m\n",
      "\u001b[0;32m/anaconda3/lib/python3.6/site-packages/scipy/optimize/optimize.py\u001b[0m in \u001b[0;36mfunction_wrapper\u001b[0;34m(*wrapper_args)\u001b[0m\n\u001b[1;32m    298\u001b[0m     \u001b[0;32mdef\u001b[0m \u001b[0mfunction_wrapper\u001b[0m\u001b[0;34m(\u001b[0m\u001b[0;34m*\u001b[0m\u001b[0mwrapper_args\u001b[0m\u001b[0;34m)\u001b[0m\u001b[0;34m:\u001b[0m\u001b[0;34m\u001b[0m\u001b[0;34m\u001b[0m\u001b[0m\n\u001b[1;32m    299\u001b[0m         \u001b[0mncalls\u001b[0m\u001b[0;34m[\u001b[0m\u001b[0;36m0\u001b[0m\u001b[0;34m]\u001b[0m \u001b[0;34m+=\u001b[0m \u001b[0;36m1\u001b[0m\u001b[0;34m\u001b[0m\u001b[0;34m\u001b[0m\u001b[0m\n\u001b[0;32m--> 300\u001b[0;31m         \u001b[0;32mreturn\u001b[0m \u001b[0mfunction\u001b[0m\u001b[0;34m(\u001b[0m\u001b[0;34m*\u001b[0m\u001b[0;34m(\u001b[0m\u001b[0mwrapper_args\u001b[0m \u001b[0;34m+\u001b[0m \u001b[0margs\u001b[0m\u001b[0;34m)\u001b[0m\u001b[0;34m)\u001b[0m\u001b[0;34m\u001b[0m\u001b[0;34m\u001b[0m\u001b[0m\n\u001b[0m\u001b[1;32m    301\u001b[0m \u001b[0;34m\u001b[0m\u001b[0m\n\u001b[1;32m    302\u001b[0m     \u001b[0;32mreturn\u001b[0m \u001b[0mncalls\u001b[0m\u001b[0;34m,\u001b[0m \u001b[0mfunction_wrapper\u001b[0m\u001b[0;34m\u001b[0m\u001b[0;34m\u001b[0m\u001b[0m\n",
      "\u001b[0;32m~/Documents/GitHub/BayesianOptimisation/bayesian_hyperparameter_optimisation_3.py\u001b[0m in \u001b[0;36mmin_obj\u001b[0;34m(self, X)\u001b[0m\n\u001b[1;32m    222\u001b[0m     \u001b[0;32mdef\u001b[0m \u001b[0mmin_obj\u001b[0m\u001b[0;34m(\u001b[0m\u001b[0mself\u001b[0m\u001b[0;34m,\u001b[0m \u001b[0mX\u001b[0m \u001b[0;34m=\u001b[0m \u001b[0;32mNone\u001b[0m\u001b[0;34m)\u001b[0m\u001b[0;34m:\u001b[0m\u001b[0;34m\u001b[0m\u001b[0;34m\u001b[0m\u001b[0m\n\u001b[1;32m    223\u001b[0m         \u001b[0;31m# Minimization objective is the negative acquisition function\u001b[0m\u001b[0;34m\u001b[0m\u001b[0;34m\u001b[0m\u001b[0;34m\u001b[0m\u001b[0m\n\u001b[0;32m--> 224\u001b[0;31m         \u001b[0;32mif\u001b[0m \u001b[0mX\u001b[0m \u001b[0;32mis\u001b[0m \u001b[0;32mNone\u001b[0m\u001b[0;34m:\u001b[0m\u001b[0;34m\u001b[0m\u001b[0;34m\u001b[0m\u001b[0m\n\u001b[0m\u001b[1;32m    225\u001b[0m             \u001b[0;32mreturn\u001b[0m \u001b[0;34m-\u001b[0m\u001b[0mself\u001b[0m\u001b[0;34m.\u001b[0m\u001b[0mexpected_improvement\u001b[0m\u001b[0;34m(\u001b[0m\u001b[0;34m)\u001b[0m\u001b[0;34m\u001b[0m\u001b[0;34m\u001b[0m\u001b[0m\n\u001b[1;32m    226\u001b[0m         \u001b[0;32melse\u001b[0m\u001b[0;34m:\u001b[0m\u001b[0;34m\u001b[0m\u001b[0;34m\u001b[0m\u001b[0m\n",
      "\u001b[0;32m~/Documents/GitHub/BayesianOptimisation/bayesian_hyperparameter_optimisation_3.py\u001b[0m in \u001b[0;36mexpected_improvement\u001b[0;34m(self, X)\u001b[0m\n\u001b[1;32m    245\u001b[0m         \u001b[0;31m# gpr: A GaussianProcessRegressor fitted to samples.\u001b[0m\u001b[0;34m\u001b[0m\u001b[0;34m\u001b[0m\u001b[0;34m\u001b[0m\u001b[0m\n\u001b[1;32m    246\u001b[0m         \u001b[0;31m# xi: Exploitation-exploration trade-off parameter.\u001b[0m\u001b[0;34m\u001b[0m\u001b[0;34m\u001b[0m\u001b[0;34m\u001b[0m\u001b[0m\n\u001b[0;32m--> 247\u001b[0;31m         \u001b[0;31m# .   - xi ~ O(0) => exploitation\u001b[0m\u001b[0;34m\u001b[0m\u001b[0;34m\u001b[0m\u001b[0;34m\u001b[0m\u001b[0m\n\u001b[0m\u001b[1;32m    248\u001b[0m         \u001b[0;31m# .   - xi ~ O(1) => exploration\u001b[0m\u001b[0;34m\u001b[0m\u001b[0;34m\u001b[0m\u001b[0;34m\u001b[0m\u001b[0m\n\u001b[1;32m    249\u001b[0m         \u001b[0;31m# Returns: Expected improvements at points X.\u001b[0m\u001b[0;34m\u001b[0m\u001b[0;34m\u001b[0m\u001b[0;34m\u001b[0m\u001b[0m\n",
      "\u001b[0;32m~/Documents/GitHub/BayesianOptimisation/bayesian_hyperparameter_optimisation_3.py\u001b[0m in \u001b[0;36mparse_obj_inputs\u001b[0;34m(self, continuous_values)\u001b[0m\n\u001b[1;32m    209\u001b[0m             \u001b[0mself\u001b[0m\u001b[0;34m.\u001b[0m\u001b[0mvalues\u001b[0m \u001b[0;34m=\u001b[0m \u001b[0;34m[\u001b[0m\u001b[0;34m]\u001b[0m\u001b[0;34m\u001b[0m\u001b[0;34m\u001b[0m\u001b[0m\n\u001b[1;32m    210\u001b[0m             \u001b[0mdisc_counter\u001b[0m \u001b[0;34m=\u001b[0m \u001b[0;36m0\u001b[0m\u001b[0;34m\u001b[0m\u001b[0;34m\u001b[0m\u001b[0m\n\u001b[0;32m--> 211\u001b[0;31m             \u001b[0mconts_counter\u001b[0m \u001b[0;34m=\u001b[0m \u001b[0;36m0\u001b[0m\u001b[0;34m\u001b[0m\u001b[0;34m\u001b[0m\u001b[0m\n\u001b[0m\u001b[1;32m    212\u001b[0m             \u001b[0;32mfor\u001b[0m \u001b[0mi\u001b[0m\u001b[0;34m,\u001b[0m \u001b[0mhp\u001b[0m \u001b[0;32min\u001b[0m \u001b[0menumerate\u001b[0m\u001b[0;34m(\u001b[0m\u001b[0msorted\u001b[0m\u001b[0;34m(\u001b[0m\u001b[0mself\u001b[0m\u001b[0;34m.\u001b[0m\u001b[0mpars\u001b[0m\u001b[0;34m.\u001b[0m\u001b[0mhps\u001b[0m\u001b[0;34m)\u001b[0m\u001b[0;34m)\u001b[0m\u001b[0;34m:\u001b[0m\u001b[0;34m\u001b[0m\u001b[0;34m\u001b[0m\u001b[0m\n\u001b[1;32m    213\u001b[0m                 \u001b[0;32mif\u001b[0m \u001b[0mself\u001b[0m\u001b[0;34m.\u001b[0m\u001b[0mpars\u001b[0m\u001b[0;34m.\u001b[0m\u001b[0mhps\u001b[0m\u001b[0;34m[\u001b[0m\u001b[0mhp\u001b[0m\u001b[0;34m]\u001b[0m\u001b[0;34m.\u001b[0m\u001b[0mkind\u001b[0m \u001b[0;34m==\u001b[0m \u001b[0;34m'discrete'\u001b[0m\u001b[0;34m:\u001b[0m\u001b[0;34m\u001b[0m\u001b[0;34m\u001b[0m\u001b[0m\n",
      "\u001b[0;31mAttributeError\u001b[0m: 'iteration' object has no attribute 'discrete_values'"
     ]
    }
   ],
   "source": [
    "hps = {\n",
    "    'n_estimators':range(1,20),\n",
    "    'max_depth':range(1,10),\n",
    "    'min_samples_leaf': [0.1,0.5]\n",
    "}\n",
    "\n",
    "# --- Run the Bayesian Optimisation Code\n",
    "MLmodel = RandomForestRegressor(random_state=42)\n",
    "\n",
    "noise = 0.05\n",
    "BOout = BayesianOptimisation(\n",
    "    hps=hps,\n",
    "    MLmodel = MLmodel,\n",
    "    NpI = 5,\n",
    "    Niter = 25,\n",
    "    y_train = y_train,\n",
    "    X_train = X_train,\n",
    "    n_restarts = 10\n",
    ").optimise()"
   ]
  },
  {
   "cell_type": "code",
   "execution_count": 39,
   "metadata": {},
   "outputs": [
    {
     "data": {
      "image/png": "[encoded data removed]",
      "text/plain": [
       "<Figure size 1152x720 with 3 Axes>"
      ]
     },
     "metadata": {
      "needs_background": "dark"
     },
     "output_type": "display_data"
    }
   ],
   "source": [
    "BOout.hyperparameter_convergence_plots()"
   ]
  },
  {
   "cell_type": "markdown",
   "metadata": {},
   "source": [
    "# Using random_search solver for discrete valued hyperparameters"
   ]
  },
  {
   "cell_type": "code",
   "execution_count": null,
   "metadata": {},
   "outputs": [],
   "source": [
    "training_size = 1000\n",
    "X_train = 15*np.random.uniform(size=(1000,len(hps)))\n",
    "# Generate noisy data from a 2D gaussian defined above\n",
    "y_train = generate_noisy_data_from_bivariate_gaussian_nd(X_train, mu = [5, 10, 15], sig = [1, 5, 10])\n",
    "y_train = y_train.ravel()"
   ]
  },
  {
   "cell_type": "code",
   "execution_count": 92,
   "metadata": {},
   "outputs": [
    {
     "name": "stdout",
     "output_type": "stream",
     "text": [
      "{'min_samples_leaf': 0.07547030834984308, 'n_estimators': 16} score: 0.5584880513390935\n",
      "{'min_samples_leaf': 0.1313787595633155, 'n_estimators': 16} score: 0.3332925418439192\n",
      "{'min_samples_leaf': 0.02377644683641375, 'n_estimators': 15} score: 0.8440103704569137\n",
      "{'min_samples_leaf': 0.4674961529225334, 'n_estimators': 6} score: -0.0062162999713587744\n"
     ]
    },
    {
     "name": "stderr",
     "output_type": "stream",
     "text": [
      "INFO:root:Will perform 90 iterations\n",
      "INFO:root:Iteration 0\n",
      "INFO:root:Iteration 1\n"
     ]
    },
    {
     "name": "stdout",
     "output_type": "stream",
     "text": [
      "{'min_samples_leaf': 0.0935834539077896, 'n_estimators': 13} score: 0.5461443734942154\n",
      "final res: [[0.42468673 8.        ]], [-0.39396223]\n",
      "{'min_samples_leaf': 0.42468673276169594, 'n_estimators': 8} score: -0.006265855560931577\n",
      "current accuracy: -0.006265855560931577\n",
      "best accuracy: 0.8440103704569137\n"
     ]
    },
    {
     "name": "stderr",
     "output_type": "stream",
     "text": [
      "INFO:root:Iteration 2\n",
      "INFO:root:Iteration 3\n"
     ]
    },
    {
     "name": "stdout",
     "output_type": "stream",
     "text": [
      "final res: [[1.e-04 2.e+00]], [-0.0935109]\n",
      "{'min_samples_leaf': 9.999999999998899e-05, 'n_estimators': 2} score: 0.9068410516028582\n",
      "current accuracy: 0.9068410516028582\n",
      "best accuracy: 0.9068410516028582\n",
      "final res: [[0.5 1. ]], [-0.14565325]\n",
      "{'min_samples_leaf': 0.5, 'n_estimators': 1} score: -0.008509636286777455\n",
      "current accuracy: -0.008509636286777455\n",
      "best accuracy: 0.9068410516028582\n"
     ]
    },
    {
     "name": "stderr",
     "output_type": "stream",
     "text": [
      "INFO:root:Iteration 4\n",
      "INFO:root:Iteration 5\n"
     ]
    },
    {
     "name": "stdout",
     "output_type": "stream",
     "text": [
      "final res: [[1.e-04 3.e+00]], [-0.30963042]\n",
      "{'min_samples_leaf': 0.0001, 'n_estimators': 3} score: 0.9167277650577057\n",
      "current accuracy: 0.9167277650577057\n",
      "best accuracy: 0.9167277650577057\n",
      "final res: [[0.5 3. ]], [-0.03608805]\n",
      "{'min_samples_leaf': 0.5, 'n_estimators': 3} score: -0.006129850999767372\n",
      "current accuracy: -0.006129850999767372\n",
      "best accuracy: 0.9167277650577057\n"
     ]
    },
    {
     "name": "stderr",
     "output_type": "stream",
     "text": [
      "INFO:root:Iteration 6\n"
     ]
    },
    {
     "name": "stdout",
     "output_type": "stream",
     "text": [
      "final res: [[ 0.5 14. ]], [-0.14731261]\n",
      "{'min_samples_leaf': 0.5, 'n_estimators': 14} score: -0.007152899677226943\n",
      "current accuracy: -0.007152899677226943\n",
      "best accuracy: 0.9167277650577057\n",
      "final res: [[1.0e-04 1.2e+01]], [-0.13727601]\n"
     ]
    },
    {
     "name": "stderr",
     "output_type": "stream",
     "text": [
      "INFO:root:Iteration 7\n",
      "INFO:root:Iteration 8\n"
     ]
    },
    {
     "name": "stdout",
     "output_type": "stream",
     "text": [
      "{'min_samples_leaf': 9.999999999998899e-05, 'n_estimators': 12} score: 0.938221995813806\n",
      "current accuracy: 0.938221995813806\n",
      "best accuracy: 0.938221995813806\n",
      "final res: [[ 0.5 11. ]], [-0.12702093]\n",
      "{'min_samples_leaf': 0.5, 'n_estimators': 11} score: -0.006982438596177287\n",
      "current accuracy: -0.006982438596177287\n",
      "best accuracy: 0.938221995813806\n"
     ]
    },
    {
     "name": "stderr",
     "output_type": "stream",
     "text": [
      "INFO:root:Iteration 9\n"
     ]
    },
    {
     "name": "stdout",
     "output_type": "stream",
     "text": [
      "final res: [[1.0e-04 1.9e+01]], [-0.09289924]\n",
      "{'min_samples_leaf': 9.999999999998899e-05, 'n_estimators': 19} score: 0.9404985167895668\n",
      "current accuracy: 0.9404985167895668\n",
      "best accuracy: 0.9404985167895668\n"
     ]
    },
    {
     "name": "stderr",
     "output_type": "stream",
     "text": [
      "INFO:root:Iteration 10\n"
     ]
    },
    {
     "name": "stdout",
     "output_type": "stream",
     "text": [
      "final res: [[1.0e-04 1.8e+01]], [-0.14198038]\n",
      "{'min_samples_leaf': 9.999999999998899e-05, 'n_estimators': 18} score: 0.9404707626533824\n",
      "current accuracy: 0.9404707626533824\n",
      "best accuracy: 0.9404985167895668\n"
     ]
    },
    {
     "name": "stderr",
     "output_type": "stream",
     "text": [
      "INFO:root:Iteration 11\n"
     ]
    },
    {
     "name": "stdout",
     "output_type": "stream",
     "text": [
      "final res: [[ 0.5 19. ]], [-0.12599704]\n",
      "{'min_samples_leaf': 0.5, 'n_estimators': 19} score: -0.007202174237086201\n",
      "current accuracy: -0.007202174237086201\n",
      "best accuracy: 0.9404985167895668\n"
     ]
    },
    {
     "name": "stderr",
     "output_type": "stream",
     "text": [
      "INFO:root:Iteration 12\n"
     ]
    },
    {
     "name": "stdout",
     "output_type": "stream",
     "text": [
      "final res: [[1.e-04 4.e+00]], [-0.09877247]\n",
      "{'min_samples_leaf': 0.0001, 'n_estimators': 4} score: 0.9259890334724702\n",
      "current accuracy: 0.9259890334724702\n",
      "best accuracy: 0.9404985167895668\n",
      "final res: [[ 0.5 12. ]], [-0.08280993]\n"
     ]
    },
    {
     "name": "stderr",
     "output_type": "stream",
     "text": [
      "INFO:root:Iteration 13\n",
      "INFO:root:Iteration 14\n"
     ]
    },
    {
     "name": "stdout",
     "output_type": "stream",
     "text": [
      "{'min_samples_leaf': 0.5, 'n_estimators': 12} score: -0.0070094705166444\n",
      "current accuracy: -0.0070094705166444\n",
      "best accuracy: 0.9404985167895668\n",
      "final res: [[1.e-04 5.e+00]], [-0.09660672]\n",
      "{'min_samples_leaf': 9.999999999998899e-05, 'n_estimators': 5} score: 0.9280930833852047\n",
      "current accuracy: 0.9280930833852047\n",
      "best accuracy: 0.9404985167895668\n"
     ]
    },
    {
     "name": "stderr",
     "output_type": "stream",
     "text": [
      "INFO:root:Iteration 15\n"
     ]
    },
    {
     "name": "stdout",
     "output_type": "stream",
     "text": [
      "final res: [[1.e-04 1.e+01]], [-0.05355742]\n",
      "{'min_samples_leaf': 0.00010000000000000286, 'n_estimators': 10} score: 0.938477864245615\n",
      "current accuracy: 0.938477864245615\n",
      "best accuracy: 0.9404985167895668\n"
     ]
    },
    {
     "name": "stderr",
     "output_type": "stream",
     "text": [
      "INFO:root:Iteration 16\n"
     ]
    },
    {
     "name": "stdout",
     "output_type": "stream",
     "text": [
      "final res: [[1.e-04 9.e+00]], [-0.09243895]\n",
      "{'min_samples_leaf': 0.0001, 'n_estimators': 9} score: 0.9368022364613532\n",
      "current accuracy: 0.9368022364613532\n",
      "best accuracy: 0.9404985167895668\n"
     ]
    },
    {
     "name": "stderr",
     "output_type": "stream",
     "text": [
      "INFO:root:Iteration 17\n"
     ]
    },
    {
     "name": "stdout",
     "output_type": "stream",
     "text": [
      "final res: [[0.5 9. ]], [-0.05007062]\n",
      "{'min_samples_leaf': 0.5, 'n_estimators': 9} score: -0.0067357804885472385\n",
      "current accuracy: -0.0067357804885472385\n",
      "best accuracy: 0.9404985167895668\n",
      "final res: [[1.0e-04 1.8e+01]], [-0.03461644]\n"
     ]
    },
    {
     "name": "stderr",
     "output_type": "stream",
     "text": [
      "INFO:root:Iteration 18\n",
      "INFO:root:Iteration 19\n"
     ]
    },
    {
     "name": "stdout",
     "output_type": "stream",
     "text": [
      "{'min_samples_leaf': 0.0001, 'n_estimators': 18} score: 0.9404707626533824\n",
      "current accuracy: 0.9404707626533824\n",
      "best accuracy: 0.9404985167895668\n",
      "final res: [[1.e-04 4.e+00]], [-0.03052824]\n",
      "{'min_samples_leaf': 9.999999999998899e-05, 'n_estimators': 4} score: 0.9259890334724702\n",
      "current accuracy: 0.9259890334724702\n",
      "best accuracy: 0.9404985167895668\n"
     ]
    },
    {
     "name": "stderr",
     "output_type": "stream",
     "text": [
      "INFO:root:Iteration 20\n"
     ]
    },
    {
     "name": "stdout",
     "output_type": "stream",
     "text": [
      "final res: [[1.0e-04 1.8e+01]], [-0.02331839]\n",
      "{'min_samples_leaf': 0.0001000000000000445, 'n_estimators': 18} score: 0.9404707626533824\n",
      "current accuracy: 0.9404707626533824\n",
      "best accuracy: 0.9404985167895668\n"
     ]
    },
    {
     "name": "stderr",
     "output_type": "stream",
     "text": [
      "INFO:root:Iteration 21\n"
     ]
    },
    {
     "name": "stdout",
     "output_type": "stream",
     "text": [
      "final res: [[1.e-04 1.e+01]], [-0.02918237]\n",
      "{'min_samples_leaf': 0.0001, 'n_estimators': 10} score: 0.938477864245615\n",
      "current accuracy: 0.938477864245615\n",
      "best accuracy: 0.9404985167895668\n"
     ]
    },
    {
     "name": "stderr",
     "output_type": "stream",
     "text": [
      "INFO:root:Iteration 22\n"
     ]
    },
    {
     "name": "stdout",
     "output_type": "stream",
     "text": [
      "final res: [[1.0e-04 1.1e+01]], [-0.03534676]\n",
      "{'min_samples_leaf': 9.999999999998899e-05, 'n_estimators': 11} score: 0.9385130140737641\n",
      "current accuracy: 0.9385130140737641\n",
      "best accuracy: 0.9404985167895668\n"
     ]
    },
    {
     "name": "stderr",
     "output_type": "stream",
     "text": [
      "INFO:root:Iteration 23\n"
     ]
    },
    {
     "name": "stdout",
     "output_type": "stream",
     "text": [
      "final res: [[1.0e-04 1.1e+01]], [-0.02344155]\n",
      "{'min_samples_leaf': 0.0001, 'n_estimators': 11} score: 0.9385130140737641\n",
      "current accuracy: 0.9385130140737641\n",
      "best accuracy: 0.9404985167895668\n"
     ]
    },
    {
     "name": "stderr",
     "output_type": "stream",
     "text": [
      "INFO:root:Iteration 24\n"
     ]
    },
    {
     "name": "stdout",
     "output_type": "stream",
     "text": [
      "final res: [[1.e-04 1.e+01]], [-0.0216114]\n",
      "{'min_samples_leaf': 0.0001, 'n_estimators': 10} score: 0.938477864245615\n",
      "current accuracy: 0.938477864245615\n",
      "best accuracy: 0.9404985167895668\n"
     ]
    },
    {
     "name": "stderr",
     "output_type": "stream",
     "text": [
      "INFO:root:Iteration 25\n"
     ]
    },
    {
     "name": "stdout",
     "output_type": "stream",
     "text": [
      "final res: [[1.e-04 4.e+00]], [-0.01943199]\n",
      "{'min_samples_leaf': 9.999999999998899e-05, 'n_estimators': 4} score: 0.9259890334724702\n",
      "current accuracy: 0.9259890334724702\n",
      "best accuracy: 0.9404985167895668\n",
      "final res: [[1.0e-04 1.8e+01]], [-0.01793224]\n"
     ]
    },
    {
     "name": "stderr",
     "output_type": "stream",
     "text": [
      "INFO:root:Iteration 26\n"
     ]
    },
    {
     "name": "stdout",
     "output_type": "stream",
     "text": [
      "{'min_samples_leaf': 9.999999999998899e-05, 'n_estimators': 18} score: 0.9404707626533824\n",
      "current accuracy: 0.9404707626533824\n",
      "best accuracy: 0.9404985167895668\n",
      "final res: [[1.0e-04 1.8e+01]], [-0.01525775]\n"
     ]
    },
    {
     "name": "stderr",
     "output_type": "stream",
     "text": [
      "INFO:root:Iteration 27\n"
     ]
    },
    {
     "name": "stdout",
     "output_type": "stream",
     "text": [
      "{'min_samples_leaf': 0.0001, 'n_estimators': 18} score: 0.9404707626533824\n",
      "current accuracy: 0.9404707626533824\n",
      "best accuracy: 0.9404985167895668\n",
      "final res: [[1.0e-04 1.2e+01]], [-0.01470385]\n"
     ]
    },
    {
     "name": "stderr",
     "output_type": "stream",
     "text": [
      "INFO:root:Iteration 28\n"
     ]
    },
    {
     "name": "stdout",
     "output_type": "stream",
     "text": [
      "{'min_samples_leaf': 0.0001, 'n_estimators': 12} score: 0.938221995813806\n",
      "current accuracy: 0.938221995813806\n",
      "best accuracy: 0.9404985167895668\n",
      "final res: [[1.e-04 1.e+01]], [-0.01638285]\n"
     ]
    },
    {
     "name": "stderr",
     "output_type": "stream",
     "text": [
      "INFO:root:Iteration 29\n"
     ]
    },
    {
     "name": "stdout",
     "output_type": "stream",
     "text": [
      "{'min_samples_leaf': 0.00010000000000000286, 'n_estimators': 10} score: 0.938477864245615\n",
      "current accuracy: 0.938477864245615\n",
      "best accuracy: 0.9404985167895668\n",
      "final res: [[1.e-04 4.e+00]], [-0.01412793]\n"
     ]
    },
    {
     "name": "stderr",
     "output_type": "stream",
     "text": [
      "INFO:root:Iteration 30\n"
     ]
    },
    {
     "name": "stdout",
     "output_type": "stream",
     "text": [
      "{'min_samples_leaf': 0.0001, 'n_estimators': 4} score: 0.9259890334724702\n",
      "current accuracy: 0.9259890334724702\n",
      "best accuracy: 0.9404985167895668\n",
      "final res: [[1.0e-04 1.1e+01]], [-0.01867754]\n"
     ]
    },
    {
     "name": "stderr",
     "output_type": "stream",
     "text": [
      "INFO:root:Iteration 31\n"
     ]
    },
    {
     "name": "stdout",
     "output_type": "stream",
     "text": [
      "{'min_samples_leaf': 0.00010000000000000286, 'n_estimators': 11} score: 0.9385130140737641\n",
      "current accuracy: 0.9385130140737641\n",
      "best accuracy: 0.9404985167895668\n",
      "final res: [[1.0e-04 1.9e+01]], [-0.01428589]\n"
     ]
    },
    {
     "name": "stderr",
     "output_type": "stream",
     "text": [
      "INFO:root:Iteration 32\n",
      "INFO:root:Iteration 33\n"
     ]
    },
    {
     "name": "stdout",
     "output_type": "stream",
     "text": [
      "{'min_samples_leaf': 0.0001, 'n_estimators': 19} score: 0.9404985167895668\n",
      "current accuracy: 0.9404985167895668\n",
      "best accuracy: 0.9404985167895668\n",
      "final res: [[1.e-04 2.e+00]], [-0.01380061]\n",
      "{'min_samples_leaf': 9.999999999998899e-05, 'n_estimators': 2} score: 0.9068410516028582\n",
      "current accuracy: 0.9068410516028582\n",
      "best accuracy: 0.9404985167895668\n"
     ]
    },
    {
     "name": "stderr",
     "output_type": "stream",
     "text": [
      "INFO:root:Iteration 34\n"
     ]
    },
    {
     "name": "stdout",
     "output_type": "stream",
     "text": [
      "final res: [[1.e-04 5.e+00]], [-0.01786915]\n",
      "{'min_samples_leaf': 0.00010000000000000286, 'n_estimators': 5} score: 0.9280930833852047\n",
      "current accuracy: 0.9280930833852047\n",
      "best accuracy: 0.9404985167895668\n",
      "final res: [[1.e-04 1.e+01]], [-0.01394015]\n"
     ]
    },
    {
     "name": "stderr",
     "output_type": "stream",
     "text": [
      "INFO:root:Iteration 35\n"
     ]
    },
    {
     "name": "stdout",
     "output_type": "stream",
     "text": [
      "{'min_samples_leaf': 9.999999999998899e-05, 'n_estimators': 10} score: 0.938477864245615\n",
      "current accuracy: 0.938477864245615\n",
      "best accuracy: 0.9404985167895668\n",
      "final res: [[1.e-04 1.e+01]], [-0.01228137]\n"
     ]
    },
    {
     "name": "stderr",
     "output_type": "stream",
     "text": [
      "INFO:root:Iteration 36\n"
     ]
    },
    {
     "name": "stdout",
     "output_type": "stream",
     "text": [
      "{'min_samples_leaf': 0.0001, 'n_estimators': 10} score: 0.938477864245615\n",
      "current accuracy: 0.938477864245615\n",
      "best accuracy: 0.9404985167895668\n",
      "final res: [[1.0e-04 1.1e+01]], [-0.01552368]\n"
     ]
    },
    {
     "name": "stderr",
     "output_type": "stream",
     "text": [
      "INFO:root:Iteration 37\n"
     ]
    },
    {
     "name": "stdout",
     "output_type": "stream",
     "text": [
      "{'min_samples_leaf': 0.00010000000000000286, 'n_estimators': 11} score: 0.9385130140737641\n",
      "current accuracy: 0.9385130140737641\n",
      "best accuracy: 0.9404985167895668\n",
      "final res: [[1.e-04 9.e+00]], [-0.01337585]\n",
      "{'min_samples_leaf': 0.00010000000000000286, 'n_estimators': 9} score: 0.9368022364613532\n",
      "current accuracy: 0.9368022364613532\n",
      "best accuracy: 0.9404985167895668\n"
     ]
    },
    {
     "name": "stderr",
     "output_type": "stream",
     "text": [
      "INFO:root:Iteration 38\n",
      "INFO:root:Iteration 39\n"
     ]
    },
    {
     "name": "stdout",
     "output_type": "stream",
     "text": [
      "final res: [[1.0e-04 1.2e+01]], [-0.01250772]\n",
      "{'min_samples_leaf': 0.0001, 'n_estimators': 12} score: 0.938221995813806\n",
      "current accuracy: 0.938221995813806\n",
      "best accuracy: 0.9404985167895668\n"
     ]
    },
    {
     "name": "stderr",
     "output_type": "stream",
     "text": [
      "INFO:root:Iteration 40\n"
     ]
    },
    {
     "name": "stdout",
     "output_type": "stream",
     "text": [
      "final res: [[1.e-04 5.e+00]], [-0.01317915]\n",
      "{'min_samples_leaf': 0.00010000000000000286, 'n_estimators': 5} score: 0.9280930833852047\n",
      "current accuracy: 0.9280930833852047\n",
      "best accuracy: 0.9404985167895668\n"
     ]
    },
    {
     "name": "stderr",
     "output_type": "stream",
     "text": [
      "INFO:root:Iteration 41\n"
     ]
    },
    {
     "name": "stdout",
     "output_type": "stream",
     "text": [
      "final res: [[1.0e-04 1.1e+01]], [-0.01342077]\n",
      "{'min_samples_leaf': 0.00010000000000000286, 'n_estimators': 11} score: 0.9385130140737641\n",
      "current accuracy: 0.9385130140737641\n",
      "best accuracy: 0.9404985167895668\n",
      "final res: [[1.0e-04 1.8e+01]], [-0.01322106]\n",
      "{'min_samples_leaf': 9.999999999998899e-05, 'n_estimators': 18} score: 0.9404707626533824\n",
      "current accuracy: 0.9404707626533824\n",
      "best accuracy: 0.9404985167895668\n"
     ]
    },
    {
     "name": "stderr",
     "output_type": "stream",
     "text": [
      "INFO:root:Iteration 42\n",
      "INFO:root:Iteration 43\n"
     ]
    },
    {
     "name": "stdout",
     "output_type": "stream",
     "text": [
      "final res: [[1.0e-04 1.9e+01]], [-0.01272487]\n",
      "{'min_samples_leaf': 0.0001, 'n_estimators': 19} score: 0.9404985167895668\n",
      "current accuracy: 0.9404985167895668\n",
      "best accuracy: 0.9404985167895668\n"
     ]
    },
    {
     "name": "stderr",
     "output_type": "stream",
     "text": [
      "INFO:root:Iteration 44\n"
     ]
    },
    {
     "name": "stdout",
     "output_type": "stream",
     "text": [
      "final res: [[1.0e-04 1.8e+01]], [-0.01172425]\n",
      "{'min_samples_leaf': 9.999999999998899e-05, 'n_estimators': 18} score: 0.9404707626533824\n",
      "current accuracy: 0.9404707626533824\n",
      "best accuracy: 0.9404985167895668\n"
     ]
    },
    {
     "name": "stderr",
     "output_type": "stream",
     "text": [
      "INFO:root:Iteration 45\n"
     ]
    },
    {
     "name": "stdout",
     "output_type": "stream",
     "text": [
      "final res: [[1.0e-04 1.8e+01]], [-0.01056484]\n",
      "{'min_samples_leaf': 9.999999999998899e-05, 'n_estimators': 18} score: 0.9404707626533824\n",
      "current accuracy: 0.9404707626533824\n",
      "best accuracy: 0.9404985167895668\n"
     ]
    },
    {
     "name": "stderr",
     "output_type": "stream",
     "text": [
      "INFO:root:Iteration 46\n"
     ]
    },
    {
     "name": "stdout",
     "output_type": "stream",
     "text": [
      "final res: [[1.e-04 4.e+00]], [-0.01093917]\n",
      "{'min_samples_leaf': 0.0001, 'n_estimators': 4} score: 0.9259890334724702\n",
      "current accuracy: 0.9259890334724702\n",
      "best accuracy: 0.9404985167895668\n",
      "final res: [[1.e-04 4.e+00]], [-0.00901733]\n"
     ]
    },
    {
     "name": "stderr",
     "output_type": "stream",
     "text": [
      "INFO:root:Iteration 47\n"
     ]
    },
    {
     "name": "stdout",
     "output_type": "stream",
     "text": [
      "{'min_samples_leaf': 0.0001, 'n_estimators': 4} score: 0.9259890334724702\n",
      "current accuracy: 0.9259890334724702\n",
      "best accuracy: 0.9404985167895668\n",
      "final res: [[1.0e-04 1.8e+01]], [-0.00963376]\n"
     ]
    },
    {
     "name": "stderr",
     "output_type": "stream",
     "text": [
      "INFO:root:Iteration 48\n"
     ]
    },
    {
     "name": "stdout",
     "output_type": "stream",
     "text": [
      "{'min_samples_leaf': 0.0001, 'n_estimators': 18} score: 0.9404707626533824\n",
      "current accuracy: 0.9404707626533824\n",
      "best accuracy: 0.9404985167895668\n",
      "final res: [[1.e-04 9.e+00]], [-0.01145427]\n"
     ]
    },
    {
     "name": "stderr",
     "output_type": "stream",
     "text": [
      "INFO:root:Iteration 49\n"
     ]
    },
    {
     "name": "stdout",
     "output_type": "stream",
     "text": [
      "{'min_samples_leaf': 0.00010000000000000286, 'n_estimators': 9} score: 0.9368022364613532\n",
      "current accuracy: 0.9368022364613532\n",
      "best accuracy: 0.9404985167895668\n",
      "final res: [[1.0e-04 1.2e+01]], [-0.01063531]\n"
     ]
    },
    {
     "name": "stderr",
     "output_type": "stream",
     "text": [
      "INFO:root:Iteration 50\n"
     ]
    },
    {
     "name": "stdout",
     "output_type": "stream",
     "text": [
      "{'min_samples_leaf': 0.0001, 'n_estimators': 12} score: 0.938221995813806\n",
      "current accuracy: 0.938221995813806\n",
      "best accuracy: 0.9404985167895668\n",
      "final res: [[1.0e-04 1.9e+01]], [-0.01113549]\n"
     ]
    },
    {
     "name": "stderr",
     "output_type": "stream",
     "text": [
      "INFO:root:Iteration 51\n"
     ]
    },
    {
     "name": "stdout",
     "output_type": "stream",
     "text": [
      "{'min_samples_leaf': 0.0001, 'n_estimators': 19} score: 0.9404985167895668\n",
      "current accuracy: 0.9404985167895668\n",
      "best accuracy: 0.9404985167895668\n",
      "final res: [[1.e-04 1.e+01]], [-0.01067933]\n"
     ]
    },
    {
     "name": "stderr",
     "output_type": "stream",
     "text": [
      "INFO:root:Iteration 52\n"
     ]
    },
    {
     "name": "stdout",
     "output_type": "stream",
     "text": [
      "{'min_samples_leaf': 0.00010000000000000286, 'n_estimators': 10} score: 0.938477864245615\n",
      "current accuracy: 0.938477864245615\n",
      "best accuracy: 0.9404985167895668\n",
      "final res: [[1.e-04 9.e+00]], [-0.01005781]\n"
     ]
    },
    {
     "name": "stderr",
     "output_type": "stream",
     "text": [
      "INFO:root:Iteration 53\n"
     ]
    },
    {
     "name": "stdout",
     "output_type": "stream",
     "text": [
      "{'min_samples_leaf': 9.999999999998899e-05, 'n_estimators': 9} score: 0.9368022364613532\n",
      "current accuracy: 0.9368022364613532\n",
      "best accuracy: 0.9404985167895668\n",
      "final res: [[1.e-04 5.e+00]], [-0.01014542]\n",
      "{'min_samples_leaf': 0.0001, 'n_estimators': 5} score: 0.9280930833852047\n",
      "current accuracy: 0.9280930833852047\n",
      "best accuracy: 0.9404985167895668\n"
     ]
    },
    {
     "name": "stderr",
     "output_type": "stream",
     "text": [
      "INFO:root:Iteration 54\n",
      "INFO:root:Iteration 55\n"
     ]
    },
    {
     "name": "stdout",
     "output_type": "stream",
     "text": [
      "final res: [[1.0e-04 1.2e+01]], [-0.00951878]\n",
      "{'min_samples_leaf': 0.00010000000000000286, 'n_estimators': 12} score: 0.938221995813806\n",
      "current accuracy: 0.938221995813806\n",
      "best accuracy: 0.9404985167895668\n"
     ]
    },
    {
     "name": "stderr",
     "output_type": "stream",
     "text": [
      "INFO:root:Iteration 56\n"
     ]
    },
    {
     "name": "stdout",
     "output_type": "stream",
     "text": [
      "final res: [[1.0e-04 1.1e+01]], [-0.01142807]\n",
      "{'min_samples_leaf': 0.0001, 'n_estimators': 11} score: 0.9385130140737641\n",
      "current accuracy: 0.9385130140737641\n",
      "best accuracy: 0.9404985167895668\n"
     ]
    },
    {
     "name": "stderr",
     "output_type": "stream",
     "text": [
      "INFO:root:Iteration 57\n"
     ]
    },
    {
     "name": "stdout",
     "output_type": "stream",
     "text": [
      "final res: [[1.0e-04 1.1e+01]], [-0.01028276]\n",
      "{'min_samples_leaf': 0.0001, 'n_estimators': 11} score: 0.9385130140737641\n",
      "current accuracy: 0.9385130140737641\n",
      "best accuracy: 0.9404985167895668\n",
      "final res: [[1.0e-04 1.1e+01]], [-0.00936561]\n"
     ]
    },
    {
     "name": "stderr",
     "output_type": "stream",
     "text": [
      "INFO:root:Iteration 58\n"
     ]
    },
    {
     "name": "stdout",
     "output_type": "stream",
     "text": [
      "{'min_samples_leaf': 0.0001, 'n_estimators': 11} score: 0.9385130140737641\n",
      "current accuracy: 0.9385130140737641\n",
      "best accuracy: 0.9404985167895668\n",
      "final res: [[1.0e-04 1.8e+01]], [-0.00886543]\n"
     ]
    },
    {
     "name": "stderr",
     "output_type": "stream",
     "text": [
      "INFO:root:Iteration 59\n"
     ]
    },
    {
     "name": "stdout",
     "output_type": "stream",
     "text": [
      "{'min_samples_leaf': 9.999999999998899e-05, 'n_estimators': 18} score: 0.9404707626533824\n",
      "current accuracy: 0.9404707626533824\n",
      "best accuracy: 0.9404985167895668\n",
      "final res: [[1.e-04 1.e+01]], [-0.00960333]\n",
      "{'min_samples_leaf': 0.00010000000000000286, 'n_estimators': 10} score: 0.938477864245615\n",
      "current accuracy: 0.938477864245615\n",
      "best accuracy: 0.9404985167895668\n"
     ]
    },
    {
     "name": "stderr",
     "output_type": "stream",
     "text": [
      "INFO:root:Iteration 60\n",
      "INFO:root:Iteration 61\n"
     ]
    },
    {
     "name": "stdout",
     "output_type": "stream",
     "text": [
      "final res: [[1.0e-04 1.2e+01]], [-0.00850724]\n",
      "{'min_samples_leaf': 0.0001, 'n_estimators': 12} score: 0.938221995813806\n",
      "current accuracy: 0.938221995813806\n",
      "best accuracy: 0.9404985167895668\n"
     ]
    },
    {
     "name": "stderr",
     "output_type": "stream",
     "text": [
      "INFO:root:Iteration 62\n"
     ]
    },
    {
     "name": "stdout",
     "output_type": "stream",
     "text": [
      "final res: [[1.e-04 3.e+00]], [-0.00846399]\n",
      "{'min_samples_leaf': 0.0001, 'n_estimators': 3} score: 0.9167277650577057\n",
      "current accuracy: 0.9167277650577057\n",
      "best accuracy: 0.9404985167895668\n",
      "final res: [[1.0e-04 1.1e+01]], [-0.008632]\n"
     ]
    },
    {
     "name": "stderr",
     "output_type": "stream",
     "text": [
      "INFO:root:Iteration 63\n",
      "INFO:root:Iteration 64\n"
     ]
    },
    {
     "name": "stdout",
     "output_type": "stream",
     "text": [
      "{'min_samples_leaf': 0.00010000000000000286, 'n_estimators': 11} score: 0.9385130140737641\n",
      "current accuracy: 0.9385130140737641\n",
      "best accuracy: 0.9404985167895668\n",
      "final res: [[1.e-04 2.e+00]], [-0.00850273]\n",
      "{'min_samples_leaf': 9.999999999998899e-05, 'n_estimators': 2} score: 0.9068410516028582\n",
      "current accuracy: 0.9068410516028582\n",
      "best accuracy: 0.9404985167895668\n"
     ]
    },
    {
     "name": "stderr",
     "output_type": "stream",
     "text": [
      "INFO:root:Iteration 65\n"
     ]
    },
    {
     "name": "stdout",
     "output_type": "stream",
     "text": [
      "final res: [[1.e-04 1.e+01]], [-0.00872552]\n",
      "{'min_samples_leaf': 0.0001, 'n_estimators': 10} score: 0.938477864245615\n",
      "current accuracy: 0.938477864245615\n",
      "best accuracy: 0.9404985167895668\n"
     ]
    },
    {
     "name": "stderr",
     "output_type": "stream",
     "text": [
      "INFO:root:Iteration 66\n"
     ]
    },
    {
     "name": "stdout",
     "output_type": "stream",
     "text": [
      "final res: [[1.e-04 1.e+01]], [-0.00805871]\n",
      "{'min_samples_leaf': 0.00010000000000000286, 'n_estimators': 10} score: 0.938477864245615\n",
      "current accuracy: 0.938477864245615\n",
      "best accuracy: 0.9404985167895668\n"
     ]
    },
    {
     "name": "stderr",
     "output_type": "stream",
     "text": [
      "INFO:root:Iteration 67\n"
     ]
    },
    {
     "name": "stdout",
     "output_type": "stream",
     "text": [
      "final res: [[1.e-04 9.e+00]], [-0.00890706]\n",
      "{'min_samples_leaf': 0.00010000000000000286, 'n_estimators': 9} score: 0.9368022364613532\n",
      "current accuracy: 0.9368022364613532\n",
      "best accuracy: 0.9404985167895668\n"
     ]
    },
    {
     "name": "stderr",
     "output_type": "stream",
     "text": [
      "INFO:root:Iteration 68\n"
     ]
    },
    {
     "name": "stdout",
     "output_type": "stream",
     "text": [
      "final res: [[1.0e-04 1.9e+01]], [-0.00995574]\n",
      "{'min_samples_leaf': 0.0001, 'n_estimators': 19} score: 0.9404985167895668\n",
      "current accuracy: 0.9404985167895668\n",
      "best accuracy: 0.9404985167895668\n"
     ]
    },
    {
     "name": "stderr",
     "output_type": "stream",
     "text": [
      "INFO:root:Iteration 69\n"
     ]
    },
    {
     "name": "stdout",
     "output_type": "stream",
     "text": [
      "final res: [[1.0e-04 1.8e+01]], [-0.00821806]\n",
      "{'min_samples_leaf': 9.999999999998899e-05, 'n_estimators': 18} score: 0.9404707626533824\n",
      "current accuracy: 0.9404707626533824\n",
      "best accuracy: 0.9404985167895668\n"
     ]
    },
    {
     "name": "stderr",
     "output_type": "stream",
     "text": [
      "INFO:root:Iteration 70\n"
     ]
    },
    {
     "name": "stdout",
     "output_type": "stream",
     "text": [
      "final res: [[1.e-04 5.e+00]], [-0.00807507]\n",
      "{'min_samples_leaf': 0.0001, 'n_estimators': 5} score: 0.9280930833852047\n",
      "current accuracy: 0.9280930833852047\n",
      "best accuracy: 0.9404985167895668\n",
      "final res: [[1.0e-04 1.9e+01]], [-0.00906316]\n",
      "{'min_samples_leaf': 0.0001, 'n_estimators': 19} score: 0.9404985167895668\n",
      "current accuracy: 0.9404985167895668\n",
      "best accuracy: 0.9404985167895668\n"
     ]
    },
    {
     "name": "stderr",
     "output_type": "stream",
     "text": [
      "INFO:root:Iteration 71\n"
     ]
    },
    {
     "name": "stdout",
     "output_type": "stream",
     "text": [
      "final res: [[1.0e-04 1.9e+01]], [-0.00836354]\n",
      "{'min_samples_leaf': 0.0001, 'n_estimators': 19} score: 0.9404985167895668\n",
      "current accuracy: 0.9404985167895668\n",
      "best accuracy: 0.9404985167895668\n"
     ]
    },
    {
     "name": "stderr",
     "output_type": "stream",
     "text": [
      "INFO:root:Iteration 72\n",
      "INFO:root:Iteration 73\n"
     ]
    },
    {
     "name": "stdout",
     "output_type": "stream",
     "text": [
      "final res: [[1.e-04 4.e+00]], [-0.0077194]\n",
      "{'min_samples_leaf': 9.999999999998899e-05, 'n_estimators': 4} score: 0.9259890334724702\n",
      "current accuracy: 0.9259890334724702\n",
      "best accuracy: 0.9404985167895668\n",
      "final res: [[1.0e-04 1.9e+01]], [-0.00777608]\n"
     ]
    },
    {
     "name": "stderr",
     "output_type": "stream",
     "text": [
      "INFO:root:Iteration 74\n"
     ]
    },
    {
     "name": "stdout",
     "output_type": "stream",
     "text": [
      "{'min_samples_leaf': 0.0001, 'n_estimators': 19} score: 0.9404985167895668\n",
      "current accuracy: 0.9404985167895668\n",
      "best accuracy: 0.9404985167895668\n",
      "final res: [[1.0e-04 1.8e+01]], [-0.00766414]\n"
     ]
    },
    {
     "name": "stderr",
     "output_type": "stream",
     "text": [
      "INFO:root:Iteration 75\n"
     ]
    },
    {
     "name": "stdout",
     "output_type": "stream",
     "text": [
      "{'min_samples_leaf': 0.00010000000000001674, 'n_estimators': 18} score: 0.9404707626533824\n",
      "current accuracy: 0.9404707626533824\n",
      "best accuracy: 0.9404985167895668\n",
      "final res: [[1.e-04 1.e+01]], [-0.00741891]\n"
     ]
    },
    {
     "name": "stderr",
     "output_type": "stream",
     "text": [
      "INFO:root:Iteration 76\n"
     ]
    },
    {
     "name": "stdout",
     "output_type": "stream",
     "text": [
      "{'min_samples_leaf': 0.00010000000000000286, 'n_estimators': 10} score: 0.938477864245615\n",
      "current accuracy: 0.938477864245615\n",
      "best accuracy: 0.9404985167895668\n",
      "final res: [[1.0e-04 1.8e+01]], [-0.00718315]\n"
     ]
    },
    {
     "name": "stderr",
     "output_type": "stream",
     "text": [
      "INFO:root:Iteration 77\n"
     ]
    },
    {
     "name": "stdout",
     "output_type": "stream",
     "text": [
      "{'min_samples_leaf': 0.00010000000000000286, 'n_estimators': 18} score: 0.9404707626533824\n",
      "current accuracy: 0.9404707626533824\n",
      "best accuracy: 0.9404985167895668\n",
      "final res: [[1.0e-04 1.8e+01]], [-0.00676075]\n"
     ]
    },
    {
     "name": "stderr",
     "output_type": "stream",
     "text": [
      "INFO:root:Iteration 78\n"
     ]
    },
    {
     "name": "stdout",
     "output_type": "stream",
     "text": [
      "{'min_samples_leaf': 0.0001, 'n_estimators': 18} score: 0.9404707626533824\n",
      "current accuracy: 0.9404707626533824\n",
      "best accuracy: 0.9404985167895668\n",
      "final res: [[1.e-04 9.e+00]], [-0.00791135]\n"
     ]
    },
    {
     "name": "stderr",
     "output_type": "stream",
     "text": [
      "INFO:root:Iteration 79\n"
     ]
    },
    {
     "name": "stdout",
     "output_type": "stream",
     "text": [
      "{'min_samples_leaf': 0.0001, 'n_estimators': 9} score: 0.9368022364613532\n",
      "current accuracy: 0.9368022364613532\n",
      "best accuracy: 0.9404985167895668\n",
      "final res: [[1.e-04 9.e+00]], [-0.00720254]\n"
     ]
    },
    {
     "name": "stderr",
     "output_type": "stream",
     "text": [
      "INFO:root:Iteration 80\n"
     ]
    },
    {
     "name": "stdout",
     "output_type": "stream",
     "text": [
      "{'min_samples_leaf': 0.0001, 'n_estimators': 9} score: 0.9368022364613532\n",
      "current accuracy: 0.9368022364613532\n",
      "best accuracy: 0.9404985167895668\n",
      "final res: [[1.e-04 5.e+00]], [-0.00682556]\n",
      "{'min_samples_leaf': 0.00010000000000000286, 'n_estimators': 5} score: 0.9280930833852047\n",
      "current accuracy: 0.9280930833852047\n",
      "best accuracy: 0.9404985167895668\n"
     ]
    },
    {
     "name": "stderr",
     "output_type": "stream",
     "text": [
      "INFO:root:Iteration 81\n",
      "INFO:root:Iteration 82\n"
     ]
    },
    {
     "name": "stdout",
     "output_type": "stream",
     "text": [
      "final res: [[1.e-04 3.e+00]], [-0.00636478]\n",
      "{'min_samples_leaf': 0.0001, 'n_estimators': 3} score: 0.9167277650577057\n",
      "current accuracy: 0.9167277650577057\n",
      "best accuracy: 0.9404985167895668\n",
      "final res: [[1.0e-04 1.9e+01]], [-0.00717994]\n"
     ]
    },
    {
     "name": "stderr",
     "output_type": "stream",
     "text": [
      "INFO:root:Iteration 83\n"
     ]
    },
    {
     "name": "stdout",
     "output_type": "stream",
     "text": [
      "{'min_samples_leaf': 0.0001, 'n_estimators': 19} score: 0.9404985167895668\n",
      "current accuracy: 0.9404985167895668\n",
      "best accuracy: 0.9404985167895668\n",
      "final res: [[1.e-04 4.e+00]], [-0.0066389]\n",
      "{'min_samples_leaf': 0.00010000000000000286, 'n_estimators': 4} score: 0.9259890334724702\n",
      "current accuracy: 0.9259890334724702\n",
      "best accuracy: 0.9404985167895668\n"
     ]
    },
    {
     "name": "stderr",
     "output_type": "stream",
     "text": [
      "INFO:root:Iteration 84\n",
      "INFO:root:Iteration 85\n"
     ]
    },
    {
     "name": "stdout",
     "output_type": "stream",
     "text": [
      "final res: [[1.0e-04 1.8e+01]], [-0.0063861]\n",
      "{'min_samples_leaf': 0.00010000000000000286, 'n_estimators': 18} score: 0.9404707626533824\n",
      "current accuracy: 0.9404707626533824\n",
      "best accuracy: 0.9404985167895668\n"
     ]
    },
    {
     "name": "stderr",
     "output_type": "stream",
     "text": [
      "INFO:root:Iteration 86\n"
     ]
    },
    {
     "name": "stdout",
     "output_type": "stream",
     "text": [
      "final res: [[1.e-04 1.e+01]], [-0.00685151]\n",
      "{'min_samples_leaf': 0.0001000000000000098, 'n_estimators': 10} score: 0.938477864245615\n",
      "current accuracy: 0.938477864245615\n",
      "best accuracy: 0.9404985167895668\n"
     ]
    },
    {
     "name": "stderr",
     "output_type": "stream",
     "text": [
      "INFO:root:Iteration 87\n"
     ]
    },
    {
     "name": "stdout",
     "output_type": "stream",
     "text": [
      "final res: [[1.e-04 9.e+00]], [-0.00659591]\n",
      "{'min_samples_leaf': 0.00010000000000000286, 'n_estimators': 9} score: 0.9368022364613532\n",
      "current accuracy: 0.9368022364613532\n",
      "best accuracy: 0.9404985167895668\n"
     ]
    },
    {
     "name": "stderr",
     "output_type": "stream",
     "text": [
      "INFO:root:Iteration 88\n"
     ]
    },
    {
     "name": "stdout",
     "output_type": "stream",
     "text": [
      "final res: [[1.0e-04 1.2e+01]], [-0.00752724]\n",
      "{'min_samples_leaf': 0.00010000000000000286, 'n_estimators': 12} score: 0.938221995813806\n",
      "current accuracy: 0.938221995813806\n",
      "best accuracy: 0.9404985167895668\n"
     ]
    },
    {
     "name": "stderr",
     "output_type": "stream",
     "text": [
      "INFO:root:Iteration 89\n"
     ]
    },
    {
     "name": "stdout",
     "output_type": "stream",
     "text": [
      "final res: [[1.0e-04 1.8e+01]], [-0.00605124]\n",
      "{'min_samples_leaf': 9.999999999998899e-05, 'n_estimators': 18} score: 0.9404707626533824\n",
      "current accuracy: 0.9404707626533824\n",
      "best accuracy: 0.9404985167895668\n"
     ]
    },
    {
     "name": "stderr",
     "output_type": "stream",
     "text": [
      "INFO:root:Best result 0.9404985167895668: Params: [1.0e-04 1.9e+01]\n",
      "INFO:root:Best result 0.9404985167895668: Params: {'min_samples_leaf': 9.999999999998899e-05, 'n_estimators': 19.0}\n"
     ]
    },
    {
     "name": "stdout",
     "output_type": "stream",
     "text": [
      "final res: [[1.e-04 4.e+00]], [-0.00574184]\n",
      "{'min_samples_leaf': 0.00010000000000001674, 'n_estimators': 4} score: 0.9259890334724702\n",
      "current accuracy: 0.9259890334724702\n",
      "best accuracy: 0.9404985167895668\n"
     ]
    },
    {
     "data": {
      "text/plain": [
       "<bayesian_hyperparameter_optimisation_3.BayesianOptimisation at 0x1a16936b70>"
      ]
     },
     "execution_count": 92,
     "metadata": {},
     "output_type": "execute_result"
    }
   ],
   "source": [
    "# --- Define our hyper parameter space as a dictionary. \n",
    "\n",
    "# Use the names of the hyper parameters as the keys\n",
    "# Values should be a list for discrete values and [lower_bound,upper_bound] for continuous\n",
    "hps = {\n",
    "    'n_estimators':range(1,20),\n",
    "#     'max_depth':range(9,12),\n",
    "    'min_samples_leaf': [0.0001, 0.5]\n",
    "}\n",
    "\n",
    "# --- Run the Bayesian Optimisation Code\n",
    "\n",
    "BOout = BayesianOptimisation(\n",
    "    hps=hps,\n",
    "    MLmodel = RandomForestRegressor(random_state=42),\n",
    "    NpI = 5,\n",
    "    Niter = 90,\n",
    "    y_train = y_train,\n",
    "    X_train = X_train,\n",
    "    n_restarts = 30,\n",
    "    optim_rout = 'random_search',\n",
    "    noise = 0.01,\n",
    "    xi = 0.01,\n",
    "    kernel = RBF(length_scale=0.05)\n",
    ")\n",
    "BOout.optimise()"
   ]
  },
  {
   "cell_type": "code",
   "execution_count": 82,
   "metadata": {},
   "outputs": [
    {
     "name": "stderr",
     "output_type": "stream",
     "text": [
      "/anaconda3/lib/python3.6/site-packages/matplotlib/style/core.py:100: UserWarning: Style includes a parameter, 'backend', that is not related to style.  Ignoring\n",
      "  _apply_style(style)\n",
      "/anaconda3/lib/python3.6/site-packages/matplotlib/style/core.py:100: UserWarning: Style includes a parameter, 'backend.qt4', that is not related to style.  Ignoring\n",
      "  _apply_style(style)\n",
      "/anaconda3/lib/python3.6/site-packages/matplotlib/style/core.py:100: UserWarning: Style includes a parameter, 'backend_fallback', that is not related to style.  Ignoring\n",
      "  _apply_style(style)\n",
      "/anaconda3/lib/python3.6/site-packages/matplotlib/style/core.py:100: UserWarning: Style includes a parameter, 'datapath', that is not related to style.  Ignoring\n",
      "  _apply_style(style)\n",
      "/anaconda3/lib/python3.6/site-packages/matplotlib/style/core.py:100: UserWarning: Style includes a parameter, 'docstring.hardcopy', that is not related to style.  Ignoring\n",
      "  _apply_style(style)\n",
      "/anaconda3/lib/python3.6/site-packages/matplotlib/style/core.py:100: UserWarning: Style includes a parameter, 'figure.max_open_warning', that is not related to style.  Ignoring\n",
      "  _apply_style(style)\n",
      "/anaconda3/lib/python3.6/site-packages/matplotlib/style/core.py:100: UserWarning: Style includes a parameter, 'interactive', that is not related to style.  Ignoring\n",
      "  _apply_style(style)\n",
      "/anaconda3/lib/python3.6/site-packages/matplotlib/style/core.py:100: UserWarning: Style includes a parameter, 'savefig.directory', that is not related to style.  Ignoring\n",
      "  _apply_style(style)\n",
      "/anaconda3/lib/python3.6/site-packages/matplotlib/style/core.py:100: UserWarning: Style includes a parameter, 'timezone', that is not related to style.  Ignoring\n",
      "  _apply_style(style)\n",
      "/anaconda3/lib/python3.6/site-packages/matplotlib/style/core.py:100: UserWarning: Style includes a parameter, 'tk.window_focus', that is not related to style.  Ignoring\n",
      "  _apply_style(style)\n",
      "/anaconda3/lib/python3.6/site-packages/matplotlib/style/core.py:100: UserWarning: Style includes a parameter, 'toolbar', that is not related to style.  Ignoring\n",
      "  _apply_style(style)\n",
      "/anaconda3/lib/python3.6/site-packages/matplotlib/style/core.py:100: UserWarning: Style includes a parameter, 'webagg.address', that is not related to style.  Ignoring\n",
      "  _apply_style(style)\n",
      "/anaconda3/lib/python3.6/site-packages/matplotlib/style/core.py:100: UserWarning: Style includes a parameter, 'webagg.open_in_browser', that is not related to style.  Ignoring\n",
      "  _apply_style(style)\n",
      "/anaconda3/lib/python3.6/site-packages/matplotlib/style/core.py:100: UserWarning: Style includes a parameter, 'webagg.port', that is not related to style.  Ignoring\n",
      "  _apply_style(style)\n",
      "/anaconda3/lib/python3.6/site-packages/matplotlib/style/core.py:100: UserWarning: Style includes a parameter, 'webagg.port_retries', that is not related to style.  Ignoring\n",
      "  _apply_style(style)\n",
      "/anaconda3/lib/python3.6/site-packages/matplotlib/__init__.py:855: MatplotlibDeprecationWarning: \n",
      "examples.directory is deprecated; in the future, examples will be found relative to the 'datapath' directory.\n",
      "  \"found relative to the 'datapath' directory.\".format(key))\n",
      "/anaconda3/lib/python3.6/site-packages/matplotlib/__init__.py:846: MatplotlibDeprecationWarning: \n",
      "The text.latex.unicode rcparam was deprecated in Matplotlib 2.2 and will be removed in 3.1.\n",
      "  \"2.2\", name=key, obj_type=\"rcparam\", addendum=addendum)\n"
     ]
    },
    {
     "data": {
      "image/png": "[encoded data removed]",
      "text/plain": [
       "<Figure size 1152x720 with 4 Axes>"
      ]
     },
     "metadata": {
      "needs_background": "dark"
     },
     "output_type": "display_data"
    }
   ],
   "source": [
    "BOout.hyperparameter_convergence_plots()"
   ]
  },
  {
   "cell_type": "code",
   "execution_count": 83,
   "metadata": {},
   "outputs": [
    {
     "name": "stderr",
     "output_type": "stream",
     "text": [
      "/anaconda3/lib/python3.6/site-packages/matplotlib/style/core.py:100: UserWarning: Style includes a parameter, 'backend', that is not related to style.  Ignoring\n",
      "  _apply_style(style)\n",
      "/anaconda3/lib/python3.6/site-packages/matplotlib/style/core.py:100: UserWarning: Style includes a parameter, 'backend.qt4', that is not related to style.  Ignoring\n",
      "  _apply_style(style)\n",
      "/anaconda3/lib/python3.6/site-packages/matplotlib/style/core.py:100: UserWarning: Style includes a parameter, 'backend_fallback', that is not related to style.  Ignoring\n",
      "  _apply_style(style)\n",
      "/anaconda3/lib/python3.6/site-packages/matplotlib/style/core.py:100: UserWarning: Style includes a parameter, 'datapath', that is not related to style.  Ignoring\n",
      "  _apply_style(style)\n",
      "/anaconda3/lib/python3.6/site-packages/matplotlib/style/core.py:100: UserWarning: Style includes a parameter, 'docstring.hardcopy', that is not related to style.  Ignoring\n",
      "  _apply_style(style)\n",
      "/anaconda3/lib/python3.6/site-packages/matplotlib/style/core.py:100: UserWarning: Style includes a parameter, 'figure.max_open_warning', that is not related to style.  Ignoring\n",
      "  _apply_style(style)\n",
      "/anaconda3/lib/python3.6/site-packages/matplotlib/style/core.py:100: UserWarning: Style includes a parameter, 'interactive', that is not related to style.  Ignoring\n",
      "  _apply_style(style)\n",
      "/anaconda3/lib/python3.6/site-packages/matplotlib/style/core.py:100: UserWarning: Style includes a parameter, 'savefig.directory', that is not related to style.  Ignoring\n",
      "  _apply_style(style)\n",
      "/anaconda3/lib/python3.6/site-packages/matplotlib/style/core.py:100: UserWarning: Style includes a parameter, 'timezone', that is not related to style.  Ignoring\n",
      "  _apply_style(style)\n",
      "/anaconda3/lib/python3.6/site-packages/matplotlib/style/core.py:100: UserWarning: Style includes a parameter, 'tk.window_focus', that is not related to style.  Ignoring\n",
      "  _apply_style(style)\n",
      "/anaconda3/lib/python3.6/site-packages/matplotlib/style/core.py:100: UserWarning: Style includes a parameter, 'toolbar', that is not related to style.  Ignoring\n",
      "  _apply_style(style)\n",
      "/anaconda3/lib/python3.6/site-packages/matplotlib/style/core.py:100: UserWarning: Style includes a parameter, 'webagg.address', that is not related to style.  Ignoring\n",
      "  _apply_style(style)\n",
      "/anaconda3/lib/python3.6/site-packages/matplotlib/style/core.py:100: UserWarning: Style includes a parameter, 'webagg.open_in_browser', that is not related to style.  Ignoring\n",
      "  _apply_style(style)\n",
      "/anaconda3/lib/python3.6/site-packages/matplotlib/style/core.py:100: UserWarning: Style includes a parameter, 'webagg.port', that is not related to style.  Ignoring\n",
      "  _apply_style(style)\n",
      "/anaconda3/lib/python3.6/site-packages/matplotlib/style/core.py:100: UserWarning: Style includes a parameter, 'webagg.port_retries', that is not related to style.  Ignoring\n",
      "  _apply_style(style)\n",
      "/anaconda3/lib/python3.6/site-packages/matplotlib/__init__.py:855: MatplotlibDeprecationWarning: \n",
      "examples.directory is deprecated; in the future, examples will be found relative to the 'datapath' directory.\n",
      "  \"found relative to the 'datapath' directory.\".format(key))\n",
      "/anaconda3/lib/python3.6/site-packages/matplotlib/__init__.py:846: MatplotlibDeprecationWarning: \n",
      "The text.latex.unicode rcparam was deprecated in Matplotlib 2.2 and will be removed in 3.1.\n",
      "  \"2.2\", name=key, obj_type=\"rcparam\", addendum=addendum)\n"
     ]
    },
    {
     "data": {
      "image/png": "[encoded data removed]",
      "text/plain": [
       "<Figure size 720x504 with 1 Axes>"
      ]
     },
     "metadata": {
      "needs_background": "dark"
     },
     "output_type": "display_data"
    }
   ],
   "source": [
    "BOout.model_accuracy_convergence_plot()"
   ]
  },
  {
   "cell_type": "code",
   "execution_count": 95,
   "metadata": {},
   "outputs": [
    {
     "data": {
      "text/plain": [
       "array([1.0e-04, 1.9e+01])"
      ]
     },
     "execution_count": 95,
     "metadata": {},
     "output_type": "execute_result"
    }
   ],
   "source": [
    "BOout.best_params_vals"
   ]
  },
  {
   "cell_type": "markdown",
   "metadata": {},
   "source": [
    "# Ignore this for now..."
   ]
  },
  {
   "cell_type": "code",
   "execution_count": 165,
   "metadata": {},
   "outputs": [
    {
     "ename": "ValueError",
     "evalue": "XA and XB must have the same number of columns (i.e. feature dimension.)",
     "output_type": "error",
     "traceback": [
      "\u001b[0;31m---------------------------------------------------------------------------\u001b[0m",
      "\u001b[0;31mValueError\u001b[0m                                Traceback (most recent call last)",
      "\u001b[0;32m<ipython-input-165-9afb3bfe3cee>\u001b[0m in \u001b[0;36m<module>\u001b[0;34m\u001b[0m\n\u001b[1;32m      6\u001b[0m \u001b[0mnoise\u001b[0m \u001b[0;34m=\u001b[0m \u001b[0;36m0.001\u001b[0m\u001b[0;34m\u001b[0m\u001b[0;34m\u001b[0m\u001b[0m\n\u001b[1;32m      7\u001b[0m \u001b[0;31m# x=np.linspace(0.1, 0.5).reshape(-1,1)\u001b[0m\u001b[0;34m\u001b[0m\u001b[0;34m\u001b[0m\u001b[0;34m\u001b[0m\u001b[0m\n\u001b[0;32m----> 8\u001b[0;31m \u001b[0my\u001b[0m\u001b[0;34m,\u001b[0m \u001b[0mstd\u001b[0m \u001b[0;34m=\u001b[0m \u001b[0mBOout\u001b[0m\u001b[0;34m.\u001b[0m\u001b[0mgpr\u001b[0m\u001b[0;34m.\u001b[0m\u001b[0mpredict\u001b[0m\u001b[0;34m(\u001b[0m\u001b[0mX\u001b[0m\u001b[0;34m,\u001b[0m \u001b[0mreturn_std\u001b[0m\u001b[0;34m=\u001b[0m\u001b[0;32mTrue\u001b[0m\u001b[0;34m)\u001b[0m\u001b[0;34m\u001b[0m\u001b[0;34m\u001b[0m\u001b[0m\n\u001b[0m\u001b[1;32m      9\u001b[0m \u001b[0my1\u001b[0m\u001b[0;34m,\u001b[0m \u001b[0mstd1\u001b[0m \u001b[0;34m=\u001b[0m \u001b[0mGaussianProcessRegressor\u001b[0m\u001b[0;34m(\u001b[0m\u001b[0mkernel\u001b[0m\u001b[0;34m=\u001b[0m\u001b[0mMatern\u001b[0m\u001b[0;34m,\u001b[0m \u001b[0malpha\u001b[0m\u001b[0;34m=\u001b[0m\u001b[0;36m0.1\u001b[0m\u001b[0;34m)\u001b[0m\u001b[0;34m.\u001b[0m\u001b[0mfit\u001b[0m\u001b[0;34m(\u001b[0m\u001b[0mBOout\u001b[0m\u001b[0;34m.\u001b[0m\u001b[0mXt\u001b[0m\u001b[0;34m[\u001b[0m\u001b[0;34m:\u001b[0m\u001b[0;34m,\u001b[0m \u001b[0;36m1\u001b[0m\u001b[0;34m]\u001b[0m\u001b[0;34m.\u001b[0m\u001b[0mreshape\u001b[0m\u001b[0;34m(\u001b[0m\u001b[0;34m-\u001b[0m\u001b[0;36m1\u001b[0m\u001b[0;34m,\u001b[0m \u001b[0;36m1\u001b[0m\u001b[0;34m)\u001b[0m\u001b[0;34m,\u001b[0m \u001b[0mBOout\u001b[0m\u001b[0;34m.\u001b[0m\u001b[0mYt\u001b[0m\u001b[0;34m)\u001b[0m\u001b[0;34m.\u001b[0m\u001b[0mpredict\u001b[0m\u001b[0;34m(\u001b[0m\u001b[0mX\u001b[0m\u001b[0;34m[\u001b[0m\u001b[0;34m:\u001b[0m\u001b[0;34m,\u001b[0m\u001b[0;36m1\u001b[0m\u001b[0;34m]\u001b[0m\u001b[0;34m.\u001b[0m\u001b[0mreshape\u001b[0m\u001b[0;34m(\u001b[0m\u001b[0;34m-\u001b[0m\u001b[0;36m1\u001b[0m\u001b[0;34m,\u001b[0m \u001b[0;36m1\u001b[0m\u001b[0;34m)\u001b[0m\u001b[0;34m,\u001b[0m \u001b[0mreturn_std\u001b[0m\u001b[0;34m=\u001b[0m\u001b[0;32mTrue\u001b[0m\u001b[0;34m)\u001b[0m\u001b[0;34m\u001b[0m\u001b[0;34m\u001b[0m\u001b[0m\n\u001b[1;32m     10\u001b[0m \u001b[0mplt\u001b[0m\u001b[0;34m.\u001b[0m\u001b[0mplot\u001b[0m\u001b[0;34m(\u001b[0m\u001b[0mX\u001b[0m\u001b[0;34m[\u001b[0m\u001b[0;34m:\u001b[0m\u001b[0;34m,\u001b[0m\u001b[0;36m1\u001b[0m\u001b[0;34m]\u001b[0m\u001b[0;34m,\u001b[0m \u001b[0my\u001b[0m\u001b[0;34m)\u001b[0m\u001b[0;34m\u001b[0m\u001b[0;34m\u001b[0m\u001b[0m\n",
      "\u001b[0;32m/anaconda3/lib/python3.6/site-packages/sklearn/gaussian_process/gpr.py\u001b[0m in \u001b[0;36mpredict\u001b[0;34m(self, X, return_std, return_cov)\u001b[0m\n\u001b[1;32m    319\u001b[0m                 \u001b[0;32mreturn\u001b[0m \u001b[0my_mean\u001b[0m\u001b[0;34m\u001b[0m\u001b[0;34m\u001b[0m\u001b[0m\n\u001b[1;32m    320\u001b[0m         \u001b[0;32melse\u001b[0m\u001b[0;34m:\u001b[0m  \u001b[0;31m# Predict based on GP posterior\u001b[0m\u001b[0;34m\u001b[0m\u001b[0;34m\u001b[0m\u001b[0m\n\u001b[0;32m--> 321\u001b[0;31m             \u001b[0mK_trans\u001b[0m \u001b[0;34m=\u001b[0m \u001b[0mself\u001b[0m\u001b[0;34m.\u001b[0m\u001b[0mkernel_\u001b[0m\u001b[0;34m(\u001b[0m\u001b[0mX\u001b[0m\u001b[0;34m,\u001b[0m \u001b[0mself\u001b[0m\u001b[0;34m.\u001b[0m\u001b[0mX_train_\u001b[0m\u001b[0;34m)\u001b[0m\u001b[0;34m\u001b[0m\u001b[0;34m\u001b[0m\u001b[0m\n\u001b[0m\u001b[1;32m    322\u001b[0m             \u001b[0my_mean\u001b[0m \u001b[0;34m=\u001b[0m \u001b[0mK_trans\u001b[0m\u001b[0;34m.\u001b[0m\u001b[0mdot\u001b[0m\u001b[0;34m(\u001b[0m\u001b[0mself\u001b[0m\u001b[0;34m.\u001b[0m\u001b[0malpha_\u001b[0m\u001b[0;34m)\u001b[0m  \u001b[0;31m# Line 4 (y_mean = f_star)\u001b[0m\u001b[0;34m\u001b[0m\u001b[0;34m\u001b[0m\u001b[0m\n\u001b[1;32m    323\u001b[0m             \u001b[0my_mean\u001b[0m \u001b[0;34m=\u001b[0m \u001b[0mself\u001b[0m\u001b[0;34m.\u001b[0m\u001b[0m_y_train_mean\u001b[0m \u001b[0;34m+\u001b[0m \u001b[0my_mean\u001b[0m  \u001b[0;31m# undo normal.\u001b[0m\u001b[0;34m\u001b[0m\u001b[0;34m\u001b[0m\u001b[0m\n",
      "\u001b[0;32m/anaconda3/lib/python3.6/site-packages/sklearn/gaussian_process/kernels.py\u001b[0m in \u001b[0;36m__call__\u001b[0;34m(self, X, Y, eval_gradient)\u001b[0m\n\u001b[1;32m   1332\u001b[0m                     \"Gradient can only be evaluated when Y is None.\")\n\u001b[1;32m   1333\u001b[0m             dists = cdist(X / length_scale, Y / length_scale,\n\u001b[0;32m-> 1334\u001b[0;31m                           metric='euclidean')\n\u001b[0m\u001b[1;32m   1335\u001b[0m \u001b[0;34m\u001b[0m\u001b[0m\n\u001b[1;32m   1336\u001b[0m         \u001b[0;32mif\u001b[0m \u001b[0mself\u001b[0m\u001b[0;34m.\u001b[0m\u001b[0mnu\u001b[0m \u001b[0;34m==\u001b[0m \u001b[0;36m0.5\u001b[0m\u001b[0;34m:\u001b[0m\u001b[0;34m\u001b[0m\u001b[0;34m\u001b[0m\u001b[0m\n",
      "\u001b[0;32m/anaconda3/lib/python3.6/site-packages/scipy/spatial/distance.py\u001b[0m in \u001b[0;36mcdist\u001b[0;34m(XA, XB, metric, *args, **kwargs)\u001b[0m\n\u001b[1;32m   2700\u001b[0m         \u001b[0;32mraise\u001b[0m \u001b[0mValueError\u001b[0m\u001b[0;34m(\u001b[0m\u001b[0;34m'XB must be a 2-dimensional array.'\u001b[0m\u001b[0;34m)\u001b[0m\u001b[0;34m\u001b[0m\u001b[0;34m\u001b[0m\u001b[0m\n\u001b[1;32m   2701\u001b[0m     \u001b[0;32mif\u001b[0m \u001b[0ms\u001b[0m\u001b[0;34m[\u001b[0m\u001b[0;36m1\u001b[0m\u001b[0;34m]\u001b[0m \u001b[0;34m!=\u001b[0m \u001b[0msB\u001b[0m\u001b[0;34m[\u001b[0m\u001b[0;36m1\u001b[0m\u001b[0;34m]\u001b[0m\u001b[0;34m:\u001b[0m\u001b[0;34m\u001b[0m\u001b[0;34m\u001b[0m\u001b[0m\n\u001b[0;32m-> 2702\u001b[0;31m         raise ValueError('XA and XB must have the same number of columns '\n\u001b[0m\u001b[1;32m   2703\u001b[0m                          '(i.e. feature dimension.)')\n\u001b[1;32m   2704\u001b[0m \u001b[0;34m\u001b[0m\u001b[0m\n",
      "\u001b[0;31mValueError\u001b[0m: XA and XB must have the same number of columns (i.e. feature dimension.)"
     ]
    }
   ],
   "source": [
    "# X = np.zeros((ndim, len(hps)))\n",
    "# X[:, 0] = np.random.choice(hps[sorted(hps)[0]], size = ndim)#BOout.best_params_vals[0]\n",
    "# X[:, 1] = np.linspace(0.1, 0.5, ndim)\n",
    "# X[:, 2] = np.random.choice(hps[sorted(hps)[2]], size = ndim)#BOout.best_params_vals[2]\n",
    "\n",
    "noise = 0.001\n",
    "# x=np.linspace(0.1, 0.5).reshape(-1,1)\n",
    "y, std = BOout.gpr.predict(X, return_std=True)\n",
    "y1, std1 = GaussianProcessRegressor(kernel=RBF(), alpha=0.1).fit(BOout.Xt[:, 1].reshape(-1, 1), BOout.Yt).predict(X[:,1].reshape(-1, 1), return_std=True)\n",
    "plt.plot(X[:,1], y)\n",
    "# plt.plot(X[:,1], y - std, '--')\n",
    "# plt.plot(X[:,1], y + std, '--')\n",
    "plt.plot(BOout.Xt[:,1], BOout.Yt, '.')\n",
    "plt.plot(X[:,1], y1, '.')"
   ]
  },
  {
   "cell_type": "code",
   "execution_count": 175,
   "metadata": {},
   "outputs": [
    {
     "data": {
      "text/plain": [
       "[<matplotlib.lines.Line2D at 0x1a1b5a9a20>]"
      ]
     },
     "execution_count": 175,
     "metadata": {},
     "output_type": "execute_result"
    },
    {
     "data": {
      "image/png": "[encoded data removed]",
      "text/plain": [
       "<Figure size 432x288 with 1 Axes>"
      ]
     },
     "metadata": {
      "needs_background": "dark"
     },
     "output_type": "display_data"
    }
   ],
   "source": [
    "ndim = BOout.Xt.shape[0]\n",
    "\n",
    "X = np.zeros((ndim, 4))\n",
    "X[:, 0] = np.linspace(0.01, 0.5, ndim)\n",
    "for i in range(1, 4):\n",
    "    X[:, i] = i\n",
    "    \n",
    "plot_i = 1\n",
    "y, std = BOout.gpr.predict(X[:, [0, plot_i]], return_std=True)\n",
    "plot_i = 2\n",
    "y_, std_ = BOout.gpr.predict(X[:, [0, plot_i]], return_std=True)\n",
    "plot_i = 3\n",
    "y__, std__ = BOout.gpr.predict(X[:, [0, plot_i]], return_std=True)\n",
    "\n",
    "y1, std1 = GaussianProcessRegressor(kernel=Matern(), alpha=0.0125).fit(BOout.Xt[:, 0].reshape(-1, 1), BOout.Yt)\\\n",
    "    .predict(X[:,[0]], return_std=True)\n",
    "\n",
    "plt.plot(X[:,0], y, color = 'steelblue', linewidth = 3)\n",
    "plt.plot(X[:,0], y_, '--', color = 'steelblue', linewidth = 3)\n",
    "plt.plot(X[:,0], y__, '-.', color = 'steelblue', linewidth = 3)\n",
    "plt.plot(BOout.Xt[:,0], BOout.Yt, '.', color = 'sandybrown', markersize = 12)\n",
    "plt.plot(X[:,0], y1, color = 'forestgreen', linewidth = 3)"
   ]
  },
  {
   "cell_type": "code",
   "execution_count": 143,
   "metadata": {},
   "outputs": [
    {
     "data": {
      "text/plain": [
       "[<matplotlib.lines.Line2D at 0x109809e48>]"
      ]
     },
     "execution_count": 143,
     "metadata": {},
     "output_type": "execute_result"
    },
    {
     "data": {
      "image/png": "[encoded data removed]",
      "text/plain": [
       "<Figure size 432x288 with 1 Axes>"
      ]
     },
     "metadata": {
      "needs_background": "dark"
     },
     "output_type": "display_data"
    }
   ],
   "source": [
    "plt.plot(BOout.Xt[BOout.Xt[:, 1] == 1, 0], BOout.Yt[BOout.Xt[:, 1] == 1], 'x', color = 'sandybrown', markersize = 12)\n",
    "plt.plot(BOout.Xt[BOout.Xt[:, 1] == 2, 0], BOout.Yt[BOout.Xt[:, 1] == 2], '.', color = 'sandybrown', markersize = 12)\n",
    "plt.plot(BOout.Xt[BOout.Xt[:, 1] == 3, 0], BOout.Yt[BOout.Xt[:, 1] == 3], '+', color = 'sandybrown', markersize = 12)"
   ]
  },
  {
   "cell_type": "code",
   "execution_count": null,
   "metadata": {},
   "outputs": [],
   "source": []
  },
  {
   "cell_type": "code",
   "execution_count": 26,
   "metadata": {},
   "outputs": [
    {
     "ename": "ValueError",
     "evalue": "XA and XB must have the same number of columns (i.e. feature dimension.)",
     "output_type": "error",
     "traceback": [
      "\u001b[0;31m---------------------------------------------------------------------------\u001b[0m",
      "\u001b[0;31mValueError\u001b[0m                                Traceback (most recent call last)",
      "\u001b[0;32m<ipython-input-26-c15106b2c9a7>\u001b[0m in \u001b[0;36m<module>\u001b[0;34m\u001b[0m\n\u001b[1;32m      1\u001b[0m \u001b[0mnoise\u001b[0m \u001b[0;34m=\u001b[0m \u001b[0;36m0.001\u001b[0m\u001b[0;34m\u001b[0m\u001b[0;34m\u001b[0m\u001b[0m\n\u001b[1;32m      2\u001b[0m \u001b[0;31m# x=np.linspace(0.1, 0.5).reshape(-1,1)\u001b[0m\u001b[0;34m\u001b[0m\u001b[0;34m\u001b[0m\u001b[0;34m\u001b[0m\u001b[0m\n\u001b[0;32m----> 3\u001b[0;31m \u001b[0my\u001b[0m\u001b[0;34m,\u001b[0m \u001b[0mstd\u001b[0m \u001b[0;34m=\u001b[0m \u001b[0mBOout\u001b[0m\u001b[0;34m.\u001b[0m\u001b[0mgpr\u001b[0m\u001b[0;34m.\u001b[0m\u001b[0mpredict\u001b[0m\u001b[0;34m(\u001b[0m\u001b[0mX\u001b[0m\u001b[0;34m,\u001b[0m \u001b[0mreturn_std\u001b[0m\u001b[0;34m=\u001b[0m\u001b[0;32mTrue\u001b[0m\u001b[0;34m)\u001b[0m\u001b[0;34m\u001b[0m\u001b[0;34m\u001b[0m\u001b[0m\n\u001b[0m\u001b[1;32m      4\u001b[0m \u001b[0my1\u001b[0m\u001b[0;34m,\u001b[0m \u001b[0mstd1\u001b[0m \u001b[0;34m=\u001b[0m \u001b[0mGaussianProcessRegressor\u001b[0m\u001b[0;34m(\u001b[0m\u001b[0mkernel\u001b[0m\u001b[0;34m=\u001b[0m\u001b[0mRBF\u001b[0m\u001b[0;34m(\u001b[0m\u001b[0;34m)\u001b[0m\u001b[0;34m,\u001b[0m \u001b[0malpha\u001b[0m\u001b[0;34m=\u001b[0m\u001b[0;36m0.1\u001b[0m\u001b[0;34m)\u001b[0m\u001b[0;34m.\u001b[0m\u001b[0mfit\u001b[0m\u001b[0;34m(\u001b[0m\u001b[0mBOout\u001b[0m\u001b[0;34m.\u001b[0m\u001b[0mXt\u001b[0m\u001b[0;34m[\u001b[0m\u001b[0;34m:\u001b[0m\u001b[0;34m,\u001b[0m \u001b[0;36m1\u001b[0m\u001b[0;34m]\u001b[0m\u001b[0;34m.\u001b[0m\u001b[0mreshape\u001b[0m\u001b[0;34m(\u001b[0m\u001b[0;34m-\u001b[0m\u001b[0;36m1\u001b[0m\u001b[0;34m,\u001b[0m \u001b[0;36m1\u001b[0m\u001b[0;34m)\u001b[0m\u001b[0;34m,\u001b[0m \u001b[0mBOout\u001b[0m\u001b[0;34m.\u001b[0m\u001b[0mYt\u001b[0m\u001b[0;34m)\u001b[0m\u001b[0;34m.\u001b[0m\u001b[0mpredict\u001b[0m\u001b[0;34m(\u001b[0m\u001b[0mX\u001b[0m\u001b[0;34m[\u001b[0m\u001b[0;34m:\u001b[0m\u001b[0;34m,\u001b[0m\u001b[0;36m1\u001b[0m\u001b[0;34m]\u001b[0m\u001b[0;34m.\u001b[0m\u001b[0mreshape\u001b[0m\u001b[0;34m(\u001b[0m\u001b[0;34m-\u001b[0m\u001b[0;36m1\u001b[0m\u001b[0;34m,\u001b[0m \u001b[0;36m1\u001b[0m\u001b[0;34m)\u001b[0m\u001b[0;34m,\u001b[0m \u001b[0mreturn_std\u001b[0m\u001b[0;34m=\u001b[0m\u001b[0;32mTrue\u001b[0m\u001b[0;34m)\u001b[0m\u001b[0;34m\u001b[0m\u001b[0;34m\u001b[0m\u001b[0m\n\u001b[1;32m      5\u001b[0m \u001b[0mplt\u001b[0m\u001b[0;34m.\u001b[0m\u001b[0mplot\u001b[0m\u001b[0;34m(\u001b[0m\u001b[0mX\u001b[0m\u001b[0;34m[\u001b[0m\u001b[0;34m:\u001b[0m\u001b[0;34m,\u001b[0m\u001b[0;36m1\u001b[0m\u001b[0;34m]\u001b[0m\u001b[0;34m,\u001b[0m \u001b[0my\u001b[0m\u001b[0;34m)\u001b[0m\u001b[0;34m\u001b[0m\u001b[0;34m\u001b[0m\u001b[0m\n",
      "\u001b[0;32m/anaconda3/lib/python3.6/site-packages/sklearn/gaussian_process/gpr.py\u001b[0m in \u001b[0;36mpredict\u001b[0;34m(self, X, return_std, return_cov)\u001b[0m\n\u001b[1;32m    319\u001b[0m                 \u001b[0;32mreturn\u001b[0m \u001b[0my_mean\u001b[0m\u001b[0;34m\u001b[0m\u001b[0;34m\u001b[0m\u001b[0m\n\u001b[1;32m    320\u001b[0m         \u001b[0;32melse\u001b[0m\u001b[0;34m:\u001b[0m  \u001b[0;31m# Predict based on GP posterior\u001b[0m\u001b[0;34m\u001b[0m\u001b[0;34m\u001b[0m\u001b[0m\n\u001b[0;32m--> 321\u001b[0;31m             \u001b[0mK_trans\u001b[0m \u001b[0;34m=\u001b[0m \u001b[0mself\u001b[0m\u001b[0;34m.\u001b[0m\u001b[0mkernel_\u001b[0m\u001b[0;34m(\u001b[0m\u001b[0mX\u001b[0m\u001b[0;34m,\u001b[0m \u001b[0mself\u001b[0m\u001b[0;34m.\u001b[0m\u001b[0mX_train_\u001b[0m\u001b[0;34m)\u001b[0m\u001b[0;34m\u001b[0m\u001b[0;34m\u001b[0m\u001b[0m\n\u001b[0m\u001b[1;32m    322\u001b[0m             \u001b[0my_mean\u001b[0m \u001b[0;34m=\u001b[0m \u001b[0mK_trans\u001b[0m\u001b[0;34m.\u001b[0m\u001b[0mdot\u001b[0m\u001b[0;34m(\u001b[0m\u001b[0mself\u001b[0m\u001b[0;34m.\u001b[0m\u001b[0malpha_\u001b[0m\u001b[0;34m)\u001b[0m  \u001b[0;31m# Line 4 (y_mean = f_star)\u001b[0m\u001b[0;34m\u001b[0m\u001b[0;34m\u001b[0m\u001b[0m\n\u001b[1;32m    323\u001b[0m             \u001b[0my_mean\u001b[0m \u001b[0;34m=\u001b[0m \u001b[0mself\u001b[0m\u001b[0;34m.\u001b[0m\u001b[0m_y_train_mean\u001b[0m \u001b[0;34m+\u001b[0m \u001b[0my_mean\u001b[0m  \u001b[0;31m# undo normal.\u001b[0m\u001b[0;34m\u001b[0m\u001b[0;34m\u001b[0m\u001b[0m\n",
      "\u001b[0;32m/anaconda3/lib/python3.6/site-packages/sklearn/gaussian_process/kernels.py\u001b[0m in \u001b[0;36m__call__\u001b[0;34m(self, X, Y, eval_gradient)\u001b[0m\n\u001b[1;32m   1223\u001b[0m                     \"Gradient can only be evaluated when Y is None.\")\n\u001b[1;32m   1224\u001b[0m             dists = cdist(X / length_scale, Y / length_scale,\n\u001b[0;32m-> 1225\u001b[0;31m                           metric='sqeuclidean')\n\u001b[0m\u001b[1;32m   1226\u001b[0m             \u001b[0mK\u001b[0m \u001b[0;34m=\u001b[0m \u001b[0mnp\u001b[0m\u001b[0;34m.\u001b[0m\u001b[0mexp\u001b[0m\u001b[0;34m(\u001b[0m\u001b[0;34m-\u001b[0m\u001b[0;36m.5\u001b[0m \u001b[0;34m*\u001b[0m \u001b[0mdists\u001b[0m\u001b[0;34m)\u001b[0m\u001b[0;34m\u001b[0m\u001b[0;34m\u001b[0m\u001b[0m\n\u001b[1;32m   1227\u001b[0m \u001b[0;34m\u001b[0m\u001b[0m\n",
      "\u001b[0;32m/anaconda3/lib/python3.6/site-packages/scipy/spatial/distance.py\u001b[0m in \u001b[0;36mcdist\u001b[0;34m(XA, XB, metric, *args, **kwargs)\u001b[0m\n\u001b[1;32m   2700\u001b[0m         \u001b[0;32mraise\u001b[0m \u001b[0mValueError\u001b[0m\u001b[0;34m(\u001b[0m\u001b[0;34m'XB must be a 2-dimensional array.'\u001b[0m\u001b[0;34m)\u001b[0m\u001b[0;34m\u001b[0m\u001b[0;34m\u001b[0m\u001b[0m\n\u001b[1;32m   2701\u001b[0m     \u001b[0;32mif\u001b[0m \u001b[0ms\u001b[0m\u001b[0;34m[\u001b[0m\u001b[0;36m1\u001b[0m\u001b[0;34m]\u001b[0m \u001b[0;34m!=\u001b[0m \u001b[0msB\u001b[0m\u001b[0;34m[\u001b[0m\u001b[0;36m1\u001b[0m\u001b[0;34m]\u001b[0m\u001b[0;34m:\u001b[0m\u001b[0;34m\u001b[0m\u001b[0;34m\u001b[0m\u001b[0m\n\u001b[0;32m-> 2702\u001b[0;31m         raise ValueError('XA and XB must have the same number of columns '\n\u001b[0m\u001b[1;32m   2703\u001b[0m                          '(i.e. feature dimension.)')\n\u001b[1;32m   2704\u001b[0m \u001b[0;34m\u001b[0m\u001b[0m\n",
      "\u001b[0;31mValueError\u001b[0m: XA and XB must have the same number of columns (i.e. feature dimension.)"
     ]
    }
   ],
   "source": [
    "noise = 0.001\n",
    "# x=np.linspace(0.1, 0.5).reshape(-1,1)\n",
    "y, std = BOout.gpr.predict(X, return_std=True)\n",
    "y1, std1 = GaussianProcessRegressor(kernel=RBF(), alpha=0.1).fit(BOout.Xt[:, 1].reshape(-1, 1), BOout.Yt).predict(X[:,1].reshape(-1, 1), return_std=True)\n",
    "plt.plot(X[:,1], y)\n",
    "# plt.plot(X[:,1], y - std, '--')\n",
    "# plt.plot(X[:,1], y + std, '--')\n",
    "plt.plot(BOout.Xt[:,1], BOout.Yt, '.')\n",
    "plt.plot(X[:,1], y1, '.')"
   ]
  },
  {
   "cell_type": "code",
   "execution_count": 146,
   "metadata": {},
   "outputs": [
    {
     "data": {
      "text/plain": [
       "array([-1.83090872e-007,  9.33336254e-061,  3.23542516e-121,\n",
       "        0.00000000e+000,  0.00000000e+000,  0.00000000e+000,\n",
       "        1.79261038e-119, -2.02127050e-301, -2.65832982e-301,\n",
       "       -3.23918971e-242,  0.00000000e+000,  0.00000000e+000,\n",
       "        0.00000000e+000,  4.76520317e-001,  0.00000000e+000,\n",
       "        1.12019470e-295,  0.00000000e+000,  4.05230613e-060,\n",
       "        6.15450612e-238,  0.00000000e+000, -2.00465774e-125,\n",
       "        1.13053885e-059,  8.99325934e-120,  1.34607900e-059,\n",
       "        0.00000000e+000, -1.08859087e-301,  6.85738453e-119,\n",
       "        1.80735970e-237,  0.00000000e+000,  0.00000000e+000,\n",
       "        0.00000000e+000,  0.00000000e+000,  0.00000000e+000,\n",
       "        0.00000000e+000,  6.00695818e-001,  0.00000000e+000,\n",
       "        0.00000000e+000, -1.09054977e-298,  0.00000000e+000,\n",
       "        0.00000000e+000,  1.08444270e-060,  1.98584291e-296,\n",
       "       -4.03984531e-062,  0.00000000e+000,  0.00000000e+000,\n",
       "       -9.88845497e-064,  0.00000000e+000, -2.94823117e-121,\n",
       "        0.00000000e+000,  3.14835594e-237,  2.07025960e-060,\n",
       "       -4.87933056e-239,  4.74143713e-119,  0.00000000e+000,\n",
       "        9.75289133e-002,  3.91587593e-062, -1.39937803e-002,\n",
       "        0.00000000e+000,  9.13597974e-002,  0.00000000e+000,\n",
       "        0.00000000e+000,  0.00000000e+000,  1.83275561e-003,\n",
       "       -4.03431126e-063,  0.00000000e+000,  0.00000000e+000,\n",
       "        1.84897833e-061,  2.65236889e-061,  0.00000000e+000,\n",
       "        0.00000000e+000,  1.70121392e-120, -7.74909193e-063,\n",
       "        1.46639039e-061,  0.00000000e+000,  6.95877118e-003,\n",
       "        0.00000000e+000,  0.00000000e+000,  0.00000000e+000,\n",
       "        0.00000000e+000,  2.19840626e-123,  6.50580972e-125,\n",
       "        6.61340012e-297,  2.74749715e-007,  0.00000000e+000,\n",
       "        0.00000000e+000,  7.08448918e-122,  0.00000000e+000,\n",
       "        1.64506732e-124,  0.00000000e+000,  2.38668389e-063,\n",
       "        1.39814616e-067,  0.00000000e+000,  1.31920516e-240,\n",
       "        8.37147053e-239,  0.00000000e+000,  4.89039560e-123,\n",
       "        0.00000000e+000,  8.25402778e-128,  4.63964331e-010,\n",
       "        0.00000000e+000])"
      ]
     },
     "execution_count": 146,
     "metadata": {},
     "output_type": "execute_result"
    }
   ],
   "source": [
    "y1\n"
   ]
  },
  {
   "cell_type": "code",
   "execution_count": null,
   "metadata": {},
   "outputs": [],
   "source": []
  }
 ],
 "metadata": {
  "kernelspec": {
   "display_name": "Python 3",
   "language": "python",
   "name": "python3"
  },
  "language_info": {
   "codemirror_mode": {
    "name": "ipython",
    "version": 3
   },
   "file_extension": ".py",
   "mimetype": "text/x-python",
   "name": "python",
   "nbconvert_exporter": "python",
   "pygments_lexer": "ipython3",
   "version": "3.6.8"
  },
  "latex_envs": {
   "LaTeX_envs_menu_present": true,
   "autoclose": false,
   "autocomplete": true,
   "bibliofile": "biblio.bib",
   "cite_by": "apalike",
   "current_citInitial": 1,
   "eqLabelWithNumbers": true,
   "eqNumInitial": 1,
   "hotkeys": {
    "equation": "Ctrl-E",
    "itemize": "Ctrl-I"
   },
   "labels_anchors": false,
   "latex_user_defs": false,
   "report_style_numbering": false,
   "user_envs_cfg": false
  },
  "toc": {
   "base_numbering": 1,
   "nav_menu": {},
   "number_sections": true,
   "sideBar": false,
   "skip_h1_title": false,
   "title_cell": "Table of Contents",
   "title_sidebar": "Contents",
   "toc_cell": true,
   "toc_position": {},
   "toc_section_display": true,
   "toc_window_display": false
  }
 },
 "nbformat": 4,
 "nbformat_minor": 2
}
