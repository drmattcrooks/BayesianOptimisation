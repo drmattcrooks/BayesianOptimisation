{
 "cells": [
  {
   "cell_type": "markdown",
   "metadata": {
    "toc": true
   },
   "source": [
    "<h1>Table of Contents<span class=\"tocSkip\"></span></h1>\n",
    "<div class=\"toc\"><ul class=\"toc-item\"><li><span><a href=\"#Import-the-Bayesian-Hyperparameter-Optimisation-Algorithm\" data-toc-modified-id=\"Import-the-Bayesian-Hyperparameter-Optimisation-Algorithm-1\"><span class=\"toc-item-num\">1&nbsp;&nbsp;</span>Import the Bayesian Hyperparameter Optimisation Algorithm</a></span></li><li><span><a href=\"#Example-Use-Case\" data-toc-modified-id=\"Example-Use-Case-2\"><span class=\"toc-item-num\">2&nbsp;&nbsp;</span>Example Use Case</a></span><ul class=\"toc-item\"><li><span><a href=\"#Generate-some-tarining-data\" data-toc-modified-id=\"Generate-some-tarining-data-2.1\"><span class=\"toc-item-num\">2.1&nbsp;&nbsp;</span>Generate some tarining data</a></span></li><li><span><a href=\"#Run-the-Optimisation\" data-toc-modified-id=\"Run-the-Optimisation-2.2\"><span class=\"toc-item-num\">2.2&nbsp;&nbsp;</span>Run the Optimisation</a></span></li><li><span><a href=\"#Plot-the-Samples\" data-toc-modified-id=\"Plot-the-Samples-2.3\"><span class=\"toc-item-num\">2.3&nbsp;&nbsp;</span>Plot the Samples</a></span></li></ul></li><li><span><a href=\"#Advanced-User-defined-Inputs\" data-toc-modified-id=\"Advanced-User-defined-Inputs-3\"><span class=\"toc-item-num\">3&nbsp;&nbsp;</span>Advanced User-defined Inputs</a></span><ul class=\"toc-item\"><li><span><a href=\"#Providing-your-own-scoring-function\" data-toc-modified-id=\"Providing-your-own-scoring-function-3.1\"><span class=\"toc-item-num\">3.1&nbsp;&nbsp;</span>Providing your own scoring function</a></span><ul class=\"toc-item\"><li><span><a href=\"#Example-1\" data-toc-modified-id=\"Example-1-3.1.1\"><span class=\"toc-item-num\">3.1.1&nbsp;&nbsp;</span>Example 1</a></span></li><li><span><a href=\"#Example-2\" data-toc-modified-id=\"Example-2-3.1.2\"><span class=\"toc-item-num\">3.1.2&nbsp;&nbsp;</span>Example 2</a></span></li></ul></li><li><span><a href=\"#Convergence-Diagnostics\" data-toc-modified-id=\"Convergence-Diagnostics-3.2\"><span class=\"toc-item-num\">3.2&nbsp;&nbsp;</span>Convergence Diagnostics</a></span></li></ul></li><li><span><a href=\"#Ignore-this-for-now...\" data-toc-modified-id=\"Ignore-this-for-now...-4\"><span class=\"toc-item-num\">4&nbsp;&nbsp;</span>Ignore this for now...</a></span></li></ul></div>"
   ]
  },
  {
   "cell_type": "code",
   "execution_count": 1,
   "metadata": {},
   "outputs": [],
   "source": [
    "# That is setting up the autoreload mode to automatically \n",
    "# reload your imports when you edit a file\n",
    "%load_ext autoreload\n",
    "%autoreload 2"
   ]
  },
  {
   "cell_type": "markdown",
   "metadata": {},
   "source": [
    "# Import the Bayesian Hyperparameter Optimisation Algorithm"
   ]
  },
  {
   "cell_type": "code",
   "execution_count": 2,
   "metadata": {},
   "outputs": [],
   "source": [
    "from sklearn.ensemble import RandomForestRegressor\n",
    "from sklearn.model_selection import cross_val_score\n",
    "import numpy as np\n",
    "from bayesian_hyperparameter_optimisation_3 import BayesianOptimisation\n",
    "from sklearn.gaussian_process import GaussianProcessRegressor\n",
    "from sklearn.gaussian_process.kernels import ConstantKernel, Matern, RBF"
   ]
  },
  {
   "cell_type": "markdown",
   "metadata": {},
   "source": [
    "# Example Use Case\n",
    "## Generate some tarining data"
   ]
  },
  {
   "cell_type": "code",
   "execution_count": 3,
   "metadata": {},
   "outputs": [],
   "source": [
    "def generate_noisy_data_from_bivariate_gaussian(z):\n",
    "    \n",
    "    \"Define a simple 2-D gaussian to generate noisy data\"\n",
    "    \n",
    "    x = z[:,0].reshape(-1,1)\n",
    "    y = z[:,1].reshape(-1,1)\n",
    "    return 1-np.exp(-((x-5)/10)**2)*np.exp(-((y-10)/10)**2)+0.1*np.random.uniform(size=(1000,1))#,loc=0,scale=1)\n",
    "\n",
    "\n",
    "# --- Generate our training data\n",
    "\n",
    "# Generate random x data from 0 to 15\n",
    "X_train = 15*np.random.uniform(size=(1000,2))\n",
    "# Generate noisy data from a 2D gaussian defined above\n",
    "y_train = generate_noisy_data_from_bivariate_gaussian(X_train)\n",
    "y_train = y_train.ravel()\n",
    "\n",
    "\n"
   ]
  },
  {
   "cell_type": "markdown",
   "metadata": {},
   "source": [
    "## Run the Optimisation"
   ]
  },
  {
   "cell_type": "code",
   "execution_count": null,
   "metadata": {},
   "outputs": [
    {
     "name": "stderr",
     "output_type": "stream",
     "text": [
      "INFO:root:Will perform 15 iterations\n",
      "INFO:root:Iteration 0\n"
     ]
    },
    {
     "name": "stdout",
     "output_type": "stream",
     "text": [
      "{'max_depth': 1, 'min_samples_leaf': 0.30000000000000004, 'n_estimators': 6}\n",
      "{'max_depth': 1, 'min_samples_leaf': 0.30000000000000004, 'n_estimators': 6} score: 0.41723610496860875\n",
      "{'max_depth': 5, 'min_samples_leaf': 0.38, 'n_estimators': 2}\n",
      "{'max_depth': 5, 'min_samples_leaf': 0.38, 'n_estimators': 2} score: -0.012146062392077406\n",
      "{'max_depth': 6, 'min_samples_leaf': 0.14, 'n_estimators': 10}\n",
      "{'max_depth': 6, 'min_samples_leaf': 0.14, 'n_estimators': 10} score: 0.7834652564818496\n",
      "{'max_depth': 8, 'min_samples_leaf': 0.4600000000000001, 'n_estimators': 17}\n",
      "{'max_depth': 8, 'min_samples_leaf': 0.4600000000000001, 'n_estimators': 17} score: -0.008378617416458178\n",
      "{'max_depth': 3, 'min_samples_leaf': 0.22000000000000003, 'n_estimators': 13}\n",
      "{'max_depth': 3, 'min_samples_leaf': 0.22000000000000003, 'n_estimators': 13} score: 0.5558271549605054\n",
      "next iteration\n",
      "res.x: [ 7.   0.4 16. ]\n",
      "res.x: [ 1.    0.32 18.  ]"
     ]
    },
    {
     "name": "stderr",
     "output_type": "stream",
     "text": [
      "INFO:root:Iteration 1\n",
      "INFO:root:Iteration 2\n"
     ]
    },
    {
     "name": "stdout",
     "output_type": "stream",
     "text": [
      "\n",
      "res.x: [8.   0.24 1.  ]\n",
      "res.x: [6.   0.16 3.  ]\n",
      "res.x: [ 5.    0.12 12.  ]\n",
      "res.x: [ 3.    0.48 14.  ]\n",
      "res.x: [4.   0.36 5.  ]\n",
      "res.x: [ 3.    0.28 10.  ]\n",
      "res.x: [2.  0.2 7. ]\n",
      "res.x: [7.   0.44 9.  ]\n",
      "X_next: [[ 7. ]\n",
      " [ 0.4]\n",
      " [16. ]]\n",
      "{'max_depth': 7, 'min_samples_leaf': 0.4, 'n_estimators': 16}\n",
      "{'max_depth': 7, 'min_samples_leaf': 0.4, 'n_estimators': 16} score: -0.008359711758322064\n",
      "current accuracy: -0.008359711758322064\n",
      "best accuracy: 0.7834652564818496\n",
      "next iteration\n",
      "res.x: [ 7.    0.44 10.  ]\n",
      "res.x: [7.   0.48 7.  ]\n",
      "res.x: [ 5.    0.24 16.  ]\n",
      "res.x: [3.   0.16 9.  ]\n",
      "res.x: [6.   0.28 5.  ]\n",
      "res.x: [ 2.    0.12 14.  ]\n",
      "res.x: [4.   0.32 3.  ]\n",
      "res.x: [ 1.   0.2 12. ]\n",
      "res.x: [ 3.    0.36 18.  ]\n",
      "res.x: [8.  0.4 1. ]\n",
      "X_next: [[3.  ]\n",
      " [0.16]\n",
      " [9.  ]]\n",
      "{'max_depth': 3, 'min_samples_leaf': 0.16000000000000003, 'n_estimators': 9}\n",
      "{'max_depth': 3, 'min_samples_leaf': 0.16000000000000003, 'n_estimators': 9} score: 0.7758889566588596\n",
      "current accuracy: 0.7758889566588596\n",
      "best accuracy: 0.7834652564818496\n",
      "next iteration\n",
      "res.x: [8.   0.24 3.  ]\n",
      "res.x: [2.  0.2 9. ]\n",
      "res.x: [ 7.    0.32 18.  ]\n",
      "res.x: [ 7.    0.44 14.  ]\n",
      "res.x: [ 3.    0.36 12.  ]\n",
      "res.x: [ 6.    0.12 16.  ]\n",
      "res.x: [4.   0.48 7.  ]\n",
      "res.x: [5.  0.4 1. ]\n",
      "res.x: [ 3.    0.28 10.  ]\n",
      "res.x: [1.   0.16 5.  ]\n",
      "X_next: [[ 3.  ]\n",
      " [ 0.28]\n",
      " [10.  ]]\n",
      "{'max_depth': 3, 'min_samples_leaf': 0.28, 'n_estimators': 10}\n"
     ]
    },
    {
     "name": "stderr",
     "output_type": "stream",
     "text": [
      "INFO:root:Iteration 3\n",
      "INFO:root:Iteration 4\n",
      "INFO:root:Iteration 5\n"
     ]
    },
    {
     "name": "stdout",
     "output_type": "stream",
     "text": [
      "{'max_depth': 3, 'min_samples_leaf': 0.28, 'n_estimators': 10} score: 0.46852619298481\n",
      "current accuracy: 0.46852619298481\n",
      "best accuracy: 0.7834652564818496\n",
      "next iteration\n",
      "res.x: [3.   0.12 1.  ]\n",
      "res.x: [ 6.    0.44 14.  ]\n",
      "res.x: [8.   0.48 7.  ]\n",
      "res.x: [ 1.   0.2 18. ]\n",
      "res.x: [ 7.    0.28 16.  ]\n",
      "res.x: [ 7.    0.16 12.  ]\n",
      "res.x: [ 3.    0.32 10.  ]\n",
      "res.x: [2.  0.4 5. ]\n",
      "res.x: [4.   0.36 3.  ]\n",
      "res.x: [5.   0.24 9.  ]\n",
      "X_next: [[ 3.  ]\n",
      " [ 0.32]\n",
      " [10.  ]]\n",
      "{'max_depth': 3, 'min_samples_leaf': 0.32000000000000006, 'n_estimators': 10}\n",
      "{'max_depth': 3, 'min_samples_leaf': 0.32000000000000006, 'n_estimators': 10} score: 0.11200043782181188\n",
      "current accuracy: 0.11200043782181188\n",
      "best accuracy: 0.7834652564818496\n",
      "next iteration\n",
      "res.x: [3.  0.4 7. ]\n",
      "res.x: [ 7.    0.48 10.  ]\n",
      "res.x: [5.   0.12 9.  ]\n",
      "res.x: [ 3.    0.44 14.  ]\n",
      "res.x: [1.  0.2 3. ]\n",
      "res.x: [ 2.    0.24 12.  ]\n",
      "res.x: [ 6.    0.36 16.  ]\n",
      "res.x: [8.   0.28 1.  ]\n",
      "res.x: [ 7.    0.16 18.  ]\n",
      "res.x: [4.   0.32 5.  ]\n",
      "X_next: [[5.  ]\n",
      " [0.12]\n",
      " [9.  ]]\n",
      "{'max_depth': 5, 'min_samples_leaf': 0.12000000000000001, 'n_estimators': 9}\n",
      "{'max_depth': 5, 'min_samples_leaf': 0.12000000000000001, 'n_estimators': 9} score: 0.7990162760853565\n",
      "current accuracy: 0.7990162760853565\n",
      "best accuracy: 0.7990162760853565\n",
      "next iteration\n",
      "res.x: [ 2.    0.28 18.  ]\n",
      "res.x: [7.   0.24 1.  ]\n",
      "res.x: [ 3.    0.16 10.  ]\n",
      "res.x: [7.  0.4 3. ]\n",
      "res.x: [ 5.   0.2 16. ]\n",
      "res.x: [ 8.    0.44 14.  ]\n",
      "res.x: [4.   0.12 7.  ]\n",
      "res.x: [ 6.    0.36 12.  ]\n",
      "res.x: [3.   0.32 9.  ]\n",
      "res.x: [1.   0.48 5.  ]\n",
      "X_next: [[ 3.  ]\n",
      " [ 0.16]\n",
      " [10.  ]]\n",
      "{'max_depth': 3, 'min_samples_leaf': 0.16000000000000003, 'n_estimators': 10}\n"
     ]
    },
    {
     "name": "stderr",
     "output_type": "stream",
     "text": [
      "INFO:root:Iteration 6\n",
      "INFO:root:Iteration 7\n",
      "INFO:root:Iteration 8\n"
     ]
    },
    {
     "name": "stdout",
     "output_type": "stream",
     "text": [
      "{'max_depth': 3, 'min_samples_leaf': 0.16000000000000003, 'n_estimators': 10} score: 0.7779499751645844\n",
      "current accuracy: 0.7779499751645844\n",
      "best accuracy: 0.7990162760853565\n",
      "next iteration\n",
      "res.x: [2.  0.4 3. ]\n",
      "res.x: [ 3.    0.28 18.  ]\n",
      "res.x: [ 7.    0.12 16.  ]\n",
      "res.x: [ 1.    0.36 10.  ]\n",
      "res.x: [ 7.    0.44 12.  ]\n",
      "res.x: [8.   0.24 9.  ]\n",
      "res.x: [3.   0.16 5.  ]\n",
      "res.x: [4.  0.2 1. ]\n",
      "res.x: [ 6.    0.32 14.  ]\n",
      "res.x: [5.   0.48 7.  ]\n",
      "X_next: [[ 1.  ]\n",
      " [ 0.36]\n",
      " [10.  ]]\n",
      "{'max_depth': 1, 'min_samples_leaf': 0.3600000000000001, 'n_estimators': 10}\n",
      "{'max_depth': 1, 'min_samples_leaf': 0.3600000000000001, 'n_estimators': 10} score: -0.009335740534074289\n",
      "current accuracy: -0.009335740534074289\n",
      "best accuracy: 0.7990162760853565\n",
      "next iteration\n",
      "res.x: [ 3.    0.44 12.  ]\n",
      "res.x: [4.   0.24 1.  ]\n",
      "res.x: [ 8.    0.36 10.  ]\n",
      "res.x: [7.   0.28 9.  ]\n",
      "res.x: [1.   0.48 3.  ]\n",
      "res.x: [ 3.    0.12 14.  ]\n",
      "res.x: [ 6.   0.4 16. ]\n",
      "res.x: [2.  0.2 7. ]\n",
      "res.x: [ 5.    0.16 18.  ]\n",
      "res.x: [7.   0.32 5.  ]\n",
      "X_next: [[ 3.  ]\n",
      " [ 0.44]\n",
      " [12.  ]]\n",
      "{'max_depth': 3, 'min_samples_leaf': 0.44000000000000006, 'n_estimators': 12}\n",
      "{'max_depth': 3, 'min_samples_leaf': 0.44000000000000006, 'n_estimators': 12} score: -0.008587570224572082\n",
      "current accuracy: -0.008587570224572082\n",
      "best accuracy: 0.7990162760853565\n",
      "next iteration\n",
      "res.x: [2.   0.28 7.  ]\n",
      "res.x: [ 7.   0.4 18. ]\n",
      "res.x: [8.   0.32 3.  ]\n",
      "res.x: [5.   0.16 5.  ]\n",
      "res.x: [ 4.    0.48 16.  ]\n",
      "res.x: [ 1.   0.2 14. ]\n",
      "res.x: [3.   0.36 1.  ]\n",
      "res.x: [ 6.    0.12 10.  ]\n",
      "res.x: [ 7.    0.24 12.  ]\n",
      "res.x: [3.   0.44 9.  ]\n",
      "X_next: [[3.  ]\n",
      " [0.44]\n",
      " [9.  ]]\n",
      "{'max_depth': 3, 'min_samples_leaf': 0.44000000000000006, 'n_estimators': 9}\n"
     ]
    },
    {
     "name": "stderr",
     "output_type": "stream",
     "text": [
      "INFO:root:Iteration 9\n"
     ]
    }
   ],
   "source": [
    "# --- Define our hyper parameter space as a dictionary. \n",
    "\n",
    "# Use the names of the hyper parameters as the keys\n",
    "# Values should be a list for discrete values and [lower_bound,upper_bound] for continuous\n",
    "hps = {\n",
    "    'n_estimators':range(1,20),\n",
    "    'max_depth':range(1,10),\n",
    "    'min_samples_leaf': [0.1,0.5]\n",
    "}\n",
    "\n",
    "# --- Run the Bayesian Optimisation Code\n",
    "\n",
    "BOout = BayesianOptimisation(\n",
    "    hps=hps,\n",
    "    MLmodel = RandomForestRegressor(random_state=42),\n",
    "    NpI = 5,\n",
    "    Niter = 15,\n",
    "    y_train = y_train,\n",
    "    X_train = X_train,\n",
    "    n_restarts = 10,\n",
    ")\n",
    "BOout.optimise()"
   ]
  },
  {
   "cell_type": "markdown",
   "metadata": {},
   "source": [
    "## Plot the Samples"
   ]
  },
  {
   "cell_type": "code",
   "execution_count": 7,
   "metadata": {},
   "outputs": [
    {
     "data": {
      "image/png": "[encoded data removed]",
      "text/plain": [
       "<Figure size 864x360 with 2 Axes>"
      ]
     },
     "metadata": {
      "needs_background": "light"
     },
     "output_type": "display_data"
    }
   ],
   "source": [
    "# --- Track the results with each iteration\n",
    "\n",
    "import matplotlib.pyplot as plt\n",
    "\n",
    "plt.figure(figsize=(12,5))\n",
    "plt.subplot(121)\n",
    "plt.plot(BOout.Xt,'.')\n",
    "plt.subplot(122)\n",
    "plt.plot(BOout.Yt,'.')\n",
    "\n",
    "plt.show()"
   ]
  },
  {
   "cell_type": "code",
   "execution_count": 9,
   "metadata": {},
   "outputs": [
    {
     "name": "stderr",
     "output_type": "stream",
     "text": [
      "/anaconda3/lib/python3.6/site-packages/sklearn/ensemble/forest.py:245: FutureWarning: The default value of n_estimators will change from 10 in version 0.20 to 100 in 0.22.\n",
      "  \"10 in version 0.20 to 100 in 0.22.\", FutureWarning)\n"
     ]
    },
    {
     "data": {
      "text/plain": [
       "0.7700969003203069"
      ]
     },
     "execution_count": 9,
     "metadata": {},
     "output_type": "execute_result"
    }
   ],
   "source": [
    "best_params = BOout.Xt[np.argmax(BOout.Yt)]\n",
    "RFr = RandomForestRegressor(\n",
    "    min_samples_leaf=best_params[0],\n",
    "    random_state=42\n",
    ").fit(X_train,y_train)\n",
    "np.mean(cross_val_score(RFr, X_train,y_train, cv=5))"
   ]
  },
  {
   "cell_type": "markdown",
   "metadata": {},
   "source": [
    "# Advanced User-defined Inputs\n",
    "## Providing your own scoring function"
   ]
  },
  {
   "cell_type": "markdown",
   "metadata": {},
   "source": [
    "### Example 1"
   ]
  },
  {
   "cell_type": "code",
   "execution_count": 17,
   "metadata": {},
   "outputs": [
    {
     "name": "stderr",
     "output_type": "stream",
     "text": [
      "/anaconda3/lib/python3.6/site-packages/sklearn/ensemble/forest.py:245: FutureWarning: The default value of n_estimators will change from 10 in version 0.20 to 100 in 0.22.\n",
      "  \"10 in version 0.20 to 100 in 0.22.\", FutureWarning)\n",
      "INFO:root:Will perform 95 iterations\n",
      "INFO:root:Iteration 0\n",
      "INFO:root:Iteration 1\n",
      "INFO:root:Iteration 2\n"
     ]
    },
    {
     "name": "stdout",
     "output_type": "stream",
     "text": [
      "{'min_samples_leaf': 0.30000000000000004} 0.4181731386486091\n",
      "{'min_samples_leaf': 0.38} -8.105585937734361e-05\n",
      "{'min_samples_leaf': 0.22000000000000003} 0.4813176890428952\n",
      "{'min_samples_leaf': 0.4600000000000001} -8.105585937734361e-05\n",
      "{'min_samples_leaf': 0.14} 0.7611842226514938\n",
      "{'min_samples_leaf': 0.4} -8.105585937734361e-05\n",
      "current accuracy: -8.105585937734361e-05\n",
      "best accuracy: 0.7611842226514938\n",
      "{'min_samples_leaf': 0.14676880525842798} 0.7589063976029433\n",
      "current accuracy: 0.7589063976029433\n",
      "best accuracy: 0.7611842226514938\n",
      "{'min_samples_leaf': 0.1442202864946111} 0.7590671038092716\n",
      "current accuracy: 0.7590671038092716\n",
      "best accuracy: 0.7611842226514938\n"
     ]
    },
    {
     "name": "stderr",
     "output_type": "stream",
     "text": [
      "INFO:root:Iteration 3\n",
      "INFO:root:Iteration 4\n",
      "INFO:root:Iteration 5\n",
      "INFO:root:Iteration 6\n"
     ]
    },
    {
     "name": "stdout",
     "output_type": "stream",
     "text": [
      "{'min_samples_leaf': 0.14307556726804202} 0.7597490697232373\n",
      "current accuracy: 0.7597490697232373\n",
      "best accuracy: 0.7611842226514938\n",
      "{'min_samples_leaf': 0.14242542002748845} 0.7604543509917512\n",
      "current accuracy: 0.7604543509917512\n",
      "best accuracy: 0.7611842226514938\n",
      "{'min_samples_leaf': 0.14200566982173699} 0.7604543509917512\n",
      "current accuracy: 0.7604543509917512\n",
      "best accuracy: 0.7611842226514938\n"
     ]
    },
    {
     "name": "stderr",
     "output_type": "stream",
     "text": [
      "INFO:root:Iteration 7\n",
      "INFO:root:Iteration 8\n"
     ]
    },
    {
     "name": "stdout",
     "output_type": "stream",
     "text": [
      "{'min_samples_leaf': 0.1417125772516667} 0.7607869359838187\n",
      "current accuracy: 0.7607869359838187\n",
      "best accuracy: 0.7611842226514938\n",
      "{'min_samples_leaf': 0.14149568721267625} 0.7607869359838187\n",
      "current accuracy: 0.7607869359838187\n",
      "best accuracy: 0.7611842226514938\n"
     ]
    },
    {
     "name": "stderr",
     "output_type": "stream",
     "text": [
      "INFO:root:Iteration 9\n",
      "INFO:root:Iteration 10\n",
      "INFO:root:Iteration 11\n"
     ]
    },
    {
     "name": "stdout",
     "output_type": "stream",
     "text": [
      "{'min_samples_leaf': 0.14132891255904148} 0.7607869359838187\n",
      "current accuracy: 0.7607869359838187\n",
      "best accuracy: 0.7611842226514938\n",
      "{'min_samples_leaf': 0.14119643126696085} 0.7607869359838187\n",
      "current accuracy: 0.7607869359838187\n",
      "best accuracy: 0.7611842226514938\n",
      "{'min_samples_leaf': 0.14108872148081825} 0.7607869359838187\n",
      "current accuracy: 0.7607869359838187\n",
      "best accuracy: 0.7611842226514938\n"
     ]
    },
    {
     "name": "stderr",
     "output_type": "stream",
     "text": [
      "INFO:root:Iteration 12\n",
      "INFO:root:Iteration 13\n",
      "INFO:root:Iteration 14\n",
      "INFO:root:Iteration 15\n"
     ]
    },
    {
     "name": "stdout",
     "output_type": "stream",
     "text": [
      "{'min_samples_leaf': 0.14099929424194693} 0.7611835084856301\n",
      "current accuracy: 0.7611835084856301\n",
      "best accuracy: 0.7611842226514938\n",
      "{'min_samples_leaf': 0.14092360866263884} 0.7611835084856301\n",
      "current accuracy: 0.7611835084856301\n",
      "best accuracy: 0.7611842226514938\n",
      "{'min_samples_leaf': 0.14085897899775773} 0.7611835084856301\n",
      "current accuracy: 0.7611835084856301\n",
      "best accuracy: 0.7611842226514938\n",
      "{'min_samples_leaf': 0.1408031519513505} 0.7611835084856301\n",
      "current accuracy: 0.7611835084856301\n",
      "best accuracy: 0.7611842226514938\n"
     ]
    },
    {
     "name": "stderr",
     "output_type": "stream",
     "text": [
      "INFO:root:Iteration 16\n",
      "INFO:root:Iteration 17\n",
      "INFO:root:Iteration 18\n"
     ]
    },
    {
     "name": "stdout",
     "output_type": "stream",
     "text": [
      "{'min_samples_leaf': 0.1407543332497428} 0.7611835084856301\n",
      "current accuracy: 0.7611835084856301\n",
      "best accuracy: 0.7611842226514938\n",
      "{'min_samples_leaf': 0.14071120120131744} 0.7611835084856301\n",
      "current accuracy: 0.7611835084856301\n",
      "best accuracy: 0.7611842226514938\n",
      "{'min_samples_leaf': 0.14067285736955257} 0.7611835084856301\n",
      "current accuracy: 0.7611835084856301\n",
      "best accuracy: 0.7611842226514938\n",
      "{'min_samples_leaf': 0.14063867058962976} 0.7611835084856301\n",
      "current accuracy: 0.7611835084856301\n",
      "best accuracy: 0.7611842226514938\n"
     ]
    },
    {
     "name": "stderr",
     "output_type": "stream",
     "text": [
      "INFO:root:Iteration 19\n",
      "INFO:root:Iteration 20\n",
      "INFO:root:Iteration 21\n",
      "INFO:root:Iteration 22\n"
     ]
    },
    {
     "name": "stdout",
     "output_type": "stream",
     "text": [
      "{'min_samples_leaf': 0.14060776632639085} 0.7611835084856301\n",
      "current accuracy: 0.7611835084856301\n",
      "best accuracy: 0.7611842226514938\n",
      "{'min_samples_leaf': 0.14057985790809274} 0.7611835084856301\n",
      "current accuracy: 0.7611835084856301\n",
      "best accuracy: 0.7611842226514938\n",
      "{'min_samples_leaf': 0.14055449079723217} 0.7611835084856301\n",
      "current accuracy: 0.7611835084856301\n",
      "best accuracy: 0.7611842226514938\n"
     ]
    },
    {
     "name": "stderr",
     "output_type": "stream",
     "text": [
      "INFO:root:Iteration 23\n",
      "INFO:root:Iteration 24\n",
      "INFO:root:Iteration 25\n"
     ]
    },
    {
     "name": "stdout",
     "output_type": "stream",
     "text": [
      "{'min_samples_leaf': 0.14053128982983545} 0.7611835084856301\n",
      "current accuracy: 0.7611835084856301\n",
      "best accuracy: 0.7611842226514938\n",
      "{'min_samples_leaf': 0.14051010495152558} 0.7611835084856301\n",
      "current accuracy: 0.7611835084856301\n",
      "best accuracy: 0.7611842226514938\n",
      "{'min_samples_leaf': 0.1404905611857767} 0.7611835084856301\n",
      "current accuracy: 0.7611835084856301\n",
      "best accuracy: 0.7611842226514938\n",
      "{'min_samples_leaf': 0.1404724096695227} 0.7611835084856301\n",
      "current accuracy: 0.7611835084856301\n",
      "best accuracy: 0.7611842226514938\n"
     ]
    },
    {
     "name": "stderr",
     "output_type": "stream",
     "text": [
      "INFO:root:Iteration 26\n",
      "INFO:root:Iteration 27\n",
      "INFO:root:Iteration 28\n",
      "INFO:root:Iteration 29\n"
     ]
    },
    {
     "name": "stdout",
     "output_type": "stream",
     "text": [
      "{'min_samples_leaf': 0.1404556179313688} 0.7611835084856301\n",
      "current accuracy: 0.7611835084856301\n",
      "best accuracy: 0.7611842226514938\n",
      "{'min_samples_leaf': 0.14043995732761455} 0.7611835084856301\n",
      "current accuracy: 0.7611835084856301\n",
      "best accuracy: 0.7611842226514938\n",
      "{'min_samples_leaf': 0.14042563839242567} 0.7611835084856301\n",
      "current accuracy: 0.7611835084856301\n",
      "best accuracy: 0.7611842226514938\n"
     ]
    },
    {
     "name": "stderr",
     "output_type": "stream",
     "text": [
      "INFO:root:Iteration 30\n",
      "INFO:root:Iteration 31\n",
      "INFO:root:Iteration 32\n"
     ]
    },
    {
     "name": "stdout",
     "output_type": "stream",
     "text": [
      "{'min_samples_leaf': 0.14041200847264937} 0.7611835084856301\n",
      "current accuracy: 0.7611835084856301\n",
      "best accuracy: 0.7611842226514938\n",
      "{'min_samples_leaf': 0.1403993849429238} 0.7611835084856301\n",
      "current accuracy: 0.7611835084856301\n",
      "best accuracy: 0.7611842226514938\n",
      "{'min_samples_leaf': 0.14038740317023307} 0.7611835084856301\n",
      "current accuracy: 0.7611835084856301\n",
      "best accuracy: 0.7611842226514938\n"
     ]
    },
    {
     "name": "stderr",
     "output_type": "stream",
     "text": [
      "INFO:root:Iteration 33\n",
      "INFO:root:Iteration 34\n",
      "INFO:root:Iteration 35\n"
     ]
    },
    {
     "name": "stdout",
     "output_type": "stream",
     "text": [
      "{'min_samples_leaf': 0.14037627786651008} 0.7611835084856301\n",
      "current accuracy: 0.7611835084856301\n",
      "best accuracy: 0.7611842226514938\n",
      "{'min_samples_leaf': 0.14036550942629109} 0.7611835084856301\n",
      "current accuracy: 0.7611835084856301\n",
      "best accuracy: 0.7611842226514938\n",
      "{'min_samples_leaf': 0.14035589881775437} 0.7611835084856301\n",
      "current accuracy: 0.7611835084856301\n",
      "best accuracy: 0.7611842226514938\n"
     ]
    },
    {
     "name": "stderr",
     "output_type": "stream",
     "text": [
      "INFO:root:Iteration 36\n",
      "INFO:root:Iteration 37\n",
      "INFO:root:Iteration 38\n"
     ]
    },
    {
     "name": "stdout",
     "output_type": "stream",
     "text": [
      "{'min_samples_leaf': 0.14034648840034813} 0.7611835084856301\n",
      "current accuracy: 0.7611835084856301\n",
      "best accuracy: 0.7611842226514938\n",
      "{'min_samples_leaf': 0.14033753716203082} 0.7611835084856301\n",
      "current accuracy: 0.7611835084856301\n",
      "best accuracy: 0.7611842226514938\n",
      "{'min_samples_leaf': 0.1403291023332784} 0.7611835084856301\n",
      "current accuracy: 0.7611835084856301\n",
      "best accuracy: 0.7611842226514938\n"
     ]
    },
    {
     "name": "stderr",
     "output_type": "stream",
     "text": [
      "INFO:root:Iteration 39\n",
      "INFO:root:Iteration 40\n",
      "INFO:root:Iteration 41\n"
     ]
    },
    {
     "name": "stdout",
     "output_type": "stream",
     "text": [
      "{'min_samples_leaf': 0.14032085206103145} 0.7611835084856301\n",
      "current accuracy: 0.7611835084856301\n",
      "best accuracy: 0.7611842226514938\n",
      "{'min_samples_leaf': 0.14031338525273238} 0.7611835084856301\n",
      "current accuracy: 0.7611835084856301\n",
      "best accuracy: 0.7611842226514938\n",
      "{'min_samples_leaf': 0.14030603594236357} 0.7611835084856301\n",
      "current accuracy: 0.7611835084856301\n",
      "best accuracy: 0.7611842226514938\n"
     ]
    },
    {
     "name": "stderr",
     "output_type": "stream",
     "text": [
      "INFO:root:Iteration 42\n",
      "INFO:root:Iteration 43\n",
      "INFO:root:Iteration 44\n"
     ]
    },
    {
     "name": "stdout",
     "output_type": "stream",
     "text": [
      "{'min_samples_leaf': 0.14029938312689133} 0.7611835084856301\n",
      "current accuracy: 0.7611835084856301\n",
      "best accuracy: 0.7611842226514938\n",
      "{'min_samples_leaf': 0.1402924496339035} 0.7611835084856301\n",
      "current accuracy: 0.7611835084856301\n",
      "best accuracy: 0.7611842226514938\n",
      "{'min_samples_leaf': 0.14028629847846752} 0.7611835084856301\n",
      "current accuracy: 0.7611835084856301\n",
      "best accuracy: 0.7611842226514938\n"
     ]
    },
    {
     "name": "stderr",
     "output_type": "stream",
     "text": [
      "INFO:root:Iteration 45\n",
      "INFO:root:Iteration 46\n",
      "INFO:root:Iteration 47\n"
     ]
    },
    {
     "name": "stdout",
     "output_type": "stream",
     "text": [
      "{'min_samples_leaf': 0.14028033255305145} 0.7611835084856301\n",
      "current accuracy: 0.7611835084856301\n",
      "best accuracy: 0.7611842226514938\n",
      "{'min_samples_leaf': 0.1402745252455713} 0.7611835084856301\n",
      "current accuracy: 0.7611835084856301\n",
      "best accuracy: 0.7611842226514938\n",
      "{'min_samples_leaf': 0.14026910774852333} 0.7611835084856301\n",
      "current accuracy: 0.7611835084856301\n",
      "best accuracy: 0.7611842226514938\n"
     ]
    },
    {
     "name": "stderr",
     "output_type": "stream",
     "text": [
      "INFO:root:Iteration 48\n",
      "INFO:root:Iteration 49\n",
      "INFO:root:Iteration 50\n"
     ]
    },
    {
     "name": "stdout",
     "output_type": "stream",
     "text": [
      "{'min_samples_leaf': 0.14026364929281676} 0.7611835084856301\n",
      "current accuracy: 0.7611835084856301\n",
      "best accuracy: 0.7611842226514938\n",
      "{'min_samples_leaf': 0.14025876757583508} 0.7611835084856301\n",
      "current accuracy: 0.7611835084856301\n",
      "best accuracy: 0.7611842226514938\n",
      "{'min_samples_leaf': 0.1402536159248811} 0.7611835084856301\n",
      "current accuracy: 0.7611835084856301\n",
      "best accuracy: 0.7611842226514938\n"
     ]
    },
    {
     "name": "stderr",
     "output_type": "stream",
     "text": [
      "INFO:root:Iteration 51\n",
      "INFO:root:Iteration 52\n"
     ]
    },
    {
     "name": "stdout",
     "output_type": "stream",
     "text": [
      "{'min_samples_leaf': 0.1402489461301869} 0.7611835084856301\n",
      "current accuracy: 0.7611835084856301\n",
      "best accuracy: 0.7611842226514938\n",
      "{'min_samples_leaf': 0.1402444858970068} 0.7611835084856301\n",
      "current accuracy: 0.7611835084856301\n",
      "best accuracy: 0.7611842226514938\n"
     ]
    },
    {
     "name": "stderr",
     "output_type": "stream",
     "text": [
      "INFO:root:Iteration 53\n",
      "INFO:root:Iteration 54\n",
      "INFO:root:Iteration 55\n"
     ]
    },
    {
     "name": "stdout",
     "output_type": "stream",
     "text": [
      "{'min_samples_leaf': 0.14024006546215845} 0.7611835084856301\n",
      "current accuracy: 0.7611835084856301\n",
      "best accuracy: 0.7611842226514938\n",
      "{'min_samples_leaf': 0.14023600462907518} 0.7611835084856301\n",
      "current accuracy: 0.7611835084856301\n",
      "best accuracy: 0.7611842226514938\n",
      "{'min_samples_leaf': 0.14023199978332873} 0.7611835084856301\n",
      "current accuracy: 0.7611835084856301\n",
      "best accuracy: 0.7611842226514938\n"
     ]
    },
    {
     "name": "stderr",
     "output_type": "stream",
     "text": [
      "INFO:root:Iteration 56\n",
      "INFO:root:Iteration 57\n"
     ]
    },
    {
     "name": "stdout",
     "output_type": "stream",
     "text": [
      "{'min_samples_leaf': 0.1402278733678531} 0.7611835084856301\n",
      "current accuracy: 0.7611835084856301\n",
      "best accuracy: 0.7611842226514938\n",
      "{'min_samples_leaf': 0.1402241748526217} 0.7611835084856301\n",
      "current accuracy: 0.7611835084856301\n",
      "best accuracy: 0.7611842226514938\n",
      "{'min_samples_leaf': 0.1402205584899098} 0.7611835084856301\n",
      "current accuracy: 0.7611835084856301\n",
      "best accuracy: 0.7611842226514938\n"
     ]
    },
    {
     "name": "stderr",
     "output_type": "stream",
     "text": [
      "INFO:root:Iteration 58\n",
      "INFO:root:Iteration 59\n",
      "INFO:root:Iteration 60\n"
     ]
    },
    {
     "name": "stdout",
     "output_type": "stream",
     "text": [
      "{'min_samples_leaf': 0.14021709685717282} 0.7611835084856301\n",
      "current accuracy: 0.7611835084856301\n",
      "best accuracy: 0.7611842226514938\n",
      "{'min_samples_leaf': 0.14021353913847254} 0.7611835084856301\n",
      "current accuracy: 0.7611835084856301\n",
      "best accuracy: 0.7611842226514938\n"
     ]
    },
    {
     "name": "stderr",
     "output_type": "stream",
     "text": [
      "INFO:root:Iteration 61\n",
      "INFO:root:Iteration 62\n"
     ]
    },
    {
     "name": "stdout",
     "output_type": "stream",
     "text": [
      "{'min_samples_leaf': 0.1402102828729545} 0.7611835084856301\n",
      "current accuracy: 0.7611835084856301\n",
      "best accuracy: 0.7611842226514938\n",
      "{'min_samples_leaf': 0.14020705702148734} 0.7611835084856301\n",
      "current accuracy: 0.7611835084856301\n",
      "best accuracy: 0.7611842226514938\n",
      "{'min_samples_leaf': 0.14020409887666727} 0.7611835084856301\n",
      "current accuracy: 0.7611835084856301\n",
      "best accuracy: 0.7611842226514938\n"
     ]
    },
    {
     "name": "stderr",
     "output_type": "stream",
     "text": [
      "INFO:root:Iteration 63\n",
      "INFO:root:Iteration 64\n",
      "INFO:root:Iteration 65\n"
     ]
    },
    {
     "name": "stdout",
     "output_type": "stream",
     "text": [
      "{'min_samples_leaf': 0.140200811995052} 0.7611835084856301\n",
      "current accuracy: 0.7611835084856301\n",
      "best accuracy: 0.7611842226514938\n",
      "{'min_samples_leaf': 0.1401979703581946} 0.7611835084856301\n",
      "current accuracy: 0.7611835084856301\n",
      "best accuracy: 0.7611842226514938\n"
     ]
    },
    {
     "name": "stderr",
     "output_type": "stream",
     "text": [
      "INFO:root:Iteration 66\n",
      "INFO:root:Iteration 67\n"
     ]
    },
    {
     "name": "stdout",
     "output_type": "stream",
     "text": [
      "{'min_samples_leaf': 0.14019513811052936} 0.7611835084856301\n",
      "current accuracy: 0.7611835084856301\n",
      "best accuracy: 0.7611842226514938\n",
      "{'min_samples_leaf': 0.14019249281282836} 0.7611835084856301\n",
      "current accuracy: 0.7611835084856301\n",
      "best accuracy: 0.7611842226514938\n"
     ]
    },
    {
     "name": "stderr",
     "output_type": "stream",
     "text": [
      "INFO:root:Iteration 68\n",
      "INFO:root:Iteration 69\n"
     ]
    },
    {
     "name": "stdout",
     "output_type": "stream",
     "text": [
      "{'min_samples_leaf': 0.14018987229816302} 0.7611835084856301\n",
      "current accuracy: 0.7611835084856301\n",
      "best accuracy: 0.7611842226514938\n",
      "{'min_samples_leaf': 0.14018711037668993} 0.7611835084856301\n",
      "current accuracy: 0.7611835084856301\n",
      "best accuracy: 0.7611842226514938\n"
     ]
    },
    {
     "name": "stderr",
     "output_type": "stream",
     "text": [
      "INFO:root:Iteration 70\n",
      "INFO:root:Iteration 71\n"
     ]
    },
    {
     "name": "stdout",
     "output_type": "stream",
     "text": [
      "{'min_samples_leaf': 0.14018491213617315} 0.7611835084856301\n",
      "current accuracy: 0.7611835084856301\n",
      "best accuracy: 0.7611842226514938\n",
      "{'min_samples_leaf': 0.14018226863050987} 0.7611835084856301\n",
      "current accuracy: 0.7611835084856301\n",
      "best accuracy: 0.7611842226514938\n"
     ]
    },
    {
     "name": "stderr",
     "output_type": "stream",
     "text": [
      "INFO:root:Iteration 72\n",
      "INFO:root:Iteration 73\n"
     ]
    },
    {
     "name": "stdout",
     "output_type": "stream",
     "text": [
      "{'min_samples_leaf': 0.14017968138006723} 0.7611835084856301\n",
      "current accuracy: 0.7611835084856301\n",
      "best accuracy: 0.7611842226514938\n",
      "{'min_samples_leaf': 0.14017751024685635} 0.7611835084856301\n",
      "current accuracy: 0.7611835084856301\n",
      "best accuracy: 0.7611842226514938\n"
     ]
    },
    {
     "name": "stderr",
     "output_type": "stream",
     "text": [
      "INFO:root:Iteration 74\n",
      "INFO:root:Iteration 75\n"
     ]
    },
    {
     "name": "stdout",
     "output_type": "stream",
     "text": [
      "{'min_samples_leaf': 0.1401751993004472} 0.7611835084856301\n",
      "current accuracy: 0.7611835084856301\n",
      "best accuracy: 0.7611842226514938\n",
      "{'min_samples_leaf': 0.14017282179206617} 0.7611835084856301\n",
      "current accuracy: 0.7611835084856301\n",
      "best accuracy: 0.7611842226514938\n",
      "{'min_samples_leaf': 0.14017094771109084} 0.7611835084856301\n",
      "current accuracy: 0.7611835084856301\n",
      "best accuracy: 0.7611842226514938\n"
     ]
    },
    {
     "name": "stderr",
     "output_type": "stream",
     "text": [
      "INFO:root:Iteration 76\n",
      "INFO:root:Iteration 77\n",
      "INFO:root:Iteration 78\n"
     ]
    },
    {
     "name": "stdout",
     "output_type": "stream",
     "text": [
      "{'min_samples_leaf': 0.1401688487805507} 0.7611835084856301\n",
      "current accuracy: 0.7611835084856301\n",
      "best accuracy: 0.7611842226514938\n",
      "{'min_samples_leaf': 0.14016671070069836} 0.7611835084856301\n",
      "current accuracy: 0.7611835084856301\n",
      "best accuracy: 0.7611842226514938\n"
     ]
    },
    {
     "name": "stderr",
     "output_type": "stream",
     "text": [
      "INFO:root:Iteration 79\n",
      "INFO:root:Iteration 80\n"
     ]
    },
    {
     "name": "stdout",
     "output_type": "stream",
     "text": [
      "{'min_samples_leaf': 0.14016494849988403} 0.7611835084856301\n",
      "current accuracy: 0.7611835084856301\n",
      "best accuracy: 0.7611842226514938\n",
      "{'min_samples_leaf': 0.14016276322262816} 0.7611835084856301\n",
      "current accuracy: 0.7611835084856301\n",
      "best accuracy: 0.7611842226514938\n"
     ]
    },
    {
     "name": "stderr",
     "output_type": "stream",
     "text": [
      "INFO:root:Iteration 81\n",
      "INFO:root:Iteration 82\n"
     ]
    },
    {
     "name": "stdout",
     "output_type": "stream",
     "text": [
      "{'min_samples_leaf': 0.14016098507581787} 0.7611835084856301\n",
      "current accuracy: 0.7611835084856301\n",
      "best accuracy: 0.7611842226514938\n",
      "{'min_samples_leaf': 0.1401588426706058} 0.7611835084856301\n",
      "current accuracy: 0.7611835084856301\n",
      "best accuracy: 0.7611842226514938\n"
     ]
    },
    {
     "name": "stderr",
     "output_type": "stream",
     "text": [
      "INFO:root:Iteration 83\n",
      "INFO:root:Iteration 84\n",
      "INFO:root:Iteration 85\n"
     ]
    },
    {
     "name": "stdout",
     "output_type": "stream",
     "text": [
      "{'min_samples_leaf': 0.14015729151926518} 0.7611835084856301\n",
      "current accuracy: 0.7611835084856301\n",
      "best accuracy: 0.7611842226514938\n",
      "{'min_samples_leaf': 0.14015532533530606} 0.7611835084856301\n",
      "current accuracy: 0.7611835084856301\n",
      "best accuracy: 0.7611842226514938\n",
      "{'min_samples_leaf': 0.1401537049403796} 0.7611835084856301\n",
      "current accuracy: 0.7611835084856301\n",
      "best accuracy: 0.7611842226514938\n"
     ]
    },
    {
     "name": "stderr",
     "output_type": "stream",
     "text": [
      "INFO:root:Iteration 86\n",
      "INFO:root:Iteration 87\n"
     ]
    },
    {
     "name": "stdout",
     "output_type": "stream",
     "text": [
      "{'min_samples_leaf': 0.1401522295921708} 0.7611835084856301\n",
      "current accuracy: 0.7611835084856301\n",
      "best accuracy: 0.7611842226514938\n",
      "{'min_samples_leaf': 0.14015045751160662} 0.7611835084856301\n",
      "current accuracy: 0.7611835084856301\n",
      "best accuracy: 0.7611842226514938\n",
      "{'min_samples_leaf': 0.14014873707534556} 0.7611835084856301\n",
      "current accuracy: 0.7611835084856301\n",
      "best accuracy: 0.7611842226514938\n"
     ]
    },
    {
     "name": "stderr",
     "output_type": "stream",
     "text": [
      "INFO:root:Iteration 88\n",
      "INFO:root:Iteration 89\n",
      "INFO:root:Iteration 90\n"
     ]
    },
    {
     "name": "stdout",
     "output_type": "stream",
     "text": [
      "{'min_samples_leaf': 0.14014730765769765} 0.7611835084856301\n",
      "current accuracy: 0.7611835084856301\n",
      "best accuracy: 0.7611842226514938\n",
      "{'min_samples_leaf': 0.14014600730739502} 0.7611835084856301\n",
      "current accuracy: 0.7611835084856301\n",
      "best accuracy: 0.7611842226514938\n"
     ]
    },
    {
     "name": "stderr",
     "output_type": "stream",
     "text": [
      "INFO:root:Iteration 91\n",
      "INFO:root:Iteration 92\n"
     ]
    },
    {
     "name": "stdout",
     "output_type": "stream",
     "text": [
      "{'min_samples_leaf': 0.14014421444238667} 0.7611835084856301\n",
      "current accuracy: 0.7611835084856301\n",
      "best accuracy: 0.7611842226514938\n",
      "{'min_samples_leaf': 0.1401430023804491} 0.7611835084856301\n",
      "current accuracy: 0.7611835084856301\n",
      "best accuracy: 0.7611842226514938\n",
      "{'min_samples_leaf': 0.14014132111006006} 0.7611835084856301\n",
      "current accuracy: 0.7611835084856301\n",
      "best accuracy: 0.7611842226514938\n"
     ]
    },
    {
     "name": "stderr",
     "output_type": "stream",
     "text": [
      "INFO:root:Iteration 93\n",
      "INFO:root:Iteration 94\n",
      "INFO:root:Best result 0.7611842226514938: Params: [0.14]\n",
      "INFO:root:Best result 0.7611842226514938: Params: {'bootstrap': 0.14}\n"
     ]
    },
    {
     "name": "stdout",
     "output_type": "stream",
     "text": [
      "{'min_samples_leaf': 0.14013985799698817} 0.7611835084856301\n",
      "current accuracy: 0.7611835084856301\n",
      "best accuracy: 0.7611842226514938\n",
      "{'min_samples_leaf': 0.14013854704119993} 0.7611835084856301\n",
      "current accuracy: 0.7611835084856301\n",
      "best accuracy: 0.7611842226514938\n"
     ]
    }
   ],
   "source": [
    "# --- Define our hyper parameter space as a dictionary. \n",
    "\n",
    "# Use the names of the hyper parameters as the keys\n",
    "# Values should be a list for discrete values and [lower_bound,upper_bound] for continuous\n",
    "# hps = {\n",
    "#     'n_estimators':range(1,10),\n",
    "#     'max_depth':range(1,10)\n",
    "# }\n",
    "\n",
    "hps = {'min_samples_leaf':[0.1,0.5]}\n",
    "\n",
    "# --- Run the Bayesian Optimisation Code\n",
    "MLmodel = RandomForestRegressor(random_state=42)\n",
    "\n",
    "def my_scoring_function(X_train, y_train):\n",
    "    return MLmodel.score(X_train, y_train)\n",
    "\n",
    "BOout = BayesianOptimisation(\n",
    "    hps=hps,\n",
    "    MLmodel = MLmodel,\n",
    "    scoring_function = my_scoring_function,\n",
    "    NpI = 5,\n",
    "    Niter = 95,\n",
    "    y_train = y_train,\n",
    "    X_train = X_train,\n",
    "    n_restarts = 10,\n",
    ").optimise()"
   ]
  },
  {
   "cell_type": "markdown",
   "metadata": {},
   "source": [
    "### Example 2"
   ]
  },
  {
   "cell_type": "code",
   "execution_count": null,
   "metadata": {},
   "outputs": [
    {
     "name": "stderr",
     "output_type": "stream",
     "text": [
      "/anaconda3/lib/python3.6/site-packages/sklearn/ensemble/forest.py:245: FutureWarning: The default value of n_estimators will change from 10 in version 0.20 to 100 in 0.22.\n",
      "  \"10 in version 0.20 to 100 in 0.22.\", FutureWarning)\n",
      "INFO:root:Will perform 95 iterations\n",
      "INFO:root:Iteration 0\n",
      "INFO:root:Iteration 1\n",
      "INFO:root:Iteration 2\n"
     ]
    },
    {
     "name": "stdout",
     "output_type": "stream",
     "text": [
      "{'min_samples_leaf': 0.22000000000000003} 0.4813176890428952\n",
      "{'min_samples_leaf': 0.14} 0.7611842226514938\n",
      "{'min_samples_leaf': 0.4600000000000001} -8.105585937734361e-05\n",
      "{'min_samples_leaf': 0.30000000000000004} 0.4181731386486091\n",
      "{'min_samples_leaf': 0.38} -8.105585937734361e-05\n",
      "{'min_samples_leaf': 0.16000000000000003} 0.7506234076621161\n",
      "current accuracy: 0.7506234076621161\n",
      "best accuracy: 0.7611842226514938\n",
      "{'min_samples_leaf': 0.14500071901704767} 0.758548068733668\n",
      "current accuracy: 0.758548068733668\n",
      "best accuracy: 0.7611842226514938\n"
     ]
    },
    {
     "name": "stderr",
     "output_type": "stream",
     "text": [
      "INFO:root:Iteration 3\n",
      "INFO:root:Iteration 4\n",
      "INFO:root:Iteration 5\n"
     ]
    },
    {
     "name": "stdout",
     "output_type": "stream",
     "text": [
      "{'min_samples_leaf': 0.14359800654588614} 0.7597490697232373\n",
      "current accuracy: 0.7597490697232373\n",
      "best accuracy: 0.7611842226514938\n",
      "{'min_samples_leaf': 0.14281551301451326} 0.7604543509917512\n",
      "current accuracy: 0.7604543509917512\n",
      "best accuracy: 0.7611842226514938\n",
      "{'min_samples_leaf': 0.1423166685308091} 0.7604543509917512\n",
      "current accuracy: 0.7604543509917512\n",
      "best accuracy: 0.7611842226514938\n",
      "{'min_samples_leaf': 0.14197114286162132} 0.7607869359838187\n",
      "current accuracy: 0.7607869359838187\n",
      "best accuracy: 0.7611842226514938\n"
     ]
    },
    {
     "name": "stderr",
     "output_type": "stream",
     "text": [
      "INFO:root:Iteration 6\n",
      "INFO:root:Iteration 7\n",
      "INFO:root:Iteration 8\n",
      "INFO:root:Iteration 9\n"
     ]
    },
    {
     "name": "stdout",
     "output_type": "stream",
     "text": [
      "{'min_samples_leaf': 0.141717220259729} 0.7607869359838187\n",
      "current accuracy: 0.7607869359838187\n",
      "best accuracy: 0.7611842226514938\n",
      "{'min_samples_leaf': 0.1415226278231482} 0.7607869359838187\n",
      "current accuracy: 0.7607869359838187\n",
      "best accuracy: 0.7611842226514938\n",
      "{'min_samples_leaf': 0.1413687435551261} 0.7607869359838187\n",
      "current accuracy: 0.7607869359838187\n",
      "best accuracy: 0.7611842226514938\n"
     ]
    },
    {
     "name": "stderr",
     "output_type": "stream",
     "text": [
      "INFO:root:Iteration 10\n",
      "INFO:root:Iteration 11\n",
      "INFO:root:Iteration 12\n"
     ]
    },
    {
     "name": "stdout",
     "output_type": "stream",
     "text": [
      "{'min_samples_leaf': 0.14124389354935635} 0.7607869359838187\n",
      "current accuracy: 0.7607869359838187\n",
      "best accuracy: 0.7611842226514938\n",
      "{'min_samples_leaf': 0.14114050141384749} 0.7607869359838187\n",
      "current accuracy: 0.7607869359838187\n",
      "best accuracy: 0.7611842226514938\n",
      "{'min_samples_leaf': 0.14105347788853914} 0.7607869359838187\n",
      "current accuracy: 0.7607869359838187\n",
      "best accuracy: 0.7611842226514938\n"
     ]
    },
    {
     "name": "stderr",
     "output_type": "stream",
     "text": [
      "INFO:root:Iteration 13\n",
      "INFO:root:Iteration 14\n"
     ]
    },
    {
     "name": "stdout",
     "output_type": "stream",
     "text": [
      "{'min_samples_leaf': 0.14097910774705696} 0.7611835084856301\n",
      "current accuracy: 0.7611835084856301\n",
      "best accuracy: 0.7611842226514938\n",
      "{'min_samples_leaf': 0.14091472897980928} 0.7611835084856301\n",
      "current accuracy: 0.7611835084856301\n",
      "best accuracy: 0.7611842226514938\n",
      "{'min_samples_leaf': 0.1408586094476931} 0.7611835084856301\n",
      "current accuracy: 0.7611835084856301\n",
      "best accuracy: 0.7611842226514938\n"
     ]
    },
    {
     "name": "stderr",
     "output_type": "stream",
     "text": [
      "INFO:root:Iteration 15\n",
      "INFO:root:Iteration 16\n",
      "INFO:root:Iteration 17\n",
      "INFO:root:Iteration 18\n"
     ]
    },
    {
     "name": "stdout",
     "output_type": "stream",
     "text": [
      "{'min_samples_leaf': 0.14080913192964453} 0.7611835084856301\n",
      "current accuracy: 0.7611835084856301\n",
      "best accuracy: 0.7611842226514938\n",
      "{'min_samples_leaf': 0.1407652305916371} 0.7611835084856301\n",
      "current accuracy: 0.7611835084856301\n",
      "best accuracy: 0.7611842226514938\n",
      "{'min_samples_leaf': 0.14072592861226316} 0.7611835084856301\n",
      "current accuracy: 0.7611835084856301\n",
      "best accuracy: 0.7611842226514938\n"
     ]
    },
    {
     "name": "stderr",
     "output_type": "stream",
     "text": [
      "INFO:root:Iteration 19\n",
      "INFO:root:Iteration 20\n",
      "INFO:root:Iteration 21\n"
     ]
    },
    {
     "name": "stdout",
     "output_type": "stream",
     "text": [
      "{'min_samples_leaf': 0.1406906148518981} 0.7611835084856301\n",
      "current accuracy: 0.7611835084856301\n",
      "best accuracy: 0.7611842226514938\n",
      "{'min_samples_leaf': 0.1406587097872982} 0.7611835084856301\n",
      "current accuracy: 0.7611835084856301\n",
      "best accuracy: 0.7611842226514938\n",
      "{'min_samples_leaf': 0.1406297208136269} 0.7611835084856301\n",
      "current accuracy: 0.7611835084856301\n",
      "best accuracy: 0.7611842226514938\n"
     ]
    },
    {
     "name": "stderr",
     "output_type": "stream",
     "text": [
      "INFO:root:Iteration 22\n",
      "INFO:root:Iteration 23\n",
      "INFO:root:Iteration 24\n"
     ]
    },
    {
     "name": "stdout",
     "output_type": "stream",
     "text": [
      "{'min_samples_leaf': 0.1406032882885509} 0.7611835084856301\n",
      "current accuracy: 0.7611835084856301\n",
      "best accuracy: 0.7611842226514938\n",
      "{'min_samples_leaf': 0.14057893927770826} 0.7611835084856301\n",
      "current accuracy: 0.7611835084856301\n",
      "best accuracy: 0.7611842226514938\n",
      "{'min_samples_leaf': 0.14055663146242953} 0.7611835084856301\n",
      "current accuracy: 0.7611835084856301\n",
      "best accuracy: 0.7611842226514938\n"
     ]
    },
    {
     "name": "stderr",
     "output_type": "stream",
     "text": [
      "INFO:root:Iteration 25\n",
      "INFO:root:Iteration 26\n",
      "INFO:root:Iteration 27\n"
     ]
    },
    {
     "name": "stdout",
     "output_type": "stream",
     "text": [
      "{'min_samples_leaf': 0.14053592379649466} 0.7611835084856301\n",
      "current accuracy: 0.7611835084856301\n",
      "best accuracy: 0.7611842226514938\n",
      "{'min_samples_leaf': 0.1405169350284069} 0.7611835084856301\n",
      "current accuracy: 0.7611835084856301\n",
      "best accuracy: 0.7611842226514938\n",
      "{'min_samples_leaf': 0.14049921494078055} 0.7611835084856301\n",
      "current accuracy: 0.7611835084856301\n",
      "best accuracy: 0.7611842226514938\n"
     ]
    },
    {
     "name": "stderr",
     "output_type": "stream",
     "text": [
      "INFO:root:Iteration 28\n",
      "INFO:root:Iteration 29\n",
      "INFO:root:Iteration 30\n"
     ]
    },
    {
     "name": "stdout",
     "output_type": "stream",
     "text": [
      "{'min_samples_leaf': 0.14048271698603643} 0.7611835084856301\n",
      "current accuracy: 0.7611835084856301\n",
      "best accuracy: 0.7611842226514938\n",
      "{'min_samples_leaf': 0.140467070884656} 0.7611835084856301\n",
      "current accuracy: 0.7611835084856301\n",
      "best accuracy: 0.7611842226514938\n",
      "{'min_samples_leaf': 0.14045270548183333} 0.7611835084856301\n",
      "current accuracy: 0.7611835084856301\n",
      "best accuracy: 0.7611842226514938\n"
     ]
    },
    {
     "name": "stderr",
     "output_type": "stream",
     "text": [
      "INFO:root:Iteration 31\n",
      "INFO:root:Iteration 32\n",
      "INFO:root:Iteration 33\n"
     ]
    },
    {
     "name": "stdout",
     "output_type": "stream",
     "text": [
      "{'min_samples_leaf': 0.14043920429979037} 0.7611835084856301\n",
      "current accuracy: 0.7611835084856301\n",
      "best accuracy: 0.7611842226514938\n",
      "{'min_samples_leaf': 0.14042662126576239} 0.7611835084856301\n",
      "current accuracy: 0.7611835084856301\n",
      "best accuracy: 0.7611842226514938\n",
      "{'min_samples_leaf': 0.1404145191303343} 0.7611835084856301\n",
      "current accuracy: 0.7611835084856301\n",
      "best accuracy: 0.7611842226514938\n"
     ]
    },
    {
     "name": "stderr",
     "output_type": "stream",
     "text": [
      "INFO:root:Iteration 34\n",
      "INFO:root:Iteration 35\n"
     ]
    },
    {
     "name": "stdout",
     "output_type": "stream",
     "text": [
      "{'min_samples_leaf': 0.14040306855642762} 0.7611835084856301\n",
      "current accuracy: 0.7611835084856301\n",
      "best accuracy: 0.7611842226514938\n",
      "{'min_samples_leaf': 0.1403924885252998} 0.7611835084856301\n",
      "current accuracy: 0.7611835084856301\n",
      "best accuracy: 0.7611842226514938\n"
     ]
    },
    {
     "name": "stderr",
     "output_type": "stream",
     "text": [
      "INFO:root:Iteration 36\n",
      "INFO:root:Iteration 37\n"
     ]
    },
    {
     "name": "stdout",
     "output_type": "stream",
     "text": [
      "{'min_samples_leaf': 0.14038238251857807} 0.7611835084856301\n",
      "current accuracy: 0.7611835084856301\n",
      "best accuracy: 0.7611842226514938\n",
      "{'min_samples_leaf': 0.1403726310805419} 0.7611835084856301\n",
      "current accuracy: 0.7611835084856301\n",
      "best accuracy: 0.7611842226514938\n"
     ]
    },
    {
     "name": "stderr",
     "output_type": "stream",
     "text": [
      "INFO:root:Iteration 38\n",
      "INFO:root:Iteration 39\n",
      "INFO:root:Iteration 40\n"
     ]
    },
    {
     "name": "stdout",
     "output_type": "stream",
     "text": [
      "{'min_samples_leaf': 0.14036362454534673} 0.7611835084856301\n",
      "current accuracy: 0.7611835084856301\n",
      "best accuracy: 0.7611842226514938\n",
      "{'min_samples_leaf': 0.14035470709928402} 0.7611835084856301\n",
      "current accuracy: 0.7611835084856301\n",
      "best accuracy: 0.7611842226514938\n",
      "{'min_samples_leaf': 0.14034680809441266} 0.7611835084856301\n",
      "current accuracy: 0.7611835084856301\n",
      "best accuracy: 0.7611842226514938\n"
     ]
    },
    {
     "name": "stderr",
     "output_type": "stream",
     "text": [
      "INFO:root:Iteration 41\n",
      "INFO:root:Iteration 42\n"
     ]
    },
    {
     "name": "stdout",
     "output_type": "stream",
     "text": [
      "{'min_samples_leaf': 0.14033900927495396} 0.7611835084856301\n",
      "current accuracy: 0.7611835084856301\n",
      "best accuracy: 0.7611842226514938\n",
      "{'min_samples_leaf': 0.14033150207357958} 0.7611835084856301\n",
      "current accuracy: 0.7611835084856301\n",
      "best accuracy: 0.7611842226514938\n"
     ]
    },
    {
     "name": "stderr",
     "output_type": "stream",
     "text": [
      "INFO:root:Iteration 43\n",
      "INFO:root:Iteration 44\n"
     ]
    },
    {
     "name": "stdout",
     "output_type": "stream",
     "text": [
      "{'min_samples_leaf': 0.1403241481248132} 0.7611835084856301\n",
      "current accuracy: 0.7611835084856301\n",
      "best accuracy: 0.7611842226514938\n",
      "{'min_samples_leaf': 0.14031738468992408} 0.7611835084856301\n",
      "current accuracy: 0.7611835084856301\n",
      "best accuracy: 0.7611842226514938\n"
     ]
    },
    {
     "name": "stderr",
     "output_type": "stream",
     "text": [
      "INFO:root:Iteration 45\n",
      "INFO:root:Iteration 46\n"
     ]
    },
    {
     "name": "stdout",
     "output_type": "stream",
     "text": [
      "{'min_samples_leaf': 0.14031080911750027} 0.7611835084856301\n",
      "current accuracy: 0.7611835084856301\n",
      "best accuracy: 0.7611842226514938\n",
      "{'min_samples_leaf': 0.14030458378668806} 0.7611835084856301\n",
      "current accuracy: 0.7611835084856301\n",
      "best accuracy: 0.7611842226514938\n"
     ]
    },
    {
     "name": "stderr",
     "output_type": "stream",
     "text": [
      "INFO:root:Iteration 47\n",
      "INFO:root:Iteration 48\n"
     ]
    },
    {
     "name": "stdout",
     "output_type": "stream",
     "text": [
      "{'min_samples_leaf': 0.14029853497401615} 0.7611835084856301\n",
      "current accuracy: 0.7611835084856301\n",
      "best accuracy: 0.7611842226514938\n",
      "{'min_samples_leaf': 0.14029275754677403} 0.7611835084856301\n",
      "current accuracy: 0.7611835084856301\n",
      "best accuracy: 0.7611842226514938\n"
     ]
    },
    {
     "name": "stderr",
     "output_type": "stream",
     "text": [
      "INFO:root:Iteration 49\n",
      "INFO:root:Iteration 50\n"
     ]
    },
    {
     "name": "stdout",
     "output_type": "stream",
     "text": [
      "{'min_samples_leaf': 0.1402871904764465} 0.7611835084856301\n",
      "current accuracy: 0.7611835084856301\n",
      "best accuracy: 0.7611842226514938\n",
      "{'min_samples_leaf': 0.14028195937492788} 0.7611835084856301\n",
      "current accuracy: 0.7611835084856301\n",
      "best accuracy: 0.7611842226514938\n"
     ]
    }
   ],
   "source": [
    "# --- Define our hyper parameter space as a dictionary. \n",
    "\n",
    "# Use the names of the hyper parameters as the keys\n",
    "# Values should be a list for discrete values and [lower_bound,upper_bound] for continuous\n",
    "# hps = {\n",
    "#     'n_estimators':range(1,10),\n",
    "#     'max_depth':range(1,10)\n",
    "# }\n",
    "\n",
    "hps = {'min_samples_leaf':[0.1,0.5]}\n",
    "\n",
    "# --- Run the Bayesian Optimisation Code\n",
    "MLmodel = RandomForestRegressor(random_state=42)\n",
    "\n",
    "BOout = BayesianOptimisation(\n",
    "    hps=hps,\n",
    "    MLmodel = MLmodel,\n",
    "    scoring_function = MLmodel.score,\n",
    "    NpI = 5,\n",
    "    Niter = 95,\n",
    "    y_train = y_train,\n",
    "    X_train = X_train,\n",
    "    n_restarts = 10,\n",
    ").optimise()"
   ]
  },
  {
   "cell_type": "code",
   "execution_count": 14,
   "metadata": {},
   "outputs": [
    {
     "data": {
      "image/png": "[encoded data removed]",
      "text/plain": [
       "<Figure size 864x360 with 2 Axes>"
      ]
     },
     "metadata": {
      "needs_background": "light"
     },
     "output_type": "display_data"
    }
   ],
   "source": [
    "# --- Track the results with each iteration\n",
    "\n",
    "import matplotlib.pyplot as plt\n",
    "\n",
    "plt.figure(figsize=(12,5))\n",
    "plt.subplot(121)\n",
    "plt.plot(BOout.Xt,'.')\n",
    "plt.subplot(122)\n",
    "plt.plot(BOout.Yt,'.')\n",
    "\n",
    "plt.show()"
   ]
  },
  {
   "cell_type": "markdown",
   "metadata": {},
   "source": [
    "## Convergence Diagnostics\n",
    "Plot the convergence of the hyper parameters with each iteration"
   ]
  },
  {
   "cell_type": "code",
   "execution_count": 44,
   "metadata": {},
   "outputs": [
    {
     "name": "stderr",
     "output_type": "stream",
     "text": [
      "INFO:root:Will perform 25 iterations\n",
      "INFO:root:Iteration 0\n",
      "INFO:root:Iteration 1\n",
      "INFO:root:Iteration 2\n"
     ]
    },
    {
     "name": "stdout",
     "output_type": "stream",
     "text": [
      "{'min_samples_leaf': 0.22000000000000003, 'n_estimators': 6} 0.4869763571786211\n",
      "{'min_samples_leaf': 0.14, 'n_estimators': 5} 0.7548923686274063\n",
      "{'min_samples_leaf': 0.38, 'n_estimators': 8} -0.011266439223975277\n",
      "{'min_samples_leaf': 0.30000000000000004, 'n_estimators': 1} 0.2642889838174654\n",
      "{'min_samples_leaf': 0.4600000000000001, 'n_estimators': 3} -0.011410073649103004\n",
      "{'min_samples_leaf': 0.28, 'n_estimators': 6} 0.4211767759333932\n",
      "current accuracy: 0.4211767759333932\n",
      "best accuracy: 0.7548923686274063\n",
      "{'min_samples_leaf': 0.48, 'n_estimators': 5} -0.011770500251822514\n",
      "current accuracy: -0.011770500251822514\n",
      "best accuracy: 0.7548923686274063\n"
     ]
    },
    {
     "name": "stderr",
     "output_type": "stream",
     "text": [
      "INFO:root:Iteration 3\n",
      "INFO:root:Iteration 4\n",
      "INFO:root:Iteration 5\n",
      "INFO:root:Iteration 6\n"
     ]
    },
    {
     "name": "stdout",
     "output_type": "stream",
     "text": [
      "{'min_samples_leaf': 0.24000000000000002, 'n_estimators': 5} 0.4547051067758671\n",
      "current accuracy: 0.4547051067758671\n",
      "best accuracy: 0.7548923686274063\n",
      "{'min_samples_leaf': 0.28, 'n_estimators': 5} 0.39168719819448905\n",
      "current accuracy: 0.39168719819448905\n",
      "best accuracy: 0.7548923686274063\n",
      "{'min_samples_leaf': 0.47998263611189484, 'n_estimators': 5} -0.011770500251822514\n",
      "current accuracy: -0.011770500251822514\n",
      "best accuracy: 0.7548923686274063\n",
      "{'min_samples_leaf': 0.3600000000000001, 'n_estimators': 5} -0.011770500251822514\n",
      "current accuracy: -0.011770500251822514\n",
      "best accuracy: 0.7548923686274063\n"
     ]
    },
    {
     "name": "stderr",
     "output_type": "stream",
     "text": [
      "INFO:root:Iteration 7\n",
      "INFO:root:Iteration 8\n",
      "INFO:root:Iteration 9\n"
     ]
    },
    {
     "name": "stdout",
     "output_type": "stream",
     "text": [
      "{'min_samples_leaf': 0.24000000000000002, 'n_estimators': 5} 0.4547051067758671\n",
      "current accuracy: 0.4547051067758671\n",
      "best accuracy: 0.7548923686274063\n",
      "{'min_samples_leaf': 0.3600000000000001, 'n_estimators': 5} -0.011770500251822514\n",
      "current accuracy: -0.011770500251822514\n",
      "best accuracy: 0.7548923686274063\n",
      "{'min_samples_leaf': 0.1756542456279634, 'n_estimators': 5} 0.7262837029401316\n",
      "current accuracy: 0.7262837029401316\n",
      "best accuracy: 0.7548923686274063\n"
     ]
    },
    {
     "name": "stderr",
     "output_type": "stream",
     "text": [
      "INFO:root:Iteration 10\n",
      "INFO:root:Iteration 11\n"
     ]
    },
    {
     "name": "stdout",
     "output_type": "stream",
     "text": [
      "{'min_samples_leaf': 0.16553466026876887, 'n_estimators': 5} 0.739550238119368\n",
      "current accuracy: 0.739550238119368\n",
      "best accuracy: 0.7548923686274063\n",
      "{'min_samples_leaf': 0.16014561569153735, 'n_estimators': 5} 0.7454326585825202\n",
      "current accuracy: 0.7454326585825202\n",
      "best accuracy: 0.7548923686274063\n"
     ]
    },
    {
     "name": "stderr",
     "output_type": "stream",
     "text": [
      "INFO:root:Iteration 12\n",
      "INFO:root:Iteration 13\n"
     ]
    },
    {
     "name": "stdout",
     "output_type": "stream",
     "text": [
      "{'min_samples_leaf': 0.15673834423249133, 'n_estimators': 5} 0.7470583616734614\n",
      "current accuracy: 0.7470583616734614\n",
      "best accuracy: 0.7548923686274063\n",
      "{'min_samples_leaf': 0.1802780659913318, 'n_estimators': 6} 0.7277826604685209\n",
      "current accuracy: 0.7277826604685209\n",
      "best accuracy: 0.7548923686274063\n"
     ]
    },
    {
     "name": "stderr",
     "output_type": "stream",
     "text": [
      "INFO:root:Iteration 14\n",
      "INFO:root:Iteration 15\n"
     ]
    },
    {
     "name": "stdout",
     "output_type": "stream",
     "text": [
      "{'min_samples_leaf': 0.17697115320303577, 'n_estimators': 6} 0.7326096550378344\n",
      "current accuracy: 0.7326096550378344\n",
      "best accuracy: 0.7548923686274063\n",
      "{'min_samples_leaf': 0.15353420436649037, 'n_estimators': 5} 0.754111958887437\n",
      "current accuracy: 0.754111958887437\n",
      "best accuracy: 0.7548923686274063\n"
     ]
    },
    {
     "name": "stderr",
     "output_type": "stream",
     "text": [
      "INFO:root:Iteration 16\n",
      "INFO:root:Iteration 17\n"
     ]
    },
    {
     "name": "stdout",
     "output_type": "stream",
     "text": [
      "{'min_samples_leaf': 0.1738797554777163, 'n_estimators': 6} 0.7375808057825913\n",
      "current accuracy: 0.7375808057825913\n",
      "best accuracy: 0.7548923686274063\n",
      "{'min_samples_leaf': 0.15169931559388267, 'n_estimators': 5} 0.754504376276938\n",
      "current accuracy: 0.754504376276938\n",
      "best accuracy: 0.7548923686274063\n"
     ]
    },
    {
     "name": "stderr",
     "output_type": "stream",
     "text": [
      "INFO:root:Iteration 18\n",
      "INFO:root:Iteration 19\n"
     ]
    },
    {
     "name": "stdout",
     "output_type": "stream",
     "text": [
      "{'min_samples_leaf': 0.15040070285112017, 'n_estimators': 5} 0.755382918392874\n",
      "current accuracy: 0.755382918392874\n",
      "best accuracy: 0.755382918392874\n",
      "{'min_samples_leaf': 0.14937683270530588, 'n_estimators': 5} 0.7562241416180203\n",
      "current accuracy: 0.7562241416180203\n",
      "best accuracy: 0.7562241416180203\n"
     ]
    },
    {
     "name": "stderr",
     "output_type": "stream",
     "text": [
      "INFO:root:Iteration 20\n",
      "INFO:root:Iteration 21\n"
     ]
    },
    {
     "name": "stdout",
     "output_type": "stream",
     "text": [
      "{'min_samples_leaf': 0.16779997497885374, 'n_estimators': 6} 0.7394856659951404\n",
      "current accuracy: 0.7394856659951404\n",
      "best accuracy: 0.7562241416180203\n",
      "{'min_samples_leaf': 0.14847609617170793, 'n_estimators': 5} 0.7551649840467602\n",
      "current accuracy: 0.7551649840467602\n",
      "best accuracy: 0.7562241416180203\n"
     ]
    },
    {
     "name": "stderr",
     "output_type": "stream",
     "text": [
      "INFO:root:Iteration 22\n",
      "INFO:root:Iteration 23\n"
     ]
    },
    {
     "name": "stdout",
     "output_type": "stream",
     "text": [
      "{'min_samples_leaf': 0.16637268781053605, 'n_estimators': 6} 0.7401858177445808\n",
      "current accuracy: 0.7401858177445808\n",
      "best accuracy: 0.7562241416180203\n",
      "{'min_samples_leaf': 0.1477494201930489, 'n_estimators': 5} 0.7551649840467602\n",
      "current accuracy: 0.7551649840467602\n",
      "best accuracy: 0.7562241416180203\n"
     ]
    },
    {
     "name": "stderr",
     "output_type": "stream",
     "text": [
      "INFO:root:Iteration 24\n",
      "INFO:root:Best result 0.7562241416180203: Params: [0.14937683 5.        ]\n",
      "INFO:root:Best result 0.7562241416180203: Params: {'bootstrap': 0.14937683270530588, 'criterion': 5.0}\n"
     ]
    },
    {
     "name": "stdout",
     "output_type": "stream",
     "text": [
      "{'min_samples_leaf': 0.14717796010125048, 'n_estimators': 5} 0.755113084234518\n",
      "current accuracy: 0.755113084234518\n",
      "best accuracy: 0.7562241416180203\n",
      "{'min_samples_leaf': 0.1466898219793937, 'n_estimators': 5} 0.755113084234518\n",
      "current accuracy: 0.755113084234518\n",
      "best accuracy: 0.7562241416180203\n"
     ]
    }
   ],
   "source": [
    "hps = {'min_samples_leaf':[0.1,0.5],\n",
    "       'n_estimators':range(1,10)}\n",
    "\n",
    "# --- Run the Bayesian Optimisation Code\n",
    "MLmodel = RandomForestRegressor(random_state=42)\n",
    "\n",
    "noise = 0.05\n",
    "BOout = BayesianOptimisation(\n",
    "    hps=hps,\n",
    "    MLmodel = MLmodel,\n",
    "    NpI = 5,\n",
    "    Niter = 25,\n",
    "    y_train = y_train,\n",
    "    X_train = X_train,\n",
    "    n_restarts = 10,\n",
    "    noise = noise\n",
    ").optimise()"
   ]
  },
  {
   "cell_type": "code",
   "execution_count": 46,
   "metadata": {},
   "outputs": [
    {
     "data": {
      "image/png": "[encoded data removed]",
      "text/plain": [
       "<Figure size 1152x720 with 2 Axes>"
      ]
     },
     "metadata": {
      "needs_background": "dark"
     },
     "output_type": "display_data"
    }
   ],
   "source": [
    "BOout.hyperparameter_convergence_plots()"
   ]
  },
  {
   "cell_type": "markdown",
   "metadata": {},
   "source": [
    "# Ignore this for now..."
   ]
  },
  {
   "cell_type": "code",
   "execution_count": 69,
   "metadata": {},
   "outputs": [
    {
     "data": {
      "text/plain": [
       "[<matplotlib.lines.Line2D at 0x1a25d95588>]"
      ]
     },
     "execution_count": 69,
     "metadata": {},
     "output_type": "execute_result"
    },
    {
     "data": {
      "image/png": "[encoded data removed]",
      "text/plain": [
       "<Figure size 432x288 with 1 Axes>"
      ]
     },
     "metadata": {
      "needs_background": "light"
     },
     "output_type": "display_data"
    }
   ],
   "source": [
    "noise = 0.001\n",
    "x=np.linspace(0.1, 0.5).reshape(-1,1)\n",
    "y, std = BOout.gpr.predict(x, return_std=True)\n",
    "y1, std1 = GaussianProcessRegressor(kernel=RBF(), alpha=noise * 2).fit(BOout.Xt, BOout.Yt).predict(x, return_std=True)\n",
    "plt.plot(x, y)\n",
    "plt.plot(x, y - std, '--')\n",
    "plt.plot(x, y + std, '--')\n",
    "plt.plot(BOout.Xt, BOout.Yt, '.')\n",
    "plt.plot(x, y1, '.')"
   ]
  },
  {
   "cell_type": "code",
   "execution_count": 65,
   "metadata": {},
   "outputs": [
    {
     "data": {
      "text/plain": [
       "(100,)"
      ]
     },
     "execution_count": 65,
     "metadata": {},
     "output_type": "execute_result"
    }
   ],
   "source": [
    "BOout.Yt.shape\n"
   ]
  },
  {
   "cell_type": "code",
   "execution_count": null,
   "metadata": {},
   "outputs": [],
   "source": []
  }
 ],
 "metadata": {
  "kernelspec": {
   "display_name": "Python 3",
   "language": "python",
   "name": "python3"
  },
  "language_info": {
   "codemirror_mode": {
    "name": "ipython",
    "version": 3
   },
   "file_extension": ".py",
   "mimetype": "text/x-python",
   "name": "python",
   "nbconvert_exporter": "python",
   "pygments_lexer": "ipython3",
   "version": "3.6.8"
  },
  "latex_envs": {
   "LaTeX_envs_menu_present": true,
   "autoclose": false,
   "autocomplete": true,
   "bibliofile": "biblio.bib",
   "cite_by": "apalike",
   "current_citInitial": 1,
   "eqLabelWithNumbers": true,
   "eqNumInitial": 1,
   "hotkeys": {
    "equation": "Ctrl-E",
    "itemize": "Ctrl-I"
   },
   "labels_anchors": false,
   "latex_user_defs": false,
   "report_style_numbering": false,
   "user_envs_cfg": false
  },
  "toc": {
   "base_numbering": 1,
   "nav_menu": {},
   "number_sections": true,
   "sideBar": false,
   "skip_h1_title": false,
   "title_cell": "Table of Contents",
   "title_sidebar": "Contents",
   "toc_cell": true,
   "toc_position": {},
   "toc_section_display": true,
   "toc_window_display": false
  }
 },
 "nbformat": 4,
 "nbformat_minor": 2
}
