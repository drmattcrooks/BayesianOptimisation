{
 "cells": [
  {
   "cell_type": "markdown",
   "metadata": {
    "toc": true
   },
   "source": [
    "<h1>Table of Contents<span class=\"tocSkip\"></span></h1>\n",
    "<div class=\"toc\"><ul class=\"toc-item\"><li><span><a href=\"#Import-the-Bayesian-Hyperparameter-Optimisation-Algorithm\" data-toc-modified-id=\"Import-the-Bayesian-Hyperparameter-Optimisation-Algorithm-1\"><span class=\"toc-item-num\">1&nbsp;&nbsp;</span>Import the Bayesian Hyperparameter Optimisation Algorithm</a></span></li><li><span><a href=\"#Example-Use-Case\" data-toc-modified-id=\"Example-Use-Case-2\"><span class=\"toc-item-num\">2&nbsp;&nbsp;</span>Example Use Case</a></span><ul class=\"toc-item\"><li><span><a href=\"#Generate-some-tarining-data\" data-toc-modified-id=\"Generate-some-tarining-data-2.1\"><span class=\"toc-item-num\">2.1&nbsp;&nbsp;</span>Generate some tarining data</a></span></li><li><span><a href=\"#Run-the-Optimisation\" data-toc-modified-id=\"Run-the-Optimisation-2.2\"><span class=\"toc-item-num\">2.2&nbsp;&nbsp;</span>Run the Optimisation</a></span></li><li><span><a href=\"#Plot-the-Samples\" data-toc-modified-id=\"Plot-the-Samples-2.3\"><span class=\"toc-item-num\">2.3&nbsp;&nbsp;</span>Plot the Samples</a></span></li></ul></li><li><span><a href=\"#Advanced-User-defined-Inputs\" data-toc-modified-id=\"Advanced-User-defined-Inputs-3\"><span class=\"toc-item-num\">3&nbsp;&nbsp;</span>Advanced User-defined Inputs</a></span><ul class=\"toc-item\"><li><span><a href=\"#Providing-your-own-scoring-function\" data-toc-modified-id=\"Providing-your-own-scoring-function-3.1\"><span class=\"toc-item-num\">3.1&nbsp;&nbsp;</span>Providing your own scoring function</a></span><ul class=\"toc-item\"><li><span><a href=\"#Example-1\" data-toc-modified-id=\"Example-1-3.1.1\"><span class=\"toc-item-num\">3.1.1&nbsp;&nbsp;</span>Example 1</a></span></li><li><span><a href=\"#Example-2\" data-toc-modified-id=\"Example-2-3.1.2\"><span class=\"toc-item-num\">3.1.2&nbsp;&nbsp;</span>Example 2</a></span></li></ul></li></ul></li></ul></div>"
   ]
  },
  {
   "cell_type": "code",
   "execution_count": 1,
   "metadata": {},
   "outputs": [],
   "source": [
    "# That is setting up the autoreload mode to automatically \n",
    "# reload your imports when you edit a file\n",
    "%load_ext autoreload\n",
    "%autoreload 2"
   ]
  },
  {
   "cell_type": "markdown",
   "metadata": {},
   "source": [
    "# Import the Bayesian Hyperparameter Optimisation Algorithm"
   ]
  },
  {
   "cell_type": "code",
   "execution_count": null,
   "metadata": {},
   "outputs": [],
   "source": [
    "from sklearn.ensemble import RandomForestRegressor\n",
    "from sklearn.model_selection import cross_val_score\n",
    "import numpy as np\n",
    "from bayesian_hyperparameter_optimisation_3 import BayesianOptimisation"
   ]
  },
  {
   "cell_type": "markdown",
   "metadata": {},
   "source": [
    "# Example Use Case\n",
    "## Generate some tarining data"
   ]
  },
  {
   "cell_type": "code",
   "execution_count": 4,
   "metadata": {},
   "outputs": [
    {
     "name": "stderr",
     "output_type": "stream",
     "text": [
      "/anaconda3/lib/python3.6/site-packages/sklearn/ensemble/forest.py:245: FutureWarning: The default value of n_estimators will change from 10 in version 0.20 to 100 in 0.22.\n",
      "  \"10 in version 0.20 to 100 in 0.22.\", FutureWarning)\n",
      "INFO:root:Will perform 95 iterations\n",
      "INFO:root:Iteration 0\n"
     ]
    },
    {
     "name": "stdout",
     "output_type": "stream",
     "text": [
      "{'min_samples_leaf': 0.14} 0.7700969003203069\n",
      "{'min_samples_leaf': 0.22000000000000003} 0.45449916016942904\n",
      "{'min_samples_leaf': 0.38} -0.007390040235149132\n",
      "{'min_samples_leaf': 0.4600000000000001} -0.007390040235149132\n",
      "{'min_samples_leaf': 0.30000000000000004} 0.35748846681275126\n"
     ]
    },
    {
     "name": "stderr",
     "output_type": "stream",
     "text": [
      "INFO:root:Iteration 1\n",
      "INFO:root:Iteration 2\n"
     ]
    },
    {
     "name": "stdout",
     "output_type": "stream",
     "text": [
      "{'min_samples_leaf': 0.28} 0.3884350195986242\n",
      "current accuracy: 0.3884350195986242\n",
      "best accuracy: 0.7700969003203069\n",
      "{'min_samples_leaf': 0.1468122446391194} 0.7670914436228264\n",
      "current accuracy: 0.7670914436228264\n",
      "best accuracy: 0.7700969003203069\n"
     ]
    },
    {
     "name": "stderr",
     "output_type": "stream",
     "text": [
      "INFO:root:Iteration 3\n",
      "INFO:root:Iteration 4\n"
     ]
    },
    {
     "name": "stdout",
     "output_type": "stream",
     "text": [
      "{'min_samples_leaf': 0.14416055417344564} 0.7678675803733883\n",
      "current accuracy: 0.7678675803733883\n",
      "best accuracy: 0.7700969003203069\n",
      "{'min_samples_leaf': 0.14299145794200854} 0.7681899392071754\n",
      "current accuracy: 0.7681899392071754\n",
      "best accuracy: 0.7700969003203069\n"
     ]
    },
    {
     "name": "stderr",
     "output_type": "stream",
     "text": [
      "INFO:root:Iteration 5\n",
      "INFO:root:Iteration 6\n"
     ]
    },
    {
     "name": "stdout",
     "output_type": "stream",
     "text": [
      "{'min_samples_leaf': 0.14233851201072517} 0.7699173199948673\n",
      "current accuracy: 0.7699173199948673\n",
      "best accuracy: 0.7700969003203069\n",
      "{'min_samples_leaf': 0.14192022868155502} 0.7699173199948673\n",
      "current accuracy: 0.7699173199948673\n",
      "best accuracy: 0.7700969003203069\n"
     ]
    },
    {
     "name": "stderr",
     "output_type": "stream",
     "text": [
      "INFO:root:Iteration 7\n",
      "INFO:root:Iteration 8\n",
      "INFO:root:Iteration 9\n"
     ]
    },
    {
     "name": "stdout",
     "output_type": "stream",
     "text": [
      "{'min_samples_leaf': 0.141630820724697} 0.7699173199948673\n",
      "current accuracy: 0.7699173199948673\n",
      "best accuracy: 0.7700969003203069\n",
      "{'min_samples_leaf': 0.14141850100913833} 0.7699173199948673\n",
      "current accuracy: 0.7699173199948673\n",
      "best accuracy: 0.7700969003203069\n",
      "{'min_samples_leaf': 0.14125591896040737} 0.7699173199948673\n",
      "current accuracy: 0.7699173199948673\n",
      "best accuracy: 0.7700969003203069\n"
     ]
    },
    {
     "name": "stderr",
     "output_type": "stream",
     "text": [
      "INFO:root:Iteration 10\n",
      "INFO:root:Iteration 11\n"
     ]
    },
    {
     "name": "stdout",
     "output_type": "stream",
     "text": [
      "{'min_samples_leaf': 0.14112744571701735} 0.7700969003203069\n",
      "current accuracy: 0.7700969003203069\n",
      "best accuracy: 0.7700969003203069\n",
      "{'min_samples_leaf': 0.14102324432362065} 0.7700969003203069\n",
      "current accuracy: 0.7700969003203069\n",
      "best accuracy: 0.7700969003203069\n"
     ]
    },
    {
     "name": "stderr",
     "output_type": "stream",
     "text": [
      "INFO:root:Iteration 12\n",
      "INFO:root:Iteration 13\n"
     ]
    },
    {
     "name": "stdout",
     "output_type": "stream",
     "text": [
      "{'min_samples_leaf': 0.14093704165429022} 0.7700969003203069\n",
      "current accuracy: 0.7700969003203069\n",
      "best accuracy: 0.7700969003203069\n",
      "{'min_samples_leaf': 0.14086447142602213} 0.7700969003203069\n",
      "current accuracy: 0.7700969003203069\n",
      "best accuracy: 0.7700969003203069\n"
     ]
    },
    {
     "name": "stderr",
     "output_type": "stream",
     "text": [
      "INFO:root:Iteration 14\n",
      "INFO:root:Iteration 15\n"
     ]
    },
    {
     "name": "stdout",
     "output_type": "stream",
     "text": [
      "{'min_samples_leaf': 0.14080265887424867} 0.7700969003203069\n",
      "current accuracy: 0.7700969003203069\n",
      "best accuracy: 0.7700969003203069\n",
      "{'min_samples_leaf': 0.14074918950049978} 0.7700969003203069\n",
      "current accuracy: 0.7700969003203069\n",
      "best accuracy: 0.7700969003203069\n"
     ]
    },
    {
     "name": "stderr",
     "output_type": "stream",
     "text": [
      "INFO:root:Iteration 16\n",
      "INFO:root:Iteration 17\n"
     ]
    },
    {
     "name": "stdout",
     "output_type": "stream",
     "text": [
      "{'min_samples_leaf': 0.14070264512363975} 0.7700969003203069\n",
      "current accuracy: 0.7700969003203069\n",
      "best accuracy: 0.7700969003203069\n",
      "{'min_samples_leaf': 0.14066160718982154} 0.7700969003203069\n",
      "current accuracy: 0.7700969003203069\n",
      "best accuracy: 0.7700969003203069\n"
     ]
    },
    {
     "name": "stderr",
     "output_type": "stream",
     "text": [
      "INFO:root:Iteration 18\n",
      "INFO:root:Iteration 19\n"
     ]
    },
    {
     "name": "stdout",
     "output_type": "stream",
     "text": [
      "{'min_samples_leaf': 0.14062521841161682} 0.7700969003203069\n",
      "current accuracy: 0.7700969003203069\n",
      "best accuracy: 0.7700969003203069\n",
      "{'min_samples_leaf': 0.14059264937536609} 0.7700969003203069\n",
      "current accuracy: 0.7700969003203069\n",
      "best accuracy: 0.7700969003203069\n"
     ]
    },
    {
     "name": "stderr",
     "output_type": "stream",
     "text": [
      "INFO:root:Iteration 20\n",
      "INFO:root:Iteration 21\n"
     ]
    },
    {
     "name": "stdout",
     "output_type": "stream",
     "text": [
      "{'min_samples_leaf': 0.14056347982146855} 0.7700969003203069\n",
      "current accuracy: 0.7700969003203069\n",
      "best accuracy: 0.7700969003203069\n",
      "{'min_samples_leaf': 0.14053703072065055} 0.7700969003203069\n",
      "current accuracy: 0.7700969003203069\n",
      "best accuracy: 0.7700969003203069\n"
     ]
    },
    {
     "name": "stderr",
     "output_type": "stream",
     "text": [
      "INFO:root:Iteration 22\n",
      "INFO:root:Iteration 23\n"
     ]
    },
    {
     "name": "stdout",
     "output_type": "stream",
     "text": [
      "{'min_samples_leaf': 0.1405130418641861} 0.7700969003203069\n",
      "current accuracy: 0.7700969003203069\n",
      "best accuracy: 0.7700969003203069\n",
      "{'min_samples_leaf': 0.1404911904037723} 0.7700969003203069\n",
      "current accuracy: 0.7700969003203069\n",
      "best accuracy: 0.7700969003203069\n"
     ]
    },
    {
     "name": "stderr",
     "output_type": "stream",
     "text": [
      "INFO:root:Iteration 24\n",
      "INFO:root:Iteration 25\n"
     ]
    },
    {
     "name": "stdout",
     "output_type": "stream",
     "text": [
      "{'min_samples_leaf': 0.14047107948197676} 0.7700969003203069\n",
      "current accuracy: 0.7700969003203069\n",
      "best accuracy: 0.7700969003203069\n",
      "{'min_samples_leaf': 0.14045261979314852} 0.7700969003203069\n",
      "current accuracy: 0.7700969003203069\n",
      "best accuracy: 0.7700969003203069\n"
     ]
    },
    {
     "name": "stderr",
     "output_type": "stream",
     "text": [
      "INFO:root:Iteration 26\n",
      "INFO:root:Iteration 27\n"
     ]
    },
    {
     "name": "stdout",
     "output_type": "stream",
     "text": [
      "{'min_samples_leaf': 0.1404355900766601} 0.7700969003203069\n",
      "current accuracy: 0.7700969003203069\n",
      "best accuracy: 0.7700969003203069\n",
      "{'min_samples_leaf': 0.14041991310705534} 0.7700969003203069\n",
      "current accuracy: 0.7700969003203069\n",
      "best accuracy: 0.7700969003203069\n"
     ]
    },
    {
     "name": "stderr",
     "output_type": "stream",
     "text": [
      "INFO:root:Iteration 28\n",
      "INFO:root:Iteration 29\n"
     ]
    },
    {
     "name": "stdout",
     "output_type": "stream",
     "text": [
      "{'min_samples_leaf': 0.140405269692173} 0.7700969003203069\n",
      "current accuracy: 0.7700969003203069\n",
      "best accuracy: 0.7700969003203069\n",
      "{'min_samples_leaf': 0.14039169121814055} 0.7700969003203069\n",
      "current accuracy: 0.7700969003203069\n",
      "best accuracy: 0.7700969003203069\n"
     ]
    },
    {
     "name": "stderr",
     "output_type": "stream",
     "text": [
      "INFO:root:Iteration 30\n",
      "INFO:root:Iteration 31\n"
     ]
    },
    {
     "name": "stdout",
     "output_type": "stream",
     "text": [
      "{'min_samples_leaf': 0.14037888933767428} 0.7700969003203069\n",
      "current accuracy: 0.7700969003203069\n",
      "best accuracy: 0.7700969003203069\n",
      "{'min_samples_leaf': 0.14036707536728116} 0.7700969003203069\n",
      "current accuracy: 0.7700969003203069\n",
      "best accuracy: 0.7700969003203069\n"
     ]
    },
    {
     "name": "stderr",
     "output_type": "stream",
     "text": [
      "INFO:root:Iteration 32\n",
      "INFO:root:Iteration 33\n"
     ]
    },
    {
     "name": "stdout",
     "output_type": "stream",
     "text": [
      "{'min_samples_leaf': 0.14035587928014248} 0.7700969003203069\n",
      "current accuracy: 0.7700969003203069\n",
      "best accuracy: 0.7700969003203069\n",
      "{'min_samples_leaf': 0.14034531812845655} 0.7700969003203069\n",
      "current accuracy: 0.7700969003203069\n",
      "best accuracy: 0.7700969003203069\n"
     ]
    },
    {
     "name": "stderr",
     "output_type": "stream",
     "text": [
      "INFO:root:Iteration 34\n",
      "INFO:root:Iteration 35\n"
     ]
    },
    {
     "name": "stdout",
     "output_type": "stream",
     "text": [
      "{'min_samples_leaf': 0.1403354892357896} 0.7700969003203069\n",
      "current accuracy: 0.7700969003203069\n",
      "best accuracy: 0.7700969003203069\n",
      "{'min_samples_leaf': 0.14032624171553904} 0.7700969003203069\n",
      "current accuracy: 0.7700969003203069\n",
      "best accuracy: 0.7700969003203069\n"
     ]
    },
    {
     "name": "stderr",
     "output_type": "stream",
     "text": [
      "INFO:root:Iteration 36\n",
      "INFO:root:Iteration 37\n"
     ]
    },
    {
     "name": "stdout",
     "output_type": "stream",
     "text": [
      "{'min_samples_leaf': 0.1403174336043475} 0.7700969003203069\n",
      "current accuracy: 0.7700969003203069\n",
      "best accuracy: 0.7700969003203069\n",
      "{'min_samples_leaf': 0.14030918887809365} 0.7700969003203069\n",
      "current accuracy: 0.7700969003203069\n",
      "best accuracy: 0.7700969003203069\n"
     ]
    },
    {
     "name": "stderr",
     "output_type": "stream",
     "text": [
      "INFO:root:Iteration 38\n",
      "INFO:root:Iteration 39\n"
     ]
    },
    {
     "name": "stdout",
     "output_type": "stream",
     "text": [
      "{'min_samples_leaf': 0.14030128846162723} 0.7700969003203069\n",
      "current accuracy: 0.7700969003203069\n",
      "best accuracy: 0.7700969003203069\n",
      "{'min_samples_leaf': 0.14029371190424314} 0.7700969003203069\n",
      "current accuracy: 0.7700969003203069\n",
      "best accuracy: 0.7700969003203069\n"
     ]
    },
    {
     "name": "stderr",
     "output_type": "stream",
     "text": [
      "INFO:root:Iteration 40\n",
      "INFO:root:Iteration 41\n"
     ]
    },
    {
     "name": "stdout",
     "output_type": "stream",
     "text": [
      "{'min_samples_leaf': 0.1402866966741317} 0.7700969003203069\n",
      "current accuracy: 0.7700969003203069\n",
      "best accuracy: 0.7700969003203069\n",
      "{'min_samples_leaf': 0.14027995258455978} 0.7700969003203069\n",
      "current accuracy: 0.7700969003203069\n",
      "best accuracy: 0.7700969003203069\n"
     ]
    },
    {
     "name": "stderr",
     "output_type": "stream",
     "text": [
      "INFO:root:Iteration 42\n",
      "INFO:root:Iteration 43\n"
     ]
    },
    {
     "name": "stdout",
     "output_type": "stream",
     "text": [
      "{'min_samples_leaf': 0.14027349865169828} 0.7700969003203069\n",
      "current accuracy: 0.7700969003203069\n",
      "best accuracy: 0.7700969003203069\n",
      "{'min_samples_leaf': 0.14026742742305137} 0.7700969003203069\n",
      "current accuracy: 0.7700969003203069\n",
      "best accuracy: 0.7700969003203069\n"
     ]
    },
    {
     "name": "stderr",
     "output_type": "stream",
     "text": [
      "INFO:root:Iteration 44\n"
     ]
    },
    {
     "name": "stdout",
     "output_type": "stream",
     "text": [
      "{'min_samples_leaf': 0.14026120734821845} 0.7700969003203069\n",
      "current accuracy: 0.7700969003203069\n",
      "best accuracy: 0.7700969003203069\n",
      "{'min_samples_leaf': 0.1402557814373249} 0.7700969003203069\n",
      "current accuracy: 0.7700969003203069\n",
      "best accuracy: 0.7700969003203069\n"
     ]
    },
    {
     "name": "stderr",
     "output_type": "stream",
     "text": [
      "INFO:root:Iteration 45\n",
      "INFO:root:Iteration 46\n",
      "INFO:root:Iteration 47\n"
     ]
    },
    {
     "name": "stdout",
     "output_type": "stream",
     "text": [
      "{'min_samples_leaf': 0.1402505572223019} 0.7700969003203069\n",
      "current accuracy: 0.7700969003203069\n",
      "best accuracy: 0.7700969003203069\n",
      "{'min_samples_leaf': 0.14024527574777035} 0.7700969003203069\n",
      "current accuracy: 0.7700969003203069\n",
      "best accuracy: 0.7700969003203069\n"
     ]
    },
    {
     "name": "stderr",
     "output_type": "stream",
     "text": [
      "INFO:root:Iteration 48\n",
      "INFO:root:Iteration 49\n"
     ]
    },
    {
     "name": "stdout",
     "output_type": "stream",
     "text": [
      "{'min_samples_leaf': 0.14024051389819958} 0.7700969003203069\n",
      "current accuracy: 0.7700969003203069\n",
      "best accuracy: 0.7700969003203069\n",
      "{'min_samples_leaf': 0.14023577267993503} 0.7700969003203069\n",
      "current accuracy: 0.7700969003203069\n",
      "best accuracy: 0.7700969003203069\n"
     ]
    },
    {
     "name": "stderr",
     "output_type": "stream",
     "text": [
      "INFO:root:Iteration 50\n",
      "INFO:root:Iteration 51\n"
     ]
    },
    {
     "name": "stdout",
     "output_type": "stream",
     "text": [
      "{'min_samples_leaf': 0.14023109251599158} 0.7700969003203069\n",
      "current accuracy: 0.7700969003203069\n",
      "best accuracy: 0.7700969003203069\n",
      "{'min_samples_leaf': 0.14022682282651558} 0.7700969003203069\n",
      "current accuracy: 0.7700969003203069\n",
      "best accuracy: 0.7700969003203069\n"
     ]
    },
    {
     "name": "stderr",
     "output_type": "stream",
     "text": [
      "INFO:root:Iteration 52\n",
      "INFO:root:Iteration 53\n"
     ]
    },
    {
     "name": "stdout",
     "output_type": "stream",
     "text": [
      "{'min_samples_leaf': 0.14022278370329216} 0.7700969003203069\n",
      "current accuracy: 0.7700969003203069\n",
      "best accuracy: 0.7700969003203069\n",
      "{'min_samples_leaf': 0.14021842220199549} 0.7700969003203069\n",
      "current accuracy: 0.7700969003203069\n",
      "best accuracy: 0.7700969003203069\n"
     ]
    },
    {
     "name": "stderr",
     "output_type": "stream",
     "text": [
      "INFO:root:Iteration 54\n",
      "INFO:root:Iteration 55\n"
     ]
    },
    {
     "name": "stdout",
     "output_type": "stream",
     "text": [
      "{'min_samples_leaf': 0.1402144379815271} 0.7700969003203069\n",
      "current accuracy: 0.7700969003203069\n",
      "best accuracy: 0.7700969003203069\n",
      "{'min_samples_leaf': 0.14021080375900133} 0.7700969003203069\n",
      "current accuracy: 0.7700969003203069\n",
      "best accuracy: 0.7700969003203069\n"
     ]
    },
    {
     "name": "stderr",
     "output_type": "stream",
     "text": [
      "INFO:root:Iteration 56\n",
      "INFO:root:Iteration 57\n"
     ]
    },
    {
     "name": "stdout",
     "output_type": "stream",
     "text": [
      "{'min_samples_leaf': 0.1402072424692856} 0.7700969003203069\n",
      "current accuracy: 0.7700969003203069\n",
      "best accuracy: 0.7700969003203069\n",
      "{'min_samples_leaf': 0.1402037648835997} 0.7700969003203069\n",
      "current accuracy: 0.7700969003203069\n",
      "best accuracy: 0.7700969003203069\n"
     ]
    },
    {
     "name": "stderr",
     "output_type": "stream",
     "text": [
      "INFO:root:Iteration 58\n",
      "INFO:root:Iteration 59\n"
     ]
    },
    {
     "name": "stdout",
     "output_type": "stream",
     "text": [
      "{'min_samples_leaf': 0.14020041255498414} 0.7700969003203069\n",
      "current accuracy: 0.7700969003203069\n",
      "best accuracy: 0.7700969003203069\n",
      "{'min_samples_leaf': 0.14019716494424994} 0.7700969003203069\n",
      "current accuracy: 0.7700969003203069\n",
      "best accuracy: 0.7700969003203069\n"
     ]
    },
    {
     "name": "stderr",
     "output_type": "stream",
     "text": [
      "INFO:root:Iteration 60\n",
      "INFO:root:Iteration 61\n"
     ]
    },
    {
     "name": "stdout",
     "output_type": "stream",
     "text": [
      "{'min_samples_leaf': 0.14019382159820593} 0.7700969003203069\n",
      "current accuracy: 0.7700969003203069\n",
      "best accuracy: 0.7700969003203069\n",
      "{'min_samples_leaf': 0.1401908229388948} 0.7700969003203069\n",
      "current accuracy: 0.7700969003203069\n",
      "best accuracy: 0.7700969003203069\n"
     ]
    },
    {
     "name": "stderr",
     "output_type": "stream",
     "text": [
      "INFO:root:Iteration 62\n",
      "INFO:root:Iteration 63\n"
     ]
    },
    {
     "name": "stdout",
     "output_type": "stream",
     "text": [
      "{'min_samples_leaf': 0.14018787377830802} 0.7700969003203069\n",
      "current accuracy: 0.7700969003203069\n",
      "best accuracy: 0.7700969003203069\n",
      "{'min_samples_leaf': 0.14018518572315125} 0.7700969003203069\n",
      "current accuracy: 0.7700969003203069\n",
      "best accuracy: 0.7700969003203069\n"
     ]
    },
    {
     "name": "stderr",
     "output_type": "stream",
     "text": [
      "INFO:root:Iteration 64\n",
      "INFO:root:Iteration 65\n"
     ]
    },
    {
     "name": "stdout",
     "output_type": "stream",
     "text": [
      "{'min_samples_leaf': 0.14018234238727603} 0.7700969003203069\n",
      "current accuracy: 0.7700969003203069\n",
      "best accuracy: 0.7700969003203069\n",
      "{'min_samples_leaf': 0.14017956716507562} 0.7700969003203069\n",
      "current accuracy: 0.7700969003203069\n",
      "best accuracy: 0.7700969003203069\n"
     ]
    },
    {
     "name": "stderr",
     "output_type": "stream",
     "text": [
      "INFO:root:Iteration 66\n",
      "INFO:root:Iteration 67\n"
     ]
    },
    {
     "name": "stdout",
     "output_type": "stream",
     "text": [
      "{'min_samples_leaf': 0.14017700397582605} 0.7700969003203069\n",
      "current accuracy: 0.7700969003203069\n",
      "best accuracy: 0.7700969003203069\n",
      "{'min_samples_leaf': 0.140174192663012} 0.7700969003203069\n",
      "current accuracy: 0.7700969003203069\n",
      "best accuracy: 0.7700969003203069\n"
     ]
    },
    {
     "name": "stderr",
     "output_type": "stream",
     "text": [
      "INFO:root:Iteration 68\n",
      "INFO:root:Iteration 69\n"
     ]
    },
    {
     "name": "stdout",
     "output_type": "stream",
     "text": [
      "{'min_samples_leaf': 0.14017198682042817} 0.7700969003203069\n",
      "current accuracy: 0.7700969003203069\n",
      "best accuracy: 0.7700969003203069\n",
      "{'min_samples_leaf': 0.14016951355564453} 0.7700969003203069\n",
      "current accuracy: 0.7700969003203069\n",
      "best accuracy: 0.7700969003203069\n"
     ]
    },
    {
     "name": "stderr",
     "output_type": "stream",
     "text": [
      "INFO:root:Iteration 70\n",
      "INFO:root:Iteration 71\n"
     ]
    },
    {
     "name": "stdout",
     "output_type": "stream",
     "text": [
      "{'min_samples_leaf': 0.14016710092527063} 0.7700969003203069\n",
      "current accuracy: 0.7700969003203069\n",
      "best accuracy: 0.7700969003203069\n",
      "{'min_samples_leaf': 0.14016497659451949} 0.7700969003203069\n",
      "current accuracy: 0.7700969003203069\n",
      "best accuracy: 0.7700969003203069\n"
     ]
    },
    {
     "name": "stderr",
     "output_type": "stream",
     "text": [
      "INFO:root:Iteration 72\n",
      "INFO:root:Iteration 73\n"
     ]
    },
    {
     "name": "stdout",
     "output_type": "stream",
     "text": [
      "{'min_samples_leaf': 0.14016266264341284} 0.7700969003203069\n",
      "current accuracy: 0.7700969003203069\n",
      "best accuracy: 0.7700969003203069\n",
      "{'min_samples_leaf': 0.14016068105136398} 0.7700969003203069\n",
      "current accuracy: 0.7700969003203069\n",
      "best accuracy: 0.7700969003203069\n"
     ]
    },
    {
     "name": "stderr",
     "output_type": "stream",
     "text": [
      "INFO:root:Iteration 74\n",
      "INFO:root:Iteration 75\n"
     ]
    },
    {
     "name": "stdout",
     "output_type": "stream",
     "text": [
      "{'min_samples_leaf': 0.14015863693934555} 0.7700969003203069\n",
      "current accuracy: 0.7700969003203069\n",
      "best accuracy: 0.7700969003203069\n",
      "{'min_samples_leaf': 0.14015651734981016} 0.7700969003203069\n",
      "current accuracy: 0.7700969003203069\n",
      "best accuracy: 0.7700969003203069\n"
     ]
    },
    {
     "name": "stderr",
     "output_type": "stream",
     "text": [
      "INFO:root:Iteration 76\n",
      "INFO:root:Iteration 77\n"
     ]
    },
    {
     "name": "stdout",
     "output_type": "stream",
     "text": [
      "{'min_samples_leaf': 0.14015470951805437} 0.7700969003203069\n",
      "current accuracy: 0.7700969003203069\n",
      "best accuracy: 0.7700969003203069\n",
      "{'min_samples_leaf': 0.1401521623806438} 0.7700969003203069\n",
      "current accuracy: 0.7700969003203069\n",
      "best accuracy: 0.7700969003203069\n"
     ]
    },
    {
     "name": "stderr",
     "output_type": "stream",
     "text": [
      "INFO:root:Iteration 78\n",
      "INFO:root:Iteration 79\n"
     ]
    },
    {
     "name": "stdout",
     "output_type": "stream",
     "text": [
      "{'min_samples_leaf': 0.14015069044495773} 0.7700969003203069\n",
      "current accuracy: 0.7700969003203069\n",
      "best accuracy: 0.7700969003203069\n",
      "{'min_samples_leaf': 0.14014896165985138} 0.7700969003203069\n",
      "current accuracy: 0.7700969003203069\n",
      "best accuracy: 0.7700969003203069\n"
     ]
    },
    {
     "name": "stderr",
     "output_type": "stream",
     "text": [
      "INFO:root:Iteration 80\n",
      "INFO:root:Iteration 81\n"
     ]
    },
    {
     "name": "stdout",
     "output_type": "stream",
     "text": [
      "{'min_samples_leaf': 0.1401476616740562} 0.7700969003203069\n",
      "current accuracy: 0.7700969003203069\n",
      "best accuracy: 0.7700969003203069\n",
      "{'min_samples_leaf': 0.14014545835605638} 0.7700969003203069\n",
      "current accuracy: 0.7700969003203069\n",
      "best accuracy: 0.7700969003203069\n"
     ]
    },
    {
     "name": "stderr",
     "output_type": "stream",
     "text": [
      "INFO:root:Iteration 82\n",
      "INFO:root:Iteration 83\n"
     ]
    },
    {
     "name": "stdout",
     "output_type": "stream",
     "text": [
      "{'min_samples_leaf': 0.14014375266034312} 0.7700969003203069\n",
      "current accuracy: 0.7700969003203069\n",
      "best accuracy: 0.7700969003203069\n",
      "{'min_samples_leaf': 0.14014242482312395} 0.7700969003203069\n",
      "current accuracy: 0.7700969003203069\n",
      "best accuracy: 0.7700969003203069\n"
     ]
    },
    {
     "name": "stderr",
     "output_type": "stream",
     "text": [
      "INFO:root:Iteration 84\n",
      "INFO:root:Iteration 85\n"
     ]
    },
    {
     "name": "stdout",
     "output_type": "stream",
     "text": [
      "{'min_samples_leaf': 0.1401405126950497} 0.7700969003203069\n",
      "current accuracy: 0.7700969003203069\n",
      "best accuracy: 0.7700969003203069\n",
      "{'min_samples_leaf': 0.14013878857665024} 0.7700969003203069\n",
      "current accuracy: 0.7700969003203069\n",
      "best accuracy: 0.7700969003203069\n"
     ]
    },
    {
     "name": "stderr",
     "output_type": "stream",
     "text": [
      "INFO:root:Iteration 86\n",
      "INFO:root:Iteration 87\n"
     ]
    },
    {
     "name": "stdout",
     "output_type": "stream",
     "text": [
      "{'min_samples_leaf': 0.1401375185316163} 0.7700969003203069\n",
      "current accuracy: 0.7700969003203069\n",
      "best accuracy: 0.7700969003203069\n",
      "{'min_samples_leaf': 0.1401359944481056} 0.7700969003203069\n",
      "current accuracy: 0.7700969003203069\n",
      "best accuracy: 0.7700969003203069\n"
     ]
    },
    {
     "name": "stderr",
     "output_type": "stream",
     "text": [
      "INFO:root:Iteration 88\n",
      "INFO:root:Iteration 89\n"
     ]
    },
    {
     "name": "stdout",
     "output_type": "stream",
     "text": [
      "{'min_samples_leaf': 0.14013415592092787} 0.7700969003203069\n",
      "current accuracy: 0.7700969003203069\n",
      "best accuracy: 0.7700969003203069\n",
      "{'min_samples_leaf': 0.14013285357727137} 0.7700969003203069\n",
      "current accuracy: 0.7700969003203069\n",
      "best accuracy: 0.7700969003203069\n"
     ]
    },
    {
     "name": "stderr",
     "output_type": "stream",
     "text": [
      "INFO:root:Iteration 90\n",
      "INFO:root:Iteration 91\n"
     ]
    },
    {
     "name": "stdout",
     "output_type": "stream",
     "text": [
      "{'min_samples_leaf': 0.14013139072313438} 0.7700969003203069\n",
      "current accuracy: 0.7700969003203069\n",
      "best accuracy: 0.7700969003203069\n",
      "{'min_samples_leaf': 0.14013089072688964} 0.7700969003203069\n",
      "current accuracy: 0.7700969003203069\n",
      "best accuracy: 0.7700969003203069\n"
     ]
    },
    {
     "name": "stderr",
     "output_type": "stream",
     "text": [
      "INFO:root:Iteration 92\n",
      "INFO:root:Iteration 93\n"
     ]
    },
    {
     "name": "stdout",
     "output_type": "stream",
     "text": [
      "{'min_samples_leaf': 0.14012769836508437} 0.7700969003203069\n",
      "current accuracy: 0.7700969003203069\n",
      "best accuracy: 0.7700969003203069\n",
      "{'min_samples_leaf': 0.14012721385510712} 0.7700969003203069\n",
      "current accuracy: 0.7700969003203069\n",
      "best accuracy: 0.7700969003203069\n"
     ]
    },
    {
     "name": "stderr",
     "output_type": "stream",
     "text": [
      "INFO:root:Iteration 94\n",
      "INFO:root:Best result 0.7700969003203069: Params: [0.14]\n",
      "INFO:root:Best result 0.7700969003203069: Params: {'bootstrap': 0.14}\n"
     ]
    },
    {
     "name": "stdout",
     "output_type": "stream",
     "text": [
      "{'min_samples_leaf': 0.14012628888891976} 0.7700969003203069\n",
      "current accuracy: 0.7700969003203069\n",
      "best accuracy: 0.7700969003203069\n",
      "{'min_samples_leaf': 0.14012552461829478} 0.7700969003203069\n",
      "current accuracy: 0.7700969003203069\n",
      "best accuracy: 0.7700969003203069\n"
     ]
    }
   ],
   "source": [
    "def generate_noisy_data_from_bivariate_gaussian(z):\n",
    "    \n",
    "    \"Define a simple 2-D gaussian to generate noisy data\"\n",
    "    \n",
    "    x = z[:,0].reshape(-1,1)\n",
    "    y = z[:,1].reshape(-1,1)\n",
    "    return 1-np.exp(-((x-5)/10)**2)*np.exp(-((y-10)/10)**2)+0.1*np.random.uniform(size=(1000,1))#,loc=0,scale=1)\n",
    "\n",
    "\n",
    "# --- Generate our training data\n",
    "\n",
    "# Generate random x data from 0 to 15\n",
    "X_train = 15*np.random.uniform(size=(1000,2))\n",
    "# Generate noisy data from a 2D gaussian defined above\n",
    "y_train = generate_noisy_data_from_bivariate_gaussian(X_train)\n",
    "y_train = y_train.ravel()\n",
    "\n",
    "\n"
   ]
  },
  {
   "cell_type": "markdown",
   "metadata": {},
   "source": [
    "## Run the Optimisation"
   ]
  },
  {
   "cell_type": "code",
   "execution_count": null,
   "metadata": {},
   "outputs": [],
   "source": [
    "# --- Define our hyper parameter space as a dictionary. \n",
    "\n",
    "# Use the names of the hyper parameters as the keys\n",
    "# Values should be a list for discrete values and [lower_bound,upper_bound] for continuous\n",
    "hps = {\n",
    "    'n_estimators':range(1,10),\n",
    "    'max_depth':range(1,10)\n",
    "}\n",
    "\n",
    "hps = {'min_samples_leaf':[0.1,0.5]}\n",
    "\n",
    "# --- Run the Bayesian Optimisation Code\n",
    "\n",
    "BOout = BayesianOptimisation(\n",
    "    hps=hps,\n",
    "    MLmodel = RandomForestRegressor(random_state=42),\n",
    "    NpI = 5,\n",
    "    Niter = 95,\n",
    "    y_train = y_train,\n",
    "    X_train = X_train,\n",
    "    n_restarts = 10,\n",
    ").optimise()"
   ]
  },
  {
   "cell_type": "markdown",
   "metadata": {},
   "source": [
    "## Plot the Samples"
   ]
  },
  {
   "cell_type": "code",
   "execution_count": 7,
   "metadata": {},
   "outputs": [
    {
     "data": {
      "image/png": "[encoded data removed]",
      "text/plain": [
       "<Figure size 864x360 with 2 Axes>"
      ]
     },
     "metadata": {
      "needs_background": "light"
     },
     "output_type": "display_data"
    }
   ],
   "source": [
    "# --- Track the results with each iteration\n",
    "\n",
    "import matplotlib.pyplot as plt\n",
    "\n",
    "plt.figure(figsize=(12,5))\n",
    "plt.subplot(121)\n",
    "plt.plot(BOout.Xt,'.')\n",
    "plt.subplot(122)\n",
    "plt.plot(BOout.Yt,'.')\n",
    "\n",
    "plt.show()"
   ]
  },
  {
   "cell_type": "code",
   "execution_count": 9,
   "metadata": {},
   "outputs": [
    {
     "name": "stderr",
     "output_type": "stream",
     "text": [
      "/anaconda3/lib/python3.6/site-packages/sklearn/ensemble/forest.py:245: FutureWarning: The default value of n_estimators will change from 10 in version 0.20 to 100 in 0.22.\n",
      "  \"10 in version 0.20 to 100 in 0.22.\", FutureWarning)\n"
     ]
    },
    {
     "data": {
      "text/plain": [
       "0.7700969003203069"
      ]
     },
     "execution_count": 9,
     "metadata": {},
     "output_type": "execute_result"
    }
   ],
   "source": [
    "best_params = BOout.Xt[np.argmax(BOout.Yt)]\n",
    "RFr = RandomForestRegressor(\n",
    "    min_samples_leaf=best_params[0],\n",
    "    random_state=42\n",
    ").fit(X_train,y_train)\n",
    "np.mean(cross_val_score(RFr, X_train,y_train, cv=5))"
   ]
  },
  {
   "cell_type": "markdown",
   "metadata": {},
   "source": [
    "# Advanced User-defined Inputs\n",
    "## Providing your own scoring function"
   ]
  },
  {
   "cell_type": "markdown",
   "metadata": {},
   "source": [
    "### Example 1"
   ]
  },
  {
   "cell_type": "code",
   "execution_count": 17,
   "metadata": {},
   "outputs": [
    {
     "name": "stderr",
     "output_type": "stream",
     "text": [
      "/anaconda3/lib/python3.6/site-packages/sklearn/ensemble/forest.py:245: FutureWarning: The default value of n_estimators will change from 10 in version 0.20 to 100 in 0.22.\n",
      "  \"10 in version 0.20 to 100 in 0.22.\", FutureWarning)\n",
      "INFO:root:Will perform 95 iterations\n",
      "INFO:root:Iteration 0\n",
      "INFO:root:Iteration 1\n",
      "INFO:root:Iteration 2\n"
     ]
    },
    {
     "name": "stdout",
     "output_type": "stream",
     "text": [
      "{'min_samples_leaf': 0.30000000000000004} 0.4181731386486091\n",
      "{'min_samples_leaf': 0.38} -8.105585937734361e-05\n",
      "{'min_samples_leaf': 0.22000000000000003} 0.4813176890428952\n",
      "{'min_samples_leaf': 0.4600000000000001} -8.105585937734361e-05\n",
      "{'min_samples_leaf': 0.14} 0.7611842226514938\n",
      "{'min_samples_leaf': 0.4} -8.105585937734361e-05\n",
      "current accuracy: -8.105585937734361e-05\n",
      "best accuracy: 0.7611842226514938\n",
      "{'min_samples_leaf': 0.14676880525842798} 0.7589063976029433\n",
      "current accuracy: 0.7589063976029433\n",
      "best accuracy: 0.7611842226514938\n",
      "{'min_samples_leaf': 0.1442202864946111} 0.7590671038092716\n",
      "current accuracy: 0.7590671038092716\n",
      "best accuracy: 0.7611842226514938\n"
     ]
    },
    {
     "name": "stderr",
     "output_type": "stream",
     "text": [
      "INFO:root:Iteration 3\n",
      "INFO:root:Iteration 4\n",
      "INFO:root:Iteration 5\n",
      "INFO:root:Iteration 6\n"
     ]
    },
    {
     "name": "stdout",
     "output_type": "stream",
     "text": [
      "{'min_samples_leaf': 0.14307556726804202} 0.7597490697232373\n",
      "current accuracy: 0.7597490697232373\n",
      "best accuracy: 0.7611842226514938\n",
      "{'min_samples_leaf': 0.14242542002748845} 0.7604543509917512\n",
      "current accuracy: 0.7604543509917512\n",
      "best accuracy: 0.7611842226514938\n",
      "{'min_samples_leaf': 0.14200566982173699} 0.7604543509917512\n",
      "current accuracy: 0.7604543509917512\n",
      "best accuracy: 0.7611842226514938\n"
     ]
    },
    {
     "name": "stderr",
     "output_type": "stream",
     "text": [
      "INFO:root:Iteration 7\n",
      "INFO:root:Iteration 8\n"
     ]
    },
    {
     "name": "stdout",
     "output_type": "stream",
     "text": [
      "{'min_samples_leaf': 0.1417125772516667} 0.7607869359838187\n",
      "current accuracy: 0.7607869359838187\n",
      "best accuracy: 0.7611842226514938\n",
      "{'min_samples_leaf': 0.14149568721267625} 0.7607869359838187\n",
      "current accuracy: 0.7607869359838187\n",
      "best accuracy: 0.7611842226514938\n"
     ]
    },
    {
     "name": "stderr",
     "output_type": "stream",
     "text": [
      "INFO:root:Iteration 9\n",
      "INFO:root:Iteration 10\n",
      "INFO:root:Iteration 11\n"
     ]
    },
    {
     "name": "stdout",
     "output_type": "stream",
     "text": [
      "{'min_samples_leaf': 0.14132891255904148} 0.7607869359838187\n",
      "current accuracy: 0.7607869359838187\n",
      "best accuracy: 0.7611842226514938\n",
      "{'min_samples_leaf': 0.14119643126696085} 0.7607869359838187\n",
      "current accuracy: 0.7607869359838187\n",
      "best accuracy: 0.7611842226514938\n",
      "{'min_samples_leaf': 0.14108872148081825} 0.7607869359838187\n",
      "current accuracy: 0.7607869359838187\n",
      "best accuracy: 0.7611842226514938\n"
     ]
    },
    {
     "name": "stderr",
     "output_type": "stream",
     "text": [
      "INFO:root:Iteration 12\n",
      "INFO:root:Iteration 13\n",
      "INFO:root:Iteration 14\n",
      "INFO:root:Iteration 15\n"
     ]
    },
    {
     "name": "stdout",
     "output_type": "stream",
     "text": [
      "{'min_samples_leaf': 0.14099929424194693} 0.7611835084856301\n",
      "current accuracy: 0.7611835084856301\n",
      "best accuracy: 0.7611842226514938\n",
      "{'min_samples_leaf': 0.14092360866263884} 0.7611835084856301\n",
      "current accuracy: 0.7611835084856301\n",
      "best accuracy: 0.7611842226514938\n",
      "{'min_samples_leaf': 0.14085897899775773} 0.7611835084856301\n",
      "current accuracy: 0.7611835084856301\n",
      "best accuracy: 0.7611842226514938\n",
      "{'min_samples_leaf': 0.1408031519513505} 0.7611835084856301\n",
      "current accuracy: 0.7611835084856301\n",
      "best accuracy: 0.7611842226514938\n"
     ]
    },
    {
     "name": "stderr",
     "output_type": "stream",
     "text": [
      "INFO:root:Iteration 16\n",
      "INFO:root:Iteration 17\n",
      "INFO:root:Iteration 18\n"
     ]
    },
    {
     "name": "stdout",
     "output_type": "stream",
     "text": [
      "{'min_samples_leaf': 0.1407543332497428} 0.7611835084856301\n",
      "current accuracy: 0.7611835084856301\n",
      "best accuracy: 0.7611842226514938\n",
      "{'min_samples_leaf': 0.14071120120131744} 0.7611835084856301\n",
      "current accuracy: 0.7611835084856301\n",
      "best accuracy: 0.7611842226514938\n",
      "{'min_samples_leaf': 0.14067285736955257} 0.7611835084856301\n",
      "current accuracy: 0.7611835084856301\n",
      "best accuracy: 0.7611842226514938\n",
      "{'min_samples_leaf': 0.14063867058962976} 0.7611835084856301\n",
      "current accuracy: 0.7611835084856301\n",
      "best accuracy: 0.7611842226514938\n"
     ]
    },
    {
     "name": "stderr",
     "output_type": "stream",
     "text": [
      "INFO:root:Iteration 19\n",
      "INFO:root:Iteration 20\n",
      "INFO:root:Iteration 21\n",
      "INFO:root:Iteration 22\n"
     ]
    },
    {
     "name": "stdout",
     "output_type": "stream",
     "text": [
      "{'min_samples_leaf': 0.14060776632639085} 0.7611835084856301\n",
      "current accuracy: 0.7611835084856301\n",
      "best accuracy: 0.7611842226514938\n",
      "{'min_samples_leaf': 0.14057985790809274} 0.7611835084856301\n",
      "current accuracy: 0.7611835084856301\n",
      "best accuracy: 0.7611842226514938\n",
      "{'min_samples_leaf': 0.14055449079723217} 0.7611835084856301\n",
      "current accuracy: 0.7611835084856301\n",
      "best accuracy: 0.7611842226514938\n"
     ]
    },
    {
     "name": "stderr",
     "output_type": "stream",
     "text": [
      "INFO:root:Iteration 23\n",
      "INFO:root:Iteration 24\n",
      "INFO:root:Iteration 25\n"
     ]
    },
    {
     "name": "stdout",
     "output_type": "stream",
     "text": [
      "{'min_samples_leaf': 0.14053128982983545} 0.7611835084856301\n",
      "current accuracy: 0.7611835084856301\n",
      "best accuracy: 0.7611842226514938\n",
      "{'min_samples_leaf': 0.14051010495152558} 0.7611835084856301\n",
      "current accuracy: 0.7611835084856301\n",
      "best accuracy: 0.7611842226514938\n",
      "{'min_samples_leaf': 0.1404905611857767} 0.7611835084856301\n",
      "current accuracy: 0.7611835084856301\n",
      "best accuracy: 0.7611842226514938\n",
      "{'min_samples_leaf': 0.1404724096695227} 0.7611835084856301\n",
      "current accuracy: 0.7611835084856301\n",
      "best accuracy: 0.7611842226514938\n"
     ]
    },
    {
     "name": "stderr",
     "output_type": "stream",
     "text": [
      "INFO:root:Iteration 26\n",
      "INFO:root:Iteration 27\n",
      "INFO:root:Iteration 28\n",
      "INFO:root:Iteration 29\n"
     ]
    },
    {
     "name": "stdout",
     "output_type": "stream",
     "text": [
      "{'min_samples_leaf': 0.1404556179313688} 0.7611835084856301\n",
      "current accuracy: 0.7611835084856301\n",
      "best accuracy: 0.7611842226514938\n",
      "{'min_samples_leaf': 0.14043995732761455} 0.7611835084856301\n",
      "current accuracy: 0.7611835084856301\n",
      "best accuracy: 0.7611842226514938\n",
      "{'min_samples_leaf': 0.14042563839242567} 0.7611835084856301\n",
      "current accuracy: 0.7611835084856301\n",
      "best accuracy: 0.7611842226514938\n"
     ]
    },
    {
     "name": "stderr",
     "output_type": "stream",
     "text": [
      "INFO:root:Iteration 30\n",
      "INFO:root:Iteration 31\n",
      "INFO:root:Iteration 32\n"
     ]
    },
    {
     "name": "stdout",
     "output_type": "stream",
     "text": [
      "{'min_samples_leaf': 0.14041200847264937} 0.7611835084856301\n",
      "current accuracy: 0.7611835084856301\n",
      "best accuracy: 0.7611842226514938\n",
      "{'min_samples_leaf': 0.1403993849429238} 0.7611835084856301\n",
      "current accuracy: 0.7611835084856301\n",
      "best accuracy: 0.7611842226514938\n",
      "{'min_samples_leaf': 0.14038740317023307} 0.7611835084856301\n",
      "current accuracy: 0.7611835084856301\n",
      "best accuracy: 0.7611842226514938\n"
     ]
    },
    {
     "name": "stderr",
     "output_type": "stream",
     "text": [
      "INFO:root:Iteration 33\n",
      "INFO:root:Iteration 34\n",
      "INFO:root:Iteration 35\n"
     ]
    },
    {
     "name": "stdout",
     "output_type": "stream",
     "text": [
      "{'min_samples_leaf': 0.14037627786651008} 0.7611835084856301\n",
      "current accuracy: 0.7611835084856301\n",
      "best accuracy: 0.7611842226514938\n",
      "{'min_samples_leaf': 0.14036550942629109} 0.7611835084856301\n",
      "current accuracy: 0.7611835084856301\n",
      "best accuracy: 0.7611842226514938\n",
      "{'min_samples_leaf': 0.14035589881775437} 0.7611835084856301\n",
      "current accuracy: 0.7611835084856301\n",
      "best accuracy: 0.7611842226514938\n"
     ]
    },
    {
     "name": "stderr",
     "output_type": "stream",
     "text": [
      "INFO:root:Iteration 36\n",
      "INFO:root:Iteration 37\n",
      "INFO:root:Iteration 38\n"
     ]
    },
    {
     "name": "stdout",
     "output_type": "stream",
     "text": [
      "{'min_samples_leaf': 0.14034648840034813} 0.7611835084856301\n",
      "current accuracy: 0.7611835084856301\n",
      "best accuracy: 0.7611842226514938\n",
      "{'min_samples_leaf': 0.14033753716203082} 0.7611835084856301\n",
      "current accuracy: 0.7611835084856301\n",
      "best accuracy: 0.7611842226514938\n",
      "{'min_samples_leaf': 0.1403291023332784} 0.7611835084856301\n",
      "current accuracy: 0.7611835084856301\n",
      "best accuracy: 0.7611842226514938\n"
     ]
    },
    {
     "name": "stderr",
     "output_type": "stream",
     "text": [
      "INFO:root:Iteration 39\n",
      "INFO:root:Iteration 40\n",
      "INFO:root:Iteration 41\n"
     ]
    },
    {
     "name": "stdout",
     "output_type": "stream",
     "text": [
      "{'min_samples_leaf': 0.14032085206103145} 0.7611835084856301\n",
      "current accuracy: 0.7611835084856301\n",
      "best accuracy: 0.7611842226514938\n",
      "{'min_samples_leaf': 0.14031338525273238} 0.7611835084856301\n",
      "current accuracy: 0.7611835084856301\n",
      "best accuracy: 0.7611842226514938\n",
      "{'min_samples_leaf': 0.14030603594236357} 0.7611835084856301\n",
      "current accuracy: 0.7611835084856301\n",
      "best accuracy: 0.7611842226514938\n"
     ]
    },
    {
     "name": "stderr",
     "output_type": "stream",
     "text": [
      "INFO:root:Iteration 42\n",
      "INFO:root:Iteration 43\n",
      "INFO:root:Iteration 44\n"
     ]
    },
    {
     "name": "stdout",
     "output_type": "stream",
     "text": [
      "{'min_samples_leaf': 0.14029938312689133} 0.7611835084856301\n",
      "current accuracy: 0.7611835084856301\n",
      "best accuracy: 0.7611842226514938\n",
      "{'min_samples_leaf': 0.1402924496339035} 0.7611835084856301\n",
      "current accuracy: 0.7611835084856301\n",
      "best accuracy: 0.7611842226514938\n",
      "{'min_samples_leaf': 0.14028629847846752} 0.7611835084856301\n",
      "current accuracy: 0.7611835084856301\n",
      "best accuracy: 0.7611842226514938\n"
     ]
    },
    {
     "name": "stderr",
     "output_type": "stream",
     "text": [
      "INFO:root:Iteration 45\n",
      "INFO:root:Iteration 46\n",
      "INFO:root:Iteration 47\n"
     ]
    },
    {
     "name": "stdout",
     "output_type": "stream",
     "text": [
      "{'min_samples_leaf': 0.14028033255305145} 0.7611835084856301\n",
      "current accuracy: 0.7611835084856301\n",
      "best accuracy: 0.7611842226514938\n",
      "{'min_samples_leaf': 0.1402745252455713} 0.7611835084856301\n",
      "current accuracy: 0.7611835084856301\n",
      "best accuracy: 0.7611842226514938\n",
      "{'min_samples_leaf': 0.14026910774852333} 0.7611835084856301\n",
      "current accuracy: 0.7611835084856301\n",
      "best accuracy: 0.7611842226514938\n"
     ]
    },
    {
     "name": "stderr",
     "output_type": "stream",
     "text": [
      "INFO:root:Iteration 48\n",
      "INFO:root:Iteration 49\n",
      "INFO:root:Iteration 50\n"
     ]
    },
    {
     "name": "stdout",
     "output_type": "stream",
     "text": [
      "{'min_samples_leaf': 0.14026364929281676} 0.7611835084856301\n",
      "current accuracy: 0.7611835084856301\n",
      "best accuracy: 0.7611842226514938\n",
      "{'min_samples_leaf': 0.14025876757583508} 0.7611835084856301\n",
      "current accuracy: 0.7611835084856301\n",
      "best accuracy: 0.7611842226514938\n",
      "{'min_samples_leaf': 0.1402536159248811} 0.7611835084856301\n",
      "current accuracy: 0.7611835084856301\n",
      "best accuracy: 0.7611842226514938\n"
     ]
    },
    {
     "name": "stderr",
     "output_type": "stream",
     "text": [
      "INFO:root:Iteration 51\n",
      "INFO:root:Iteration 52\n"
     ]
    },
    {
     "name": "stdout",
     "output_type": "stream",
     "text": [
      "{'min_samples_leaf': 0.1402489461301869} 0.7611835084856301\n",
      "current accuracy: 0.7611835084856301\n",
      "best accuracy: 0.7611842226514938\n",
      "{'min_samples_leaf': 0.1402444858970068} 0.7611835084856301\n",
      "current accuracy: 0.7611835084856301\n",
      "best accuracy: 0.7611842226514938\n"
     ]
    },
    {
     "name": "stderr",
     "output_type": "stream",
     "text": [
      "INFO:root:Iteration 53\n",
      "INFO:root:Iteration 54\n",
      "INFO:root:Iteration 55\n"
     ]
    },
    {
     "name": "stdout",
     "output_type": "stream",
     "text": [
      "{'min_samples_leaf': 0.14024006546215845} 0.7611835084856301\n",
      "current accuracy: 0.7611835084856301\n",
      "best accuracy: 0.7611842226514938\n",
      "{'min_samples_leaf': 0.14023600462907518} 0.7611835084856301\n",
      "current accuracy: 0.7611835084856301\n",
      "best accuracy: 0.7611842226514938\n",
      "{'min_samples_leaf': 0.14023199978332873} 0.7611835084856301\n",
      "current accuracy: 0.7611835084856301\n",
      "best accuracy: 0.7611842226514938\n"
     ]
    },
    {
     "name": "stderr",
     "output_type": "stream",
     "text": [
      "INFO:root:Iteration 56\n",
      "INFO:root:Iteration 57\n"
     ]
    },
    {
     "name": "stdout",
     "output_type": "stream",
     "text": [
      "{'min_samples_leaf': 0.1402278733678531} 0.7611835084856301\n",
      "current accuracy: 0.7611835084856301\n",
      "best accuracy: 0.7611842226514938\n",
      "{'min_samples_leaf': 0.1402241748526217} 0.7611835084856301\n",
      "current accuracy: 0.7611835084856301\n",
      "best accuracy: 0.7611842226514938\n",
      "{'min_samples_leaf': 0.1402205584899098} 0.7611835084856301\n",
      "current accuracy: 0.7611835084856301\n",
      "best accuracy: 0.7611842226514938\n"
     ]
    },
    {
     "name": "stderr",
     "output_type": "stream",
     "text": [
      "INFO:root:Iteration 58\n",
      "INFO:root:Iteration 59\n",
      "INFO:root:Iteration 60\n"
     ]
    },
    {
     "name": "stdout",
     "output_type": "stream",
     "text": [
      "{'min_samples_leaf': 0.14021709685717282} 0.7611835084856301\n",
      "current accuracy: 0.7611835084856301\n",
      "best accuracy: 0.7611842226514938\n",
      "{'min_samples_leaf': 0.14021353913847254} 0.7611835084856301\n",
      "current accuracy: 0.7611835084856301\n",
      "best accuracy: 0.7611842226514938\n"
     ]
    },
    {
     "name": "stderr",
     "output_type": "stream",
     "text": [
      "INFO:root:Iteration 61\n",
      "INFO:root:Iteration 62\n"
     ]
    },
    {
     "name": "stdout",
     "output_type": "stream",
     "text": [
      "{'min_samples_leaf': 0.1402102828729545} 0.7611835084856301\n",
      "current accuracy: 0.7611835084856301\n",
      "best accuracy: 0.7611842226514938\n",
      "{'min_samples_leaf': 0.14020705702148734} 0.7611835084856301\n",
      "current accuracy: 0.7611835084856301\n",
      "best accuracy: 0.7611842226514938\n",
      "{'min_samples_leaf': 0.14020409887666727} 0.7611835084856301\n",
      "current accuracy: 0.7611835084856301\n",
      "best accuracy: 0.7611842226514938\n"
     ]
    },
    {
     "name": "stderr",
     "output_type": "stream",
     "text": [
      "INFO:root:Iteration 63\n",
      "INFO:root:Iteration 64\n",
      "INFO:root:Iteration 65\n"
     ]
    },
    {
     "name": "stdout",
     "output_type": "stream",
     "text": [
      "{'min_samples_leaf': 0.140200811995052} 0.7611835084856301\n",
      "current accuracy: 0.7611835084856301\n",
      "best accuracy: 0.7611842226514938\n",
      "{'min_samples_leaf': 0.1401979703581946} 0.7611835084856301\n",
      "current accuracy: 0.7611835084856301\n",
      "best accuracy: 0.7611842226514938\n"
     ]
    },
    {
     "name": "stderr",
     "output_type": "stream",
     "text": [
      "INFO:root:Iteration 66\n",
      "INFO:root:Iteration 67\n"
     ]
    },
    {
     "name": "stdout",
     "output_type": "stream",
     "text": [
      "{'min_samples_leaf': 0.14019513811052936} 0.7611835084856301\n",
      "current accuracy: 0.7611835084856301\n",
      "best accuracy: 0.7611842226514938\n",
      "{'min_samples_leaf': 0.14019249281282836} 0.7611835084856301\n",
      "current accuracy: 0.7611835084856301\n",
      "best accuracy: 0.7611842226514938\n"
     ]
    },
    {
     "name": "stderr",
     "output_type": "stream",
     "text": [
      "INFO:root:Iteration 68\n",
      "INFO:root:Iteration 69\n"
     ]
    },
    {
     "name": "stdout",
     "output_type": "stream",
     "text": [
      "{'min_samples_leaf': 0.14018987229816302} 0.7611835084856301\n",
      "current accuracy: 0.7611835084856301\n",
      "best accuracy: 0.7611842226514938\n",
      "{'min_samples_leaf': 0.14018711037668993} 0.7611835084856301\n",
      "current accuracy: 0.7611835084856301\n",
      "best accuracy: 0.7611842226514938\n"
     ]
    },
    {
     "name": "stderr",
     "output_type": "stream",
     "text": [
      "INFO:root:Iteration 70\n",
      "INFO:root:Iteration 71\n"
     ]
    },
    {
     "name": "stdout",
     "output_type": "stream",
     "text": [
      "{'min_samples_leaf': 0.14018491213617315} 0.7611835084856301\n",
      "current accuracy: 0.7611835084856301\n",
      "best accuracy: 0.7611842226514938\n",
      "{'min_samples_leaf': 0.14018226863050987} 0.7611835084856301\n",
      "current accuracy: 0.7611835084856301\n",
      "best accuracy: 0.7611842226514938\n"
     ]
    },
    {
     "name": "stderr",
     "output_type": "stream",
     "text": [
      "INFO:root:Iteration 72\n",
      "INFO:root:Iteration 73\n"
     ]
    },
    {
     "name": "stdout",
     "output_type": "stream",
     "text": [
      "{'min_samples_leaf': 0.14017968138006723} 0.7611835084856301\n",
      "current accuracy: 0.7611835084856301\n",
      "best accuracy: 0.7611842226514938\n",
      "{'min_samples_leaf': 0.14017751024685635} 0.7611835084856301\n",
      "current accuracy: 0.7611835084856301\n",
      "best accuracy: 0.7611842226514938\n"
     ]
    },
    {
     "name": "stderr",
     "output_type": "stream",
     "text": [
      "INFO:root:Iteration 74\n",
      "INFO:root:Iteration 75\n"
     ]
    },
    {
     "name": "stdout",
     "output_type": "stream",
     "text": [
      "{'min_samples_leaf': 0.1401751993004472} 0.7611835084856301\n",
      "current accuracy: 0.7611835084856301\n",
      "best accuracy: 0.7611842226514938\n",
      "{'min_samples_leaf': 0.14017282179206617} 0.7611835084856301\n",
      "current accuracy: 0.7611835084856301\n",
      "best accuracy: 0.7611842226514938\n",
      "{'min_samples_leaf': 0.14017094771109084} 0.7611835084856301\n",
      "current accuracy: 0.7611835084856301\n",
      "best accuracy: 0.7611842226514938\n"
     ]
    },
    {
     "name": "stderr",
     "output_type": "stream",
     "text": [
      "INFO:root:Iteration 76\n",
      "INFO:root:Iteration 77\n",
      "INFO:root:Iteration 78\n"
     ]
    },
    {
     "name": "stdout",
     "output_type": "stream",
     "text": [
      "{'min_samples_leaf': 0.1401688487805507} 0.7611835084856301\n",
      "current accuracy: 0.7611835084856301\n",
      "best accuracy: 0.7611842226514938\n",
      "{'min_samples_leaf': 0.14016671070069836} 0.7611835084856301\n",
      "current accuracy: 0.7611835084856301\n",
      "best accuracy: 0.7611842226514938\n"
     ]
    },
    {
     "name": "stderr",
     "output_type": "stream",
     "text": [
      "INFO:root:Iteration 79\n",
      "INFO:root:Iteration 80\n"
     ]
    },
    {
     "name": "stdout",
     "output_type": "stream",
     "text": [
      "{'min_samples_leaf': 0.14016494849988403} 0.7611835084856301\n",
      "current accuracy: 0.7611835084856301\n",
      "best accuracy: 0.7611842226514938\n",
      "{'min_samples_leaf': 0.14016276322262816} 0.7611835084856301\n",
      "current accuracy: 0.7611835084856301\n",
      "best accuracy: 0.7611842226514938\n"
     ]
    },
    {
     "name": "stderr",
     "output_type": "stream",
     "text": [
      "INFO:root:Iteration 81\n",
      "INFO:root:Iteration 82\n"
     ]
    },
    {
     "name": "stdout",
     "output_type": "stream",
     "text": [
      "{'min_samples_leaf': 0.14016098507581787} 0.7611835084856301\n",
      "current accuracy: 0.7611835084856301\n",
      "best accuracy: 0.7611842226514938\n",
      "{'min_samples_leaf': 0.1401588426706058} 0.7611835084856301\n",
      "current accuracy: 0.7611835084856301\n",
      "best accuracy: 0.7611842226514938\n"
     ]
    },
    {
     "name": "stderr",
     "output_type": "stream",
     "text": [
      "INFO:root:Iteration 83\n",
      "INFO:root:Iteration 84\n",
      "INFO:root:Iteration 85\n"
     ]
    },
    {
     "name": "stdout",
     "output_type": "stream",
     "text": [
      "{'min_samples_leaf': 0.14015729151926518} 0.7611835084856301\n",
      "current accuracy: 0.7611835084856301\n",
      "best accuracy: 0.7611842226514938\n",
      "{'min_samples_leaf': 0.14015532533530606} 0.7611835084856301\n",
      "current accuracy: 0.7611835084856301\n",
      "best accuracy: 0.7611842226514938\n",
      "{'min_samples_leaf': 0.1401537049403796} 0.7611835084856301\n",
      "current accuracy: 0.7611835084856301\n",
      "best accuracy: 0.7611842226514938\n"
     ]
    },
    {
     "name": "stderr",
     "output_type": "stream",
     "text": [
      "INFO:root:Iteration 86\n",
      "INFO:root:Iteration 87\n"
     ]
    },
    {
     "name": "stdout",
     "output_type": "stream",
     "text": [
      "{'min_samples_leaf': 0.1401522295921708} 0.7611835084856301\n",
      "current accuracy: 0.7611835084856301\n",
      "best accuracy: 0.7611842226514938\n",
      "{'min_samples_leaf': 0.14015045751160662} 0.7611835084856301\n",
      "current accuracy: 0.7611835084856301\n",
      "best accuracy: 0.7611842226514938\n",
      "{'min_samples_leaf': 0.14014873707534556} 0.7611835084856301\n",
      "current accuracy: 0.7611835084856301\n",
      "best accuracy: 0.7611842226514938\n"
     ]
    },
    {
     "name": "stderr",
     "output_type": "stream",
     "text": [
      "INFO:root:Iteration 88\n",
      "INFO:root:Iteration 89\n",
      "INFO:root:Iteration 90\n"
     ]
    },
    {
     "name": "stdout",
     "output_type": "stream",
     "text": [
      "{'min_samples_leaf': 0.14014730765769765} 0.7611835084856301\n",
      "current accuracy: 0.7611835084856301\n",
      "best accuracy: 0.7611842226514938\n",
      "{'min_samples_leaf': 0.14014600730739502} 0.7611835084856301\n",
      "current accuracy: 0.7611835084856301\n",
      "best accuracy: 0.7611842226514938\n"
     ]
    },
    {
     "name": "stderr",
     "output_type": "stream",
     "text": [
      "INFO:root:Iteration 91\n",
      "INFO:root:Iteration 92\n"
     ]
    },
    {
     "name": "stdout",
     "output_type": "stream",
     "text": [
      "{'min_samples_leaf': 0.14014421444238667} 0.7611835084856301\n",
      "current accuracy: 0.7611835084856301\n",
      "best accuracy: 0.7611842226514938\n",
      "{'min_samples_leaf': 0.1401430023804491} 0.7611835084856301\n",
      "current accuracy: 0.7611835084856301\n",
      "best accuracy: 0.7611842226514938\n",
      "{'min_samples_leaf': 0.14014132111006006} 0.7611835084856301\n",
      "current accuracy: 0.7611835084856301\n",
      "best accuracy: 0.7611842226514938\n"
     ]
    },
    {
     "name": "stderr",
     "output_type": "stream",
     "text": [
      "INFO:root:Iteration 93\n",
      "INFO:root:Iteration 94\n",
      "INFO:root:Best result 0.7611842226514938: Params: [0.14]\n",
      "INFO:root:Best result 0.7611842226514938: Params: {'bootstrap': 0.14}\n"
     ]
    },
    {
     "name": "stdout",
     "output_type": "stream",
     "text": [
      "{'min_samples_leaf': 0.14013985799698817} 0.7611835084856301\n",
      "current accuracy: 0.7611835084856301\n",
      "best accuracy: 0.7611842226514938\n",
      "{'min_samples_leaf': 0.14013854704119993} 0.7611835084856301\n",
      "current accuracy: 0.7611835084856301\n",
      "best accuracy: 0.7611842226514938\n"
     ]
    }
   ],
   "source": [
    "# --- Define our hyper parameter space as a dictionary. \n",
    "\n",
    "# Use the names of the hyper parameters as the keys\n",
    "# Values should be a list for discrete values and [lower_bound,upper_bound] for continuous\n",
    "# hps = {\n",
    "#     'n_estimators':range(1,10),\n",
    "#     'max_depth':range(1,10)\n",
    "# }\n",
    "\n",
    "hps = {'min_samples_leaf':[0.1,0.5]}\n",
    "\n",
    "# --- Run the Bayesian Optimisation Code\n",
    "MLmodel = RandomForestRegressor(random_state=42)\n",
    "\n",
    "def my_scoring_function(X_train, y_train):\n",
    "    return MLmodel.score(X_train, y_train)\n",
    "\n",
    "BOout = BayesianOptimisation(\n",
    "    hps=hps,\n",
    "    MLmodel = MLmodel,\n",
    "    scoring_function = my_scoring_function,\n",
    "    NpI = 5,\n",
    "    Niter = 95,\n",
    "    y_train = y_train,\n",
    "    X_train = X_train,\n",
    "    n_restarts = 10,\n",
    ").optimise()"
   ]
  },
  {
   "cell_type": "markdown",
   "metadata": {},
   "source": [
    "### Example 2"
   ]
  },
  {
   "cell_type": "code",
   "execution_count": null,
   "metadata": {},
   "outputs": [
    {
     "name": "stderr",
     "output_type": "stream",
     "text": [
      "/anaconda3/lib/python3.6/site-packages/sklearn/ensemble/forest.py:245: FutureWarning: The default value of n_estimators will change from 10 in version 0.20 to 100 in 0.22.\n",
      "  \"10 in version 0.20 to 100 in 0.22.\", FutureWarning)\n",
      "INFO:root:Will perform 95 iterations\n",
      "INFO:root:Iteration 0\n",
      "INFO:root:Iteration 1\n",
      "INFO:root:Iteration 2\n"
     ]
    },
    {
     "name": "stdout",
     "output_type": "stream",
     "text": [
      "{'min_samples_leaf': 0.22000000000000003} 0.4813176890428952\n",
      "{'min_samples_leaf': 0.14} 0.7611842226514938\n",
      "{'min_samples_leaf': 0.4600000000000001} -8.105585937734361e-05\n",
      "{'min_samples_leaf': 0.30000000000000004} 0.4181731386486091\n",
      "{'min_samples_leaf': 0.38} -8.105585937734361e-05\n",
      "{'min_samples_leaf': 0.16000000000000003} 0.7506234076621161\n",
      "current accuracy: 0.7506234076621161\n",
      "best accuracy: 0.7611842226514938\n",
      "{'min_samples_leaf': 0.14500071901704767} 0.758548068733668\n",
      "current accuracy: 0.758548068733668\n",
      "best accuracy: 0.7611842226514938\n"
     ]
    },
    {
     "name": "stderr",
     "output_type": "stream",
     "text": [
      "INFO:root:Iteration 3\n",
      "INFO:root:Iteration 4\n",
      "INFO:root:Iteration 5\n"
     ]
    },
    {
     "name": "stdout",
     "output_type": "stream",
     "text": [
      "{'min_samples_leaf': 0.14359800654588614} 0.7597490697232373\n",
      "current accuracy: 0.7597490697232373\n",
      "best accuracy: 0.7611842226514938\n",
      "{'min_samples_leaf': 0.14281551301451326} 0.7604543509917512\n",
      "current accuracy: 0.7604543509917512\n",
      "best accuracy: 0.7611842226514938\n",
      "{'min_samples_leaf': 0.1423166685308091} 0.7604543509917512\n",
      "current accuracy: 0.7604543509917512\n",
      "best accuracy: 0.7611842226514938\n",
      "{'min_samples_leaf': 0.14197114286162132} 0.7607869359838187\n",
      "current accuracy: 0.7607869359838187\n",
      "best accuracy: 0.7611842226514938\n"
     ]
    },
    {
     "name": "stderr",
     "output_type": "stream",
     "text": [
      "INFO:root:Iteration 6\n",
      "INFO:root:Iteration 7\n",
      "INFO:root:Iteration 8\n",
      "INFO:root:Iteration 9\n"
     ]
    },
    {
     "name": "stdout",
     "output_type": "stream",
     "text": [
      "{'min_samples_leaf': 0.141717220259729} 0.7607869359838187\n",
      "current accuracy: 0.7607869359838187\n",
      "best accuracy: 0.7611842226514938\n",
      "{'min_samples_leaf': 0.1415226278231482} 0.7607869359838187\n",
      "current accuracy: 0.7607869359838187\n",
      "best accuracy: 0.7611842226514938\n",
      "{'min_samples_leaf': 0.1413687435551261} 0.7607869359838187\n",
      "current accuracy: 0.7607869359838187\n",
      "best accuracy: 0.7611842226514938\n"
     ]
    },
    {
     "name": "stderr",
     "output_type": "stream",
     "text": [
      "INFO:root:Iteration 10\n",
      "INFO:root:Iteration 11\n",
      "INFO:root:Iteration 12\n"
     ]
    },
    {
     "name": "stdout",
     "output_type": "stream",
     "text": [
      "{'min_samples_leaf': 0.14124389354935635} 0.7607869359838187\n",
      "current accuracy: 0.7607869359838187\n",
      "best accuracy: 0.7611842226514938\n",
      "{'min_samples_leaf': 0.14114050141384749} 0.7607869359838187\n",
      "current accuracy: 0.7607869359838187\n",
      "best accuracy: 0.7611842226514938\n",
      "{'min_samples_leaf': 0.14105347788853914} 0.7607869359838187\n",
      "current accuracy: 0.7607869359838187\n",
      "best accuracy: 0.7611842226514938\n"
     ]
    },
    {
     "name": "stderr",
     "output_type": "stream",
     "text": [
      "INFO:root:Iteration 13\n",
      "INFO:root:Iteration 14\n"
     ]
    },
    {
     "name": "stdout",
     "output_type": "stream",
     "text": [
      "{'min_samples_leaf': 0.14097910774705696} 0.7611835084856301\n",
      "current accuracy: 0.7611835084856301\n",
      "best accuracy: 0.7611842226514938\n",
      "{'min_samples_leaf': 0.14091472897980928} 0.7611835084856301\n",
      "current accuracy: 0.7611835084856301\n",
      "best accuracy: 0.7611842226514938\n",
      "{'min_samples_leaf': 0.1408586094476931} 0.7611835084856301\n",
      "current accuracy: 0.7611835084856301\n",
      "best accuracy: 0.7611842226514938\n"
     ]
    },
    {
     "name": "stderr",
     "output_type": "stream",
     "text": [
      "INFO:root:Iteration 15\n",
      "INFO:root:Iteration 16\n",
      "INFO:root:Iteration 17\n",
      "INFO:root:Iteration 18\n"
     ]
    },
    {
     "name": "stdout",
     "output_type": "stream",
     "text": [
      "{'min_samples_leaf': 0.14080913192964453} 0.7611835084856301\n",
      "current accuracy: 0.7611835084856301\n",
      "best accuracy: 0.7611842226514938\n",
      "{'min_samples_leaf': 0.1407652305916371} 0.7611835084856301\n",
      "current accuracy: 0.7611835084856301\n",
      "best accuracy: 0.7611842226514938\n",
      "{'min_samples_leaf': 0.14072592861226316} 0.7611835084856301\n",
      "current accuracy: 0.7611835084856301\n",
      "best accuracy: 0.7611842226514938\n"
     ]
    },
    {
     "name": "stderr",
     "output_type": "stream",
     "text": [
      "INFO:root:Iteration 19\n",
      "INFO:root:Iteration 20\n",
      "INFO:root:Iteration 21\n"
     ]
    },
    {
     "name": "stdout",
     "output_type": "stream",
     "text": [
      "{'min_samples_leaf': 0.1406906148518981} 0.7611835084856301\n",
      "current accuracy: 0.7611835084856301\n",
      "best accuracy: 0.7611842226514938\n",
      "{'min_samples_leaf': 0.1406587097872982} 0.7611835084856301\n",
      "current accuracy: 0.7611835084856301\n",
      "best accuracy: 0.7611842226514938\n",
      "{'min_samples_leaf': 0.1406297208136269} 0.7611835084856301\n",
      "current accuracy: 0.7611835084856301\n",
      "best accuracy: 0.7611842226514938\n"
     ]
    },
    {
     "name": "stderr",
     "output_type": "stream",
     "text": [
      "INFO:root:Iteration 22\n",
      "INFO:root:Iteration 23\n",
      "INFO:root:Iteration 24\n"
     ]
    },
    {
     "name": "stdout",
     "output_type": "stream",
     "text": [
      "{'min_samples_leaf': 0.1406032882885509} 0.7611835084856301\n",
      "current accuracy: 0.7611835084856301\n",
      "best accuracy: 0.7611842226514938\n",
      "{'min_samples_leaf': 0.14057893927770826} 0.7611835084856301\n",
      "current accuracy: 0.7611835084856301\n",
      "best accuracy: 0.7611842226514938\n",
      "{'min_samples_leaf': 0.14055663146242953} 0.7611835084856301\n",
      "current accuracy: 0.7611835084856301\n",
      "best accuracy: 0.7611842226514938\n"
     ]
    },
    {
     "name": "stderr",
     "output_type": "stream",
     "text": [
      "INFO:root:Iteration 25\n",
      "INFO:root:Iteration 26\n",
      "INFO:root:Iteration 27\n"
     ]
    },
    {
     "name": "stdout",
     "output_type": "stream",
     "text": [
      "{'min_samples_leaf': 0.14053592379649466} 0.7611835084856301\n",
      "current accuracy: 0.7611835084856301\n",
      "best accuracy: 0.7611842226514938\n",
      "{'min_samples_leaf': 0.1405169350284069} 0.7611835084856301\n",
      "current accuracy: 0.7611835084856301\n",
      "best accuracy: 0.7611842226514938\n",
      "{'min_samples_leaf': 0.14049921494078055} 0.7611835084856301\n",
      "current accuracy: 0.7611835084856301\n",
      "best accuracy: 0.7611842226514938\n"
     ]
    },
    {
     "name": "stderr",
     "output_type": "stream",
     "text": [
      "INFO:root:Iteration 28\n",
      "INFO:root:Iteration 29\n",
      "INFO:root:Iteration 30\n"
     ]
    },
    {
     "name": "stdout",
     "output_type": "stream",
     "text": [
      "{'min_samples_leaf': 0.14048271698603643} 0.7611835084856301\n",
      "current accuracy: 0.7611835084856301\n",
      "best accuracy: 0.7611842226514938\n",
      "{'min_samples_leaf': 0.140467070884656} 0.7611835084856301\n",
      "current accuracy: 0.7611835084856301\n",
      "best accuracy: 0.7611842226514938\n",
      "{'min_samples_leaf': 0.14045270548183333} 0.7611835084856301\n",
      "current accuracy: 0.7611835084856301\n",
      "best accuracy: 0.7611842226514938\n"
     ]
    },
    {
     "name": "stderr",
     "output_type": "stream",
     "text": [
      "INFO:root:Iteration 31\n",
      "INFO:root:Iteration 32\n",
      "INFO:root:Iteration 33\n"
     ]
    },
    {
     "name": "stdout",
     "output_type": "stream",
     "text": [
      "{'min_samples_leaf': 0.14043920429979037} 0.7611835084856301\n",
      "current accuracy: 0.7611835084856301\n",
      "best accuracy: 0.7611842226514938\n",
      "{'min_samples_leaf': 0.14042662126576239} 0.7611835084856301\n",
      "current accuracy: 0.7611835084856301\n",
      "best accuracy: 0.7611842226514938\n",
      "{'min_samples_leaf': 0.1404145191303343} 0.7611835084856301\n",
      "current accuracy: 0.7611835084856301\n",
      "best accuracy: 0.7611842226514938\n"
     ]
    },
    {
     "name": "stderr",
     "output_type": "stream",
     "text": [
      "INFO:root:Iteration 34\n",
      "INFO:root:Iteration 35\n"
     ]
    },
    {
     "name": "stdout",
     "output_type": "stream",
     "text": [
      "{'min_samples_leaf': 0.14040306855642762} 0.7611835084856301\n",
      "current accuracy: 0.7611835084856301\n",
      "best accuracy: 0.7611842226514938\n",
      "{'min_samples_leaf': 0.1403924885252998} 0.7611835084856301\n",
      "current accuracy: 0.7611835084856301\n",
      "best accuracy: 0.7611842226514938\n"
     ]
    },
    {
     "name": "stderr",
     "output_type": "stream",
     "text": [
      "INFO:root:Iteration 36\n",
      "INFO:root:Iteration 37\n"
     ]
    },
    {
     "name": "stdout",
     "output_type": "stream",
     "text": [
      "{'min_samples_leaf': 0.14038238251857807} 0.7611835084856301\n",
      "current accuracy: 0.7611835084856301\n",
      "best accuracy: 0.7611842226514938\n",
      "{'min_samples_leaf': 0.1403726310805419} 0.7611835084856301\n",
      "current accuracy: 0.7611835084856301\n",
      "best accuracy: 0.7611842226514938\n"
     ]
    },
    {
     "name": "stderr",
     "output_type": "stream",
     "text": [
      "INFO:root:Iteration 38\n",
      "INFO:root:Iteration 39\n",
      "INFO:root:Iteration 40\n"
     ]
    },
    {
     "name": "stdout",
     "output_type": "stream",
     "text": [
      "{'min_samples_leaf': 0.14036362454534673} 0.7611835084856301\n",
      "current accuracy: 0.7611835084856301\n",
      "best accuracy: 0.7611842226514938\n",
      "{'min_samples_leaf': 0.14035470709928402} 0.7611835084856301\n",
      "current accuracy: 0.7611835084856301\n",
      "best accuracy: 0.7611842226514938\n",
      "{'min_samples_leaf': 0.14034680809441266} 0.7611835084856301\n",
      "current accuracy: 0.7611835084856301\n",
      "best accuracy: 0.7611842226514938\n"
     ]
    },
    {
     "name": "stderr",
     "output_type": "stream",
     "text": [
      "INFO:root:Iteration 41\n",
      "INFO:root:Iteration 42\n"
     ]
    },
    {
     "name": "stdout",
     "output_type": "stream",
     "text": [
      "{'min_samples_leaf': 0.14033900927495396} 0.7611835084856301\n",
      "current accuracy: 0.7611835084856301\n",
      "best accuracy: 0.7611842226514938\n",
      "{'min_samples_leaf': 0.14033150207357958} 0.7611835084856301\n",
      "current accuracy: 0.7611835084856301\n",
      "best accuracy: 0.7611842226514938\n"
     ]
    },
    {
     "name": "stderr",
     "output_type": "stream",
     "text": [
      "INFO:root:Iteration 43\n",
      "INFO:root:Iteration 44\n"
     ]
    },
    {
     "name": "stdout",
     "output_type": "stream",
     "text": [
      "{'min_samples_leaf': 0.1403241481248132} 0.7611835084856301\n",
      "current accuracy: 0.7611835084856301\n",
      "best accuracy: 0.7611842226514938\n",
      "{'min_samples_leaf': 0.14031738468992408} 0.7611835084856301\n",
      "current accuracy: 0.7611835084856301\n",
      "best accuracy: 0.7611842226514938\n"
     ]
    },
    {
     "name": "stderr",
     "output_type": "stream",
     "text": [
      "INFO:root:Iteration 45\n",
      "INFO:root:Iteration 46\n"
     ]
    },
    {
     "name": "stdout",
     "output_type": "stream",
     "text": [
      "{'min_samples_leaf': 0.14031080911750027} 0.7611835084856301\n",
      "current accuracy: 0.7611835084856301\n",
      "best accuracy: 0.7611842226514938\n",
      "{'min_samples_leaf': 0.14030458378668806} 0.7611835084856301\n",
      "current accuracy: 0.7611835084856301\n",
      "best accuracy: 0.7611842226514938\n"
     ]
    },
    {
     "name": "stderr",
     "output_type": "stream",
     "text": [
      "INFO:root:Iteration 47\n",
      "INFO:root:Iteration 48\n"
     ]
    },
    {
     "name": "stdout",
     "output_type": "stream",
     "text": [
      "{'min_samples_leaf': 0.14029853497401615} 0.7611835084856301\n",
      "current accuracy: 0.7611835084856301\n",
      "best accuracy: 0.7611842226514938\n",
      "{'min_samples_leaf': 0.14029275754677403} 0.7611835084856301\n",
      "current accuracy: 0.7611835084856301\n",
      "best accuracy: 0.7611842226514938\n"
     ]
    },
    {
     "name": "stderr",
     "output_type": "stream",
     "text": [
      "INFO:root:Iteration 49\n",
      "INFO:root:Iteration 50\n"
     ]
    },
    {
     "name": "stdout",
     "output_type": "stream",
     "text": [
      "{'min_samples_leaf': 0.1402871904764465} 0.7611835084856301\n",
      "current accuracy: 0.7611835084856301\n",
      "best accuracy: 0.7611842226514938\n",
      "{'min_samples_leaf': 0.14028195937492788} 0.7611835084856301\n",
      "current accuracy: 0.7611835084856301\n",
      "best accuracy: 0.7611842226514938\n"
     ]
    }
   ],
   "source": [
    "# --- Define our hyper parameter space as a dictionary. \n",
    "\n",
    "# Use the names of the hyper parameters as the keys\n",
    "# Values should be a list for discrete values and [lower_bound,upper_bound] for continuous\n",
    "# hps = {\n",
    "#     'n_estimators':range(1,10),\n",
    "#     'max_depth':range(1,10)\n",
    "# }\n",
    "\n",
    "hps = {'min_samples_leaf':[0.1,0.5]}\n",
    "\n",
    "# --- Run the Bayesian Optimisation Code\n",
    "MLmodel = RandomForestRegressor(random_state=42)\n",
    "\n",
    "BOout = BayesianOptimisation(\n",
    "    hps=hps,\n",
    "    MLmodel = MLmodel,\n",
    "    scoring_function = MLmodel.score,\n",
    "    NpI = 5,\n",
    "    Niter = 95,\n",
    "    y_train = y_train,\n",
    "    X_train = X_train,\n",
    "    n_restarts = 10,\n",
    ").optimise()"
   ]
  },
  {
   "cell_type": "code",
   "execution_count": 14,
   "metadata": {},
   "outputs": [
    {
     "data": {
      "image/png": "[encoded data removed]",
      "text/plain": [
       "<Figure size 864x360 with 2 Axes>"
      ]
     },
     "metadata": {
      "needs_background": "light"
     },
     "output_type": "display_data"
    }
   ],
   "source": [
    "# --- Track the results with each iteration\n",
    "\n",
    "import matplotlib.pyplot as plt\n",
    "\n",
    "plt.figure(figsize=(12,5))\n",
    "plt.subplot(121)\n",
    "plt.plot(BOout.Xt,'.')\n",
    "plt.subplot(122)\n",
    "plt.plot(BOout.Yt,'.')\n",
    "\n",
    "plt.show()"
   ]
  },
  {
   "cell_type": "code",
   "execution_count": null,
   "metadata": {},
   "outputs": [],
   "source": []
  }
 ],
 "metadata": {
  "kernelspec": {
   "display_name": "Python 3",
   "language": "python",
   "name": "python3"
  },
  "language_info": {
   "codemirror_mode": {
    "name": "ipython",
    "version": 3
   },
   "file_extension": ".py",
   "mimetype": "text/x-python",
   "name": "python",
   "nbconvert_exporter": "python",
   "pygments_lexer": "ipython3",
   "version": "3.6.8"
  },
  "latex_envs": {
   "LaTeX_envs_menu_present": true,
   "autoclose": false,
   "autocomplete": true,
   "bibliofile": "biblio.bib",
   "cite_by": "apalike",
   "current_citInitial": 1,
   "eqLabelWithNumbers": true,
   "eqNumInitial": 1,
   "hotkeys": {
    "equation": "Ctrl-E",
    "itemize": "Ctrl-I"
   },
   "labels_anchors": false,
   "latex_user_defs": false,
   "report_style_numbering": false,
   "user_envs_cfg": false
  },
  "toc": {
   "base_numbering": 1,
   "nav_menu": {},
   "number_sections": true,
   "sideBar": false,
   "skip_h1_title": false,
   "title_cell": "Table of Contents",
   "title_sidebar": "Contents",
   "toc_cell": true,
   "toc_position": {},
   "toc_section_display": true,
   "toc_window_display": false
  }
 },
 "nbformat": 4,
 "nbformat_minor": 2
}
